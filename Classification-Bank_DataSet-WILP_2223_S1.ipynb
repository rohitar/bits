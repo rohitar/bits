{
 "cells": [
  {
   "cell_type": "code",
   "execution_count": 1,
   "id": "a68a31b2",
   "metadata": {},
   "outputs": [],
   "source": [
    "# Import all the necessary libraries\n",
    "\n",
    "import numpy as np # Mathematical Calculations\n",
    "import pandas as pd # Data operations and summaries\n",
    "import seaborn as sns # Good data visualizations\n",
    "import matplotlib.pyplot as plt # basic Visualizations\n",
    "import statsmodels.api as sm # Statistical Models\n",
    "import warnings\n",
    "warnings.simplefilter(action='ignore')\n",
    "from scipy import stats\n",
    "# scikit learn - Machine Learning"
   ]
  },
  {
   "cell_type": "code",
   "execution_count": 2,
   "id": "3891ae2b",
   "metadata": {},
   "outputs": [],
   "source": [
    "bank = pd.read_csv(\"D:\\\\BITS\\\\2023_S1\\\\bank.csv\")"
   ]
  },
  {
   "cell_type": "markdown",
   "id": "692cdcdb",
   "metadata": {},
   "source": [
    "# Preliminary Checks"
   ]
  },
  {
   "cell_type": "code",
   "execution_count": 3,
   "id": "e122051a",
   "metadata": {},
   "outputs": [
    {
     "data": {
      "text/plain": [
       "11162"
      ]
     },
     "execution_count": 3,
     "metadata": {},
     "output_type": "execute_result"
    }
   ],
   "source": [
    "len(bank) # Number of Rows in the data"
   ]
  },
  {
   "cell_type": "code",
   "execution_count": 4,
   "id": "f1d46819",
   "metadata": {},
   "outputs": [
    {
     "data": {
      "text/plain": [
       "(11162, 17)"
      ]
     },
     "execution_count": 4,
     "metadata": {},
     "output_type": "execute_result"
    }
   ],
   "source": [
    "bank.shape # Number of rows and columns"
   ]
  },
  {
   "cell_type": "code",
   "execution_count": 5,
   "id": "30ad423b",
   "metadata": {},
   "outputs": [
    {
     "data": {
      "text/html": [
       "<div>\n",
       "<style scoped>\n",
       "    .dataframe tbody tr th:only-of-type {\n",
       "        vertical-align: middle;\n",
       "    }\n",
       "\n",
       "    .dataframe tbody tr th {\n",
       "        vertical-align: top;\n",
       "    }\n",
       "\n",
       "    .dataframe thead th {\n",
       "        text-align: right;\n",
       "    }\n",
       "</style>\n",
       "<table border=\"1\" class=\"dataframe\">\n",
       "  <thead>\n",
       "    <tr style=\"text-align: right;\">\n",
       "      <th></th>\n",
       "      <th>age</th>\n",
       "      <th>job</th>\n",
       "      <th>marital</th>\n",
       "      <th>education</th>\n",
       "      <th>default</th>\n",
       "      <th>balance</th>\n",
       "      <th>housing</th>\n",
       "      <th>loan</th>\n",
       "      <th>contact</th>\n",
       "      <th>day</th>\n",
       "      <th>month</th>\n",
       "      <th>duration</th>\n",
       "      <th>campaign</th>\n",
       "      <th>pdays</th>\n",
       "      <th>previous</th>\n",
       "      <th>poutcome</th>\n",
       "      <th>deposit</th>\n",
       "    </tr>\n",
       "  </thead>\n",
       "  <tbody>\n",
       "    <tr>\n",
       "      <th>0</th>\n",
       "      <td>59</td>\n",
       "      <td>admin.</td>\n",
       "      <td>married</td>\n",
       "      <td>secondary</td>\n",
       "      <td>no</td>\n",
       "      <td>2343</td>\n",
       "      <td>yes</td>\n",
       "      <td>no</td>\n",
       "      <td>unknown</td>\n",
       "      <td>5</td>\n",
       "      <td>may</td>\n",
       "      <td>1042</td>\n",
       "      <td>1</td>\n",
       "      <td>-1</td>\n",
       "      <td>0</td>\n",
       "      <td>unknown</td>\n",
       "      <td>yes</td>\n",
       "    </tr>\n",
       "    <tr>\n",
       "      <th>1</th>\n",
       "      <td>56</td>\n",
       "      <td>admin.</td>\n",
       "      <td>married</td>\n",
       "      <td>secondary</td>\n",
       "      <td>no</td>\n",
       "      <td>45</td>\n",
       "      <td>no</td>\n",
       "      <td>no</td>\n",
       "      <td>unknown</td>\n",
       "      <td>5</td>\n",
       "      <td>may</td>\n",
       "      <td>1467</td>\n",
       "      <td>1</td>\n",
       "      <td>-1</td>\n",
       "      <td>0</td>\n",
       "      <td>unknown</td>\n",
       "      <td>yes</td>\n",
       "    </tr>\n",
       "    <tr>\n",
       "      <th>2</th>\n",
       "      <td>41</td>\n",
       "      <td>technician</td>\n",
       "      <td>married</td>\n",
       "      <td>secondary</td>\n",
       "      <td>no</td>\n",
       "      <td>1270</td>\n",
       "      <td>yes</td>\n",
       "      <td>no</td>\n",
       "      <td>unknown</td>\n",
       "      <td>5</td>\n",
       "      <td>may</td>\n",
       "      <td>1389</td>\n",
       "      <td>1</td>\n",
       "      <td>-1</td>\n",
       "      <td>0</td>\n",
       "      <td>unknown</td>\n",
       "      <td>yes</td>\n",
       "    </tr>\n",
       "    <tr>\n",
       "      <th>3</th>\n",
       "      <td>55</td>\n",
       "      <td>services</td>\n",
       "      <td>married</td>\n",
       "      <td>secondary</td>\n",
       "      <td>no</td>\n",
       "      <td>2476</td>\n",
       "      <td>yes</td>\n",
       "      <td>no</td>\n",
       "      <td>unknown</td>\n",
       "      <td>5</td>\n",
       "      <td>may</td>\n",
       "      <td>579</td>\n",
       "      <td>1</td>\n",
       "      <td>-1</td>\n",
       "      <td>0</td>\n",
       "      <td>unknown</td>\n",
       "      <td>yes</td>\n",
       "    </tr>\n",
       "    <tr>\n",
       "      <th>4</th>\n",
       "      <td>54</td>\n",
       "      <td>admin.</td>\n",
       "      <td>married</td>\n",
       "      <td>tertiary</td>\n",
       "      <td>no</td>\n",
       "      <td>184</td>\n",
       "      <td>no</td>\n",
       "      <td>no</td>\n",
       "      <td>unknown</td>\n",
       "      <td>5</td>\n",
       "      <td>may</td>\n",
       "      <td>673</td>\n",
       "      <td>2</td>\n",
       "      <td>-1</td>\n",
       "      <td>0</td>\n",
       "      <td>unknown</td>\n",
       "      <td>yes</td>\n",
       "    </tr>\n",
       "    <tr>\n",
       "      <th>5</th>\n",
       "      <td>42</td>\n",
       "      <td>management</td>\n",
       "      <td>single</td>\n",
       "      <td>tertiary</td>\n",
       "      <td>no</td>\n",
       "      <td>0</td>\n",
       "      <td>yes</td>\n",
       "      <td>yes</td>\n",
       "      <td>unknown</td>\n",
       "      <td>5</td>\n",
       "      <td>may</td>\n",
       "      <td>562</td>\n",
       "      <td>2</td>\n",
       "      <td>-1</td>\n",
       "      <td>0</td>\n",
       "      <td>unknown</td>\n",
       "      <td>yes</td>\n",
       "    </tr>\n",
       "    <tr>\n",
       "      <th>6</th>\n",
       "      <td>56</td>\n",
       "      <td>management</td>\n",
       "      <td>married</td>\n",
       "      <td>tertiary</td>\n",
       "      <td>no</td>\n",
       "      <td>830</td>\n",
       "      <td>yes</td>\n",
       "      <td>yes</td>\n",
       "      <td>unknown</td>\n",
       "      <td>6</td>\n",
       "      <td>may</td>\n",
       "      <td>1201</td>\n",
       "      <td>1</td>\n",
       "      <td>-1</td>\n",
       "      <td>0</td>\n",
       "      <td>unknown</td>\n",
       "      <td>yes</td>\n",
       "    </tr>\n",
       "    <tr>\n",
       "      <th>7</th>\n",
       "      <td>60</td>\n",
       "      <td>retired</td>\n",
       "      <td>divorced</td>\n",
       "      <td>secondary</td>\n",
       "      <td>no</td>\n",
       "      <td>545</td>\n",
       "      <td>yes</td>\n",
       "      <td>no</td>\n",
       "      <td>unknown</td>\n",
       "      <td>6</td>\n",
       "      <td>may</td>\n",
       "      <td>1030</td>\n",
       "      <td>1</td>\n",
       "      <td>-1</td>\n",
       "      <td>0</td>\n",
       "      <td>unknown</td>\n",
       "      <td>yes</td>\n",
       "    </tr>\n",
       "    <tr>\n",
       "      <th>8</th>\n",
       "      <td>37</td>\n",
       "      <td>technician</td>\n",
       "      <td>married</td>\n",
       "      <td>secondary</td>\n",
       "      <td>no</td>\n",
       "      <td>1</td>\n",
       "      <td>yes</td>\n",
       "      <td>no</td>\n",
       "      <td>unknown</td>\n",
       "      <td>6</td>\n",
       "      <td>may</td>\n",
       "      <td>608</td>\n",
       "      <td>1</td>\n",
       "      <td>-1</td>\n",
       "      <td>0</td>\n",
       "      <td>unknown</td>\n",
       "      <td>yes</td>\n",
       "    </tr>\n",
       "    <tr>\n",
       "      <th>9</th>\n",
       "      <td>28</td>\n",
       "      <td>services</td>\n",
       "      <td>single</td>\n",
       "      <td>secondary</td>\n",
       "      <td>no</td>\n",
       "      <td>5090</td>\n",
       "      <td>yes</td>\n",
       "      <td>no</td>\n",
       "      <td>unknown</td>\n",
       "      <td>6</td>\n",
       "      <td>may</td>\n",
       "      <td>1297</td>\n",
       "      <td>3</td>\n",
       "      <td>-1</td>\n",
       "      <td>0</td>\n",
       "      <td>unknown</td>\n",
       "      <td>yes</td>\n",
       "    </tr>\n",
       "  </tbody>\n",
       "</table>\n",
       "</div>"
      ],
      "text/plain": [
       "   age         job   marital  education default  balance housing loan  \\\n",
       "0   59      admin.   married  secondary      no     2343     yes   no   \n",
       "1   56      admin.   married  secondary      no       45      no   no   \n",
       "2   41  technician   married  secondary      no     1270     yes   no   \n",
       "3   55    services   married  secondary      no     2476     yes   no   \n",
       "4   54      admin.   married   tertiary      no      184      no   no   \n",
       "5   42  management    single   tertiary      no        0     yes  yes   \n",
       "6   56  management   married   tertiary      no      830     yes  yes   \n",
       "7   60     retired  divorced  secondary      no      545     yes   no   \n",
       "8   37  technician   married  secondary      no        1     yes   no   \n",
       "9   28    services    single  secondary      no     5090     yes   no   \n",
       "\n",
       "   contact  day month  duration  campaign  pdays  previous poutcome deposit  \n",
       "0  unknown    5   may      1042         1     -1         0  unknown     yes  \n",
       "1  unknown    5   may      1467         1     -1         0  unknown     yes  \n",
       "2  unknown    5   may      1389         1     -1         0  unknown     yes  \n",
       "3  unknown    5   may       579         1     -1         0  unknown     yes  \n",
       "4  unknown    5   may       673         2     -1         0  unknown     yes  \n",
       "5  unknown    5   may       562         2     -1         0  unknown     yes  \n",
       "6  unknown    6   may      1201         1     -1         0  unknown     yes  \n",
       "7  unknown    6   may      1030         1     -1         0  unknown     yes  \n",
       "8  unknown    6   may       608         1     -1         0  unknown     yes  \n",
       "9  unknown    6   may      1297         3     -1         0  unknown     yes  "
      ]
     },
     "execution_count": 5,
     "metadata": {},
     "output_type": "execute_result"
    }
   ],
   "source": [
    "\n",
    "bank.head(10)# Extract the top n observations from the data"
   ]
  },
  {
   "cell_type": "code",
   "execution_count": 6,
   "id": "f985139e",
   "metadata": {},
   "outputs": [
    {
     "data": {
      "text/html": [
       "<div>\n",
       "<style scoped>\n",
       "    .dataframe tbody tr th:only-of-type {\n",
       "        vertical-align: middle;\n",
       "    }\n",
       "\n",
       "    .dataframe tbody tr th {\n",
       "        vertical-align: top;\n",
       "    }\n",
       "\n",
       "    .dataframe thead th {\n",
       "        text-align: right;\n",
       "    }\n",
       "</style>\n",
       "<table border=\"1\" class=\"dataframe\">\n",
       "  <thead>\n",
       "    <tr style=\"text-align: right;\">\n",
       "      <th></th>\n",
       "      <th>age</th>\n",
       "      <th>job</th>\n",
       "      <th>marital</th>\n",
       "      <th>education</th>\n",
       "      <th>default</th>\n",
       "      <th>balance</th>\n",
       "      <th>housing</th>\n",
       "      <th>loan</th>\n",
       "      <th>contact</th>\n",
       "      <th>day</th>\n",
       "      <th>month</th>\n",
       "      <th>duration</th>\n",
       "      <th>campaign</th>\n",
       "      <th>pdays</th>\n",
       "      <th>previous</th>\n",
       "      <th>poutcome</th>\n",
       "      <th>deposit</th>\n",
       "    </tr>\n",
       "  </thead>\n",
       "  <tbody>\n",
       "    <tr>\n",
       "      <th>11152</th>\n",
       "      <td>34</td>\n",
       "      <td>housemaid</td>\n",
       "      <td>married</td>\n",
       "      <td>secondary</td>\n",
       "      <td>no</td>\n",
       "      <td>390</td>\n",
       "      <td>yes</td>\n",
       "      <td>no</td>\n",
       "      <td>cellular</td>\n",
       "      <td>15</td>\n",
       "      <td>jul</td>\n",
       "      <td>659</td>\n",
       "      <td>3</td>\n",
       "      <td>-1</td>\n",
       "      <td>0</td>\n",
       "      <td>unknown</td>\n",
       "      <td>no</td>\n",
       "    </tr>\n",
       "    <tr>\n",
       "      <th>11153</th>\n",
       "      <td>43</td>\n",
       "      <td>admin.</td>\n",
       "      <td>single</td>\n",
       "      <td>secondary</td>\n",
       "      <td>no</td>\n",
       "      <td>35</td>\n",
       "      <td>no</td>\n",
       "      <td>no</td>\n",
       "      <td>telephone</td>\n",
       "      <td>9</td>\n",
       "      <td>nov</td>\n",
       "      <td>208</td>\n",
       "      <td>1</td>\n",
       "      <td>-1</td>\n",
       "      <td>0</td>\n",
       "      <td>unknown</td>\n",
       "      <td>no</td>\n",
       "    </tr>\n",
       "    <tr>\n",
       "      <th>11154</th>\n",
       "      <td>52</td>\n",
       "      <td>technician</td>\n",
       "      <td>married</td>\n",
       "      <td>tertiary</td>\n",
       "      <td>no</td>\n",
       "      <td>523</td>\n",
       "      <td>yes</td>\n",
       "      <td>yes</td>\n",
       "      <td>cellular</td>\n",
       "      <td>8</td>\n",
       "      <td>jul</td>\n",
       "      <td>113</td>\n",
       "      <td>1</td>\n",
       "      <td>-1</td>\n",
       "      <td>0</td>\n",
       "      <td>unknown</td>\n",
       "      <td>no</td>\n",
       "    </tr>\n",
       "    <tr>\n",
       "      <th>11155</th>\n",
       "      <td>35</td>\n",
       "      <td>blue-collar</td>\n",
       "      <td>married</td>\n",
       "      <td>secondary</td>\n",
       "      <td>no</td>\n",
       "      <td>80</td>\n",
       "      <td>yes</td>\n",
       "      <td>yes</td>\n",
       "      <td>cellular</td>\n",
       "      <td>21</td>\n",
       "      <td>nov</td>\n",
       "      <td>38</td>\n",
       "      <td>2</td>\n",
       "      <td>172</td>\n",
       "      <td>2</td>\n",
       "      <td>failure</td>\n",
       "      <td>no</td>\n",
       "    </tr>\n",
       "    <tr>\n",
       "      <th>11156</th>\n",
       "      <td>34</td>\n",
       "      <td>blue-collar</td>\n",
       "      <td>single</td>\n",
       "      <td>secondary</td>\n",
       "      <td>no</td>\n",
       "      <td>-72</td>\n",
       "      <td>yes</td>\n",
       "      <td>no</td>\n",
       "      <td>cellular</td>\n",
       "      <td>7</td>\n",
       "      <td>jul</td>\n",
       "      <td>273</td>\n",
       "      <td>5</td>\n",
       "      <td>-1</td>\n",
       "      <td>0</td>\n",
       "      <td>unknown</td>\n",
       "      <td>no</td>\n",
       "    </tr>\n",
       "    <tr>\n",
       "      <th>11157</th>\n",
       "      <td>33</td>\n",
       "      <td>blue-collar</td>\n",
       "      <td>single</td>\n",
       "      <td>primary</td>\n",
       "      <td>no</td>\n",
       "      <td>1</td>\n",
       "      <td>yes</td>\n",
       "      <td>no</td>\n",
       "      <td>cellular</td>\n",
       "      <td>20</td>\n",
       "      <td>apr</td>\n",
       "      <td>257</td>\n",
       "      <td>1</td>\n",
       "      <td>-1</td>\n",
       "      <td>0</td>\n",
       "      <td>unknown</td>\n",
       "      <td>no</td>\n",
       "    </tr>\n",
       "    <tr>\n",
       "      <th>11158</th>\n",
       "      <td>39</td>\n",
       "      <td>services</td>\n",
       "      <td>married</td>\n",
       "      <td>secondary</td>\n",
       "      <td>no</td>\n",
       "      <td>733</td>\n",
       "      <td>no</td>\n",
       "      <td>no</td>\n",
       "      <td>unknown</td>\n",
       "      <td>16</td>\n",
       "      <td>jun</td>\n",
       "      <td>83</td>\n",
       "      <td>4</td>\n",
       "      <td>-1</td>\n",
       "      <td>0</td>\n",
       "      <td>unknown</td>\n",
       "      <td>no</td>\n",
       "    </tr>\n",
       "    <tr>\n",
       "      <th>11159</th>\n",
       "      <td>32</td>\n",
       "      <td>technician</td>\n",
       "      <td>single</td>\n",
       "      <td>secondary</td>\n",
       "      <td>no</td>\n",
       "      <td>29</td>\n",
       "      <td>no</td>\n",
       "      <td>no</td>\n",
       "      <td>cellular</td>\n",
       "      <td>19</td>\n",
       "      <td>aug</td>\n",
       "      <td>156</td>\n",
       "      <td>2</td>\n",
       "      <td>-1</td>\n",
       "      <td>0</td>\n",
       "      <td>unknown</td>\n",
       "      <td>no</td>\n",
       "    </tr>\n",
       "    <tr>\n",
       "      <th>11160</th>\n",
       "      <td>43</td>\n",
       "      <td>technician</td>\n",
       "      <td>married</td>\n",
       "      <td>secondary</td>\n",
       "      <td>no</td>\n",
       "      <td>0</td>\n",
       "      <td>no</td>\n",
       "      <td>yes</td>\n",
       "      <td>cellular</td>\n",
       "      <td>8</td>\n",
       "      <td>may</td>\n",
       "      <td>9</td>\n",
       "      <td>2</td>\n",
       "      <td>172</td>\n",
       "      <td>5</td>\n",
       "      <td>failure</td>\n",
       "      <td>no</td>\n",
       "    </tr>\n",
       "    <tr>\n",
       "      <th>11161</th>\n",
       "      <td>34</td>\n",
       "      <td>technician</td>\n",
       "      <td>married</td>\n",
       "      <td>secondary</td>\n",
       "      <td>no</td>\n",
       "      <td>0</td>\n",
       "      <td>no</td>\n",
       "      <td>no</td>\n",
       "      <td>cellular</td>\n",
       "      <td>9</td>\n",
       "      <td>jul</td>\n",
       "      <td>628</td>\n",
       "      <td>1</td>\n",
       "      <td>-1</td>\n",
       "      <td>0</td>\n",
       "      <td>unknown</td>\n",
       "      <td>no</td>\n",
       "    </tr>\n",
       "  </tbody>\n",
       "</table>\n",
       "</div>"
      ],
      "text/plain": [
       "       age          job  marital  education default  balance housing loan  \\\n",
       "11152   34    housemaid  married  secondary      no      390     yes   no   \n",
       "11153   43       admin.   single  secondary      no       35      no   no   \n",
       "11154   52   technician  married   tertiary      no      523     yes  yes   \n",
       "11155   35  blue-collar  married  secondary      no       80     yes  yes   \n",
       "11156   34  blue-collar   single  secondary      no      -72     yes   no   \n",
       "11157   33  blue-collar   single    primary      no        1     yes   no   \n",
       "11158   39     services  married  secondary      no      733      no   no   \n",
       "11159   32   technician   single  secondary      no       29      no   no   \n",
       "11160   43   technician  married  secondary      no        0      no  yes   \n",
       "11161   34   technician  married  secondary      no        0      no   no   \n",
       "\n",
       "         contact  day month  duration  campaign  pdays  previous poutcome  \\\n",
       "11152   cellular   15   jul       659         3     -1         0  unknown   \n",
       "11153  telephone    9   nov       208         1     -1         0  unknown   \n",
       "11154   cellular    8   jul       113         1     -1         0  unknown   \n",
       "11155   cellular   21   nov        38         2    172         2  failure   \n",
       "11156   cellular    7   jul       273         5     -1         0  unknown   \n",
       "11157   cellular   20   apr       257         1     -1         0  unknown   \n",
       "11158    unknown   16   jun        83         4     -1         0  unknown   \n",
       "11159   cellular   19   aug       156         2     -1         0  unknown   \n",
       "11160   cellular    8   may         9         2    172         5  failure   \n",
       "11161   cellular    9   jul       628         1     -1         0  unknown   \n",
       "\n",
       "      deposit  \n",
       "11152      no  \n",
       "11153      no  \n",
       "11154      no  \n",
       "11155      no  \n",
       "11156      no  \n",
       "11157      no  \n",
       "11158      no  \n",
       "11159      no  \n",
       "11160      no  \n",
       "11161      no  "
      ]
     },
     "execution_count": 6,
     "metadata": {},
     "output_type": "execute_result"
    }
   ],
   "source": [
    "bank.tail(10) # Extracts the last n observations"
   ]
  },
  {
   "cell_type": "code",
   "execution_count": 7,
   "id": "365acc82",
   "metadata": {},
   "outputs": [
    {
     "data": {
      "text/html": [
       "<div>\n",
       "<style scoped>\n",
       "    .dataframe tbody tr th:only-of-type {\n",
       "        vertical-align: middle;\n",
       "    }\n",
       "\n",
       "    .dataframe tbody tr th {\n",
       "        vertical-align: top;\n",
       "    }\n",
       "\n",
       "    .dataframe thead th {\n",
       "        text-align: right;\n",
       "    }\n",
       "</style>\n",
       "<table border=\"1\" class=\"dataframe\">\n",
       "  <thead>\n",
       "    <tr style=\"text-align: right;\">\n",
       "      <th></th>\n",
       "      <th>age</th>\n",
       "      <th>job</th>\n",
       "      <th>marital</th>\n",
       "      <th>education</th>\n",
       "      <th>default</th>\n",
       "      <th>balance</th>\n",
       "      <th>housing</th>\n",
       "      <th>loan</th>\n",
       "      <th>contact</th>\n",
       "      <th>day</th>\n",
       "      <th>month</th>\n",
       "      <th>duration</th>\n",
       "      <th>campaign</th>\n",
       "      <th>pdays</th>\n",
       "      <th>previous</th>\n",
       "      <th>poutcome</th>\n",
       "      <th>deposit</th>\n",
       "    </tr>\n",
       "  </thead>\n",
       "  <tbody>\n",
       "    <tr>\n",
       "      <th>7900</th>\n",
       "      <td>57</td>\n",
       "      <td>technician</td>\n",
       "      <td>married</td>\n",
       "      <td>secondary</td>\n",
       "      <td>no</td>\n",
       "      <td>589</td>\n",
       "      <td>yes</td>\n",
       "      <td>no</td>\n",
       "      <td>cellular</td>\n",
       "      <td>28</td>\n",
       "      <td>jan</td>\n",
       "      <td>198</td>\n",
       "      <td>1</td>\n",
       "      <td>244</td>\n",
       "      <td>1</td>\n",
       "      <td>other</td>\n",
       "      <td>no</td>\n",
       "    </tr>\n",
       "    <tr>\n",
       "      <th>3749</th>\n",
       "      <td>24</td>\n",
       "      <td>admin.</td>\n",
       "      <td>single</td>\n",
       "      <td>secondary</td>\n",
       "      <td>no</td>\n",
       "      <td>1295</td>\n",
       "      <td>no</td>\n",
       "      <td>no</td>\n",
       "      <td>cellular</td>\n",
       "      <td>22</td>\n",
       "      <td>jul</td>\n",
       "      <td>355</td>\n",
       "      <td>2</td>\n",
       "      <td>92</td>\n",
       "      <td>1</td>\n",
       "      <td>success</td>\n",
       "      <td>yes</td>\n",
       "    </tr>\n",
       "    <tr>\n",
       "      <th>5595</th>\n",
       "      <td>29</td>\n",
       "      <td>unemployed</td>\n",
       "      <td>single</td>\n",
       "      <td>tertiary</td>\n",
       "      <td>no</td>\n",
       "      <td>7</td>\n",
       "      <td>no</td>\n",
       "      <td>no</td>\n",
       "      <td>cellular</td>\n",
       "      <td>6</td>\n",
       "      <td>may</td>\n",
       "      <td>51</td>\n",
       "      <td>1</td>\n",
       "      <td>179</td>\n",
       "      <td>1</td>\n",
       "      <td>failure</td>\n",
       "      <td>no</td>\n",
       "    </tr>\n",
       "    <tr>\n",
       "      <th>3756</th>\n",
       "      <td>93</td>\n",
       "      <td>retired</td>\n",
       "      <td>married</td>\n",
       "      <td>unknown</td>\n",
       "      <td>no</td>\n",
       "      <td>775</td>\n",
       "      <td>no</td>\n",
       "      <td>no</td>\n",
       "      <td>cellular</td>\n",
       "      <td>22</td>\n",
       "      <td>jul</td>\n",
       "      <td>860</td>\n",
       "      <td>2</td>\n",
       "      <td>177</td>\n",
       "      <td>7</td>\n",
       "      <td>success</td>\n",
       "      <td>yes</td>\n",
       "    </tr>\n",
       "    <tr>\n",
       "      <th>3767</th>\n",
       "      <td>46</td>\n",
       "      <td>admin.</td>\n",
       "      <td>married</td>\n",
       "      <td>unknown</td>\n",
       "      <td>no</td>\n",
       "      <td>5511</td>\n",
       "      <td>no</td>\n",
       "      <td>no</td>\n",
       "      <td>cellular</td>\n",
       "      <td>26</td>\n",
       "      <td>jul</td>\n",
       "      <td>414</td>\n",
       "      <td>2</td>\n",
       "      <td>389</td>\n",
       "      <td>1</td>\n",
       "      <td>success</td>\n",
       "      <td>yes</td>\n",
       "    </tr>\n",
       "    <tr>\n",
       "      <th>6823</th>\n",
       "      <td>40</td>\n",
       "      <td>housemaid</td>\n",
       "      <td>divorced</td>\n",
       "      <td>secondary</td>\n",
       "      <td>no</td>\n",
       "      <td>4328</td>\n",
       "      <td>no</td>\n",
       "      <td>no</td>\n",
       "      <td>cellular</td>\n",
       "      <td>20</td>\n",
       "      <td>aug</td>\n",
       "      <td>133</td>\n",
       "      <td>2</td>\n",
       "      <td>-1</td>\n",
       "      <td>0</td>\n",
       "      <td>unknown</td>\n",
       "      <td>no</td>\n",
       "    </tr>\n",
       "    <tr>\n",
       "      <th>10605</th>\n",
       "      <td>35</td>\n",
       "      <td>entrepreneur</td>\n",
       "      <td>married</td>\n",
       "      <td>tertiary</td>\n",
       "      <td>no</td>\n",
       "      <td>542</td>\n",
       "      <td>yes</td>\n",
       "      <td>yes</td>\n",
       "      <td>unknown</td>\n",
       "      <td>27</td>\n",
       "      <td>may</td>\n",
       "      <td>591</td>\n",
       "      <td>5</td>\n",
       "      <td>-1</td>\n",
       "      <td>0</td>\n",
       "      <td>unknown</td>\n",
       "      <td>no</td>\n",
       "    </tr>\n",
       "    <tr>\n",
       "      <th>6900</th>\n",
       "      <td>45</td>\n",
       "      <td>management</td>\n",
       "      <td>married</td>\n",
       "      <td>secondary</td>\n",
       "      <td>no</td>\n",
       "      <td>21</td>\n",
       "      <td>yes</td>\n",
       "      <td>no</td>\n",
       "      <td>unknown</td>\n",
       "      <td>3</td>\n",
       "      <td>jun</td>\n",
       "      <td>788</td>\n",
       "      <td>2</td>\n",
       "      <td>-1</td>\n",
       "      <td>0</td>\n",
       "      <td>unknown</td>\n",
       "      <td>no</td>\n",
       "    </tr>\n",
       "    <tr>\n",
       "      <th>4638</th>\n",
       "      <td>37</td>\n",
       "      <td>unemployed</td>\n",
       "      <td>single</td>\n",
       "      <td>secondary</td>\n",
       "      <td>no</td>\n",
       "      <td>443</td>\n",
       "      <td>no</td>\n",
       "      <td>no</td>\n",
       "      <td>cellular</td>\n",
       "      <td>29</td>\n",
       "      <td>jan</td>\n",
       "      <td>1600</td>\n",
       "      <td>1</td>\n",
       "      <td>-1</td>\n",
       "      <td>0</td>\n",
       "      <td>unknown</td>\n",
       "      <td>yes</td>\n",
       "    </tr>\n",
       "    <tr>\n",
       "      <th>5799</th>\n",
       "      <td>77</td>\n",
       "      <td>retired</td>\n",
       "      <td>divorced</td>\n",
       "      <td>primary</td>\n",
       "      <td>no</td>\n",
       "      <td>639</td>\n",
       "      <td>no</td>\n",
       "      <td>no</td>\n",
       "      <td>telephone</td>\n",
       "      <td>16</td>\n",
       "      <td>apr</td>\n",
       "      <td>127</td>\n",
       "      <td>7</td>\n",
       "      <td>-1</td>\n",
       "      <td>0</td>\n",
       "      <td>unknown</td>\n",
       "      <td>no</td>\n",
       "    </tr>\n",
       "  </tbody>\n",
       "</table>\n",
       "</div>"
      ],
      "text/plain": [
       "       age           job   marital  education default  balance housing loan  \\\n",
       "7900    57    technician   married  secondary      no      589     yes   no   \n",
       "3749    24        admin.    single  secondary      no     1295      no   no   \n",
       "5595    29    unemployed    single   tertiary      no        7      no   no   \n",
       "3756    93       retired   married    unknown      no      775      no   no   \n",
       "3767    46        admin.   married    unknown      no     5511      no   no   \n",
       "6823    40     housemaid  divorced  secondary      no     4328      no   no   \n",
       "10605   35  entrepreneur   married   tertiary      no      542     yes  yes   \n",
       "6900    45    management   married  secondary      no       21     yes   no   \n",
       "4638    37    unemployed    single  secondary      no      443      no   no   \n",
       "5799    77       retired  divorced    primary      no      639      no   no   \n",
       "\n",
       "         contact  day month  duration  campaign  pdays  previous poutcome  \\\n",
       "7900    cellular   28   jan       198         1    244         1    other   \n",
       "3749    cellular   22   jul       355         2     92         1  success   \n",
       "5595    cellular    6   may        51         1    179         1  failure   \n",
       "3756    cellular   22   jul       860         2    177         7  success   \n",
       "3767    cellular   26   jul       414         2    389         1  success   \n",
       "6823    cellular   20   aug       133         2     -1         0  unknown   \n",
       "10605    unknown   27   may       591         5     -1         0  unknown   \n",
       "6900     unknown    3   jun       788         2     -1         0  unknown   \n",
       "4638    cellular   29   jan      1600         1     -1         0  unknown   \n",
       "5799   telephone   16   apr       127         7     -1         0  unknown   \n",
       "\n",
       "      deposit  \n",
       "7900       no  \n",
       "3749      yes  \n",
       "5595       no  \n",
       "3756      yes  \n",
       "3767      yes  \n",
       "6823       no  \n",
       "10605      no  \n",
       "6900       no  \n",
       "4638      yes  \n",
       "5799       no  "
      ]
     },
     "execution_count": 7,
     "metadata": {},
     "output_type": "execute_result"
    }
   ],
   "source": [
    "bank.sample(10) # Randomly checking some observations in the middle"
   ]
  },
  {
   "cell_type": "code",
   "execution_count": 8,
   "id": "7e99100d",
   "metadata": {},
   "outputs": [
    {
     "data": {
      "text/plain": [
       "Index(['age', 'job', 'marital', 'education', 'default', 'balance', 'housing',\n",
       "       'loan', 'contact', 'day', 'month', 'duration', 'campaign', 'pdays',\n",
       "       'previous', 'poutcome', 'deposit'],\n",
       "      dtype='object')"
      ]
     },
     "execution_count": 8,
     "metadata": {},
     "output_type": "execute_result"
    }
   ],
   "source": [
    "bank.columns # Display the names of the columns\n",
    "# Advisable to change the names of the columns especially when there is no clarity in the names or when there are spaces in the names"
   ]
  },
  {
   "cell_type": "code",
   "execution_count": 9,
   "id": "7cb2f096",
   "metadata": {},
   "outputs": [],
   "source": [
    "# Renaming the column names appropriately\n",
    "bank.rename(columns={ 'default':'Previously_defaulted', 'balance':'Savings_balance','housing':'housing_Loan','loan':'Personal_Loan',\n",
    "                    'contact':'Mode_of_Contact','day':'Date_Contacted', 'month':'Month_Contacted', 'duration':'Call_Duration',\n",
    "                    'campaign':'Num_Calls_made','pdays':'Days_since_last_contact', 'previous':'Num-calls_made_earlier',\n",
    "                    'poutcome':'Outcome_previous_call'},inplace=True)# Renames the columns"
   ]
  },
  {
   "cell_type": "code",
   "execution_count": 10,
   "id": "5e4b29ba",
   "metadata": {},
   "outputs": [
    {
     "name": "stdout",
     "output_type": "stream",
     "text": [
      "<class 'pandas.core.frame.DataFrame'>\n",
      "RangeIndex: 11162 entries, 0 to 11161\n",
      "Data columns (total 17 columns):\n",
      " #   Column                   Non-Null Count  Dtype \n",
      "---  ------                   --------------  ----- \n",
      " 0   age                      11162 non-null  int64 \n",
      " 1   job                      11162 non-null  object\n",
      " 2   marital                  11162 non-null  object\n",
      " 3   education                11162 non-null  object\n",
      " 4   Previously_defaulted     11162 non-null  object\n",
      " 5   Savings_balance          11162 non-null  int64 \n",
      " 6   housing_Loan             11162 non-null  object\n",
      " 7   Personal_Loan            11162 non-null  object\n",
      " 8   Mode_of_Contact          11162 non-null  object\n",
      " 9   Date_Contacted           11162 non-null  int64 \n",
      " 10  Month_Contacted          11162 non-null  object\n",
      " 11  Call_Duration            11162 non-null  int64 \n",
      " 12  Num_Calls_made           11162 non-null  int64 \n",
      " 13  Days_since_last_contact  11162 non-null  int64 \n",
      " 14  Num-calls_made_earlier   11162 non-null  int64 \n",
      " 15  Outcome_previous_call    11162 non-null  object\n",
      " 16  deposit                  11162 non-null  object\n",
      "dtypes: int64(7), object(10)\n",
      "memory usage: 1.4+ MB\n"
     ]
    }
   ],
   "source": [
    "bank.info()# Gives information on Missing values, Data Types\n",
    "# Check whether any of the columns differ in their data type from what is typically expected"
   ]
  },
  {
   "cell_type": "code",
   "execution_count": 11,
   "id": "b2b078f0",
   "metadata": {},
   "outputs": [],
   "source": [
    "# Changing the data type\n",
    "bank[\"Date_Contacted\"] = bank[\"Date_Contacted\"].astype(\"object\")\n",
    "bank[\"Date_Contacted\"] = bank[\"Date_Contacted\"].astype(\"int64\")"
   ]
  },
  {
   "cell_type": "code",
   "execution_count": 12,
   "id": "7be3873f",
   "metadata": {},
   "outputs": [
    {
     "data": {
      "text/html": [
       "<div>\n",
       "<style scoped>\n",
       "    .dataframe tbody tr th:only-of-type {\n",
       "        vertical-align: middle;\n",
       "    }\n",
       "\n",
       "    .dataframe tbody tr th {\n",
       "        vertical-align: top;\n",
       "    }\n",
       "\n",
       "    .dataframe thead th {\n",
       "        text-align: right;\n",
       "    }\n",
       "</style>\n",
       "<table border=\"1\" class=\"dataframe\">\n",
       "  <thead>\n",
       "    <tr style=\"text-align: right;\">\n",
       "      <th></th>\n",
       "      <th>age</th>\n",
       "      <th>Savings_balance</th>\n",
       "      <th>Date_Contacted</th>\n",
       "      <th>Call_Duration</th>\n",
       "      <th>Num_Calls_made</th>\n",
       "      <th>Days_since_last_contact</th>\n",
       "      <th>Num-calls_made_earlier</th>\n",
       "    </tr>\n",
       "  </thead>\n",
       "  <tbody>\n",
       "    <tr>\n",
       "      <th>count</th>\n",
       "      <td>11162.000000</td>\n",
       "      <td>11162.000000</td>\n",
       "      <td>11162.000000</td>\n",
       "      <td>11162.000000</td>\n",
       "      <td>11162.000000</td>\n",
       "      <td>11162.000000</td>\n",
       "      <td>11162.000000</td>\n",
       "    </tr>\n",
       "    <tr>\n",
       "      <th>mean</th>\n",
       "      <td>41.231948</td>\n",
       "      <td>1528.538524</td>\n",
       "      <td>15.658036</td>\n",
       "      <td>371.993818</td>\n",
       "      <td>2.508421</td>\n",
       "      <td>51.330407</td>\n",
       "      <td>0.832557</td>\n",
       "    </tr>\n",
       "    <tr>\n",
       "      <th>std</th>\n",
       "      <td>11.913369</td>\n",
       "      <td>3225.413326</td>\n",
       "      <td>8.420740</td>\n",
       "      <td>347.128386</td>\n",
       "      <td>2.722077</td>\n",
       "      <td>108.758282</td>\n",
       "      <td>2.292007</td>\n",
       "    </tr>\n",
       "    <tr>\n",
       "      <th>min</th>\n",
       "      <td>18.000000</td>\n",
       "      <td>-6847.000000</td>\n",
       "      <td>1.000000</td>\n",
       "      <td>2.000000</td>\n",
       "      <td>1.000000</td>\n",
       "      <td>-1.000000</td>\n",
       "      <td>0.000000</td>\n",
       "    </tr>\n",
       "    <tr>\n",
       "      <th>25%</th>\n",
       "      <td>32.000000</td>\n",
       "      <td>122.000000</td>\n",
       "      <td>8.000000</td>\n",
       "      <td>138.000000</td>\n",
       "      <td>1.000000</td>\n",
       "      <td>-1.000000</td>\n",
       "      <td>0.000000</td>\n",
       "    </tr>\n",
       "    <tr>\n",
       "      <th>50%</th>\n",
       "      <td>39.000000</td>\n",
       "      <td>550.000000</td>\n",
       "      <td>15.000000</td>\n",
       "      <td>255.000000</td>\n",
       "      <td>2.000000</td>\n",
       "      <td>-1.000000</td>\n",
       "      <td>0.000000</td>\n",
       "    </tr>\n",
       "    <tr>\n",
       "      <th>75%</th>\n",
       "      <td>49.000000</td>\n",
       "      <td>1708.000000</td>\n",
       "      <td>22.000000</td>\n",
       "      <td>496.000000</td>\n",
       "      <td>3.000000</td>\n",
       "      <td>20.750000</td>\n",
       "      <td>1.000000</td>\n",
       "    </tr>\n",
       "    <tr>\n",
       "      <th>max</th>\n",
       "      <td>95.000000</td>\n",
       "      <td>81204.000000</td>\n",
       "      <td>31.000000</td>\n",
       "      <td>3881.000000</td>\n",
       "      <td>63.000000</td>\n",
       "      <td>854.000000</td>\n",
       "      <td>58.000000</td>\n",
       "    </tr>\n",
       "  </tbody>\n",
       "</table>\n",
       "</div>"
      ],
      "text/plain": [
       "                age  Savings_balance  Date_Contacted  Call_Duration  \\\n",
       "count  11162.000000     11162.000000    11162.000000   11162.000000   \n",
       "mean      41.231948      1528.538524       15.658036     371.993818   \n",
       "std       11.913369      3225.413326        8.420740     347.128386   \n",
       "min       18.000000     -6847.000000        1.000000       2.000000   \n",
       "25%       32.000000       122.000000        8.000000     138.000000   \n",
       "50%       39.000000       550.000000       15.000000     255.000000   \n",
       "75%       49.000000      1708.000000       22.000000     496.000000   \n",
       "max       95.000000     81204.000000       31.000000    3881.000000   \n",
       "\n",
       "       Num_Calls_made  Days_since_last_contact  Num-calls_made_earlier  \n",
       "count    11162.000000             11162.000000            11162.000000  \n",
       "mean         2.508421                51.330407                0.832557  \n",
       "std          2.722077               108.758282                2.292007  \n",
       "min          1.000000                -1.000000                0.000000  \n",
       "25%          1.000000                -1.000000                0.000000  \n",
       "50%          2.000000                -1.000000                0.000000  \n",
       "75%          3.000000                20.750000                1.000000  \n",
       "max         63.000000               854.000000               58.000000  "
      ]
     },
     "execution_count": 12,
     "metadata": {},
     "output_type": "execute_result"
    }
   ],
   "source": [
    "bank.describe()# Descriptive Statistics of the columns (Numerical columns)\n"
   ]
  },
  {
   "cell_type": "code",
   "execution_count": 13,
   "id": "d6c74d1d",
   "metadata": {},
   "outputs": [
    {
     "data": {
      "text/html": [
       "<div>\n",
       "<style scoped>\n",
       "    .dataframe tbody tr th:only-of-type {\n",
       "        vertical-align: middle;\n",
       "    }\n",
       "\n",
       "    .dataframe tbody tr th {\n",
       "        vertical-align: top;\n",
       "    }\n",
       "\n",
       "    .dataframe thead th {\n",
       "        text-align: right;\n",
       "    }\n",
       "</style>\n",
       "<table border=\"1\" class=\"dataframe\">\n",
       "  <thead>\n",
       "    <tr style=\"text-align: right;\">\n",
       "      <th></th>\n",
       "      <th>job</th>\n",
       "      <th>marital</th>\n",
       "      <th>education</th>\n",
       "      <th>Previously_defaulted</th>\n",
       "      <th>housing_Loan</th>\n",
       "      <th>Personal_Loan</th>\n",
       "      <th>Mode_of_Contact</th>\n",
       "      <th>Month_Contacted</th>\n",
       "      <th>Outcome_previous_call</th>\n",
       "      <th>deposit</th>\n",
       "    </tr>\n",
       "  </thead>\n",
       "  <tbody>\n",
       "    <tr>\n",
       "      <th>count</th>\n",
       "      <td>11162</td>\n",
       "      <td>11162</td>\n",
       "      <td>11162</td>\n",
       "      <td>11162</td>\n",
       "      <td>11162</td>\n",
       "      <td>11162</td>\n",
       "      <td>11162</td>\n",
       "      <td>11162</td>\n",
       "      <td>11162</td>\n",
       "      <td>11162</td>\n",
       "    </tr>\n",
       "    <tr>\n",
       "      <th>unique</th>\n",
       "      <td>12</td>\n",
       "      <td>3</td>\n",
       "      <td>4</td>\n",
       "      <td>2</td>\n",
       "      <td>2</td>\n",
       "      <td>2</td>\n",
       "      <td>3</td>\n",
       "      <td>12</td>\n",
       "      <td>4</td>\n",
       "      <td>2</td>\n",
       "    </tr>\n",
       "    <tr>\n",
       "      <th>top</th>\n",
       "      <td>management</td>\n",
       "      <td>married</td>\n",
       "      <td>secondary</td>\n",
       "      <td>no</td>\n",
       "      <td>no</td>\n",
       "      <td>no</td>\n",
       "      <td>cellular</td>\n",
       "      <td>may</td>\n",
       "      <td>unknown</td>\n",
       "      <td>no</td>\n",
       "    </tr>\n",
       "    <tr>\n",
       "      <th>freq</th>\n",
       "      <td>2566</td>\n",
       "      <td>6351</td>\n",
       "      <td>5476</td>\n",
       "      <td>10994</td>\n",
       "      <td>5881</td>\n",
       "      <td>9702</td>\n",
       "      <td>8042</td>\n",
       "      <td>2824</td>\n",
       "      <td>8326</td>\n",
       "      <td>5873</td>\n",
       "    </tr>\n",
       "  </tbody>\n",
       "</table>\n",
       "</div>"
      ],
      "text/plain": [
       "               job  marital  education Previously_defaulted housing_Loan  \\\n",
       "count        11162    11162      11162                11162        11162   \n",
       "unique          12        3          4                    2            2   \n",
       "top     management  married  secondary                   no           no   \n",
       "freq          2566     6351       5476                10994         5881   \n",
       "\n",
       "       Personal_Loan Mode_of_Contact Month_Contacted Outcome_previous_call  \\\n",
       "count          11162           11162           11162                 11162   \n",
       "unique             2               3              12                     4   \n",
       "top               no        cellular             may               unknown   \n",
       "freq            9702            8042            2824                  8326   \n",
       "\n",
       "       deposit  \n",
       "count    11162  \n",
       "unique       2  \n",
       "top         no  \n",
       "freq      5873  "
      ]
     },
     "execution_count": 13,
     "metadata": {},
     "output_type": "execute_result"
    }
   ],
   "source": [
    "bank.describe(include=['O']) # Basic summary of categorical columns"
   ]
  },
  {
   "cell_type": "code",
   "execution_count": 14,
   "id": "b42ce8ae",
   "metadata": {},
   "outputs": [
    {
     "data": {
      "text/plain": [
       "age                          76\n",
       "job                          12\n",
       "marital                       3\n",
       "education                     4\n",
       "Previously_defaulted          2\n",
       "Savings_balance            3805\n",
       "housing_Loan                  2\n",
       "Personal_Loan                 2\n",
       "Mode_of_Contact               3\n",
       "Date_Contacted               31\n",
       "Month_Contacted              12\n",
       "Call_Duration              1428\n",
       "Num_Calls_made               36\n",
       "Days_since_last_contact     472\n",
       "Num-calls_made_earlier       34\n",
       "Outcome_previous_call         4\n",
       "deposit                       2\n",
       "dtype: int64"
      ]
     },
     "execution_count": 14,
     "metadata": {},
     "output_type": "execute_result"
    }
   ],
   "source": [
    "bank.nunique() # Unique number of values in each column"
   ]
  },
  {
   "cell_type": "code",
   "execution_count": 15,
   "id": "323f6dc6",
   "metadata": {},
   "outputs": [
    {
     "data": {
      "text/plain": [
       "age                        0.862780\n",
       "Savings_balance            8.224619\n",
       "Date_Contacted             0.111330\n",
       "Call_Duration              2.143695\n",
       "Num_Calls_made             5.545578\n",
       "Days_since_last_contact    2.449986\n",
       "Num-calls_made_earlier     7.335298\n",
       "dtype: float64"
      ]
     },
     "execution_count": 15,
     "metadata": {},
     "output_type": "execute_result"
    }
   ],
   "source": [
    "bank.skew()#symmetricity of the data"
   ]
  },
  {
   "cell_type": "code",
   "execution_count": 16,
   "id": "019480df",
   "metadata": {},
   "outputs": [
    {
     "data": {
      "text/plain": [
       "age                          0.621540\n",
       "Savings_balance            126.861303\n",
       "Date_Contacted              -1.061324\n",
       "Call_Duration                7.301282\n",
       "Num_Calls_made              57.389771\n",
       "Days_since_last_contact      6.838359\n",
       "Num-calls_made_earlier     106.197826\n",
       "dtype: float64"
      ]
     },
     "execution_count": 16,
     "metadata": {},
     "output_type": "execute_result"
    }
   ],
   "source": [
    "bank.kurtosis() # Peaked nature of the data ..The deviation of the data from normality"
   ]
  },
  {
   "cell_type": "code",
   "execution_count": 17,
   "id": "b8fc66dd",
   "metadata": {
    "scrolled": false
   },
   "outputs": [
    {
     "name": "stdout",
     "output_type": "stream",
     "text": [
      "Name of the Category--------- job\n",
      "management       2566\n",
      "blue-collar      1944\n",
      "technician       1823\n",
      "admin.           1334\n",
      "services          923\n",
      "retired           778\n",
      "self-employed     405\n",
      "student           360\n",
      "unemployed        357\n",
      "entrepreneur      328\n",
      "housemaid         274\n",
      "unknown            70\n",
      "Name: job, dtype: int64\n",
      "Name of the Category--------- marital\n",
      "married     6351\n",
      "single      3518\n",
      "divorced    1293\n",
      "Name: marital, dtype: int64\n",
      "Name of the Category--------- education\n",
      "secondary    5476\n",
      "tertiary     3689\n",
      "primary      1500\n",
      "unknown       497\n",
      "Name: education, dtype: int64\n",
      "Name of the Category--------- Previously_defaulted\n",
      "no     10994\n",
      "yes      168\n",
      "Name: Previously_defaulted, dtype: int64\n",
      "Name of the Category--------- housing_Loan\n",
      "no     5881\n",
      "yes    5281\n",
      "Name: housing_Loan, dtype: int64\n",
      "Name of the Category--------- Personal_Loan\n",
      "no     9702\n",
      "yes    1460\n",
      "Name: Personal_Loan, dtype: int64\n",
      "Name of the Category--------- Mode_of_Contact\n",
      "cellular     8042\n",
      "unknown      2346\n",
      "telephone     774\n",
      "Name: Mode_of_Contact, dtype: int64\n",
      "Name of the Category--------- Month_Contacted\n",
      "may    2824\n",
      "aug    1519\n",
      "jul    1514\n",
      "jun    1222\n",
      "nov     943\n",
      "apr     923\n",
      "feb     776\n",
      "oct     392\n",
      "jan     344\n",
      "sep     319\n",
      "mar     276\n",
      "dec     110\n",
      "Name: Month_Contacted, dtype: int64\n",
      "Name of the Category--------- Outcome_previous_call\n",
      "unknown    8326\n",
      "failure    1228\n",
      "success    1071\n",
      "other       537\n",
      "Name: Outcome_previous_call, dtype: int64\n",
      "Name of the Category--------- deposit\n",
      "no     5873\n",
      "yes    5289\n",
      "Name: deposit, dtype: int64\n"
     ]
    }
   ],
   "source": [
    "cat_columns = bank.select_dtypes(include='object').columns\n",
    "num_columns = bank.select_dtypes(exclude='object').columns\n",
    "\n",
    "# Display the Frequency of each of the categories in the cateogircal columns\n",
    "for var in cat_columns: \n",
    "    print(\"Name of the Category---------\", var)\n",
    "    print(bank[var].value_counts())"
   ]
  },
  {
   "cell_type": "code",
   "execution_count": 18,
   "id": "22fd21f0",
   "metadata": {},
   "outputs": [],
   "source": [
    "# Errors replacing them with blank values (Data Validation)\n",
    "\n",
    "bank['Savings_balance'][bank['Savings_balance']<0] = np.nan\n",
    "bank['Days_since_last_contact'][bank['Days_since_last_contact'] < 0] = np.nan\n",
    "bank['Call_Duration'][bank['Call_Duration'] < 5] = np.nan\n",
    "#Winsorization\n",
    "# Adjust to the minimum or the maximum value"
   ]
  },
  {
   "cell_type": "code",
   "execution_count": 19,
   "id": "b8ef9629",
   "metadata": {},
   "outputs": [],
   "source": [
    "# Any category with less than 30 occurrences, I will replace them with blanks\n",
    "\n",
    "for var in cat_columns: \n",
    "    \n",
    "    insuf_Values = bank[var].value_counts()[bank[var].value_counts()<30].reset_index()\n",
    "    bank[var][bank[var].isin(insuf_Values[\"index\"])] = np.nan\n"
   ]
  },
  {
   "cell_type": "code",
   "execution_count": 20,
   "id": "1e9954b7",
   "metadata": {},
   "outputs": [
    {
     "data": {
      "text/plain": [
       "Days_since_last_contact    8324\n",
       "Savings_balance             688\n",
       "Call_Duration                 4\n",
       "age                           0\n",
       "Date_Contacted                0\n",
       "Outcome_previous_call         0\n",
       "Num-calls_made_earlier        0\n",
       "Num_Calls_made                0\n",
       "Month_Contacted               0\n",
       "Mode_of_Contact               0\n",
       "job                           0\n",
       "Personal_Loan                 0\n",
       "housing_Loan                  0\n",
       "Previously_defaulted          0\n",
       "education                     0\n",
       "marital                       0\n",
       "deposit                       0\n",
       "dtype: int64"
      ]
     },
     "execution_count": 20,
     "metadata": {},
     "output_type": "execute_result"
    }
   ],
   "source": [
    "# Count the number of missing values ine ach column\n",
    "bank.isnull().sum().sort_values(ascending=False)"
   ]
  },
  {
   "cell_type": "code",
   "execution_count": 21,
   "id": "89c37ca9",
   "metadata": {},
   "outputs": [],
   "source": [
    "# In case you want to delete a column\n",
    "# bank.drop([\"Days_since_last_contact\"],axis=1, inplace = True)"
   ]
  },
  {
   "cell_type": "code",
   "execution_count": 22,
   "id": "1e1e46ad",
   "metadata": {},
   "outputs": [],
   "source": [
    "bank[\"Days_since_last_contact\"].fillna(1000, inplace=True)\n",
    "bank[\"Savings_balance\"].fillna(bank['Savings_balance'].min(), inplace=True)"
   ]
  },
  {
   "cell_type": "code",
   "execution_count": 23,
   "id": "5f8e188b",
   "metadata": {},
   "outputs": [],
   "source": [
    "# Replacing a blank in a categorical variable with the mode of that category\n",
    "#bank[\"marital\"].fillna(bank['marital'].value_counts().idxmax(), inplace=True)"
   ]
  },
  {
   "cell_type": "code",
   "execution_count": 24,
   "id": "7b8ec068",
   "metadata": {},
   "outputs": [],
   "source": [
    "# Remove the missing rows\n",
    "bank.dropna(axis=0, inplace = True)"
   ]
  },
  {
   "cell_type": "code",
   "execution_count": 25,
   "id": "26278f04",
   "metadata": {},
   "outputs": [],
   "source": [
    "# Create new Features\n",
    "bank['Duration_per_Call'] = bank['Call_Duration'] / bank['Num_Calls_made']"
   ]
  },
  {
   "cell_type": "code",
   "execution_count": 26,
   "id": "0bf06145",
   "metadata": {},
   "outputs": [
    {
     "name": "stdout",
     "output_type": "stream",
     "text": [
      "                     age  Savings_balance  Date_Contacted  Call_Duration  \\\n",
      "job                                                                        \n",
      "admin.         39.374063      1214.076462       15.340330     347.929535   \n",
      "blue-collar    39.505149      1232.495881       15.235839     395.062822   \n",
      "entrepreneur   42.887195      1656.743902       15.442073     370.182927   \n",
      "housemaid      47.445255      1381.733577       16.364964     348.346715   \n",
      "management     40.220273      1812.977388       15.790253     361.621442   \n",
      "retired        65.424165      2426.007712       15.519280     389.993573   \n",
      "self-employed  39.809877      1884.967901       15.938272     396.155556   \n",
      "services       38.141928      1105.399783       15.728061     385.955580   \n",
      "student        26.102778      1500.783333       15.175000     330.672222   \n",
      "technician     39.001646      1578.040592       16.173341     363.791552   \n",
      "unemployed     41.036517      1327.250000       15.547753     424.019663   \n",
      "unknown        46.857143      1945.457143       15.457143     330.371429   \n",
      "\n",
      "               Num_Calls_made  Days_since_last_contact  \\\n",
      "job                                                      \n",
      "admin.               2.376312               772.692654   \n",
      "blue-collar          2.542739               853.876416   \n",
      "entrepreneur         2.725610               872.000000   \n",
      "housemaid            2.689781               844.569343   \n",
      "management           2.588694               772.243275   \n",
      "retired              2.131105               738.778920   \n",
      "self-employed        2.533333               803.822222   \n",
      "services             2.576381               838.898158   \n",
      "student              2.169444               672.063889   \n",
      "technician           2.642348               803.351070   \n",
      "unemployed           2.137640               781.589888   \n",
      "unknown              2.785714               785.028571   \n",
      "\n",
      "               Num-calls_made_earlier  Duration_per_Call  \n",
      "job                                                       \n",
      "admin.                       0.973763         231.773124  \n",
      "blue-collar                  0.633883         249.437504  \n",
      "entrepreneur                 0.536585         219.047034  \n",
      "housemaid                    0.503650         204.672661  \n",
      "management                   0.924756         223.850737  \n",
      "retired                      0.994859         271.146687  \n",
      "self-employed                0.804938         248.612768  \n",
      "services                     0.684724         242.435707  \n",
      "student                      1.297222         223.777489  \n",
      "technician                   0.843116         222.659345  \n",
      "unemployed                   0.814607         276.962482  \n",
      "unknown                      0.700000         218.503846  \n",
      "                age  Savings_balance  Date_Contacted  Call_Duration  \\\n",
      "marital                                                               \n",
      "divorced  47.365043      1399.047951       15.689869     392.481825   \n",
      "married   44.535202      1622.510317       15.679005     361.176721   \n",
      "single    33.018487      1470.976962       15.608646     384.411832   \n",
      "\n",
      "          Num_Calls_made  Days_since_last_contact  Num-calls_made_earlier  \\\n",
      "marital                                                                     \n",
      "divorced        2.457077               835.529002                0.664346   \n",
      "married         2.621988               801.256733                0.822492   \n",
      "single          2.323948               777.583902                0.912969   \n",
      "\n",
      "          Duration_per_Call  \n",
      "marital                      \n",
      "divorced         254.129624  \n",
      "married          223.649030  \n",
      "single           251.117977  \n",
      "                 age  Savings_balance  Date_Contacted  Call_Duration  \\\n",
      "education                                                              \n",
      "primary    48.246493      1546.186373       15.514362     384.566466   \n",
      "secondary  40.086012      1318.534879       15.568846     373.344960   \n",
      "tertiary   39.514371      1863.610629       15.781182     368.726681   \n",
      "unknown    45.523139      1759.171026       16.160966     346.448692   \n",
      "\n",
      "           Num_Calls_made  Days_since_last_contact  Num-calls_made_earlier  \\\n",
      "education                                                                    \n",
      "primary          2.649299               853.830995                0.689379   \n",
      "secondary        2.470051               805.331629                0.821768   \n",
      "tertiary         2.487798               765.134219                0.924078   \n",
      "unknown          2.672032               787.740443                0.706237   \n",
      "\n",
      "           Duration_per_Call  \n",
      "education                     \n",
      "primary           235.368257  \n",
      "secondary         242.273392  \n",
      "tertiary          228.107727  \n",
      "unknown           223.684966  \n",
      "                            age  Savings_balance  Date_Contacted  \\\n",
      "Previously_defaulted                                               \n",
      "no                    41.250955      1570.153139       15.640036   \n",
      "yes                   40.130952       156.303571       16.839286   \n",
      "\n",
      "                      Call_Duration  Num_Calls_made  Days_since_last_contact  \\\n",
      "Previously_defaulted                                                           \n",
      "no                       372.546952        2.498544               795.367152   \n",
      "yes                      344.589286        3.190476               954.869048   \n",
      "\n",
      "                      Num-calls_made_earlier  Duration_per_Call  \n",
      "Previously_defaulted                                             \n",
      "no                                  0.842675         236.036480  \n",
      "yes                                 0.178571         222.780854  \n",
      "                    age  Savings_balance  Date_Contacted  Call_Duration  \\\n",
      "housing_Loan                                                              \n",
      "no            43.140500      1773.098146       15.775812     360.585814   \n",
      "yes           39.111006      1299.147187       15.526994     384.977837   \n",
      "\n",
      "              Num_Calls_made  Days_since_last_contact  Num-calls_made_earlier  \\\n",
      "housing_Loan                                                                    \n",
      "no                   2.49175               781.143052                0.834326   \n",
      "yes                  2.52813               816.283955                0.830839   \n",
      "\n",
      "              Duration_per_Call  \n",
      "housing_Loan                     \n",
      "no                   227.626137  \n",
      "yes                  244.980875  \n",
      "                     age  Savings_balance  Date_Contacted  Call_Duration  \\\n",
      "Personal_Loan                                                              \n",
      "no             41.379111      1648.405609       15.601918     372.365502   \n",
      "yes            40.270048       887.152844       16.031528     370.533927   \n",
      "\n",
      "               Num_Calls_made  Days_since_last_contact  \\\n",
      "Personal_Loan                                            \n",
      "no                   2.472214               789.032271   \n",
      "yes                  2.753256               855.845785   \n",
      "\n",
      "               Num-calls_made_earlier  Duration_per_Call  \n",
      "Personal_Loan                                             \n",
      "no                           0.852768         236.426472  \n",
      "yes                          0.699109         231.917580  \n",
      "                       age  Savings_balance  Date_Contacted  Call_Duration  \\\n",
      "Mode_of_Contact                                                              \n",
      "cellular         40.601094      1562.237876       15.598234     376.520642   \n",
      "telephone        50.455369      2254.199224       16.108668     352.143596   \n",
      "unknown          40.364490      1270.264191       15.714895     363.634656   \n",
      "\n",
      "                 Num_Calls_made  Days_since_last_contact  \\\n",
      "Mode_of_Contact                                            \n",
      "cellular               2.394429               741.530092   \n",
      "telephone              2.975420               783.134541   \n",
      "unknown                2.748186               995.627401   \n",
      "\n",
      "                 Num-calls_made_earlier  Duration_per_Call  \n",
      "Mode_of_Contact                                             \n",
      "cellular                       1.043148         241.859142  \n",
      "telephone                      1.055627         206.702082  \n",
      "unknown                        0.036705         224.778563  \n",
      "                       age  Savings_balance  Date_Contacted  Call_Duration  \\\n",
      "Month_Contacted                                                              \n",
      "apr              40.247021      1748.140845       18.630553     398.721560   \n",
      "aug              42.826860      1591.781435       15.494404     352.072416   \n",
      "dec              45.745455      2735.209091       14.481818     397.054545   \n",
      "feb              41.943299      1576.471649        8.541237     343.125000   \n",
      "jan              42.345930      1159.796512       25.773256     349.482558   \n",
      "jul              41.123514      1100.386394       18.407530     418.867239   \n",
      "jun              41.539280      1621.315876       11.293781     364.742226   \n",
      "mar              43.427536      2123.923913       13.438406     291.369565   \n",
      "may              38.727241      1223.913567       15.511867     378.496635   \n",
      "nov              42.058386      2361.981953       17.381104     363.598726   \n",
      "oct              45.462916      2043.680307       19.207161     347.677749   \n",
      "sep              44.059748      1933.952830       12.081761     352.059748   \n",
      "\n",
      "                 Num_Calls_made  Days_since_last_contact  \\\n",
      "Month_Contacted                                            \n",
      "apr                    1.833153               729.625135   \n",
      "aug                    3.514812               849.414088   \n",
      "dec                    2.181818               540.872727   \n",
      "feb                    2.155928               686.442010   \n",
      "jan                    1.729651               708.613372   \n",
      "jul                    3.294584               923.859974   \n",
      "jun                    2.853519               877.928805   \n",
      "mar                    2.003623               704.641304   \n",
      "may                    2.328728               837.742118   \n",
      "nov                    1.817410               715.531847   \n",
      "oct                    1.514066               590.593350   \n",
      "sep                    1.729560               521.786164   \n",
      "\n",
      "                 Num-calls_made_earlier  Duration_per_Call  \n",
      "Month_Contacted                                             \n",
      "apr                            0.980498         288.000178  \n",
      "aug                            0.624753         174.969512  \n",
      "dec                            2.218182         256.484729  \n",
      "feb                            1.304124         235.475399  \n",
      "jan                            1.290698         255.630503  \n",
      "jul                            0.363276         224.889505  \n",
      "jun                            0.505728         222.560757  \n",
      "mar                            1.242754         203.381497  \n",
      "may                            0.734325         248.625901  \n",
      "nov                            0.960722         253.906646  \n",
      "oct                            1.506394         275.753246  \n",
      "sep                            2.072327         262.674149  \n",
      "                             age  Savings_balance  Date_Contacted  \\\n",
      "Outcome_previous_call                                               \n",
      "failure                40.958469      1557.137622       14.020358   \n",
      "other                  40.240223      1945.567970       15.376164   \n",
      "success                43.511215      1982.360748       14.507477   \n",
      "unknown                41.046137      1466.319957       16.065842   \n",
      "\n",
      "                       Call_Duration  Num_Calls_made  Days_since_last_contact  \\\n",
      "Outcome_previous_call                                                           \n",
      "failure                   338.460098        1.887622               237.730456   \n",
      "other                     358.433892        2.221601               216.484171   \n",
      "success                   348.258879        1.742056               160.777570   \n",
      "unknown                   381.044936        2.717770               999.794065   \n",
      "\n",
      "                       Num-calls_made_earlier  Duration_per_Call  \n",
      "Outcome_previous_call                                             \n",
      "failure                              3.021987         241.598127  \n",
      "other                                4.162011         232.258921  \n",
      "success                              3.123364         255.498190  \n",
      "unknown                              0.000360         232.690076  \n",
      "              age  Savings_balance  Date_Contacted  Call_Duration  \\\n",
      "deposit                                                             \n",
      "no       40.84120      1307.865906       16.108536     223.280116   \n",
      "yes      41.67007      1816.293628       15.158253     537.294574   \n",
      "\n",
      "         Num_Calls_made  Days_since_last_contact  Num-calls_made_earlier  \\\n",
      "deposit                                                                    \n",
      "no             2.840518               877.619526                0.528369   \n",
      "yes            2.141047               709.161278                1.170354   \n",
      "\n",
      "         Duration_per_Call  \n",
      "deposit                     \n",
      "no              138.589048  \n",
      "yes             343.749098  \n"
     ]
    }
   ],
   "source": [
    "# One categorical One numerical column - Descriptive Statistics across the categories\n",
    "for var in cat_columns: \n",
    "    print(bank.groupby(var).mean())"
   ]
  },
  {
   "cell_type": "code",
   "execution_count": 27,
   "id": "9f078902",
   "metadata": {},
   "outputs": [
    {
     "data": {
      "text/plain": [
       "[('job', 'job'),\n",
       " ('job', 'marital'),\n",
       " ('job', 'education'),\n",
       " ('job', 'Previously_defaulted'),\n",
       " ('job', 'housing_Loan'),\n",
       " ('job', 'Personal_Loan'),\n",
       " ('job', 'Mode_of_Contact'),\n",
       " ('job', 'Month_Contacted'),\n",
       " ('job', 'Outcome_previous_call'),\n",
       " ('job', 'deposit'),\n",
       " ('marital', 'job'),\n",
       " ('marital', 'marital'),\n",
       " ('marital', 'education'),\n",
       " ('marital', 'Previously_defaulted'),\n",
       " ('marital', 'housing_Loan'),\n",
       " ('marital', 'Personal_Loan'),\n",
       " ('marital', 'Mode_of_Contact'),\n",
       " ('marital', 'Month_Contacted'),\n",
       " ('marital', 'Outcome_previous_call'),\n",
       " ('marital', 'deposit'),\n",
       " ('education', 'job'),\n",
       " ('education', 'marital'),\n",
       " ('education', 'education'),\n",
       " ('education', 'Previously_defaulted'),\n",
       " ('education', 'housing_Loan'),\n",
       " ('education', 'Personal_Loan'),\n",
       " ('education', 'Mode_of_Contact'),\n",
       " ('education', 'Month_Contacted'),\n",
       " ('education', 'Outcome_previous_call'),\n",
       " ('education', 'deposit'),\n",
       " ('Previously_defaulted', 'job'),\n",
       " ('Previously_defaulted', 'marital'),\n",
       " ('Previously_defaulted', 'education'),\n",
       " ('Previously_defaulted', 'Previously_defaulted'),\n",
       " ('Previously_defaulted', 'housing_Loan'),\n",
       " ('Previously_defaulted', 'Personal_Loan'),\n",
       " ('Previously_defaulted', 'Mode_of_Contact'),\n",
       " ('Previously_defaulted', 'Month_Contacted'),\n",
       " ('Previously_defaulted', 'Outcome_previous_call'),\n",
       " ('Previously_defaulted', 'deposit'),\n",
       " ('housing_Loan', 'job'),\n",
       " ('housing_Loan', 'marital'),\n",
       " ('housing_Loan', 'education'),\n",
       " ('housing_Loan', 'Previously_defaulted'),\n",
       " ('housing_Loan', 'housing_Loan'),\n",
       " ('housing_Loan', 'Personal_Loan'),\n",
       " ('housing_Loan', 'Mode_of_Contact'),\n",
       " ('housing_Loan', 'Month_Contacted'),\n",
       " ('housing_Loan', 'Outcome_previous_call'),\n",
       " ('housing_Loan', 'deposit'),\n",
       " ('Personal_Loan', 'job'),\n",
       " ('Personal_Loan', 'marital'),\n",
       " ('Personal_Loan', 'education'),\n",
       " ('Personal_Loan', 'Previously_defaulted'),\n",
       " ('Personal_Loan', 'housing_Loan'),\n",
       " ('Personal_Loan', 'Personal_Loan'),\n",
       " ('Personal_Loan', 'Mode_of_Contact'),\n",
       " ('Personal_Loan', 'Month_Contacted'),\n",
       " ('Personal_Loan', 'Outcome_previous_call'),\n",
       " ('Personal_Loan', 'deposit'),\n",
       " ('Mode_of_Contact', 'job'),\n",
       " ('Mode_of_Contact', 'marital'),\n",
       " ('Mode_of_Contact', 'education'),\n",
       " ('Mode_of_Contact', 'Previously_defaulted'),\n",
       " ('Mode_of_Contact', 'housing_Loan'),\n",
       " ('Mode_of_Contact', 'Personal_Loan'),\n",
       " ('Mode_of_Contact', 'Mode_of_Contact'),\n",
       " ('Mode_of_Contact', 'Month_Contacted'),\n",
       " ('Mode_of_Contact', 'Outcome_previous_call'),\n",
       " ('Mode_of_Contact', 'deposit'),\n",
       " ('Month_Contacted', 'job'),\n",
       " ('Month_Contacted', 'marital'),\n",
       " ('Month_Contacted', 'education'),\n",
       " ('Month_Contacted', 'Previously_defaulted'),\n",
       " ('Month_Contacted', 'housing_Loan'),\n",
       " ('Month_Contacted', 'Personal_Loan'),\n",
       " ('Month_Contacted', 'Mode_of_Contact'),\n",
       " ('Month_Contacted', 'Month_Contacted'),\n",
       " ('Month_Contacted', 'Outcome_previous_call'),\n",
       " ('Month_Contacted', 'deposit'),\n",
       " ('Outcome_previous_call', 'job'),\n",
       " ('Outcome_previous_call', 'marital'),\n",
       " ('Outcome_previous_call', 'education'),\n",
       " ('Outcome_previous_call', 'Previously_defaulted'),\n",
       " ('Outcome_previous_call', 'housing_Loan'),\n",
       " ('Outcome_previous_call', 'Personal_Loan'),\n",
       " ('Outcome_previous_call', 'Mode_of_Contact'),\n",
       " ('Outcome_previous_call', 'Month_Contacted'),\n",
       " ('Outcome_previous_call', 'Outcome_previous_call'),\n",
       " ('Outcome_previous_call', 'deposit'),\n",
       " ('deposit', 'job'),\n",
       " ('deposit', 'marital'),\n",
       " ('deposit', 'education'),\n",
       " ('deposit', 'Previously_defaulted'),\n",
       " ('deposit', 'housing_Loan'),\n",
       " ('deposit', 'Personal_Loan'),\n",
       " ('deposit', 'Mode_of_Contact'),\n",
       " ('deposit', 'Month_Contacted'),\n",
       " ('deposit', 'Outcome_previous_call'),\n",
       " ('deposit', 'deposit')]"
      ]
     },
     "execution_count": 27,
     "metadata": {},
     "output_type": "execute_result"
    }
   ],
   "source": [
    "from itertools import product\n",
    "cat1 = bank[cat_columns]\n",
    "cat2 = bank[cat_columns]\n",
    "cat_var_prod = list(product(cat1,cat2, repeat = 1))\n",
    "cat_var_prod"
   ]
  },
  {
   "cell_type": "code",
   "execution_count": 28,
   "id": "8b742a7d",
   "metadata": {},
   "outputs": [
    {
     "name": "stdout",
     "output_type": "stream",
     "text": [
      "job              admin.  blue-collar  entrepreneur  housemaid  management  \\\n",
      "job                                                                         \n",
      "admin.         0.119555     0.000000      0.000000   0.000000     0.00000   \n",
      "blue-collar    0.000000     0.174046      0.000000   0.000000     0.00000   \n",
      "entrepreneur   0.000000     0.000000      0.029396   0.000000     0.00000   \n",
      "housemaid      0.000000     0.000000      0.000000   0.024556     0.00000   \n",
      "management     0.000000     0.000000      0.000000   0.000000     0.22988   \n",
      "retired        0.000000     0.000000      0.000000   0.000000     0.00000   \n",
      "self-employed  0.000000     0.000000      0.000000   0.000000     0.00000   \n",
      "services       0.000000     0.000000      0.000000   0.000000     0.00000   \n",
      "student        0.000000     0.000000      0.000000   0.000000     0.00000   \n",
      "technician     0.000000     0.000000      0.000000   0.000000     0.00000   \n",
      "unemployed     0.000000     0.000000      0.000000   0.000000     0.00000   \n",
      "unknown        0.000000     0.000000      0.000000   0.000000     0.00000   \n",
      "\n",
      "job             retired  self-employed  services   student  technician  \\\n",
      "job                                                                      \n",
      "admin.         0.000000       0.000000  0.000000  0.000000    0.000000   \n",
      "blue-collar    0.000000       0.000000  0.000000  0.000000    0.000000   \n",
      "entrepreneur   0.000000       0.000000  0.000000  0.000000    0.000000   \n",
      "housemaid      0.000000       0.000000  0.000000  0.000000    0.000000   \n",
      "management     0.000000       0.000000  0.000000  0.000000    0.000000   \n",
      "retired        0.069726       0.000000  0.000000  0.000000    0.000000   \n",
      "self-employed  0.000000       0.036297  0.000000  0.000000    0.000000   \n",
      "services       0.000000       0.000000  0.082721  0.000000    0.000000   \n",
      "student        0.000000       0.000000  0.000000  0.032264    0.000000   \n",
      "technician     0.000000       0.000000  0.000000  0.000000    0.163381   \n",
      "unemployed     0.000000       0.000000  0.000000  0.000000    0.000000   \n",
      "unknown        0.000000       0.000000  0.000000  0.000000    0.000000   \n",
      "\n",
      "job            unemployed   unknown  \n",
      "job                                  \n",
      "admin.           0.000000  0.000000  \n",
      "blue-collar      0.000000  0.000000  \n",
      "entrepreneur     0.000000  0.000000  \n",
      "housemaid        0.000000  0.000000  \n",
      "management       0.000000  0.000000  \n",
      "retired          0.000000  0.000000  \n",
      "self-employed    0.000000  0.000000  \n",
      "services         0.000000  0.000000  \n",
      "student          0.000000  0.000000  \n",
      "technician       0.000000  0.000000  \n",
      "unemployed       0.031905  0.000000  \n",
      "unknown          0.000000  0.006274  \n",
      "marital        divorced   married    single\n",
      "job                                        \n",
      "admin.         0.016311  0.060674  0.042570\n",
      "blue-collar    0.013354  0.119466  0.041226\n",
      "entrepreneur   0.003764  0.020972  0.004660\n",
      "housemaid      0.004123  0.017028  0.003406\n",
      "management     0.025811  0.127980  0.076089\n",
      "retired        0.015325  0.052070  0.002330\n",
      "self-employed  0.003495  0.019896  0.012906\n",
      "services       0.010844  0.045169  0.026707\n",
      "student        0.000179  0.001344  0.030740\n",
      "technician     0.018283  0.083348  0.061749\n",
      "unemployed     0.004212  0.016670  0.011023\n",
      "unknown        0.000179  0.004391  0.001703\n",
      "education       primary  secondary  tertiary   unknown\n",
      "job                                                   \n",
      "admin.         0.003764   0.097150  0.015056  0.003585\n",
      "blue-collar    0.062018   0.100018  0.004302  0.007707\n",
      "entrepreneur   0.003674   0.012637  0.011830  0.001255\n",
      "housemaid      0.012906   0.006991  0.003854  0.000807\n",
      "management     0.005915   0.021330  0.195107  0.007528\n",
      "retired        0.024825   0.028141  0.012547  0.004212\n",
      "self-employed  0.002509   0.012189  0.020613  0.000986\n",
      "services       0.007439   0.066858  0.004750  0.003674\n",
      "student        0.001882   0.016939  0.007439  0.006005\n",
      "technician     0.003674   0.108353  0.046693  0.004660\n",
      "unemployed     0.004929   0.018821  0.007528  0.000627\n",
      "unknown        0.000627   0.001344  0.000807  0.003495\n",
      "Previously_defaulted        no       yes\n",
      "job                                     \n",
      "admin.                0.118570  0.000986\n",
      "blue-collar           0.170371  0.003674\n",
      "entrepreneur          0.028500  0.000896\n",
      "housemaid             0.023839  0.000717\n",
      "management            0.226385  0.003495\n",
      "retired               0.069278  0.000448\n",
      "self-employed         0.035580  0.000717\n",
      "services              0.082094  0.000627\n",
      "student               0.032174  0.000090\n",
      "technician            0.160782  0.002599\n",
      "unemployed            0.031188  0.000717\n",
      "unknown               0.006184  0.000090\n",
      "housing_Loan         no       yes\n",
      "job                              \n",
      "admin.         0.053235  0.066320\n",
      "blue-collar    0.055834  0.118211\n",
      "entrepreneur   0.014519  0.014877\n",
      "housemaid      0.017745  0.006811\n",
      "management     0.133716  0.096164\n",
      "retired        0.058702  0.011023\n",
      "self-employed  0.020703  0.015594\n",
      "services       0.031995  0.050726\n",
      "student        0.027693  0.004571\n",
      "technician     0.084872  0.078509\n",
      "unemployed     0.021868  0.010038\n",
      "unknown        0.006005  0.000269\n",
      "Personal_Loan        no       yes\n",
      "job                              \n",
      "admin.         0.098405  0.021151\n",
      "blue-collar    0.143933  0.030113\n",
      "entrepreneur   0.023122  0.006274\n",
      "housemaid      0.022764  0.001792\n",
      "management     0.206578  0.023302\n",
      "retired        0.064797  0.004929\n",
      "self-employed  0.031278  0.005019\n",
      "services       0.068919  0.013802\n",
      "student        0.032174  0.000090\n",
      "technician     0.141154  0.022226\n",
      "unemployed     0.030023  0.001882\n",
      "unknown        0.006094  0.000179\n",
      "Mode_of_Contact  cellular  telephone   unknown\n",
      "job                                           \n",
      "admin.           0.087112   0.007528  0.024915\n",
      "blue-collar      0.102258   0.010217  0.061570\n",
      "entrepreneur     0.019627   0.002330  0.007439\n",
      "housemaid        0.016580   0.002778  0.005198\n",
      "management       0.185159   0.011382  0.033339\n",
      "retired          0.046424   0.015236  0.008066\n",
      "self-employed    0.025721   0.002689  0.007887\n",
      "services         0.056193   0.004123  0.022405\n",
      "student          0.027872   0.002778  0.001613\n",
      "technician       0.124754   0.007080  0.031547\n",
      "unemployed       0.024646   0.002151  0.005108\n",
      "unknown          0.004391   0.000986  0.000896\n",
      "Month_Contacted       apr       aug       dec       feb       jan       jul  \\\n",
      "job                                                                           \n",
      "admin.           0.010486  0.009500  0.001165  0.008604  0.003764  0.017745   \n",
      "blue-collar      0.016222  0.011113  0.000627  0.006811  0.003316  0.023929   \n",
      "entrepreneur     0.001703  0.002330  0.000090  0.001882  0.000538  0.006094   \n",
      "housemaid        0.001434  0.004571  0.000179  0.001255  0.000896  0.004660   \n",
      "management       0.018910  0.044004  0.002420  0.017207  0.005825  0.028320   \n",
      "retired          0.006005  0.010486  0.002061  0.006901  0.003406  0.007528   \n",
      "self-employed    0.003316  0.005288  0.000269  0.002509  0.000986  0.004660   \n",
      "services         0.005646  0.005019  0.000717  0.004123  0.003137  0.014877   \n",
      "student          0.003495  0.004123  0.000717  0.003585  0.000896  0.003226   \n",
      "technician       0.012726  0.035401  0.001075  0.011472  0.005288  0.019089   \n",
      "unemployed       0.002241  0.002778  0.000538  0.004750  0.002330  0.004660   \n",
      "unknown          0.000538  0.001524  0.000000  0.000448  0.000448  0.000896   \n",
      "\n",
      "Month_Contacted       jun       mar       may       nov       oct       sep  \n",
      "job                                                                          \n",
      "admin.           0.013623  0.003316  0.033787  0.009141  0.004481  0.003943  \n",
      "blue-collar      0.023212  0.000896  0.072056  0.011561  0.002330  0.001972  \n",
      "entrepreneur     0.004391  0.000179  0.006184  0.004929  0.000448  0.000627  \n",
      "housemaid        0.004750  0.000627  0.002778  0.001792  0.001075  0.000538  \n",
      "management       0.021240  0.008156  0.042750  0.023122  0.008962  0.008962  \n",
      "retired          0.006722  0.003764  0.007887  0.004302  0.005915  0.004750  \n",
      "self-employed    0.004302  0.000896  0.007349  0.004750  0.001613  0.000358  \n",
      "services         0.010307  0.001434  0.029486  0.005557  0.001165  0.001255  \n",
      "student          0.002509  0.001613  0.005825  0.002330  0.002061  0.001882  \n",
      "technician       0.014429  0.002868  0.039075  0.013443  0.005646  0.002868  \n",
      "unemployed       0.003316  0.000896  0.005377  0.003137  0.000807  0.001075  \n",
      "unknown          0.000717  0.000090  0.000448  0.000358  0.000538  0.000269  \n",
      "Outcome_previous_call   failure     other   success   unknown\n",
      "job                                                          \n",
      "admin.                 0.016580  0.006274  0.012009  0.084693\n",
      "blue-collar            0.017028  0.008156  0.008066  0.140796\n",
      "entrepreneur           0.003137  0.000538  0.001075  0.024646\n",
      "housemaid              0.001882  0.000807  0.001972  0.019896\n",
      "management             0.026259  0.012637  0.026080  0.164904\n",
      "retired                0.006542  0.003226  0.012099  0.047858\n",
      "self-employed          0.003406  0.001972  0.003406  0.027514\n",
      "services               0.008873  0.003226  0.005557  0.065065\n",
      "student                0.003854  0.002958  0.006005  0.019448\n",
      "technician             0.018641  0.007259  0.014071  0.123409\n",
      "unemployed             0.003137  0.000986  0.004660  0.023122\n",
      "unknown                0.000717  0.000090  0.000896  0.004571\n",
      "deposit              no       yes\n",
      "job                              \n",
      "admin.         0.063004  0.056551\n",
      "blue-collar    0.110593  0.063452\n",
      "entrepreneur   0.018372  0.011023\n",
      "housemaid      0.014788  0.009769\n",
      "management     0.113282  0.116598\n",
      "retired        0.023481  0.046245\n",
      "self-employed  0.019538  0.016759\n",
      "services       0.049650  0.033070\n",
      "student        0.008156  0.024108\n",
      "technician     0.088098  0.075282\n",
      "unemployed     0.013802  0.018104\n",
      "unknown        0.003226  0.003047\n",
      "job         admin.  blue-collar  entrepreneur  housemaid  management  \\\n",
      "marital                                                                \n",
      "divorced  0.016311     0.013354      0.003764   0.004123    0.025811   \n",
      "married   0.060674     0.119466      0.020972   0.017028    0.127980   \n",
      "single    0.042570     0.041226      0.004660   0.003406    0.076089   \n",
      "\n",
      "job        retired  self-employed  services   student  technician  unemployed  \\\n",
      "marital                                                                         \n",
      "divorced  0.015325       0.003495  0.010844  0.000179    0.018283    0.004212   \n",
      "married   0.052070       0.019896  0.045169  0.001344    0.083348    0.016670   \n",
      "single    0.002330       0.012906  0.026707  0.030740    0.061749    0.011023   \n",
      "\n",
      "job        unknown  \n",
      "marital             \n",
      "divorced  0.000179  \n",
      "married   0.004391  \n",
      "single    0.001703  \n",
      "marital   divorced   married   single\n",
      "marital                              \n",
      "divorced  0.115881  0.000000  0.00000\n",
      "married   0.000000  0.569009  0.00000\n",
      "single    0.000000  0.000000  0.31511\n",
      "education   primary  secondary  tertiary   unknown\n",
      "marital                                           \n",
      "divorced   0.018283   0.058433  0.034594  0.004571\n",
      "married    0.098315   0.279620  0.165173  0.025901\n",
      "single     0.017566   0.152716  0.130758  0.014071\n",
      "Previously_defaulted        no       yes\n",
      "marital                                 \n",
      "divorced              0.113372  0.002509\n",
      "married               0.560853  0.008156\n",
      "single                0.310719  0.004391\n",
      "housing_Loan        no       yes\n",
      "marital                         \n",
      "divorced      0.059867  0.056014\n",
      "married       0.290912  0.278096\n",
      "single        0.176107  0.139003\n",
      "Personal_Loan        no       yes\n",
      "marital                          \n",
      "divorced       0.097867  0.018014\n",
      "married        0.487274  0.081735\n",
      "single         0.284101  0.031009\n",
      "Mode_of_Contact  cellular  telephone   unknown\n",
      "marital                                       \n",
      "divorced         0.081018   0.007259  0.027604\n",
      "married          0.396487   0.047051  0.125471\n",
      "single           0.243234   0.014967  0.056910\n",
      "Month_Contacted       apr       aug       dec       feb       jan       jul  \\\n",
      "marital                                                                       \n",
      "divorced         0.007439  0.014160  0.001075  0.006901  0.003316  0.018283   \n",
      "married          0.045797  0.085410  0.005915  0.037103  0.015684  0.081108   \n",
      "single           0.029486  0.036566  0.002868  0.025542  0.011830  0.036297   \n",
      "\n",
      "Month_Contacted       jun       mar       may       nov       oct       sep  \n",
      "marital                                                                      \n",
      "divorced         0.014071  0.002958  0.030203  0.010127  0.004302  0.003047  \n",
      "married          0.062915  0.012099  0.137390  0.052339  0.018821  0.014429  \n",
      "single           0.032533  0.009679  0.085410  0.021957  0.011920  0.011023  \n",
      "Outcome_previous_call   failure     other   success   unknown\n",
      "marital                                                      \n",
      "divorced               0.010127  0.005019  0.009410  0.091325\n",
      "married                0.063811  0.024646  0.053146  0.427406\n",
      "single                 0.036118  0.018462  0.033339  0.227191\n"
     ]
    },
    {
     "name": "stdout",
     "output_type": "stream",
     "text": [
      "deposit         no       yes\n",
      "marital                     \n",
      "divorced  0.060136  0.055745\n",
      "married   0.322101  0.246908\n",
      "single    0.143753  0.171357\n",
      "job          admin.  blue-collar  entrepreneur  housemaid  management  \\\n",
      "education                                                               \n",
      "primary    0.003764     0.062018      0.003674   0.012906    0.005915   \n",
      "secondary  0.097150     0.100018      0.012637   0.006991    0.021330   \n",
      "tertiary   0.015056     0.004302      0.011830   0.003854    0.195107   \n",
      "unknown    0.003585     0.007707      0.001255   0.000807    0.007528   \n",
      "\n",
      "job         retired  self-employed  services   student  technician  \\\n",
      "education                                                            \n",
      "primary    0.024825       0.002509  0.007439  0.001882    0.003674   \n",
      "secondary  0.028141       0.012189  0.066858  0.016939    0.108353   \n",
      "tertiary   0.012547       0.020613  0.004750  0.007439    0.046693   \n",
      "unknown    0.004212       0.000986  0.003674  0.006005    0.004660   \n",
      "\n",
      "job        unemployed   unknown  \n",
      "education                        \n",
      "primary      0.004929  0.000627  \n",
      "secondary    0.018821  0.001344  \n",
      "tertiary     0.007528  0.000807  \n",
      "unknown      0.000627  0.003495  \n",
      "marital    divorced   married    single\n",
      "education                              \n",
      "primary    0.018283  0.098315  0.017566\n",
      "secondary  0.058433  0.279620  0.152716\n",
      "tertiary   0.034594  0.165173  0.130758\n",
      "unknown    0.004571  0.025901  0.014071\n",
      "education   primary  secondary  tertiary   unknown\n",
      "education                                         \n",
      "primary    0.134164   0.000000  0.000000  0.000000\n",
      "secondary  0.000000   0.490769  0.000000  0.000000\n",
      "tertiary   0.000000   0.000000  0.330525  0.000000\n",
      "unknown    0.000000   0.000000  0.000000  0.044542\n",
      "Previously_defaulted        no       yes\n",
      "education                               \n",
      "primary               0.131565  0.002599\n",
      "secondary             0.483420  0.007349\n",
      "tertiary              0.326223  0.004302\n",
      "unknown               0.043735  0.000807\n",
      "housing_Loan        no       yes\n",
      "education                       \n",
      "primary       0.067844  0.066320\n",
      "secondary     0.228984  0.261785\n",
      "tertiary      0.201111  0.129414\n",
      "unknown       0.028948  0.015594\n",
      "Personal_Loan        no       yes\n",
      "education                        \n",
      "primary        0.115881  0.018283\n",
      "secondary      0.413156  0.077612\n",
      "tertiary       0.297992  0.032533\n",
      "unknown        0.042212  0.002330\n",
      "Mode_of_Contact  cellular  telephone   unknown\n",
      "education                                     \n",
      "primary          0.077344   0.016311  0.040509\n",
      "secondary        0.345492   0.030203  0.115074\n",
      "tertiary         0.268686   0.016490  0.045349\n",
      "unknown          0.029217   0.006274  0.009052\n",
      "Month_Contacted       apr       aug       dec       feb       jan       jul  \\\n",
      "education                                                                     \n",
      "primary          0.009679  0.013623  0.000986  0.006901  0.004123  0.022316   \n",
      "secondary        0.040240  0.055924  0.005019  0.033339  0.015325  0.068113   \n",
      "tertiary         0.028500  0.061391  0.003226  0.026438  0.009410  0.038269   \n",
      "unknown          0.004302  0.005198  0.000627  0.002868  0.001972  0.006991   \n",
      "\n",
      "Month_Contacted       jun       mar       may       nov       oct       sep  \n",
      "education                                                                    \n",
      "primary          0.019089  0.002241  0.039523  0.009052  0.003585  0.003047  \n",
      "secondary        0.052787  0.009500  0.142230  0.041674  0.014967  0.011651  \n",
      "tertiary         0.033070  0.012368  0.060943  0.030920  0.013981  0.012009  \n",
      "unknown          0.004571  0.000627  0.010307  0.002778  0.002509  0.001792  \n",
      "Outcome_previous_call   failure     other   success   unknown\n",
      "education                                                    \n",
      "primary                0.012009  0.005198  0.007887  0.109070\n",
      "secondary              0.055655  0.023571  0.042750  0.368794\n",
      "tertiary               0.038179  0.017207  0.039882  0.235257\n",
      "unknown                0.004212  0.002151  0.005377  0.032802\n",
      "deposit          no       yes\n",
      "education                    \n",
      "primary    0.081197  0.052966\n",
      "secondary  0.271196  0.219573\n",
      "tertiary   0.151640  0.178885\n",
      "unknown    0.021957  0.022585\n",
      "job                     admin.  blue-collar  entrepreneur  housemaid  \\\n",
      "Previously_defaulted                                                   \n",
      "no                    0.118570     0.170371      0.028500   0.023839   \n",
      "yes                   0.000986     0.003674      0.000896   0.000717   \n",
      "\n",
      "job                   management   retired  self-employed  services   student  \\\n",
      "Previously_defaulted                                                            \n",
      "no                      0.226385  0.069278       0.035580  0.082094  0.032174   \n",
      "yes                     0.003495  0.000448       0.000717  0.000627  0.000090   \n",
      "\n",
      "job                   technician  unemployed   unknown  \n",
      "Previously_defaulted                                    \n",
      "no                      0.160782    0.031188  0.006184  \n",
      "yes                     0.002599    0.000717  0.000090  \n",
      "marital               divorced   married    single\n",
      "Previously_defaulted                              \n",
      "no                    0.113372  0.560853  0.310719\n",
      "yes                   0.002509  0.008156  0.004391\n",
      "education              primary  secondary  tertiary   unknown\n",
      "Previously_defaulted                                         \n",
      "no                    0.131565   0.483420  0.326223  0.043735\n",
      "yes                   0.002599   0.007349  0.004302  0.000807\n",
      "Previously_defaulted        no       yes\n",
      "Previously_defaulted                    \n",
      "no                    0.984944  0.000000\n",
      "yes                   0.000000  0.015056\n",
      "housing_Loan                no       yes\n",
      "Previously_defaulted                    \n",
      "no                    0.519627  0.465316\n",
      "yes                   0.007259  0.007797\n",
      "Personal_Loan               no       yes\n",
      "Previously_defaulted                    \n",
      "no                    0.859294  0.125650\n",
      "yes                   0.009948  0.005108\n",
      "Mode_of_Contact       cellular  telephone   unknown\n",
      "Previously_defaulted                               \n",
      "no                    0.711328   0.068919  0.204696\n",
      "yes                   0.009410   0.000358  0.005288\n",
      "Month_Contacted            apr       aug       dec       feb       jan  \\\n",
      "Previously_defaulted                                                     \n",
      "no                    0.082094  0.134253  0.009858  0.069098  0.030292   \n",
      "yes                   0.000627  0.001882  0.000000  0.000448  0.000538   \n",
      "\n",
      "Month_Contacted            jul       jun       mar       may       nov  \\\n",
      "Previously_defaulted                                                     \n",
      "no                    0.131565  0.107188  0.024736  0.249238  0.083169   \n",
      "yes                   0.004123  0.002330  0.000000  0.003764  0.001255   \n",
      "\n",
      "Month_Contacted            oct      sep  \n",
      "Previously_defaulted                     \n",
      "no                    0.035042  0.02841  \n",
      "yes                   0.000000  0.00009  \n",
      "Outcome_previous_call   failure     other   success   unknown\n",
      "Previously_defaulted                                         \n",
      "no                     0.109339  0.047858  0.095895  0.731852\n",
      "yes                    0.000717  0.000269  0.000000  0.014071\n",
      "deposit                     no       yes\n",
      "Previously_defaulted                    \n",
      "no                    0.515594  0.469349\n",
      "yes                   0.010396  0.004660\n",
      "job             admin.  blue-collar  entrepreneur  housemaid  management  \\\n",
      "housing_Loan                                                               \n",
      "no            0.053235     0.055834      0.014519   0.017745    0.133716   \n",
      "yes           0.066320     0.118211      0.014877   0.006811    0.096164   \n",
      "\n",
      "job            retired  self-employed  services   student  technician  \\\n",
      "housing_Loan                                                            \n",
      "no            0.058702       0.020703  0.031995  0.027693    0.084872   \n",
      "yes           0.011023       0.015594  0.050726  0.004571    0.078509   \n",
      "\n",
      "job           unemployed   unknown  \n",
      "housing_Loan                        \n",
      "no              0.021868  0.006005  \n",
      "yes             0.010038  0.000269  \n",
      "marital       divorced   married    single\n",
      "housing_Loan                              \n",
      "no            0.059867  0.290912  0.176107\n",
      "yes           0.056014  0.278096  0.139003\n",
      "education      primary  secondary  tertiary   unknown\n",
      "housing_Loan                                         \n",
      "no            0.067844   0.228984  0.201111  0.028948\n",
      "yes           0.066320   0.261785  0.129414  0.015594\n",
      "Previously_defaulted        no       yes\n",
      "housing_Loan                            \n",
      "no                    0.519627  0.007259\n",
      "yes                   0.465316  0.007797\n",
      "housing_Loan        no       yes\n",
      "housing_Loan                    \n",
      "no            0.526887  0.000000\n",
      "yes           0.000000  0.473113\n",
      "Personal_Loan        no       yes\n",
      "housing_Loan                     \n",
      "no             0.470873  0.056014\n",
      "yes            0.398369  0.074745\n",
      "Mode_of_Contact  cellular  telephone   unknown\n",
      "housing_Loan                                  \n",
      "no               0.420416   0.047768  0.058702\n",
      "yes              0.300323   0.021509  0.151282\n",
      "Month_Contacted       apr       aug       dec       feb       jan       jul  \\\n",
      "housing_Loan                                                                  \n",
      "no               0.039882  0.111131  0.008066  0.046962  0.023571  0.075910   \n",
      "yes              0.042839  0.025004  0.001792  0.022585  0.007259  0.059778   \n",
      "\n",
      "Month_Contacted       jun       mar       may       nov       oct       sep  \n",
      "housing_Loan                                                                 \n",
      "no               0.069547  0.019179  0.040599  0.042660  0.027155  0.022226  \n",
      "yes              0.039971  0.005557  0.212404  0.041764  0.007887  0.006274  \n",
      "Outcome_previous_call   failure     other   success   unknown\n",
      "housing_Loan                                                 \n",
      "no                     0.044273  0.024288  0.070532  0.387794\n",
      "yes                    0.065782  0.023839  0.025363  0.358129\n"
     ]
    },
    {
     "name": "stdout",
     "output_type": "stream",
     "text": [
      "deposit             no       yes\n",
      "housing_Loan                    \n",
      "no            0.226295  0.300592\n",
      "yes           0.299695  0.173418\n",
      "job              admin.  blue-collar  entrepreneur  housemaid  management  \\\n",
      "Personal_Loan                                                               \n",
      "no             0.098405     0.143933      0.023122   0.022764    0.206578   \n",
      "yes            0.021151     0.030113      0.006274   0.001792    0.023302   \n",
      "\n",
      "job             retired  self-employed  services   student  technician  \\\n",
      "Personal_Loan                                                            \n",
      "no             0.064797       0.031278  0.068919  0.032174    0.141154   \n",
      "yes            0.004929       0.005019  0.013802  0.000090    0.022226   \n",
      "\n",
      "job            unemployed   unknown  \n",
      "Personal_Loan                        \n",
      "no               0.030023  0.006094  \n",
      "yes              0.001882  0.000179  \n",
      "marital        divorced   married    single\n",
      "Personal_Loan                              \n",
      "no             0.097867  0.487274  0.284101\n",
      "yes            0.018014  0.081735  0.031009\n",
      "education       primary  secondary  tertiary   unknown\n",
      "Personal_Loan                                         \n",
      "no             0.115881   0.413156  0.297992  0.042212\n",
      "yes            0.018283   0.077612  0.032533  0.002330\n",
      "Previously_defaulted        no       yes\n",
      "Personal_Loan                           \n",
      "no                    0.859294  0.009948\n",
      "yes                   0.125650  0.005108\n",
      "housing_Loan         no       yes\n",
      "Personal_Loan                    \n",
      "no             0.470873  0.398369\n",
      "yes            0.056014  0.074745\n",
      "Personal_Loan        no       yes\n",
      "Personal_Loan                    \n",
      "no             0.869242  0.000000\n",
      "yes            0.000000  0.130758\n",
      "Mode_of_Contact  cellular  telephone   unknown\n",
      "Personal_Loan                                 \n",
      "no               0.626546   0.062018  0.180678\n",
      "yes              0.094193   0.007259  0.029306\n",
      "Month_Contacted       apr       aug       dec       feb       jan       jul  \\\n",
      "Personal_Loan                                                                 \n",
      "no               0.075462  0.125381  0.009590  0.061391  0.026618  0.099301   \n",
      "yes              0.007259  0.010755  0.000269  0.008156  0.004212  0.036386   \n",
      "\n",
      "Month_Contacted       jun       mar       may       nov       oct       sep  \n",
      "Personal_Loan                                                                \n",
      "no               0.096971  0.023571  0.219036  0.072146  0.032443  0.027335  \n",
      "yes              0.012547  0.001165  0.033967  0.012278  0.002599  0.001165  \n",
      "Outcome_previous_call   failure     other   success   unknown\n",
      "Personal_Loan                                                \n",
      "no                     0.094999  0.043287  0.091325  0.639631\n",
      "yes                    0.015056  0.004840  0.004571  0.106291\n",
      "deposit              no       yes\n",
      "Personal_Loan                    \n",
      "no             0.438609  0.430633\n",
      "yes            0.087381  0.043377\n",
      "job                admin.  blue-collar  entrepreneur  housemaid  management  \\\n",
      "Mode_of_Contact                                                               \n",
      "cellular         0.087112     0.102258      0.019627   0.016580    0.185159   \n",
      "telephone        0.007528     0.010217      0.002330   0.002778    0.011382   \n",
      "unknown          0.024915     0.061570      0.007439   0.005198    0.033339   \n",
      "\n",
      "job               retired  self-employed  services   student  technician  \\\n",
      "Mode_of_Contact                                                            \n",
      "cellular         0.046424       0.025721  0.056193  0.027872    0.124754   \n",
      "telephone        0.015236       0.002689  0.004123  0.002778    0.007080   \n",
      "unknown          0.008066       0.007887  0.022405  0.001613    0.031547   \n",
      "\n",
      "job              unemployed   unknown  \n",
      "Mode_of_Contact                        \n",
      "cellular           0.024646  0.004391  \n",
      "telephone          0.002151  0.000986  \n",
      "unknown            0.005108  0.000896  \n",
      "marital          divorced   married    single\n",
      "Mode_of_Contact                              \n",
      "cellular         0.081018  0.396487  0.243234\n",
      "telephone        0.007259  0.047051  0.014967\n",
      "unknown          0.027604  0.125471  0.056910\n",
      "education         primary  secondary  tertiary   unknown\n",
      "Mode_of_Contact                                         \n",
      "cellular         0.077344   0.345492  0.268686  0.029217\n",
      "telephone        0.016311   0.030203  0.016490  0.006274\n",
      "unknown          0.040509   0.115074  0.045349  0.009052\n",
      "Previously_defaulted        no       yes\n",
      "Mode_of_Contact                         \n",
      "cellular              0.711328  0.009410\n",
      "telephone             0.068919  0.000358\n",
      "unknown               0.204696  0.005288\n",
      "housing_Loan           no       yes\n",
      "Mode_of_Contact                    \n",
      "cellular         0.420416  0.300323\n",
      "telephone        0.047768  0.021509\n",
      "unknown          0.058702  0.151282\n",
      "Personal_Loan          no       yes\n",
      "Mode_of_Contact                    \n",
      "cellular         0.626546  0.094193\n",
      "telephone        0.062018  0.007259\n",
      "unknown          0.180678  0.029306\n",
      "Mode_of_Contact  cellular  telephone   unknown\n",
      "Mode_of_Contact                               \n",
      "cellular         0.720738   0.000000  0.000000\n",
      "telephone        0.000000   0.069278  0.000000\n",
      "unknown          0.000000   0.000000  0.209984\n",
      "Month_Contacted       apr       aug       dec       feb       jan       jul  \\\n",
      "Mode_of_Contact                                                               \n",
      "cellular         0.076806  0.130041  0.008066  0.062108  0.027335  0.115254   \n",
      "telephone        0.005467  0.004929  0.001703  0.006991  0.003406  0.016670   \n",
      "unknown          0.000448  0.001165  0.000090  0.000448  0.000090  0.003764   \n",
      "\n",
      "Month_Contacted       jun       mar       may       nov       oct       sep  \n",
      "Mode_of_Contact                                                              \n",
      "cellular         0.034325  0.022137  0.117405  0.075103  0.027335  0.024825  \n",
      "telephone        0.002420  0.002241  0.008962  0.007797  0.005915  0.002778  \n",
      "unknown          0.072773  0.000358  0.126636  0.001524  0.001792  0.000896  \n",
      "Outcome_previous_call   failure     other   success   unknown\n",
      "Mode_of_Contact                                              \n",
      "cellular               0.102438  0.043377  0.087829  0.487094\n",
      "telephone              0.007080  0.004123  0.007618  0.050457\n",
      "unknown                0.000538  0.000627  0.000448  0.208371\n",
      "deposit                no       yes\n",
      "Mode_of_Contact                    \n",
      "cellular         0.329181  0.391558\n",
      "telephone        0.034325  0.034953\n",
      "unknown          0.162484  0.047500\n",
      "job                admin.  blue-collar  entrepreneur  housemaid  management  \\\n",
      "Month_Contacted                                                               \n",
      "apr              0.010486     0.016222      0.001703   0.001434    0.018910   \n",
      "aug              0.009500     0.011113      0.002330   0.004571    0.044004   \n",
      "dec              0.001165     0.000627      0.000090   0.000179    0.002420   \n",
      "feb              0.008604     0.006811      0.001882   0.001255    0.017207   \n",
      "jan              0.003764     0.003316      0.000538   0.000896    0.005825   \n",
      "jul              0.017745     0.023929      0.006094   0.004660    0.028320   \n",
      "jun              0.013623     0.023212      0.004391   0.004750    0.021240   \n",
      "mar              0.003316     0.000896      0.000179   0.000627    0.008156   \n",
      "may              0.033787     0.072056      0.006184   0.002778    0.042750   \n",
      "nov              0.009141     0.011561      0.004929   0.001792    0.023122   \n",
      "oct              0.004481     0.002330      0.000448   0.001075    0.008962   \n",
      "sep              0.003943     0.001972      0.000627   0.000538    0.008962   \n",
      "\n",
      "job               retired  self-employed  services   student  technician  \\\n",
      "Month_Contacted                                                            \n",
      "apr              0.006005       0.003316  0.005646  0.003495    0.012726   \n",
      "aug              0.010486       0.005288  0.005019  0.004123    0.035401   \n",
      "dec              0.002061       0.000269  0.000717  0.000717    0.001075   \n",
      "feb              0.006901       0.002509  0.004123  0.003585    0.011472   \n",
      "jan              0.003406       0.000986  0.003137  0.000896    0.005288   \n",
      "jul              0.007528       0.004660  0.014877  0.003226    0.019089   \n",
      "jun              0.006722       0.004302  0.010307  0.002509    0.014429   \n",
      "mar              0.003764       0.000896  0.001434  0.001613    0.002868   \n",
      "may              0.007887       0.007349  0.029486  0.005825    0.039075   \n",
      "nov              0.004302       0.004750  0.005557  0.002330    0.013443   \n",
      "oct              0.005915       0.001613  0.001165  0.002061    0.005646   \n",
      "sep              0.004750       0.000358  0.001255  0.001882    0.002868   \n",
      "\n",
      "job              unemployed   unknown  \n",
      "Month_Contacted                        \n",
      "apr                0.002241  0.000538  \n",
      "aug                0.002778  0.001524  \n",
      "dec                0.000538  0.000000  \n",
      "feb                0.004750  0.000448  \n",
      "jan                0.002330  0.000448  \n",
      "jul                0.004660  0.000896  \n",
      "jun                0.003316  0.000717  \n",
      "mar                0.000896  0.000090  \n",
      "may                0.005377  0.000448  \n",
      "nov                0.003137  0.000358  \n",
      "oct                0.000807  0.000538  \n",
      "sep                0.001075  0.000269  \n",
      "marital          divorced   married    single\n",
      "Month_Contacted                              \n",
      "apr              0.007439  0.045797  0.029486\n",
      "aug              0.014160  0.085410  0.036566\n",
      "dec              0.001075  0.005915  0.002868\n",
      "feb              0.006901  0.037103  0.025542\n",
      "jan              0.003316  0.015684  0.011830\n",
      "jul              0.018283  0.081108  0.036297\n",
      "jun              0.014071  0.062915  0.032533\n",
      "mar              0.002958  0.012099  0.009679\n",
      "may              0.030203  0.137390  0.085410\n",
      "nov              0.010127  0.052339  0.021957\n",
      "oct              0.004302  0.018821  0.011920\n",
      "sep              0.003047  0.014429  0.011023\n",
      "education         primary  secondary  tertiary   unknown\n",
      "Month_Contacted                                         \n",
      "apr              0.009679   0.040240  0.028500  0.004302\n",
      "aug              0.013623   0.055924  0.061391  0.005198\n",
      "dec              0.000986   0.005019  0.003226  0.000627\n",
      "feb              0.006901   0.033339  0.026438  0.002868\n",
      "jan              0.004123   0.015325  0.009410  0.001972\n",
      "jul              0.022316   0.068113  0.038269  0.006991\n",
      "jun              0.019089   0.052787  0.033070  0.004571\n",
      "mar              0.002241   0.009500  0.012368  0.000627\n",
      "may              0.039523   0.142230  0.060943  0.010307\n",
      "nov              0.009052   0.041674  0.030920  0.002778\n",
      "oct              0.003585   0.014967  0.013981  0.002509\n",
      "sep              0.003047   0.011651  0.012009  0.001792\n",
      "Previously_defaulted        no       yes\n",
      "Month_Contacted                         \n",
      "apr                   0.082094  0.000627\n",
      "aug                   0.134253  0.001882\n",
      "dec                   0.009858  0.000000\n",
      "feb                   0.069098  0.000448\n",
      "jan                   0.030292  0.000538\n",
      "jul                   0.131565  0.004123\n",
      "jun                   0.107188  0.002330\n",
      "mar                   0.024736  0.000000\n",
      "may                   0.249238  0.003764\n",
      "nov                   0.083169  0.001255\n",
      "oct                   0.035042  0.000000\n",
      "sep                   0.028410  0.000090\n",
      "housing_Loan           no       yes\n",
      "Month_Contacted                    \n",
      "apr              0.039882  0.042839\n",
      "aug              0.111131  0.025004\n",
      "dec              0.008066  0.001792\n",
      "feb              0.046962  0.022585\n",
      "jan              0.023571  0.007259\n",
      "jul              0.075910  0.059778\n",
      "jun              0.069547  0.039971\n",
      "mar              0.019179  0.005557\n",
      "may              0.040599  0.212404\n",
      "nov              0.042660  0.041764\n",
      "oct              0.027155  0.007887\n",
      "sep              0.022226  0.006274\n",
      "Personal_Loan          no       yes\n",
      "Month_Contacted                    \n",
      "apr              0.075462  0.007259\n",
      "aug              0.125381  0.010755\n",
      "dec              0.009590  0.000269\n",
      "feb              0.061391  0.008156\n",
      "jan              0.026618  0.004212\n",
      "jul              0.099301  0.036386\n",
      "jun              0.096971  0.012547\n",
      "mar              0.023571  0.001165\n",
      "may              0.219036  0.033967\n",
      "nov              0.072146  0.012278\n",
      "oct              0.032443  0.002599\n",
      "sep              0.027335  0.001165\n",
      "Mode_of_Contact  cellular  telephone   unknown\n",
      "Month_Contacted                               \n",
      "apr              0.076806   0.005467  0.000448\n",
      "aug              0.130041   0.004929  0.001165\n",
      "dec              0.008066   0.001703  0.000090\n",
      "feb              0.062108   0.006991  0.000448\n",
      "jan              0.027335   0.003406  0.000090\n",
      "jul              0.115254   0.016670  0.003764\n",
      "jun              0.034325   0.002420  0.072773\n",
      "mar              0.022137   0.002241  0.000358\n",
      "may              0.117405   0.008962  0.126636\n",
      "nov              0.075103   0.007797  0.001524\n",
      "oct              0.027335   0.005915  0.001792\n",
      "sep              0.024825   0.002778  0.000896\n",
      "Month_Contacted       apr       aug       dec       feb      jan       jul  \\\n",
      "Month_Contacted                                                              \n",
      "apr              0.082721  0.000000  0.000000  0.000000  0.00000  0.000000   \n",
      "aug              0.000000  0.136136  0.000000  0.000000  0.00000  0.000000   \n",
      "dec              0.000000  0.000000  0.009858  0.000000  0.00000  0.000000   \n",
      "feb              0.000000  0.000000  0.000000  0.069547  0.00000  0.000000   \n",
      "jan              0.000000  0.000000  0.000000  0.000000  0.03083  0.000000   \n",
      "jul              0.000000  0.000000  0.000000  0.000000  0.00000  0.135687   \n",
      "jun              0.000000  0.000000  0.000000  0.000000  0.00000  0.000000   \n",
      "mar              0.000000  0.000000  0.000000  0.000000  0.00000  0.000000   \n",
      "may              0.000000  0.000000  0.000000  0.000000  0.00000  0.000000   \n",
      "nov              0.000000  0.000000  0.000000  0.000000  0.00000  0.000000   \n",
      "oct              0.000000  0.000000  0.000000  0.000000  0.00000  0.000000   \n",
      "sep              0.000000  0.000000  0.000000  0.000000  0.00000  0.000000   \n",
      "\n",
      "Month_Contacted       jun       mar       may       nov       oct     sep  \n",
      "Month_Contacted                                                            \n",
      "apr              0.000000  0.000000  0.000000  0.000000  0.000000  0.0000  \n",
      "aug              0.000000  0.000000  0.000000  0.000000  0.000000  0.0000  \n",
      "dec              0.000000  0.000000  0.000000  0.000000  0.000000  0.0000  \n",
      "feb              0.000000  0.000000  0.000000  0.000000  0.000000  0.0000  \n",
      "jan              0.000000  0.000000  0.000000  0.000000  0.000000  0.0000  \n",
      "jul              0.000000  0.000000  0.000000  0.000000  0.000000  0.0000  \n",
      "jun              0.109518  0.000000  0.000000  0.000000  0.000000  0.0000  \n",
      "mar              0.000000  0.024736  0.000000  0.000000  0.000000  0.0000  \n",
      "may              0.000000  0.000000  0.253002  0.000000  0.000000  0.0000  \n",
      "nov              0.000000  0.000000  0.000000  0.084424  0.000000  0.0000  \n",
      "oct              0.000000  0.000000  0.000000  0.000000  0.035042  0.0000  \n",
      "sep              0.000000  0.000000  0.000000  0.000000  0.000000  0.0285  \n",
      "Outcome_previous_call   failure     other   success   unknown\n",
      "Month_Contacted                                              \n",
      "apr                    0.015325  0.006005  0.007707  0.053683\n",
      "aug                    0.008245  0.003674  0.013085  0.111131\n",
      "dec                    0.001255  0.001344  0.003047  0.004212\n",
      "feb                    0.012009  0.005108  0.009769  0.042660\n",
      "jan                    0.003674  0.003495  0.003764  0.019896\n",
      "jul                    0.004212  0.002599  0.006901  0.121975\n",
      "jun                    0.004750  0.002958  0.008156  0.093655\n",
      "mar                    0.002689  0.001972  0.004302  0.015773\n",
      "may                    0.031995  0.011292  0.012189  0.197526\n",
      "nov                    0.015146  0.004391  0.008514  0.056372\n",
      "oct                    0.006184  0.002330  0.009052  0.017476\n",
      "sep                    0.004571  0.002958  0.009410  0.011561\n",
      "deposit                no       yes\n",
      "Month_Contacted                    \n",
      "apr              0.031009  0.051712\n",
      "aug              0.074476  0.061660\n",
      "dec              0.000896  0.008962\n",
      "feb              0.030023  0.039523\n",
      "jan              0.018104  0.012726\n",
      "jul              0.079495  0.056193\n",
      "jun              0.060584  0.048934\n",
      "mar              0.002509  0.022226\n",
      "may              0.170102  0.082900\n",
      "nov              0.048306  0.036118\n",
      "oct              0.006094  0.028948\n",
      "sep              0.004391  0.024108\n"
     ]
    },
    {
     "name": "stdout",
     "output_type": "stream",
     "text": [
      "job                      admin.  blue-collar  entrepreneur  housemaid  \\\n",
      "Outcome_previous_call                                                   \n",
      "failure                0.016580     0.017028      0.003137   0.001882   \n",
      "other                  0.006274     0.008156      0.000538   0.000807   \n",
      "success                0.012009     0.008066      0.001075   0.001972   \n",
      "unknown                0.084693     0.140796      0.024646   0.019896   \n",
      "\n",
      "job                    management   retired  self-employed  services  \\\n",
      "Outcome_previous_call                                                  \n",
      "failure                  0.026259  0.006542       0.003406  0.008873   \n",
      "other                    0.012637  0.003226       0.001972  0.003226   \n",
      "success                  0.026080  0.012099       0.003406  0.005557   \n",
      "unknown                  0.164904  0.047858       0.027514  0.065065   \n",
      "\n",
      "job                     student  technician  unemployed   unknown  \n",
      "Outcome_previous_call                                              \n",
      "failure                0.003854    0.018641    0.003137  0.000717  \n",
      "other                  0.002958    0.007259    0.000986  0.000090  \n",
      "success                0.006005    0.014071    0.004660  0.000896  \n",
      "unknown                0.019448    0.123409    0.023122  0.004571  \n",
      "marital                divorced   married    single\n",
      "Outcome_previous_call                              \n",
      "failure                0.010127  0.063811  0.036118\n",
      "other                  0.005019  0.024646  0.018462\n",
      "success                0.009410  0.053146  0.033339\n",
      "unknown                0.091325  0.427406  0.227191\n",
      "education               primary  secondary  tertiary   unknown\n",
      "Outcome_previous_call                                         \n",
      "failure                0.012009   0.055655  0.038179  0.004212\n",
      "other                  0.005198   0.023571  0.017207  0.002151\n",
      "success                0.007887   0.042750  0.039882  0.005377\n",
      "unknown                0.109070   0.368794  0.235257  0.032802\n",
      "Previously_defaulted         no       yes\n",
      "Outcome_previous_call                    \n",
      "failure                0.109339  0.000717\n",
      "other                  0.047858  0.000269\n",
      "success                0.095895  0.000000\n",
      "unknown                0.731852  0.014071\n",
      "housing_Loan                 no       yes\n",
      "Outcome_previous_call                    \n",
      "failure                0.044273  0.065782\n",
      "other                  0.024288  0.023839\n",
      "success                0.070532  0.025363\n",
      "unknown                0.387794  0.358129\n",
      "Personal_Loan                no       yes\n",
      "Outcome_previous_call                    \n",
      "failure                0.094999  0.015056\n",
      "other                  0.043287  0.004840\n",
      "success                0.091325  0.004571\n",
      "unknown                0.639631  0.106291\n",
      "Mode_of_Contact        cellular  telephone   unknown\n",
      "Outcome_previous_call                               \n",
      "failure                0.102438   0.007080  0.000538\n",
      "other                  0.043377   0.004123  0.000627\n",
      "success                0.087829   0.007618  0.000448\n",
      "unknown                0.487094   0.050457  0.208371\n",
      "Month_Contacted             apr       aug       dec       feb       jan  \\\n",
      "Outcome_previous_call                                                     \n",
      "failure                0.015325  0.008245  0.001255  0.012009  0.003674   \n",
      "other                  0.006005  0.003674  0.001344  0.005108  0.003495   \n",
      "success                0.007707  0.013085  0.003047  0.009769  0.003764   \n",
      "unknown                0.053683  0.111131  0.004212  0.042660  0.019896   \n",
      "\n",
      "Month_Contacted             jul       jun       mar       may       nov  \\\n",
      "Outcome_previous_call                                                     \n",
      "failure                0.004212  0.004750  0.002689  0.031995  0.015146   \n",
      "other                  0.002599  0.002958  0.001972  0.011292  0.004391   \n",
      "success                0.006901  0.008156  0.004302  0.012189  0.008514   \n",
      "unknown                0.121975  0.093655  0.015773  0.197526  0.056372   \n",
      "\n",
      "Month_Contacted             oct       sep  \n",
      "Outcome_previous_call                      \n",
      "failure                0.006184  0.004571  \n",
      "other                  0.002330  0.002958  \n",
      "success                0.009052  0.009410  \n",
      "unknown                0.017476  0.011561  \n",
      "Outcome_previous_call   failure     other   success   unknown\n",
      "Outcome_previous_call                                        \n",
      "failure                0.110056  0.000000  0.000000  0.000000\n",
      "other                  0.000000  0.048127  0.000000  0.000000\n",
      "success                0.000000  0.000000  0.095895  0.000000\n",
      "unknown                0.000000  0.000000  0.000000  0.745922\n",
      "deposit                      no       yes\n",
      "Outcome_previous_call                    \n",
      "failure                0.054669  0.055386\n",
      "other                  0.020613  0.027514\n",
      "success                0.008245  0.087650\n",
      "unknown                0.442463  0.303459\n",
      "job        admin.  blue-collar  entrepreneur  housemaid  management   retired  \\\n",
      "deposit                                                                         \n",
      "no       0.063004     0.110593      0.018372   0.014788    0.113282  0.023481   \n",
      "yes      0.056551     0.063452      0.011023   0.009769    0.116598  0.046245   \n",
      "\n",
      "job      self-employed  services   student  technician  unemployed   unknown  \n",
      "deposit                                                                       \n",
      "no            0.019538   0.04965  0.008156    0.088098    0.013802  0.003226  \n",
      "yes           0.016759   0.03307  0.024108    0.075282    0.018104  0.003047  \n",
      "marital  divorced   married    single\n",
      "deposit                              \n",
      "no       0.060136  0.322101  0.143753\n",
      "yes      0.055745  0.246908  0.171357\n",
      "education   primary  secondary  tertiary   unknown\n",
      "deposit                                           \n",
      "no         0.081197   0.271196  0.151640  0.021957\n",
      "yes        0.052966   0.219573  0.178885  0.022585\n",
      "Previously_defaulted        no       yes\n",
      "deposit                                 \n",
      "no                    0.515594  0.010396\n",
      "yes                   0.469349  0.004660\n",
      "housing_Loan        no       yes\n",
      "deposit                         \n",
      "no            0.226295  0.299695\n",
      "yes           0.300592  0.173418\n",
      "Personal_Loan        no       yes\n",
      "deposit                          \n",
      "no             0.438609  0.087381\n",
      "yes            0.430633  0.043377\n",
      "Mode_of_Contact  cellular  telephone   unknown\n",
      "deposit                                       \n",
      "no               0.329181   0.034325  0.162484\n",
      "yes              0.391558   0.034953  0.047500\n",
      "Month_Contacted       apr       aug       dec       feb       jan       jul  \\\n",
      "deposit                                                                       \n",
      "no               0.031009  0.074476  0.000896  0.030023  0.018104  0.079495   \n",
      "yes              0.051712  0.061660  0.008962  0.039523  0.012726  0.056193   \n",
      "\n",
      "Month_Contacted       jun       mar       may       nov       oct       sep  \n",
      "deposit                                                                      \n",
      "no               0.060584  0.002509  0.170102  0.048306  0.006094  0.004391  \n",
      "yes              0.048934  0.022226  0.082900  0.036118  0.028948  0.024108  \n",
      "Outcome_previous_call   failure     other   success   unknown\n",
      "deposit                                                      \n",
      "no                     0.054669  0.020613  0.008245  0.442463\n",
      "yes                    0.055386  0.027514  0.087650  0.303459\n",
      "deposit       no      yes\n",
      "deposit                  \n",
      "no       0.52599  0.00000\n",
      "yes      0.00000  0.47401\n"
     ]
    }
   ],
   "source": [
    "# Cross Tabulations of the categorical variables\n",
    "for var1 in cat_columns:\n",
    "    for var2 in cat_columns:\n",
    "        print(pd.crosstab(bank[var1], bank[var2], normalize=True))\n"
   ]
  },
  {
   "cell_type": "code",
   "execution_count": 29,
   "id": "61c0ffa5",
   "metadata": {},
   "outputs": [
    {
     "data": {
      "text/html": [
       "<div>\n",
       "<style scoped>\n",
       "    .dataframe tbody tr th:only-of-type {\n",
       "        vertical-align: middle;\n",
       "    }\n",
       "\n",
       "    .dataframe tbody tr th {\n",
       "        vertical-align: top;\n",
       "    }\n",
       "\n",
       "    .dataframe thead th {\n",
       "        text-align: right;\n",
       "    }\n",
       "</style>\n",
       "<table border=\"1\" class=\"dataframe\">\n",
       "  <thead>\n",
       "    <tr style=\"text-align: right;\">\n",
       "      <th></th>\n",
       "      <th>var1</th>\n",
       "      <th>var2</th>\n",
       "      <th>p-value</th>\n",
       "    </tr>\n",
       "  </thead>\n",
       "  <tbody>\n",
       "    <tr>\n",
       "      <th>0</th>\n",
       "      <td>job</td>\n",
       "      <td>marital</td>\n",
       "      <td>1.148192e-251</td>\n",
       "    </tr>\n",
       "    <tr>\n",
       "      <th>1</th>\n",
       "      <td>job</td>\n",
       "      <td>education</td>\n",
       "      <td>0.000000e+00</td>\n",
       "    </tr>\n",
       "    <tr>\n",
       "      <th>2</th>\n",
       "      <td>job</td>\n",
       "      <td>Previously_defaulted</td>\n",
       "      <td>1.102946e-03</td>\n",
       "    </tr>\n",
       "    <tr>\n",
       "      <th>3</th>\n",
       "      <td>job</td>\n",
       "      <td>housing_Loan</td>\n",
       "      <td>3.146404e-223</td>\n",
       "    </tr>\n",
       "    <tr>\n",
       "      <th>4</th>\n",
       "      <td>job</td>\n",
       "      <td>Personal_Loan</td>\n",
       "      <td>1.389239e-39</td>\n",
       "    </tr>\n",
       "    <tr>\n",
       "      <th>...</th>\n",
       "      <td>...</td>\n",
       "      <td>...</td>\n",
       "      <td>...</td>\n",
       "    </tr>\n",
       "    <tr>\n",
       "      <th>85</th>\n",
       "      <td>deposit</td>\n",
       "      <td>housing_Loan</td>\n",
       "      <td>9.402204e-103</td>\n",
       "    </tr>\n",
       "    <tr>\n",
       "      <th>86</th>\n",
       "      <td>deposit</td>\n",
       "      <td>Personal_Loan</td>\n",
       "      <td>2.419106e-31</td>\n",
       "    </tr>\n",
       "    <tr>\n",
       "      <th>87</th>\n",
       "      <td>deposit</td>\n",
       "      <td>Mode_of_Contact</td>\n",
       "      <td>2.908970e-160</td>\n",
       "    </tr>\n",
       "    <tr>\n",
       "      <th>88</th>\n",
       "      <td>deposit</td>\n",
       "      <td>Month_Contacted</td>\n",
       "      <td>3.506962e-218</td>\n",
       "    </tr>\n",
       "    <tr>\n",
       "      <th>89</th>\n",
       "      <td>deposit</td>\n",
       "      <td>Outcome_previous_call</td>\n",
       "      <td>7.600832e-218</td>\n",
       "    </tr>\n",
       "  </tbody>\n",
       "</table>\n",
       "<p>90 rows × 3 columns</p>\n",
       "</div>"
      ],
      "text/plain": [
       "       var1                   var2        p-value\n",
       "0       job                marital  1.148192e-251\n",
       "1       job              education   0.000000e+00\n",
       "2       job   Previously_defaulted   1.102946e-03\n",
       "3       job           housing_Loan  3.146404e-223\n",
       "4       job          Personal_Loan   1.389239e-39\n",
       "..      ...                    ...            ...\n",
       "85  deposit           housing_Loan  9.402204e-103\n",
       "86  deposit          Personal_Loan   2.419106e-31\n",
       "87  deposit        Mode_of_Contact  2.908970e-160\n",
       "88  deposit        Month_Contacted  3.506962e-218\n",
       "89  deposit  Outcome_previous_call  7.600832e-218\n",
       "\n",
       "[90 rows x 3 columns]"
      ]
     },
     "execution_count": 29,
     "metadata": {},
     "output_type": "execute_result"
    }
   ],
   "source": [
    "import scipy.stats as ss\n",
    "result = []\n",
    "for i in cat_var_prod:\n",
    "    if i[0] != i[1]:\n",
    "        result.append((i[0],i[1],list(ss.chi2_contingency(pd.crosstab(\n",
    "                            bank[i[0]], bank[i[1]])))[1]))\n",
    "result\n",
    "chi_test_output = pd.DataFrame(result, columns = [\"var1\", \"var2\", \"p-value\"])\n",
    "chi_test_output"
   ]
  },
  {
   "cell_type": "code",
   "execution_count": 30,
   "id": "5685c000",
   "metadata": {},
   "outputs": [
    {
     "data": {
      "text/html": [
       "<div>\n",
       "<style scoped>\n",
       "    .dataframe tbody tr th:only-of-type {\n",
       "        vertical-align: middle;\n",
       "    }\n",
       "\n",
       "    .dataframe tbody tr th {\n",
       "        vertical-align: top;\n",
       "    }\n",
       "\n",
       "    .dataframe thead th {\n",
       "        text-align: right;\n",
       "    }\n",
       "</style>\n",
       "<table border=\"1\" class=\"dataframe\">\n",
       "  <thead>\n",
       "    <tr style=\"text-align: right;\">\n",
       "      <th></th>\n",
       "      <th>age</th>\n",
       "      <th>Savings_balance</th>\n",
       "      <th>Date_Contacted</th>\n",
       "      <th>Call_Duration</th>\n",
       "      <th>Num_Calls_made</th>\n",
       "      <th>Days_since_last_contact</th>\n",
       "      <th>Num-calls_made_earlier</th>\n",
       "      <th>Duration_per_Call</th>\n",
       "    </tr>\n",
       "  </thead>\n",
       "  <tbody>\n",
       "    <tr>\n",
       "      <th>age</th>\n",
       "      <td>1.000000</td>\n",
       "      <td>0.112433</td>\n",
       "      <td>-0.000775</td>\n",
       "      <td>-0.000002</td>\n",
       "      <td>-0.005378</td>\n",
       "      <td>-0.032652</td>\n",
       "      <td>0.020146</td>\n",
       "      <td>0.009992</td>\n",
       "    </tr>\n",
       "    <tr>\n",
       "      <th>Savings_balance</th>\n",
       "      <td>0.112433</td>\n",
       "      <td>1.000000</td>\n",
       "      <td>0.011161</td>\n",
       "      <td>0.022387</td>\n",
       "      <td>-0.013663</td>\n",
       "      <td>-0.049546</td>\n",
       "      <td>0.029582</td>\n",
       "      <td>0.027823</td>\n",
       "    </tr>\n",
       "    <tr>\n",
       "      <th>Date_Contacted</th>\n",
       "      <td>-0.000775</td>\n",
       "      <td>0.011161</td>\n",
       "      <td>1.000000</td>\n",
       "      <td>-0.018523</td>\n",
       "      <td>0.137017</td>\n",
       "      <td>0.078658</td>\n",
       "      <td>-0.059037</td>\n",
       "      <td>-0.056071</td>\n",
       "    </tr>\n",
       "    <tr>\n",
       "      <th>Call_Duration</th>\n",
       "      <td>-0.000002</td>\n",
       "      <td>0.022387</td>\n",
       "      <td>-0.018523</td>\n",
       "      <td>1.000000</td>\n",
       "      <td>-0.041779</td>\n",
       "      <td>0.045902</td>\n",
       "      <td>-0.026778</td>\n",
       "      <td>0.773894</td>\n",
       "    </tr>\n",
       "    <tr>\n",
       "      <th>Num_Calls_made</th>\n",
       "      <td>-0.005378</td>\n",
       "      <td>-0.013663</td>\n",
       "      <td>0.137017</td>\n",
       "      <td>-0.041779</td>\n",
       "      <td>1.000000</td>\n",
       "      <td>0.131136</td>\n",
       "      <td>-0.049733</td>\n",
       "      <td>-0.311155</td>\n",
       "    </tr>\n",
       "    <tr>\n",
       "      <th>Days_since_last_contact</th>\n",
       "      <td>-0.032652</td>\n",
       "      <td>-0.049546</td>\n",
       "      <td>0.078658</td>\n",
       "      <td>0.045902</td>\n",
       "      <td>0.131136</td>\n",
       "      <td>1.000000</td>\n",
       "      <td>-0.614164</td>\n",
       "      <td>-0.019008</td>\n",
       "    </tr>\n",
       "    <tr>\n",
       "      <th>Num-calls_made_earlier</th>\n",
       "      <td>0.020146</td>\n",
       "      <td>0.029582</td>\n",
       "      <td>-0.059037</td>\n",
       "      <td>-0.026778</td>\n",
       "      <td>-0.049733</td>\n",
       "      <td>-0.614164</td>\n",
       "      <td>1.000000</td>\n",
       "      <td>-0.010193</td>\n",
       "    </tr>\n",
       "    <tr>\n",
       "      <th>Duration_per_Call</th>\n",
       "      <td>0.009992</td>\n",
       "      <td>0.027823</td>\n",
       "      <td>-0.056071</td>\n",
       "      <td>0.773894</td>\n",
       "      <td>-0.311155</td>\n",
       "      <td>-0.019008</td>\n",
       "      <td>-0.010193</td>\n",
       "      <td>1.000000</td>\n",
       "    </tr>\n",
       "  </tbody>\n",
       "</table>\n",
       "</div>"
      ],
      "text/plain": [
       "                              age  Savings_balance  Date_Contacted  \\\n",
       "age                      1.000000         0.112433       -0.000775   \n",
       "Savings_balance          0.112433         1.000000        0.011161   \n",
       "Date_Contacted          -0.000775         0.011161        1.000000   \n",
       "Call_Duration           -0.000002         0.022387       -0.018523   \n",
       "Num_Calls_made          -0.005378        -0.013663        0.137017   \n",
       "Days_since_last_contact -0.032652        -0.049546        0.078658   \n",
       "Num-calls_made_earlier   0.020146         0.029582       -0.059037   \n",
       "Duration_per_Call        0.009992         0.027823       -0.056071   \n",
       "\n",
       "                         Call_Duration  Num_Calls_made  \\\n",
       "age                          -0.000002       -0.005378   \n",
       "Savings_balance               0.022387       -0.013663   \n",
       "Date_Contacted               -0.018523        0.137017   \n",
       "Call_Duration                 1.000000       -0.041779   \n",
       "Num_Calls_made               -0.041779        1.000000   \n",
       "Days_since_last_contact       0.045902        0.131136   \n",
       "Num-calls_made_earlier       -0.026778       -0.049733   \n",
       "Duration_per_Call             0.773894       -0.311155   \n",
       "\n",
       "                         Days_since_last_contact  Num-calls_made_earlier  \\\n",
       "age                                    -0.032652                0.020146   \n",
       "Savings_balance                        -0.049546                0.029582   \n",
       "Date_Contacted                          0.078658               -0.059037   \n",
       "Call_Duration                           0.045902               -0.026778   \n",
       "Num_Calls_made                          0.131136               -0.049733   \n",
       "Days_since_last_contact                 1.000000               -0.614164   \n",
       "Num-calls_made_earlier                 -0.614164                1.000000   \n",
       "Duration_per_Call                      -0.019008               -0.010193   \n",
       "\n",
       "                         Duration_per_Call  \n",
       "age                               0.009992  \n",
       "Savings_balance                   0.027823  \n",
       "Date_Contacted                   -0.056071  \n",
       "Call_Duration                     0.773894  \n",
       "Num_Calls_made                   -0.311155  \n",
       "Days_since_last_contact          -0.019008  \n",
       "Num-calls_made_earlier           -0.010193  \n",
       "Duration_per_Call                 1.000000  "
      ]
     },
     "execution_count": 30,
     "metadata": {},
     "output_type": "execute_result"
    }
   ],
   "source": [
    "# Correlation between two numerical variables\n",
    "bank.corr()"
   ]
  },
  {
   "cell_type": "code",
   "execution_count": 31,
   "id": "28e48a0a",
   "metadata": {},
   "outputs": [
    {
     "name": "stdout",
     "output_type": "stream",
     "text": [
      "age\n",
      "Outliers: [85, 90, 85, 83, 83, 77, 77, 78, 95, 78, 85, 83, 79, 82, 79, 82, 77, 86, 79, 83, 77, 84, 83, 77, 77, 87, 92, 78, 82, 77, 81, 80, 87, 82, 77, 81, 78, 80, 86, 79, 79, 81, 84, 87, 85, 79, 92, 77, 81, 80, 77, 78, 80, 77, 82, 80, 78, 90, 83, 80, 82, 80, 84, 86, 77, 77, 80, 77, 78, 84, 78, 80, 80, 79, 86, 93, 82, 82, 77, 93, 77, 80, 84, 78, 81, 81, 77, 78, 77, 77, 77, 78, 77, 79, 78, 80, 78, 79, 77, 79, 78, 88, 77, 85, 78, 80, 82, 77, 78, 78, 81, 77, 80, 80, 80, 77, 81, 87, 81, 78, 82, 83, 77, 77, 89, 80, 77, 77, 88, 77, 78, 86]\n",
      "Number of Outliers: 132\n",
      "None\n",
      "Savings_balance\n",
      "Outliers: [12956.0, 14481.0, 14282.0, 34646.0, 17297.0, 12026.0, 12857.0, 11887.0, 12737.0, 11462.0, 20138.0, 18508.0, 12519.0, 22520.0, 12857.0, 12114.0, 11862.0, 23878.0, 11385.0, 11891.0, 12039.0, 13546.0, 36252.0, 17924.0, 12198.0, 13094.0, 23878.0, 17964.0, 15161.0, 27624.0, 22086.0, 20585.0, 14533.0, 12956.0, 18016.0, 19317.0, 52587.0, 27696.0, 13014.0, 12972.0, 11862.0, 11262.0, 24277.0, 17964.0, 14220.0, 12569.0, 20585.0, 12039.0, 14646.0, 22867.0, 11891.0, 81204.0, 11303.0, 18967.0, 13014.0, 27696.0, 52587.0, 12980.0, 81204.0, 12067.0, 29080.0, 12569.0, 31472.0, 14968.0, 11650.0, 12067.0, 27696.0, 12264.0, 11862.0, 15485.0, 18188.0, 22125.0, 45248.0, 11766.0, 12264.0, 11862.0, 23076.0, 29340.0, 26965.0, 15161.0, 12356.0, 13107.0, 13711.0, 32685.0, 11835.0, 11821.0, 18111.0, 19268.0, 13460.0, 27696.0, 15459.0, 12857.0, 12018.0, 14144.0, 20806.0, 12223.0, 22867.0, 20718.0, 11650.0, 13338.0, 11528.0, 17924.0, 15578.0, 19447.0, 21522.0, 15474.0, 13578.0, 11222.0, 14930.0, 12531.0, 11766.0, 11431.0, 20011.0, 19343.0, 37127.0, 13156.0, 15341.0, 11265.0, 22755.0, 12848.0, 18558.0, 23592.0, 24450.0, 13849.0, 25290.0, 23495.0, 13901.0, 13774.0, 21614.0, 13658.0, 13711.0, 66653.0, 34230.0, 23189.0, 14850.0, 13054.0, 23421.0, 11494.0, 12180.0, 13410.0, 11254.0, 17361.0, 17672.0, 13818.0, 24780.0, 29184.0, 22815.0, 29207.0, 15341.0, 12276.0, 20928.0, 15841.0, 20723.0, 11862.0, 16992.0, 56831.0, 16397.0, 12159.0, 11219.0, 14522.0, 19358.0, 25947.0, 11854.0, 51439.0, 13107.0, 16786.0, 36935.0, 13342.0, 13578.0, 22867.0, 31868.0, 20772.0, 18777.0]\n",
      "Number of Outliers: 173\n",
      "None\n",
      "Date_Contacted\n",
      "Outliers: []\n",
      "Number of Outliers: 0\n",
      "None\n",
      "Call_Duration\n",
      "Outliers: [1467.0, 1574.0, 1689.0, 2087.0, 1692.0, 1721.0, 1553.0, 1423.0, 1867.0, 1622.0, 1882.0, 1777.0, 1681.0, 1697.0, 1560.0, 3094.0, 1560.0, 1730.0, 1980.0, 2456.0, 1449.0, 1446.0, 1558.0, 2653.0, 3881.0, 2769.0, 2621.0, 1528.0, 1540.0, 1574.0, 1663.0, 1617.0, 3183.0, 1439.0, 1426.0, 2029.0, 1499.0, 1973.0, 1649.0, 1669.0, 1806.0, 1656.0, 1584.0, 1448.0, 1877.0, 1545.0, 1833.0, 1508.0, 1484.0, 1441.0, 1491.0, 1602.0, 1492.0, 1422.0, 1946.0, 2015.0, 1448.0, 2516.0, 1721.0, 1488.0, 1536.0, 1471.0, 1456.0, 1613.0, 1735.0, 1842.0, 1871.0, 1576.0, 1503.0, 1532.0, 1877.0, 1642.0, 2372.0, 3253.0, 2016.0, 1789.0, 1978.0, 1855.0, 1437.0, 1554.0, 1792.0, 1468.0, 1720.0, 1503.0, 1490.0, 1598.0, 1571.0, 1555.0, 1451.0, 1473.0, 1917.0, 1451.0, 2770.0, 1776.0, 1420.0, 1425.0, 1776.0, 1416.0, 1579.0, 2775.0, 1916.0, 1661.0, 1541.0, 1971.0, 3076.0, 1665.0, 1691.0, 1594.0, 1579.0, 1463.0, 1550.0, 1817.0, 1489.0, 1516.0, 1448.0, 1514.0, 1531.0, 1975.0, 1723.0, 1871.0, 1460.0, 1543.0, 1452.0, 1702.0, 1707.0, 1628.0, 2062.0, 1616.0, 1835.0, 1422.0, 1472.0, 1440.0, 1556.0, 1573.0, 2330.0, 1467.0, 2028.0, 1623.0, 1677.0, 1424.0, 1540.0, 1500.0, 1608.0, 1865.0, 3102.0, 1461.0, 1579.0, 1446.0, 1597.0, 1600.0, 1635.0, 1417.0, 1469.0, 1512.0, 1486.0, 2301.0, 1422.0, 1658.0, 1502.0, 1555.0, 1767.0, 1603.0, 1532.0, 2692.0, 1790.0, 1447.0, 2231.0, 1806.0, 2078.0, 2016.0, 2184.0, 2420.0, 1970.0, 1960.0, 1576.0, 1528.0, 1962.0, 1486.0, 1422.0, 1598.0, 2453.0, 2093.0, 1710.0, 1720.0, 1529.0, 1855.0, 2053.0, 1426.0, 1735.0, 1438.0, 1740.0, 1434.0, 3284.0, 1473.0, 1425.0, 1567.0, 1476.0, 2027.0, 1521.0, 1504.0, 1812.0]\n",
      "Number of Outliers: 201\n",
      "None\n",
      "Num_Calls_made\n",
      "Outliers: [11, 15, 12, 12, 14, 15, 15, 11, 11, 11, 11, 11, 24, 13, 17, 13, 29, 17, 13, 14, 14, 11, 11, 13, 12, 17, 21, 13, 17, 11, 11, 11, 11, 17, 17, 14, 13, 15, 11, 12, 20, 16, 16, 11, 32, 11, 11, 19, 11, 13, 13, 25, 17, 11, 15, 16, 24, 14, 13, 12, 14, 12, 12, 11, 22, 11, 13, 12, 24, 13, 14, 11, 19, 15, 12, 19, 13, 21, 43, 11, 19, 13, 12, 25, 12, 11, 18, 41, 13, 12, 11, 32, 43, 22, 16, 17, 11, 13, 15, 11, 13, 20, 16, 13, 16, 63, 17, 12, 12, 12, 27, 30, 14, 13, 12, 15, 18, 13, 15, 12, 20, 13, 17, 11, 13, 11, 15, 14, 18, 14, 11, 16, 20, 21, 21, 26, 24, 24, 13, 12, 25, 29, 12, 23, 18, 12, 19, 11, 17, 12, 18, 14, 18, 13, 17, 13, 15, 12, 28, 26, 23, 26, 12, 23, 12, 18, 11, 17, 11, 13, 12, 11, 21, 11, 33, 11, 18, 13, 11, 13, 13, 12, 22, 11, 11, 31, 14, 14, 11, 21, 21, 12, 22, 13, 13, 15, 14, 16, 16, 11, 21, 12, 14, 30, 15, 30, 30, 20, 12, 17]\n",
      "Number of Outliers: 210\n",
      "None\n",
      "Days_since_last_contact\n",
      "Outliers: []\n",
      "Number of Outliers: 0\n",
      "None\n",
      "Num-calls_made_earlier\n",
      "Outliers: [10, 9, 29, 13, 17, 8, 9, 8, 8, 11, 30, 22, 13, 11, 58, 8, 8, 21, 14, 8, 26, 10, 13, 8, 12, 8, 8, 8, 12, 8, 10, 17, 8, 9, 19, 9, 9, 10, 9, 10, 12, 8, 13, 9, 11, 10, 11, 10, 8, 8, 8, 11, 11, 8, 10, 10, 10, 8, 9, 11, 12, 12, 9, 8, 10, 13, 19, 8, 9, 10, 8, 55, 9, 10, 10, 8, 8, 8, 17, 11, 9, 11, 10, 23, 8, 8, 9, 8, 10, 15, 9, 8, 14, 8, 20, 10, 10, 8, 9, 14, 9, 13, 8, 11, 11, 13, 10, 14, 14, 10, 10, 11, 13, 10, 10, 8, 8, 9, 9, 9, 12, 9, 9, 8, 12, 10, 12, 9, 9, 11, 12, 13, 8, 8, 8, 9, 11, 12, 8, 8, 11, 10, 10, 10, 27, 9, 8, 15, 13, 16, 11, 9, 17, 8, 13, 9, 12, 41, 17, 11, 8, 8, 17, 11, 8, 8, 9, 8, 27, 8, 17, 11, 8, 8, 9, 11, 17, 9, 12, 10, 9, 8, 12, 17, 40, 11, 17, 8, 16, 15, 8, 9, 9, 8, 8, 11, 14, 8, 10, 19, 28, 18, 8, 15, 8, 23, 37, 10, 15, 12, 11, 20, 19, 9, 12, 8, 8, 17, 12, 8]\n",
      "Number of Outliers: 220\n",
      "None\n"
     ]
    }
   ],
   "source": [
    "def Zscore_outlier(df):\n",
    "    out=[]\n",
    "    m = np.mean(df)\n",
    "    sd = np.std(df)\n",
    "    for i in df: \n",
    "        z = (i-m)/sd\n",
    "        if np.abs(z) > 3: \n",
    "            out.append(i)\n",
    "    print(\"Outliers:\",out)\n",
    "    print(\"Number of Outliers:\",len(out))\n",
    "    \n",
    "for var in num_columns: \n",
    "    print(var)\n",
    "    print(Zscore_outlier(bank[var]))"
   ]
  },
  {
   "cell_type": "code",
   "execution_count": 32,
   "id": "235f8fb0",
   "metadata": {},
   "outputs": [
    {
     "name": "stdout",
     "output_type": "stream",
     "text": [
      "age\n",
      "Outliers: []\n",
      "Number of Outliers: 0\n",
      "None\n",
      "Savings_balance\n",
      "Outliers: [7180.0, 10576.0, 6840.0, 12956.0, 7606.0, 14481.0, 7561.0, 11008.0, 9103.0, 9004.0, 10685.0, 14282.0, 7098.0, 6822.0, 7138.0, 34646.0, 10052.0, 9827.0, 8029.0, 8163.0, 7135.0, 17297.0, 7084.0, 8749.0, 10250.0, 12026.0, 7506.0, 6619.0, 12857.0, 11887.0, 8781.0, 12737.0, 6993.0, 11462.0, 6843.0, 20138.0, 7773.0, 6888.0, 7119.0, 18508.0, 12519.0, 7049.0, 7195.0, 8629.0, 22520.0, 7724.0, 10613.0, 12857.0, 12114.0, 11862.0, 7702.0, 23878.0, 7613.0, 8345.0, 10180.0, 8929.0, 8089.0, 8866.0, 10185.0, 11385.0, 9601.0, 9676.0, 11891.0, 12039.0, 11174.0, 13546.0, 6807.0, 10086.0, 10925.0, 9480.0, 8556.0, 7707.0, 7468.0, 6657.0, 36252.0, 10252.0, 9367.0, 9407.0, 9328.0, 7506.0, 7279.0, 17924.0, 8180.0, 8781.0, 7863.0, 7066.0, 6567.0, 7290.0, 12198.0, 7702.0, 13094.0, 23878.0, 17964.0, 7818.0, 7968.0, 15161.0, 7019.0, 27624.0, 22086.0, 8295.0, 6574.0, 8866.0, 10346.0, 20585.0, 14533.0, 7443.0, 10583.0, 12956.0, 8603.0, 18016.0, 7005.0, 19317.0, 6791.0, 10532.0, 9064.0, 6983.0, 7050.0, 10185.0, 52587.0, 10884.0, 6991.0, 27696.0, 13014.0, 9367.0, 12972.0, 9131.0, 10905.0, 10596.0, 9962.0, 11862.0, 11262.0, 24277.0, 17964.0, 7968.0, 6574.0, 6538.0, 14220.0, 12569.0, 7331.0, 10943.0, 10252.0, 20585.0, 10583.0, 6784.0, 8295.0, 12039.0, 7111.0, 6481.0, 7529.0, 6807.0, 6746.0, 8603.0, 10925.0, 14646.0, 11115.0, 6900.0, 8278.0, 7458.0, 8729.0, 10332.0, 10541.0, 10861.0, 22867.0, 9366.0, 6746.0, 9367.0, 9421.0, 11891.0, 10250.0, 8304.0, 7105.0, 81204.0, 11303.0, 6513.0, 8556.0, 7005.0, 18967.0, 7802.0, 6571.0, 10541.0, 9367.0, 13014.0, 27696.0, 10185.0, 52587.0, 7620.0, 6610.0, 7766.0, 7585.0, 12980.0, 6771.0, 10583.0, 81204.0, 7929.0, 9001.0, 7529.0, 11115.0, 12067.0, 7802.0, 8000.0, 9367.0, 8103.0, 8304.0, 8304.0, 29080.0, 12569.0, 6651.0, 9299.0, 31472.0, 14968.0, 10861.0, 11650.0, 12067.0, 27696.0, 8304.0, 7968.0, 6771.0, 8304.0, 6551.0, 12264.0, 11862.0, 15485.0, 7050.0, 8165.0, 18188.0, 22125.0, 45248.0, 10281.0, 7918.0, 11766.0, 7608.0, 12264.0, 11115.0, 11862.0, 8897.0, 23076.0, 7459.0, 29340.0, 26965.0, 7441.0, 6748.0, 6840.0, 8491.0, 7895.0, 15161.0, 6529.0, 12356.0, 8332.0, 13107.0, 11008.0, 7554.0, 7560.0, 11115.0, 8828.0, 7968.0, 7005.0, 8000.0, 13711.0, 7433.0, 9883.0, 8990.0, 32685.0, 11835.0, 11821.0, 8648.0, 18111.0, 6997.0, 19268.0, 8229.0, 7103.0, 8304.0, 8535.0, 10287.0, 10861.0, 6728.0, 10884.0, 7192.0, 13460.0, 27696.0, 15459.0, 7803.0, 12857.0, 12018.0, 6542.0, 9228.0, 7050.0, 14144.0, 9314.0, 20806.0, 6831.0, 9756.0, 6728.0, 7944.0, 8121.0, 7687.0, 7132.0, 7007.0, 9447.0, 12223.0, 22867.0, 7102.0, 6739.0, 8023.0, 20718.0, 8876.0, 6596.0, 6904.0, 11650.0, 9645.0, 7503.0, 6714.0, 9916.0, 13338.0, 11528.0, 7298.0, 17924.0, 7177.0, 7378.0, 6958.0, 15578.0, 9072.0, 10786.0, 7668.0, 19447.0, 9216.0, 21522.0, 8422.0, 9569.0, 15474.0, 8403.0, 13578.0, 11222.0, 8494.0, 8016.0, 8919.0, 14930.0, 12531.0, 7702.0, 10438.0, 11766.0, 9851.0, 11431.0, 7752.0, 20011.0, 6766.0, 7735.0, 19343.0, 10218.0, 37127.0, 13156.0, 8564.0, 7100.0, 8319.0, 15341.0, 8876.0, 10787.0, 11265.0, 22755.0, 12848.0, 18558.0, 23592.0, 7934.0, 24450.0, 9326.0, 6835.0, 9713.0, 10635.0, 6835.0, 11016.0, 9051.0, 13849.0, 7503.0, 25290.0, 8226.0, 6551.0, 6512.0, 7369.0, 7649.0, 23495.0, 9224.0, 13901.0, 7426.0, 8298.0, 7602.0, 13774.0, 8785.0, 7831.0, 21614.0, 10655.0, 8982.0, 13658.0, 7863.0, 13711.0, 66653.0, 9994.0, 34230.0, 23189.0, 6979.0, 9214.0, 14850.0, 13054.0, 23421.0, 7408.0, 9301.0, 11494.0, 7944.0, 8918.0, 10086.0, 9324.0, 7832.0, 6637.0, 10984.0, 12180.0, 13410.0, 7264.0, 7816.0, 8267.0, 9192.0, 7876.0, 8837.0, 9324.0, 10041.0, 7845.0, 6981.0, 7296.0, 11254.0, 6798.0, 8417.0, 9710.0, 17361.0, 17672.0, 6570.0, 8784.0, 13818.0, 24780.0, 29184.0, 7641.0, 8564.0, 7867.0, 22815.0, 7811.0, 9374.0, 7984.0, 7780.0, 29207.0, 15341.0, 12276.0, 8044.0, 6929.0, 6791.0, 7336.0, 20928.0, 15841.0, 8725.0, 7051.0, 10269.0, 6971.0, 6690.0, 20723.0, 7010.0, 7067.0, 6507.0, 11862.0, 16992.0, 8514.0, 56831.0, 8669.0, 10005.0, 8379.0, 16397.0, 7313.0, 12159.0, 8806.0, 11219.0, 14522.0, 19358.0, 6641.0, 7747.0, 25947.0, 6619.0, 11854.0, 10465.0, 51439.0, 13107.0, 10378.0, 6659.0, 7162.0, 6839.0, 16786.0, 7628.0, 8097.0, 36935.0, 13342.0, 13578.0, 22867.0, 6699.0, 6836.0, 6525.0, 9317.0, 8278.0, 31868.0, 10721.0, 6507.0, 8590.0, 8486.0, 20772.0, 6691.0, 8585.0, 18777.0, 6718.0]\n",
      "Number of Outliers: 510\n",
      "None\n",
      "Date_Contacted\n",
      "Outliers: []\n",
      "Number of Outliers: 0\n",
      "None\n",
      "Call_Duration\n",
      "Outliers: [1574.0, 1689.0, 2087.0, 1692.0, 1721.0, 1867.0, 1622.0, 1882.0, 1777.0, 1681.0, 1697.0, 3094.0, 1730.0, 1980.0, 2456.0, 2653.0, 3881.0, 2769.0, 2621.0, 1574.0, 1663.0, 1617.0, 3183.0, 2029.0, 1973.0, 1649.0, 1669.0, 1806.0, 1656.0, 1584.0, 1877.0, 1833.0, 1602.0, 1946.0, 2015.0, 2516.0, 1721.0, 1613.0, 1735.0, 1842.0, 1871.0, 1576.0, 1877.0, 1642.0, 2372.0, 3253.0, 2016.0, 1789.0, 1978.0, 1855.0, 1792.0, 1720.0, 1598.0, 1571.0, 1917.0, 2770.0, 1776.0, 1776.0, 1579.0, 2775.0, 1916.0, 1661.0, 1971.0, 3076.0, 1665.0, 1691.0, 1594.0, 1579.0, 1817.0, 1975.0, 1723.0, 1871.0, 1702.0, 1707.0, 1628.0, 2062.0, 1616.0, 1835.0, 1573.0, 2330.0, 2028.0, 1623.0, 1677.0, 1608.0, 1865.0, 3102.0, 1579.0, 1597.0, 1600.0, 1635.0, 2301.0, 1658.0, 1767.0, 1603.0, 2692.0, 1790.0, 2231.0, 1806.0, 2078.0, 2016.0, 2184.0, 2420.0, 1970.0, 1960.0, 1576.0, 1962.0, 1598.0, 2453.0, 2093.0, 1710.0, 1720.0, 1855.0, 2053.0, 1735.0, 1740.0, 3284.0, 2027.0, 1812.0]\n",
      "Number of Outliers: 118\n",
      "None\n",
      "Num_Calls_made\n",
      "Outliers: [11, 10, 15, 12, 12, 14, 15, 15, 11, 10, 11, 10, 11, 10, 11, 11, 24, 13, 17, 13, 29, 17, 13, 10, 14, 14, 10, 11, 10, 11, 13, 12, 17, 10, 21, 10, 13, 17, 11, 10, 11, 11, 11, 17, 17, 14, 13, 10, 15, 11, 12, 20, 16, 16, 11, 10, 10, 10, 32, 11, 11, 19, 11, 13, 10, 10, 10, 13, 25, 17, 10, 10, 11, 15, 16, 10, 10, 10, 24, 14, 10, 13, 12, 14, 10, 12, 12, 11, 22, 11, 13, 10, 12, 24, 13, 14, 11, 19, 15, 12, 19, 13, 21, 43, 10, 11, 19, 13, 12, 25, 12, 11, 18, 41, 13, 12, 11, 32, 43, 22, 16, 10, 17, 11, 10, 10, 13, 10, 10, 10, 15, 11, 13, 20, 16, 13, 16, 63, 17, 10, 12, 12, 12, 27, 30, 14, 10, 13, 12, 15, 18, 13, 15, 10, 12, 20, 13, 10, 10, 17, 11, 13, 11, 15, 14, 18, 14, 11, 16, 10, 10, 20, 21, 21, 26, 24, 24, 13, 12, 25, 10, 29, 12, 10, 23, 18, 12, 10, 10, 19, 10, 11, 17, 10, 12, 18, 14, 18, 13, 17, 13, 15, 12, 28, 10, 26, 23, 26, 12, 23, 12, 18, 11, 17, 10, 11, 13, 12, 11, 21, 11, 33, 11, 18, 10, 13, 11, 13, 10, 13, 10, 12, 22, 10, 11, 11, 31, 14, 14, 11, 21, 21, 12, 22, 13, 13, 15, 14, 16, 16, 11, 21, 12, 14, 30, 15, 30, 30, 20, 10, 12, 17]\n",
      "Number of Outliers: 262\n",
      "None\n",
      "Days_since_last_contact\n",
      "Outliers: []\n",
      "Number of Outliers: 0\n",
      "None\n",
      "Num-calls_made_earlier\n",
      "Outliers: [10, 7, 9, 5, 7, 29, 6, 13, 5, 17, 7, 8, 6, 9, 5, 6, 7, 5, 6, 5, 8, 5, 5, 6, 8, 7, 6, 5, 11, 6, 30, 5, 6, 6, 5, 6, 22, 13, 11, 7, 58, 5, 8, 5, 6, 6, 6, 6, 7, 7, 7, 8, 6, 21, 5, 14, 8, 7, 5, 5, 6, 5, 26, 6, 7, 5, 5, 6, 5, 10, 5, 5, 5, 6, 13, 5, 8, 12, 5, 5, 8, 7, 5, 6, 5, 5, 5, 5, 5, 5, 5, 8, 5, 7, 7, 8, 7, 12, 8, 10, 5, 7, 5, 6, 6, 5, 17, 8, 5, 5, 5, 9, 5, 19, 9, 5, 9, 10, 9, 10, 6, 5, 12, 6, 6, 5, 5, 8, 7, 5, 13, 5, 6, 5, 5, 5, 7, 6, 6, 9, 6, 5, 6, 7, 5, 11, 6, 7, 6, 6, 5, 10, 6, 11, 5, 5, 5, 6, 7, 6, 6, 6, 6, 6, 10, 6, 6, 8, 7, 5, 8, 5, 5, 5, 7, 8, 11, 11, 7, 5, 8, 6, 10, 5, 5, 10, 5, 5, 7, 7, 10, 5, 6, 5, 8, 7, 9, 7, 11, 5, 5, 12, 6, 12, 6, 6, 9, 8, 10, 6, 13, 19, 7, 5, 8, 9, 6, 10, 7, 6, 8, 55, 6, 9, 5, 7, 6, 7, 10, 5, 10, 5, 8, 8, 8, 7, 7, 17, 5, 11, 9, 11, 10, 23, 8, 6, 8, 7, 9, 6, 8, 6, 10, 15, 9, 8, 14, 7, 6, 8, 6, 7, 7, 20, 10, 10, 5, 8, 9, 5, 5, 14, 6, 5, 9, 5, 5, 13, 5, 8, 7, 6, 7, 7, 5, 11, 6, 11, 7, 13, 10, 14, 7, 7, 6, 14, 10, 5, 5, 5, 10, 6, 11, 6, 5, 5, 13, 10, 6, 7, 5, 10, 7, 5, 8, 5, 6, 8, 9, 9, 6, 6, 9, 12, 5, 7, 9, 9, 8, 6, 12, 6, 10, 7, 6, 5, 12, 5, 7, 6, 9, 5, 6, 9, 7, 5, 11, 6, 5, 5, 6, 12, 6, 6, 6, 5, 7, 13, 5, 7, 8, 5, 5, 8, 5, 8, 5, 5, 6, 5, 5, 5, 5, 5, 5, 7, 6, 5, 5, 5, 9, 11, 6, 5, 12, 5, 8, 6, 5, 5, 8, 5, 7, 11, 5, 10, 6, 5, 5, 10, 6, 10, 27, 9, 8, 5, 15, 13, 6, 6, 7, 16, 5, 11, 9, 17, 6, 7, 7, 5, 6, 5, 8, 6, 6, 6, 13, 7, 9, 5, 12, 41, 7, 17, 6, 11, 6, 5, 8, 7, 5, 7, 7, 5, 6, 5, 6, 7, 8, 17, 5, 6, 11, 5, 7, 6, 8, 5, 8, 7, 6, 5, 9, 7, 8, 27, 8, 7, 7, 6, 6, 17, 6, 6, 11, 6, 7, 8, 6, 6, 8, 6, 9, 7, 11, 5, 17, 9, 12, 7, 10, 9, 8, 5, 12, 5, 5, 5, 6, 17, 5, 5, 40, 11, 6, 17, 8, 16, 5, 5, 5, 6, 5, 15, 7, 5, 7, 5, 5, 8, 9, 9, 7, 8, 8, 6, 11, 14, 8, 6, 6, 5, 5, 10, 19, 5, 28, 5, 18, 8, 6, 5, 7, 15, 7, 5, 8, 5, 23, 5, 37, 10, 15, 6, 12, 5, 5, 5, 6, 11, 5, 20, 5, 19, 5, 9, 6, 5, 12, 8, 6, 8, 7, 17, 12, 6, 8, 5, 5]\n",
      "Number of Outliers: 579\n",
      "None\n"
     ]
    }
   ],
   "source": [
    "def iqr_outliers(df):\n",
    "    out=[]\n",
    "    q1 = df.quantile(0.25)\n",
    "    q3 = df.quantile(0.75)\n",
    "    iqr = q3-q1\n",
    "    Lower_tail = q1 - 3 * iqr\n",
    "    Upper_tail = q3 + 3 * iqr\n",
    "    for i in df:\n",
    "        if i > Upper_tail or i < Lower_tail:\n",
    "            out.append(i)\n",
    "    print(\"Outliers:\",out)\n",
    "    print(\"Number of Outliers:\",len(out))\n",
    "    \n",
    "for var in num_columns:\n",
    "    print(var)\n",
    "    print(iqr_outliers(bank[var]))"
   ]
  },
  {
   "cell_type": "code",
   "execution_count": 33,
   "id": "2fb342b2",
   "metadata": {},
   "outputs": [
    {
     "name": "stdout",
     "output_type": "stream",
     "text": [
      "age\n",
      "q1: 21.0 q3: 80.0\n",
      "Outliers: [85, 90, 85, 83, 83, 19, 20, 95, 85, 20, 83, 82, 20, 19, 20, 18, 20, 18, 82, 20, 86, 18, 83, 84, 83, 87, 19, 92, 82, 81, 87, 20, 82, 81, 18, 86, 81, 84, 20, 87, 85, 92, 81, 20, 18, 82, 20, 90, 83, 19, 82, 84, 86, 19, 19, 18, 84, 19, 86, 19, 93, 82, 82, 93, 84, 20, 81, 81, 18, 19, 20, 20, 20, 19, 19, 20, 88, 85, 82, 18, 81, 20, 20, 20, 81, 87, 81, 19, 82, 83, 89, 19, 20, 88, 20, 86]\n",
      "Number of Outliers: 96\n",
      "None\n",
      "Savings_balance\n",
      "q1: 0.0 q3: 20038.30500000002\n",
      "Outliers: [34646.0, 20138.0, 22520.0, 23878.0, 36252.0, 23878.0, 27624.0, 22086.0, 20585.0, 52587.0, 27696.0, 24277.0, 20585.0, 22867.0, 81204.0, 27696.0, 52587.0, 81204.0, 29080.0, 31472.0, 27696.0, 22125.0, 45248.0, 23076.0, 29340.0, 26965.0, 32685.0, 27696.0, 20806.0, 22867.0, 20718.0, 21522.0, 37127.0, 22755.0, 23592.0, 24450.0, 25290.0, 23495.0, 21614.0, 66653.0, 34230.0, 23189.0, 23421.0, 24780.0, 29184.0, 22815.0, 29207.0, 20928.0, 20723.0, 56831.0, 25947.0, 51439.0, 36935.0, 22867.0, 31868.0, 20772.0]\n",
      "Number of Outliers: 56\n",
      "None\n",
      "Date_Contacted\n",
      "q1: 1.0 q3: 31.0\n",
      "Outliers: []\n",
      "Number of Outliers: 0\n",
      "None\n",
      "Call_Duration\n",
      "q1: 10.0 q3: 1820.4400000000023\n",
      "Outliers: [2087.0, 1867.0, 1882.0, 3094.0, 1980.0, 2456.0, 2653.0, 3881.0, 2769.0, 2621.0, 3183.0, 2029.0, 1973.0, 1877.0, 1833.0, 1946.0, 2015.0, 2516.0, 1842.0, 1871.0, 1877.0, 2372.0, 3253.0, 2016.0, 1978.0, 1855.0, 8.0, 1917.0, 2770.0, 2775.0, 1916.0, 1971.0, 3076.0, 1975.0, 1871.0, 2062.0, 1835.0, 2330.0, 2028.0, 1865.0, 3102.0, 2301.0, 2692.0, 2231.0, 2078.0, 2016.0, 2184.0, 2420.0, 1970.0, 1960.0, 1962.0, 2453.0, 2093.0, 8.0, 8.0, 8.0, 9.0, 1855.0, 7.0, 2053.0, 8.0, 7.0, 7.0, 9.0, 9.0, 7.0, 7.0, 8.0, 8.0, 5.0, 7.0, 8.0, 8.0, 6.0, 8.0, 9.0, 3284.0, 7.0, 7.0, 6.0, 9.0, 5.0, 7.0, 8.0, 6.0, 6.0, 7.0, 7.0, 8.0, 9.0, 2027.0, 7.0, 7.0, 7.0, 7.0, 8.0, 6.0, 6.0, 8.0, 8.0, 5.0, 9.0, 9.0, 9.0, 5.0, 8.0, 7.0, 9.0]\n",
      "Number of Outliers: 108\n",
      "None\n",
      "Num_Calls_made\n",
      "q1: 1.0 q3: 18.0\n",
      "Outliers: [24, 29, 21, 20, 32, 19, 25, 24, 22, 24, 19, 19, 21, 43, 19, 25, 41, 32, 43, 22, 20, 63, 27, 30, 20, 20, 21, 21, 26, 24, 24, 25, 29, 23, 19, 28, 26, 23, 26, 23, 21, 33, 22, 31, 21, 21, 22, 21, 30, 30, 30, 20]\n",
      "Number of Outliers: 52\n",
      "None\n",
      "Days_since_last_contact\n",
      "q1: 30.570000000000007 q3: 1000.0\n",
      "Outliers: [27.0, 10.0, 2.0, 9.0, 4.0, 6.0, 9.0, 13.0, 13.0, 22.0, 9.0, 17.0, 10.0, 21.0, 10.0, 28.0, 20.0, 1.0, 1.0, 1.0, 13.0, 1.0, 29.0, 1.0, 2.0, 14.0, 10.0, 1.0, 28.0, 14.0, 5.0, 9.0, 2.0, 2.0, 6.0, 15.0, 8.0, 9.0, 6.0, 2.0, 2.0, 2.0, 1.0, 9.0, 21.0, 12.0, 1.0, 8.0, 14.0, 14.0, 9.0, 2.0, 5.0, 28.0, 24.0, 17.0]\n",
      "Number of Outliers: 56\n",
      "None\n",
      "Num-calls_made_earlier\n",
      "q1: 0.0 q3: 13.0\n",
      "Outliers: [29, 17, 30, 22, 58, 21, 14, 26, 17, 19, 19, 55, 17, 23, 15, 14, 20, 14, 14, 14, 27, 15, 16, 17, 41, 17, 17, 27, 17, 17, 17, 40, 17, 16, 15, 14, 19, 28, 18, 15, 23, 37, 15, 20, 19, 17]\n",
      "Number of Outliers: 46\n",
      "None\n"
     ]
    }
   ],
   "source": [
    "def Winsorization_outliers(df):\n",
    "    out=[]\n",
    "    q1 = df.quantile(0.005)\n",
    "    q3 = df.quantile(0.995)\n",
    "    for i in df:\n",
    "        if i > q3 or i < q1:\n",
    "            out.append(i)\n",
    "    print(var)\n",
    "    print(\"q1:\", q1, \"q3:\",q3)\n",
    "    print(\"Outliers:\",out)\n",
    "    print(\"Number of Outliers:\",len(out))\n",
    "\n",
    "for var in num_columns:        \n",
    "    print(Winsorization_outliers(bank[var]))   "
   ]
  },
  {
   "cell_type": "code",
   "execution_count": 34,
   "id": "cec90de1",
   "metadata": {},
   "outputs": [
    {
     "ename": "AttributeError",
     "evalue": "module 'scipy.stats' has no attribute 'median_absolute_deviation'",
     "output_type": "error",
     "traceback": [
      "\u001b[1;31m---------------------------------------------------------------------------\u001b[0m",
      "\u001b[1;31mAttributeError\u001b[0m                            Traceback (most recent call last)",
      "Input \u001b[1;32mIn [34]\u001b[0m, in \u001b[0;36m<cell line: 12>\u001b[1;34m()\u001b[0m\n\u001b[0;32m     10\u001b[0m     \u001b[38;5;28mprint\u001b[39m(\u001b[38;5;124m\"\u001b[39m\u001b[38;5;124mNumber of Outliers:\u001b[39m\u001b[38;5;124m\"\u001b[39m,\u001b[38;5;28mlen\u001b[39m(out))\n\u001b[0;32m     12\u001b[0m \u001b[38;5;28;01mfor\u001b[39;00m var \u001b[38;5;129;01min\u001b[39;00m num_columns: \n\u001b[1;32m---> 13\u001b[0m     \u001b[38;5;28mprint\u001b[39m(\u001b[43mZRscore_outlier\u001b[49m\u001b[43m(\u001b[49m\u001b[43mbank\u001b[49m\u001b[43m[\u001b[49m\u001b[43mvar\u001b[49m\u001b[43m]\u001b[49m\u001b[43m)\u001b[49m)\n",
      "Input \u001b[1;32mIn [34]\u001b[0m, in \u001b[0;36mZRscore_outlier\u001b[1;34m(df)\u001b[0m\n\u001b[0;32m      2\u001b[0m out\u001b[38;5;241m=\u001b[39m[]\n\u001b[0;32m      3\u001b[0m med \u001b[38;5;241m=\u001b[39m np\u001b[38;5;241m.\u001b[39mmedian(df)\n\u001b[1;32m----> 4\u001b[0m ma \u001b[38;5;241m=\u001b[39m \u001b[43mstats\u001b[49m\u001b[38;5;241;43m.\u001b[39;49m\u001b[43mmedian_absolute_deviation\u001b[49m(df)\n\u001b[0;32m      5\u001b[0m \u001b[38;5;28;01mfor\u001b[39;00m i \u001b[38;5;129;01min\u001b[39;00m df: \n\u001b[0;32m      6\u001b[0m     z \u001b[38;5;241m=\u001b[39m (\u001b[38;5;241m0.6745\u001b[39m\u001b[38;5;241m*\u001b[39m(i\u001b[38;5;241m-\u001b[39mmed))\u001b[38;5;241m/\u001b[39m (np\u001b[38;5;241m.\u001b[39mmedian(ma))\n",
      "\u001b[1;31mAttributeError\u001b[0m: module 'scipy.stats' has no attribute 'median_absolute_deviation'"
     ]
    }
   ],
   "source": [
    "def ZRscore_outlier(df):\n",
    "    out=[]\n",
    "    med = np.median(df)\n",
    "    ma = stats.median_absolute_deviation(df)\n",
    "    for i in df: \n",
    "        z = (0.6745*(i-med))/ (np.median(ma))\n",
    "        if np.abs(z) > 5: \n",
    "            out.append(i)\n",
    "    print(\"Outliers:\",out)\n",
    "    print(\"Number of Outliers:\",len(out))\n",
    "    \n",
    "for var in num_columns: \n",
    "    print(ZRscore_outlier(bank[var]))"
   ]
  },
  {
   "cell_type": "code",
   "execution_count": null,
   "id": "e84d1279",
   "metadata": {},
   "outputs": [],
   "source": [
    "def grubbs_test(x):\n",
    "    n = len(x)\n",
    "    mean_x = np.mean(x)\n",
    "    sd_x = np.std(x)\n",
    "    numerator = max(abs(x-mean_x))\n",
    "    g_calculated = numerator/sd_x\n",
    "    print(\"Grubbs Calculated Value:\",g_calculated)\n",
    "    t_value = stats.t.ppf(1 - 0.05 / (2 * n), n - 2)\n",
    "    g_critical = ((n - 1) * np.sqrt(np.square(t_value))) / (np.sqrt(n) * np.sqrt(n - 2 + np.square(t_value)))\n",
    "    print(\"Grubbs Critical Value:\",g_critical)\n",
    "    if g_critical > g_calculated:\n",
    "        print(\"No outliers\\n\")\n",
    "    else:\n",
    "        print(\"Outliers Exist\\n\")\n",
    "        \n",
    "for var in num_columns: \n",
    "    print(grubbs_test(bank[var]))"
   ]
  },
  {
   "cell_type": "code",
   "execution_count": null,
   "id": "8d10c018",
   "metadata": {},
   "outputs": [],
   "source": [
    "# Multivariate Outliers\n",
    "\n",
    "from sklearn.cluster import DBSCAN\n",
    "def DB_outliers(df):\n",
    "    outlier_detection = DBSCAN(eps = 2, metric='euclidean', min_samples = 5)\n",
    "    clusters = outlier_detection.fit_predict(df.values.reshape(-1,1))\n",
    "    data = pd.DataFrame()\n",
    "    data['cluster'] = clusters\n",
    "    print(data['cluster'].value_counts().sort_values(ascending=False))\n",
    "    \n",
    "for var in num_columns: \n",
    "    print(var)\n",
    "    print(DB_outliers(bank[var]))"
   ]
  },
  {
   "cell_type": "code",
   "execution_count": null,
   "id": "203a3f82",
   "metadata": {},
   "outputs": [],
   "source": [
    "# Identifying outliers based on Random Forests\n",
    "\n",
    "from sklearn.ensemble import IsolationForest\n",
    "def Iso_outliers(df):\n",
    "    iso = IsolationForest(random_state = 1, contamination= 'auto')\n",
    "    preds = iso.fit_predict(df.values.reshape(-1,1))\n",
    "    data = pd.DataFrame()\n",
    "    data['cluster'] = preds\n",
    "    print(data['cluster'].value_counts().sort_values(ascending=False))\n",
    "    \n",
    "for var in num_columns: \n",
    "    Iso_outliers(bank[var])"
   ]
  },
  {
   "cell_type": "markdown",
   "id": "b1b21a52",
   "metadata": {},
   "source": [
    "## Visualizations"
   ]
  },
  {
   "cell_type": "code",
   "execution_count": null,
   "id": "a621386f",
   "metadata": {},
   "outputs": [],
   "source": [
    "# Numerical Columns - Univariate - Histogram with Density Plot\n",
    "for var in num_columns: \n",
    "    plt.figure()\n",
    "    sns.histplot(data = bank, x = var, kde = True, color='teal', alpha=0.6)\n",
    "    sns.kdeplot"
   ]
  },
  {
   "cell_type": "code",
   "execution_count": null,
   "id": "d7404b8e",
   "metadata": {},
   "outputs": [],
   "source": [
    "# Categorical Columns - Univariate - Simple Frequency Chart\n",
    "plt.figure(figsize=(15,8))\n",
    "for var in cat_columns: \n",
    "    plt.figure()\n",
    "    sns.countplot(data = bank, x = var)"
   ]
  },
  {
   "cell_type": "code",
   "execution_count": null,
   "id": "71a256dc",
   "metadata": {},
   "outputs": [],
   "source": [
    "# Categorical Columns - Bivariate - Simple Frequency Chart distributed across categories\n",
    "plt.figure(figsize=(15,8))\n",
    "for var in cat_columns: \n",
    "    plt.figure()\n",
    "    sns.countplot(data = bank, x = \"deposit\", hue = var)"
   ]
  },
  {
   "cell_type": "code",
   "execution_count": null,
   "id": "fbb92174",
   "metadata": {},
   "outputs": [],
   "source": [
    "# Numerical - Numerical Scatter Plot - Scatter Plot Matrix # Subdivided by the deposit Variable\n",
    "sns.pairplot(bank)"
   ]
  },
  {
   "cell_type": "code",
   "execution_count": null,
   "id": "82e65cd4",
   "metadata": {},
   "outputs": [],
   "source": [
    "# Numerical - Numerical Regression Plot - \n",
    "for var1 in num_columns:\n",
    "    for var2 in num_columns:\n",
    "        plt.figure()\n",
    "        sns.regplot(data = bank, x = var1, y = var2, color='teal')"
   ]
  },
  {
   "cell_type": "code",
   "execution_count": null,
   "id": "f058a57d",
   "metadata": {},
   "outputs": [],
   "source": [
    "# Numerical - Numerical Scatter Plot - Scatter Plot Matrix # Subdivided by the deposit Variable\n",
    "sns.pairplot(bank, hue = \"deposit\")"
   ]
  },
  {
   "cell_type": "code",
   "execution_count": null,
   "id": "258c1a15",
   "metadata": {},
   "outputs": [],
   "source": [
    "for var in num_columns: \n",
    "    for i in cat_columns:\n",
    "        plt.figure()\n",
    "        sns.catplot(x=i,y=var,data=bank,kind='box',col='deposit',palette='Dark2')   "
   ]
  },
  {
   "cell_type": "code",
   "execution_count": null,
   "id": "568ccdc7",
   "metadata": {},
   "outputs": [],
   "source": [
    "# Heatmap representation of correlation\n",
    "sns.heatmap(bank.corr(), annot=True, cmap = \"viridis\")"
   ]
  },
  {
   "cell_type": "code",
   "execution_count": null,
   "id": "a3866ff1",
   "metadata": {
    "scrolled": false
   },
   "outputs": [],
   "source": [
    "import statsmodels.api as sm\n",
    "def qq_plots(df):\n",
    "    plt.figure(figsize=(10, 4))\n",
    "    sm.qqplot(df,line='s')\n",
    "    plt.title(\"Normal QQPlot---\"+var)\n",
    "    plt.show()\n",
    "for var in num_columns: \n",
    "    qq_plots(bank[var])\n",
    "    "
   ]
  },
  {
   "cell_type": "markdown",
   "id": "e40bb918",
   "metadata": {},
   "source": [
    "## Scikit-Learn"
   ]
  },
  {
   "cell_type": "code",
   "execution_count": null,
   "id": "aca6f986",
   "metadata": {},
   "outputs": [],
   "source": [
    "from sklearn import preprocessing\n",
    "from sklearn.model_selection import train_test_split\n",
    "from sklearn.preprocessing import StandardScaler, MinMaxScaler,PowerTransformer,QuantileTransformer\n",
    "from sklearn.feature_selection import VarianceThreshold"
   ]
  },
  {
   "cell_type": "code",
   "execution_count": null,
   "id": "5aa87408",
   "metadata": {},
   "outputs": [],
   "source": [
    "bank['deposit'] = bank['deposit'].replace(['no','yes'],['0','1'])"
   ]
  },
  {
   "cell_type": "code",
   "execution_count": null,
   "id": "862e0101",
   "metadata": {},
   "outputs": [],
   "source": [
    "# Separate the features variables from the deposit Variables\n",
    "\n",
    "X = bank.drop([\"deposit\"],axis = 1)\n",
    "y = bank['deposit']"
   ]
  },
  {
   "cell_type": "code",
   "execution_count": null,
   "id": "71838410",
   "metadata": {},
   "outputs": [],
   "source": [
    "# Have a list of categorical and numerical columns\n",
    "\n",
    "categorical_columns = X.select_dtypes(include='object').columns\n",
    "numerical_columns = X.select_dtypes(exclude='object').columns"
   ]
  },
  {
   "cell_type": "code",
   "execution_count": null,
   "id": "dab47fa7",
   "metadata": {},
   "outputs": [],
   "source": [
    "# Encoding Categorical Variables on the entire Feature data\n",
    "\n",
    "X = pd.get_dummies(data = X, prefix = categorical_columns, prefix_sep='_',\n",
    "               columns = categorical_columns,\n",
    "               drop_first =True,\n",
    "              dtype='int8')\n",
    "X"
   ]
  },
  {
   "cell_type": "code",
   "execution_count": null,
   "id": "22772715",
   "metadata": {},
   "outputs": [],
   "source": [
    "# Splitting the data into training and testing\n",
    "\n",
    "X_train, X_test, y_train, y_test = train_test_split(X, y, test_size=0.3, random_state=0)"
   ]
  },
  {
   "cell_type": "code",
   "execution_count": null,
   "id": "a1bce1c7",
   "metadata": {},
   "outputs": [],
   "source": [
    "# Capture the columns of training data\n",
    "\n",
    "col_names = X_train.columns"
   ]
  },
  {
   "cell_type": "code",
   "execution_count": null,
   "id": "fc260ae1",
   "metadata": {},
   "outputs": [],
   "source": [
    "X_train"
   ]
  },
  {
   "cell_type": "code",
   "execution_count": null,
   "id": "eb55eec3",
   "metadata": {},
   "outputs": [],
   "source": [
    "X_test"
   ]
  },
  {
   "cell_type": "markdown",
   "id": "4771cb66",
   "metadata": {},
   "source": [
    "## Feature Selection"
   ]
  },
  {
   "cell_type": "markdown",
   "id": "4080502a",
   "metadata": {},
   "source": [
    "### Constant Features Removal (Zero Variance Removal)"
   ]
  },
  {
   "cell_type": "code",
   "execution_count": null,
   "id": "e74daed8",
   "metadata": {},
   "outputs": [],
   "source": [
    "# Filter out any variables with a single constant value\n",
    "\n",
    "constant_filter = VarianceThreshold(threshold=0)\n",
    "constant_filter.fit(X_train)"
   ]
  },
  {
   "cell_type": "code",
   "execution_count": null,
   "id": "7c5e8959",
   "metadata": {},
   "outputs": [],
   "source": [
    "constant_filter.get_support().sum()"
   ]
  },
  {
   "cell_type": "code",
   "execution_count": null,
   "id": "59894dd5",
   "metadata": {},
   "outputs": [],
   "source": [
    "constant_list = [not temp for temp in constant_filter.get_support()]\n",
    "constant_list"
   ]
  },
  {
   "cell_type": "code",
   "execution_count": null,
   "id": "3c775aa7",
   "metadata": {},
   "outputs": [],
   "source": [
    "constant_filter.get_support()"
   ]
  },
  {
   "cell_type": "code",
   "execution_count": null,
   "id": "794325fc",
   "metadata": {},
   "outputs": [],
   "source": [
    "col_names = col_names[constant_filter.get_support()]"
   ]
  },
  {
   "cell_type": "code",
   "execution_count": null,
   "id": "f262de1d",
   "metadata": {},
   "outputs": [],
   "source": [
    "X_train = pd.DataFrame(constant_filter.transform(X_train),columns = col_names)\n",
    "X_test = pd.DataFrame(constant_filter.transform(X_test),columns = col_names)"
   ]
  },
  {
   "cell_type": "code",
   "execution_count": null,
   "id": "aeaf3d5a",
   "metadata": {},
   "outputs": [],
   "source": [
    "X_train"
   ]
  },
  {
   "cell_type": "code",
   "execution_count": null,
   "id": "364f0f16",
   "metadata": {},
   "outputs": [],
   "source": [
    "0.999*0+0.001*1"
   ]
  },
  {
   "cell_type": "code",
   "execution_count": null,
   "id": "ec7f5cf9",
   "metadata": {},
   "outputs": [],
   "source": [
    "0.999*(0-0.001)**2+0.001*(1-0.001)**2"
   ]
  },
  {
   "cell_type": "markdown",
   "id": "65564e2e",
   "metadata": {},
   "source": [
    "### Quasi Constant Removal (Near Zero Variance)"
   ]
  },
  {
   "cell_type": "code",
   "execution_count": null,
   "id": "645cdabb",
   "metadata": {},
   "outputs": [],
   "source": [
    "# Set the threshold for Near Zero Variance and run it on the training data\n",
    "\n",
    "quasi_constant_filter = VarianceThreshold(threshold=0.001)\n",
    "quasi_constant_filter.fit(X_train)"
   ]
  },
  {
   "cell_type": "code",
   "execution_count": null,
   "id": "4c1182d1",
   "metadata": {},
   "outputs": [],
   "source": [
    "# Find the number of variables that get retained and collect their column names\n",
    "quasi_constant_filter.get_support().sum()\n",
    "col_names = col_names[quasi_constant_filter.get_support()]"
   ]
  },
  {
   "cell_type": "code",
   "execution_count": null,
   "id": "3ed87473",
   "metadata": {},
   "outputs": [],
   "source": [
    "quasi_constant_filter.get_support().sum()"
   ]
  },
  {
   "cell_type": "code",
   "execution_count": null,
   "id": "84fe521a",
   "metadata": {},
   "outputs": [],
   "source": [
    "# Remove the eliminated columns from both the training and the testing data and retain only the survived columns\n",
    "\n",
    "X_train = pd.DataFrame(quasi_constant_filter.transform(X_train),columns = col_names)\n",
    "X_test = pd.DataFrame(quasi_constant_filter.transform(X_test), columns = col_names)"
   ]
  },
  {
   "cell_type": "code",
   "execution_count": null,
   "id": "7ab5dca2",
   "metadata": {},
   "outputs": [],
   "source": [
    "X_train.head()"
   ]
  },
  {
   "cell_type": "markdown",
   "id": "4b095d60",
   "metadata": {},
   "source": [
    "### Remove Duplicate Features"
   ]
  },
  {
   "cell_type": "code",
   "execution_count": null,
   "id": "8505eba5",
   "metadata": {},
   "outputs": [],
   "source": [
    "# Transpose the rows to columns and vice versa\n",
    "X_train_T = X_train.T\n",
    "X_test_T = X_test.T"
   ]
  },
  {
   "cell_type": "code",
   "execution_count": null,
   "id": "78bbaea2",
   "metadata": {},
   "outputs": [],
   "source": [
    "# Convert the matrix to a Data Frame\n",
    "X_train_T = pd.DataFrame(X_train_T)\n",
    "X_test_T = pd.DataFrame(X_test_T)"
   ]
  },
  {
   "cell_type": "code",
   "execution_count": null,
   "id": "35983bdb",
   "metadata": {},
   "outputs": [],
   "source": [
    "X_train_T.shape, X_test_T.shape"
   ]
  },
  {
   "cell_type": "code",
   "execution_count": null,
   "id": "acf6d088",
   "metadata": {},
   "outputs": [],
   "source": [
    "# Count the number of duplicated rows\n",
    "\n",
    "X_train_T.duplicated().sum()"
   ]
  },
  {
   "cell_type": "code",
   "execution_count": null,
   "id": "98723b45",
   "metadata": {},
   "outputs": [],
   "source": [
    "# Get the names of duplicated features\n",
    "duplicated_features = X_train_T.duplicated()\n",
    "duplicated_features"
   ]
  },
  {
   "cell_type": "code",
   "execution_count": null,
   "id": "f7175438",
   "metadata": {},
   "outputs": [],
   "source": [
    "# Remove the features that are identified as duplicates and retain the remaining ones\n",
    "features_to_keep = [not index for index in duplicated_features]"
   ]
  },
  {
   "cell_type": "code",
   "execution_count": null,
   "id": "6bafe20a",
   "metadata": {},
   "outputs": [],
   "source": [
    "# Gather the names of the retained columns\n",
    "col_names = col_names[features_to_keep]"
   ]
  },
  {
   "cell_type": "code",
   "execution_count": null,
   "id": "2f711653",
   "metadata": {},
   "outputs": [],
   "source": [
    "# Filter the data by removing the duplicate column\n",
    "X_train = pd.DataFrame(X_train_T[features_to_keep].T,columns = col_names)\n",
    "X_test = pd.DataFrame(X_test_T[features_to_keep].T,columns = col_names)"
   ]
  },
  {
   "cell_type": "code",
   "execution_count": null,
   "id": "66793c47",
   "metadata": {},
   "outputs": [],
   "source": [
    "X_train.head()"
   ]
  },
  {
   "cell_type": "markdown",
   "id": "af6248d5",
   "metadata": {},
   "source": [
    "### Correlated Feature Removal"
   ]
  },
  {
   "cell_type": "code",
   "execution_count": null,
   "id": "e145341b",
   "metadata": {},
   "outputs": [],
   "source": [
    "# Take paiwise correlation\n",
    "\n",
    "corrmat = X_train.corr()"
   ]
  },
  {
   "cell_type": "code",
   "execution_count": null,
   "id": "a7ef1ee5",
   "metadata": {},
   "outputs": [],
   "source": [
    "# Heat Map of the correlation\n",
    "\n",
    "plt.figure(figsize=(50,25))\n",
    "sns.heatmap(corrmat, annot = True, cmap = 'viridis')"
   ]
  },
  {
   "cell_type": "code",
   "execution_count": null,
   "id": "89b64668",
   "metadata": {},
   "outputs": [],
   "source": [
    "# Function to capture pair wise correlations greater than a set threshold\n",
    "\n",
    "def get_correlation(data, threshold):\n",
    "    corr_col = set()\n",
    "    corrmat = data.corr()\n",
    "    for i in range(len(corrmat.columns)):\n",
    "        for j in range(i):\n",
    "            if abs(corrmat.iloc[i, j])> threshold:\n",
    "                colname = corrmat.columns[i]\n",
    "                corr_col.add(colname)\n",
    "    return corr_col"
   ]
  },
  {
   "cell_type": "code",
   "execution_count": null,
   "id": "71fe3947",
   "metadata": {},
   "outputs": [],
   "source": [
    "corr_features_1 = get_correlation(X_train, 1)\n",
    "corr_features_1"
   ]
  },
  {
   "cell_type": "code",
   "execution_count": null,
   "id": "3f472298",
   "metadata": {},
   "outputs": [],
   "source": [
    "col_names"
   ]
  },
  {
   "cell_type": "code",
   "execution_count": null,
   "id": "f6938a60",
   "metadata": {},
   "outputs": [],
   "source": [
    "# Simple outright dropping of the correlated columns\n",
    "X_train = X_train.drop(labels=corr_features_1, axis = 1)\n",
    "X_test = X_test.drop(labels = corr_features_1, axis = 1)"
   ]
  },
  {
   "cell_type": "code",
   "execution_count": null,
   "id": "0b6ee6d1",
   "metadata": {},
   "outputs": [],
   "source": [
    "col_names = col_names.drop(corr_features_1)"
   ]
  },
  {
   "cell_type": "code",
   "execution_count": null,
   "id": "f94d70e3",
   "metadata": {},
   "outputs": [],
   "source": [
    "X_train.columns = col_names\n",
    "X_test.columns = col_names"
   ]
  },
  {
   "cell_type": "code",
   "execution_count": null,
   "id": "e0488dd7",
   "metadata": {},
   "outputs": [],
   "source": [
    "X_train.head()"
   ]
  },
  {
   "cell_type": "markdown",
   "id": "db842195",
   "metadata": {},
   "source": [
    "### Feature Grouping and Feature Importance"
   ]
  },
  {
   "cell_type": "code",
   "execution_count": null,
   "id": "74e4e8ec",
   "metadata": {},
   "outputs": [],
   "source": [
    "# Take paiwise correlation\n",
    "\n",
    "corrmat = X_train.corr()"
   ]
  },
  {
   "cell_type": "code",
   "execution_count": null,
   "id": "7310ad8e",
   "metadata": {},
   "outputs": [],
   "source": [
    "corr_features_1 = get_correlation(X_train, 0.95)\n",
    "corr_features_1"
   ]
  },
  {
   "cell_type": "code",
   "execution_count": null,
   "id": "3c9b2794",
   "metadata": {},
   "outputs": [],
   "source": [
    "# Convert the correlation matrix into a columnal form\n",
    "corrdata = corrmat.abs().stack()\n",
    "corrdata"
   ]
  },
  {
   "cell_type": "code",
   "execution_count": null,
   "id": "94ffa5f6",
   "metadata": {},
   "outputs": [],
   "source": [
    "corrdata = corrdata.sort_values(ascending=False)\n",
    "corrdata"
   ]
  },
  {
   "cell_type": "code",
   "execution_count": null,
   "id": "19921fa4",
   "metadata": {},
   "outputs": [],
   "source": [
    "corrdata = corrdata[corrdata>0.95]\n",
    "corrdata = corrdata[corrdata<1]\n",
    "corrdata"
   ]
  },
  {
   "cell_type": "code",
   "execution_count": null,
   "id": "ee2e7e89",
   "metadata": {},
   "outputs": [],
   "source": [
    "corrdata = pd.DataFrame(corrdata).reset_index()\n",
    "corrdata.columns = ['features1', 'features2', 'corr_value']\n",
    "corrdata"
   ]
  },
  {
   "cell_type": "code",
   "execution_count": null,
   "id": "52de6e92",
   "metadata": {},
   "outputs": [],
   "source": [
    "# Groups of the correlated features\n",
    "\n",
    "grouped_feature_list = []\n",
    "correlated_groups_list = []\n",
    "for feature in corrdata.features1.unique():\n",
    "    if feature not in grouped_feature_list:\n",
    "        correlated_block = corrdata[corrdata.features1 == feature]\n",
    "        grouped_feature_list = grouped_feature_list + list(correlated_block.features2.unique()) + [feature]\n",
    "        correlated_groups_list.append(correlated_block)"
   ]
  },
  {
   "cell_type": "code",
   "execution_count": null,
   "id": "3ae28e0f",
   "metadata": {},
   "outputs": [],
   "source": [
    "correlated_groups_list"
   ]
  },
  {
   "cell_type": "code",
   "execution_count": null,
   "id": "2dfc4128",
   "metadata": {},
   "outputs": [],
   "source": [
    "for group in correlated_groups_list:\n",
    "    print(group)"
   ]
  },
  {
   "cell_type": "code",
   "execution_count": null,
   "id": "2c9d472c",
   "metadata": {},
   "outputs": [],
   "source": [
    "# Feature importance using RF classifier\n",
    "\n",
    "from sklearn.ensemble import RandomForestClassifier\n",
    "important_features = []\n",
    "for group in correlated_groups_list:\n",
    "    features = list(group.features1.unique()) + list(group.features2.unique())\n",
    "    #features = col_names[features]\n",
    "    rf = RandomForestClassifier(n_estimators=100, random_state=0)\n",
    "    y_train=y_train.astype('int')\n",
    "    rf.fit(X_train[features], y_train)\n",
    "    \n",
    "    importance = pd.concat([pd.Series(features), pd.Series(rf.feature_importances_)], axis = 1)\n",
    "    importance.columns = ['features', 'importance']\n",
    "    importance.sort_values(by = 'importance', ascending = False, inplace = True)\n",
    "    feat = importance.iloc[0]\n",
    "    important_features.append(feat)\n",
    "    "
   ]
  },
  {
   "cell_type": "code",
   "execution_count": null,
   "id": "52c49daa",
   "metadata": {},
   "outputs": [],
   "source": [
    "important_features"
   ]
  },
  {
   "cell_type": "code",
   "execution_count": null,
   "id": "062095b3",
   "metadata": {},
   "outputs": [],
   "source": [
    "important_features = pd.DataFrame(important_features)"
   ]
  },
  {
   "cell_type": "code",
   "execution_count": null,
   "id": "0c020600",
   "metadata": {},
   "outputs": [],
   "source": [
    "important_features.reset_index(inplace=True, drop = True)"
   ]
  },
  {
   "cell_type": "code",
   "execution_count": null,
   "id": "3e280b18",
   "metadata": {},
   "outputs": [],
   "source": [
    "important_features"
   ]
  },
  {
   "cell_type": "code",
   "execution_count": null,
   "id": "0c083223",
   "metadata": {},
   "outputs": [],
   "source": [
    "features_to_consider = set(important_features)"
   ]
  },
  {
   "cell_type": "code",
   "execution_count": null,
   "id": "e774a30f",
   "metadata": {},
   "outputs": [],
   "source": [
    "features_to_discard = set(corr_features_1) - set(features_to_consider)"
   ]
  },
  {
   "cell_type": "code",
   "execution_count": null,
   "id": "51d73a16",
   "metadata": {},
   "outputs": [],
   "source": [
    "features_to_discard = list(features_to_discard)"
   ]
  },
  {
   "cell_type": "code",
   "execution_count": null,
   "id": "8c1ebb1a",
   "metadata": {},
   "outputs": [],
   "source": [
    "features_to_discard"
   ]
  },
  {
   "cell_type": "code",
   "execution_count": null,
   "id": "a80f5b91",
   "metadata": {},
   "outputs": [],
   "source": [
    "X_train = X_train.drop(labels = features_to_discard, axis = 1)\n",
    "X_train.shape"
   ]
  },
  {
   "cell_type": "code",
   "execution_count": null,
   "id": "98785e0d",
   "metadata": {},
   "outputs": [],
   "source": [
    "X_test = X_test.drop(labels=features_to_discard, axis = 1)\n",
    "X_test.shape"
   ]
  },
  {
   "cell_type": "code",
   "execution_count": null,
   "id": "1e9dafe1",
   "metadata": {},
   "outputs": [],
   "source": [
    "X_train.head()"
   ]
  },
  {
   "cell_type": "markdown",
   "id": "5c1d6f1c",
   "metadata": {},
   "source": [
    "## Other univariate feature Selection"
   ]
  },
  {
   "cell_type": "markdown",
   "id": "8d245054",
   "metadata": {},
   "source": [
    "### Feature selection based on Chi Square test"
   ]
  },
  {
   "cell_type": "code",
   "execution_count": null,
   "id": "c8b610ae",
   "metadata": {},
   "outputs": [],
   "source": [
    "from sklearn.feature_selection import chi2\n",
    "from sklearn.feature_selection import SelectKBest, SelectPercentile"
   ]
  },
  {
   "cell_type": "code",
   "execution_count": null,
   "id": "d0ecadb0",
   "metadata": {},
   "outputs": [],
   "source": [
    "sel = chi2(X_train, y_train)\n",
    "sel"
   ]
  },
  {
   "cell_type": "code",
   "execution_count": null,
   "id": "ffaa987e",
   "metadata": {},
   "outputs": [],
   "source": [
    "p_values = pd.Series(sel[1])\n",
    "p_values.index = X_train.columns\n",
    "p_values.sort_values(ascending = True, inplace = True)"
   ]
  },
  {
   "cell_type": "code",
   "execution_count": null,
   "id": "4823b063",
   "metadata": {},
   "outputs": [],
   "source": [
    "p_values.plot.bar(figsize = (16, 5))"
   ]
  },
  {
   "cell_type": "code",
   "execution_count": null,
   "id": "45491cd3",
   "metadata": {},
   "outputs": [],
   "source": [
    "p_values = p_values[p_values<0.05]"
   ]
  },
  {
   "cell_type": "code",
   "execution_count": null,
   "id": "3554e569",
   "metadata": {},
   "outputs": [],
   "source": [
    "p_values.index"
   ]
  },
  {
   "cell_type": "code",
   "execution_count": null,
   "id": "32956f17",
   "metadata": {},
   "outputs": [],
   "source": [
    "X_train_p = X_train[p_values.index]\n",
    "X_test_p = X_test[p_values.index]"
   ]
  },
  {
   "cell_type": "code",
   "execution_count": null,
   "id": "b3148cde",
   "metadata": {},
   "outputs": [],
   "source": [
    "X_train_p.head()"
   ]
  },
  {
   "cell_type": "code",
   "execution_count": null,
   "id": "a53d2bec",
   "metadata": {},
   "outputs": [],
   "source": [
    "new_cols = X_train.columns\n",
    "new_cols"
   ]
  },
  {
   "cell_type": "markdown",
   "id": "e2ce29b4",
   "metadata": {},
   "source": [
    "### Feature selection based on mutual information"
   ]
  },
  {
   "cell_type": "code",
   "execution_count": null,
   "id": "fc714dc7",
   "metadata": {},
   "outputs": [],
   "source": [
    "from sklearn.feature_selection import VarianceThreshold, mutual_info_classif, mutual_info_regression\n",
    "from sklearn.feature_selection import SelectKBest, SelectPercentile"
   ]
  },
  {
   "cell_type": "code",
   "execution_count": null,
   "id": "3b4dd5bd",
   "metadata": {},
   "outputs": [],
   "source": [
    "mi = mutual_info_classif(X_train, y_train.astype(int))"
   ]
  },
  {
   "cell_type": "code",
   "execution_count": null,
   "id": "d1a4bbbf",
   "metadata": {},
   "outputs": [],
   "source": [
    "mi = pd.Series(mi)\n",
    "mi.index = X_train.columns\n",
    "mi.sort_values(ascending=False, inplace = True)"
   ]
  },
  {
   "cell_type": "code",
   "execution_count": null,
   "id": "87657a7b",
   "metadata": {},
   "outputs": [],
   "source": [
    "mi.plot.bar(figsize = (16,5))"
   ]
  },
  {
   "cell_type": "code",
   "execution_count": null,
   "id": "ec8e2e08",
   "metadata": {
    "scrolled": true
   },
   "outputs": [],
   "source": [
    "mi"
   ]
  },
  {
   "cell_type": "code",
   "execution_count": null,
   "id": "83aec99b",
   "metadata": {},
   "outputs": [],
   "source": [
    "sel = mi[mi.values>0.0001].index\n",
    "sel"
   ]
  },
  {
   "cell_type": "code",
   "execution_count": null,
   "id": "512f80dc",
   "metadata": {},
   "outputs": [],
   "source": [
    "X_train = X_train[sel]\n",
    "X_test = X_test[sel]"
   ]
  },
  {
   "cell_type": "code",
   "execution_count": null,
   "id": "a2b202f4",
   "metadata": {},
   "outputs": [],
   "source": [
    "X_train.head()"
   ]
  },
  {
   "cell_type": "markdown",
   "id": "e3b47288",
   "metadata": {},
   "source": [
    "## Feature selection based on F Score"
   ]
  },
  {
   "cell_type": "code",
   "execution_count": null,
   "id": "fff53b54",
   "metadata": {},
   "outputs": [],
   "source": [
    "from sklearn.feature_selection import f_classif, f_regression\n",
    "from sklearn.feature_selection import SelectKBest, SelectPercentile"
   ]
  },
  {
   "cell_type": "code",
   "execution_count": null,
   "id": "71f985b7",
   "metadata": {},
   "outputs": [],
   "source": [
    "sel = f_classif(X_train, y_train)\n",
    "sel"
   ]
  },
  {
   "cell_type": "code",
   "execution_count": null,
   "id": "c301f559",
   "metadata": {},
   "outputs": [],
   "source": [
    "p_values = pd.Series(sel[1])\n",
    "p_values.index = X_train.columns\n",
    "p_values.sort_values(ascending = True, inplace = True)"
   ]
  },
  {
   "cell_type": "code",
   "execution_count": null,
   "id": "b3fe2936",
   "metadata": {},
   "outputs": [],
   "source": [
    "p_values.plot.bar(figsize = (16, 5))"
   ]
  },
  {
   "cell_type": "code",
   "execution_count": null,
   "id": "db117e75",
   "metadata": {},
   "outputs": [],
   "source": [
    "p_values = p_values[p_values<0.05]"
   ]
  },
  {
   "cell_type": "code",
   "execution_count": null,
   "id": "07145108",
   "metadata": {},
   "outputs": [],
   "source": [
    "p_values.index"
   ]
  },
  {
   "cell_type": "code",
   "execution_count": null,
   "id": "8a4726ea",
   "metadata": {},
   "outputs": [],
   "source": [
    "X_train_p = X_train[p_values.index]\n",
    "X_test_p = X_test[p_values.index]"
   ]
  },
  {
   "cell_type": "code",
   "execution_count": null,
   "id": "59b07fb3",
   "metadata": {},
   "outputs": [],
   "source": [
    "X_train_p.head()"
   ]
  },
  {
   "cell_type": "code",
   "execution_count": null,
   "id": "35719b8f",
   "metadata": {},
   "outputs": [],
   "source": [
    "new_cols = X_train.columns\n",
    "new_cols"
   ]
  },
  {
   "cell_type": "markdown",
   "id": "6240f195",
   "metadata": {},
   "source": [
    "### using PCA"
   ]
  },
  {
   "cell_type": "code",
   "execution_count": null,
   "id": "707a74ce",
   "metadata": {},
   "outputs": [],
   "source": [
    "from sklearn.decomposition import PCA"
   ]
  },
  {
   "cell_type": "code",
   "execution_count": null,
   "id": "a2000d98",
   "metadata": {},
   "outputs": [],
   "source": [
    "pca = PCA(n_components=5, random_state=42)\n",
    "pca.fit(X_train)"
   ]
  },
  {
   "cell_type": "code",
   "execution_count": null,
   "id": "8030a241",
   "metadata": {},
   "outputs": [],
   "source": [
    "X_train_pca = pca.transform(X_train)\n",
    "X_test_pca = pca.transform(X_test)\n",
    "X_train_pca.shape, X_test_pca.shape"
   ]
  },
  {
   "cell_type": "code",
   "execution_count": null,
   "id": "a08312c6",
   "metadata": {},
   "outputs": [],
   "source": [
    "X_train_pca"
   ]
  },
  {
   "cell_type": "markdown",
   "id": "a06ba598",
   "metadata": {},
   "source": [
    "## Feature Transformation"
   ]
  },
  {
   "cell_type": "code",
   "execution_count": null,
   "id": "2db71178",
   "metadata": {
    "scrolled": true
   },
   "outputs": [],
   "source": [
    "# You can perform Box Cox or Yeo-Johnson (Non Normal transformation)\n",
    "bctrans = PowerTransformer(method = 'yeo-johnson').fit(X_train)\n",
    "X_train = pd.DataFrame(bctrans.transform(X_train), columns = new_cols)\n",
    "X_test = pd.DataFrame(bctrans.transform(X_test), columns = new_cols)\n",
    "X_train.head()"
   ]
  },
  {
   "cell_type": "code",
   "execution_count": null,
   "id": "e4c2e612",
   "metadata": {},
   "outputs": [],
   "source": [
    "X_train.skew()"
   ]
  },
  {
   "cell_type": "code",
   "execution_count": null,
   "id": "87e172d0",
   "metadata": {},
   "outputs": [],
   "source": [
    "X_train.kurt()"
   ]
  },
  {
   "cell_type": "code",
   "execution_count": null,
   "id": "7f401403",
   "metadata": {},
   "outputs": [],
   "source": [
    "X_train.describe()"
   ]
  },
  {
   "cell_type": "code",
   "execution_count": null,
   "id": "2289c3d1",
   "metadata": {},
   "outputs": [],
   "source": [
    "scaler = preprocessing.StandardScaler().fit(X_train)\n",
    "X_train = pd.DataFrame(scaler.transform(X_train),columns = new_cols)\n",
    "X_test = pd.DataFrame(scaler.transform(X_test),columns = new_cols)\n",
    "X_train.head()"
   ]
  },
  {
   "cell_type": "code",
   "execution_count": null,
   "id": "f10739b5",
   "metadata": {},
   "outputs": [],
   "source": [
    "y_train = y_train.astype('int')\n",
    "y_test = y_test.astype('int')"
   ]
  },
  {
   "cell_type": "markdown",
   "id": "9ed97935",
   "metadata": {},
   "source": [
    "## Basic Perceptron"
   ]
  },
  {
   "cell_type": "code",
   "execution_count": null,
   "id": "14161d58",
   "metadata": {},
   "outputs": [],
   "source": [
    "from sklearn.linear_model import Perceptron\n",
    "from sklearn.metrics import accuracy_score, balanced_accuracy_score, classification_report, cohen_kappa_score, confusion_matrix, f1_score, precision_recall_curve, precision_score, recall_score, roc_auc_score, roc_curve, plot_confusion_matrix, plot_precision_recall_curve, plot_roc_curve"
   ]
  },
  {
   "cell_type": "code",
   "execution_count": null,
   "id": "b4ba02ea",
   "metadata": {},
   "outputs": [],
   "source": [
    "# Execute the Default model\n",
    "model = Perceptron()\n",
    "model.fit(X_train,y_train)\n",
    "model.coef_"
   ]
  },
  {
   "cell_type": "code",
   "execution_count": null,
   "id": "f22b0c94",
   "metadata": {},
   "outputs": [],
   "source": [
    "# Accuracy on training data\n",
    "model.score(X_train,y_train)"
   ]
  },
  {
   "cell_type": "code",
   "execution_count": null,
   "id": "104c6c0d",
   "metadata": {},
   "outputs": [],
   "source": [
    "y_train.value_counts()"
   ]
  },
  {
   "cell_type": "code",
   "execution_count": null,
   "id": "7b909a74",
   "metadata": {},
   "outputs": [],
   "source": [
    "4079/(4079+3731)"
   ]
  },
  {
   "cell_type": "code",
   "execution_count": null,
   "id": "aa706259",
   "metadata": {},
   "outputs": [],
   "source": [
    "# Predict the model on the Testing Data\n",
    "y_pred = model.predict(X_test)\n",
    "# Predict probabilities of belonging to each of the groups\n",
    "#y_pred_proba = model.predict_proba(X_test)"
   ]
  },
  {
   "cell_type": "code",
   "execution_count": null,
   "id": "ecdec4f6",
   "metadata": {},
   "outputs": [],
   "source": [
    "2*0.65625*0.7413350449293966/(0.65625+0.7413350449293966)"
   ]
  },
  {
   "cell_type": "code",
   "execution_count": null,
   "id": "5d8e702d",
   "metadata": {},
   "outputs": [],
   "source": [
    "pd.DataFrame(y_test).value_counts()"
   ]
  },
  {
   "cell_type": "code",
   "execution_count": null,
   "id": "bfab387c",
   "metadata": {},
   "outputs": [],
   "source": [
    "1558/(1558+1790)"
   ]
  },
  {
   "cell_type": "code",
   "execution_count": null,
   "id": "8a2d6aba",
   "metadata": {},
   "outputs": [],
   "source": [
    "1-0.46535244922341695"
   ]
  },
  {
   "cell_type": "code",
   "execution_count": null,
   "id": "b206e04b",
   "metadata": {},
   "outputs": [],
   "source": [
    "# Print Some importance performance measures\n",
    "print(accuracy_score(y_test,y_pred))\n",
    "print(balanced_accuracy_score(y_test,y_pred))\n",
    "print(f1_score(y_test,y_pred))\n",
    "print(precision_score(y_test,y_pred))\n",
    "print(recall_score(y_test,y_pred))\n",
    "plot_confusion_matrix(model,X_test,y_test)\n",
    "print(cohen_kappa_score(y_test,y_pred))\n",
    "#print(roc_auc_score(y_test, y_pred_proba[:,1]))\n",
    "#plot_roc_curve(model,X_test,y_test)"
   ]
  },
  {
   "cell_type": "markdown",
   "id": "35dd586f",
   "metadata": {},
   "source": [
    "## Logistic Regression"
   ]
  },
  {
   "cell_type": "code",
   "execution_count": null,
   "id": "3ec82e45",
   "metadata": {},
   "outputs": [],
   "source": [
    "t = np.linspace(-100, 100, 1000)\n",
    "sig = 1 / (1 + np.exp(-t))\n",
    "plt.figure(figsize=(9, 3))\n",
    "plt.plot(t, sig, \"b-\", linewidth=2, label=r\"$\\sigma(t) = \\frac{1}{1 + e^{-t}}$\")\n",
    "plt.xlabel(\"t\")\n",
    "plt.legend(loc=\"upper left\", fontsize=20)\n",
    "plt.axis([-10, 10, -0.1, 1.1])\n",
    "plt.show()"
   ]
  },
  {
   "cell_type": "code",
   "execution_count": null,
   "id": "7669f762",
   "metadata": {},
   "outputs": [],
   "source": [
    "from sklearn.linear_model import LogisticRegression, RidgeClassifier, SGDClassifier\n",
    "from sklearn.metrics import accuracy_score, balanced_accuracy_score, classification_report, cohen_kappa_score, confusion_matrix, f1_score, precision_recall_curve, precision_score, recall_score, roc_auc_score, roc_curve, plot_confusion_matrix, plot_precision_recall_curve, plot_roc_curve"
   ]
  },
  {
   "cell_type": "code",
   "execution_count": null,
   "id": "3556664d",
   "metadata": {},
   "outputs": [],
   "source": [
    "model = LogisticRegression()\n",
    "model.fit(X_train,y_train)"
   ]
  },
  {
   "cell_type": "code",
   "execution_count": null,
   "id": "98fb7fb0",
   "metadata": {},
   "outputs": [],
   "source": [
    "X_train.columns"
   ]
  },
  {
   "cell_type": "code",
   "execution_count": null,
   "id": "0585c307",
   "metadata": {},
   "outputs": [],
   "source": [
    "# Accuracy on training data\n",
    "model.score(X_train,y_train)"
   ]
  },
  {
   "cell_type": "code",
   "execution_count": null,
   "id": "6d0d33f7",
   "metadata": {},
   "outputs": [],
   "source": [
    "pd.DataFrame(y_train).value_counts()"
   ]
  },
  {
   "cell_type": "code",
   "execution_count": null,
   "id": "bc294569",
   "metadata": {},
   "outputs": [],
   "source": [
    "4079/(4079+3731)"
   ]
  },
  {
   "cell_type": "code",
   "execution_count": null,
   "id": "175df569",
   "metadata": {},
   "outputs": [],
   "source": [
    "# Predict the model on the Testing Data\n",
    "y_pred = model.predict(X_test)\n",
    "# Predict probabilities of belonging to each of the groups\n",
    "y_pred_proba = model.predict_proba(X_test)"
   ]
  },
  {
   "cell_type": "code",
   "execution_count": null,
   "id": "804525f0",
   "metadata": {},
   "outputs": [],
   "source": [
    "print(accuracy_score(y_test,y_pred))\n",
    "print(balanced_accuracy_score(y_test,y_pred))\n",
    "print(f1_score(y_test,y_pred))\n",
    "print(precision_score(y_test,y_pred))\n",
    "print(recall_score(y_test,y_pred))\n",
    "plot_confusion_matrix(model,X_test,y_test)\n",
    "print(cohen_kappa_score(y_test,y_pred))\n",
    "print(classification_report(y_test,y_pred))\n",
    "print(roc_auc_score(y_test, y_pred_proba[:,1]))\n",
    "plot_roc_curve(model,X_test,y_test)"
   ]
  },
  {
   "cell_type": "code",
   "execution_count": null,
   "id": "60ba861d",
   "metadata": {},
   "outputs": [],
   "source": [
    "# Cross Validation as a better process over train-test split\n",
    "from sklearn.model_selection import cross_val_score\n",
    "scores_accuracy = cross_val_score(model, X, y, cv=10, scoring='accuracy')\n",
    "scores_balanced_accuracy = cross_val_score(model, X, y, cv=10, scoring='balanced_accuracy')\n",
    "scores_auc = cross_val_score(model, X, y, cv=10, scoring='roc_auc')\n",
    "scores_accuracy.mean(),scores_balanced_accuracy.mean(), scores_auc.mean()"
   ]
  },
  {
   "cell_type": "code",
   "execution_count": null,
   "id": "6bb38c9a",
   "metadata": {},
   "outputs": [],
   "source": [
    "scores_accuracy,scores_balanced_accuracy,scores_auc"
   ]
  },
  {
   "cell_type": "code",
   "execution_count": null,
   "id": "a7a0d283",
   "metadata": {},
   "outputs": [],
   "source": [
    "# Hyper parameter tuning\n",
    "from sklearn.model_selection import GridSearchCV\n",
    "from sklearn.model_selection import RandomizedSearchCV\n",
    "param_grid = {'penalty':['l1','l2','elasticnet','none'],\n",
    "              'C':[0.01,0.1,1,10,100],\n",
    "              'fit_intercept':[True, False]}"
   ]
  },
  {
   "cell_type": "code",
   "execution_count": null,
   "id": "eb54fad4",
   "metadata": {},
   "outputs": [],
   "source": [
    "# Initiate your model\n",
    "model = LogisticRegression()\n",
    "# Get a list of all possible parameters\n",
    "\n",
    "grid_search_acc = GridSearchCV(estimator = model,  \n",
    "                           param_grid = param_grid,\n",
    "                           scoring = 'accuracy',\n",
    "                           cv = 10,\n",
    "                           verbose=0)\n",
    "grid_search_Bal_acc = GridSearchCV(estimator = model,  \n",
    "                           param_grid = param_grid,\n",
    "                           scoring = 'balanced_accuracy',\n",
    "                           cv = 10,\n",
    "                           verbose=0)\n",
    "grid_search_auc = GridSearchCV(estimator = model,  \n",
    "                           param_grid = param_grid,\n",
    "                           scoring = 'roc_auc',\n",
    "                           cv = 10,\n",
    "                           verbose=0)\n",
    "grid_search_acc.fit(X_train, y_train)\n",
    "grid_search_Bal_acc.fit(X_train, y_train)\n",
    "grid_search_auc.fit(X_train, y_train)"
   ]
  },
  {
   "cell_type": "code",
   "execution_count": null,
   "id": "2dc0c53d",
   "metadata": {},
   "outputs": [],
   "source": [
    "print(grid_search_acc.best_params_)\n",
    "print(grid_search_Bal_acc.best_params_)\n",
    "print(grid_search_auc.best_params_)"
   ]
  },
  {
   "cell_type": "code",
   "execution_count": null,
   "id": "ee15c1fa",
   "metadata": {},
   "outputs": [],
   "source": [
    "grid_search_acc = LogisticRegression(C = 1, fit_intercept= False, penalty= 'l2')\n",
    "grid_search_acc.fit(X_train,y_train)"
   ]
  },
  {
   "cell_type": "code",
   "execution_count": null,
   "id": "38a7fce2",
   "metadata": {},
   "outputs": [],
   "source": [
    "y_pred = grid_search_acc.predict(X_test)"
   ]
  },
  {
   "cell_type": "code",
   "execution_count": null,
   "id": "c91f0c0a",
   "metadata": {},
   "outputs": [],
   "source": [
    "grid_search_acc"
   ]
  },
  {
   "cell_type": "code",
   "execution_count": null,
   "id": "de598370",
   "metadata": {},
   "outputs": [],
   "source": [
    "print(accuracy_score(y_test,y_pred))\n",
    "print(balanced_accuracy_score(y_test,y_pred))\n",
    "print(f1_score(y_test,y_pred))\n",
    "print(precision_score(y_test,y_pred))\n",
    "print(recall_score(y_test,y_pred))\n",
    "print(confusion_matrix(y_test, y_pred))\n",
    "print(cohen_kappa_score(y_test,y_pred))\n",
    "print(classification_report(y_test,y_pred))\n",
    "print(roc_auc_score(y_test, y_pred_proba[:,1]))"
   ]
  },
  {
   "cell_type": "code",
   "execution_count": null,
   "id": "3bc72941",
   "metadata": {},
   "outputs": [],
   "source": [
    "import statsmodels.api as sm"
   ]
  },
  {
   "cell_type": "code",
   "execution_count": null,
   "id": "7bfcde30",
   "metadata": {},
   "outputs": [],
   "source": [
    "y_train"
   ]
  },
  {
   "cell_type": "code",
   "execution_count": null,
   "id": "6dca56f9",
   "metadata": {},
   "outputs": [],
   "source": [
    "y_train = y_train.values.reshape(-1,1)\n",
    "# building the model and fitting the data\n",
    "log_reg = sm.Logit(y_train, X_train).fit()"
   ]
  },
  {
   "cell_type": "code",
   "execution_count": null,
   "id": "20e56f54",
   "metadata": {},
   "outputs": [],
   "source": [
    "# printing the summary table\n",
    "print(log_reg.summary())"
   ]
  },
  {
   "cell_type": "code",
   "execution_count": null,
   "id": "4d4b3672",
   "metadata": {},
   "outputs": [],
   "source": [
    "# performing predictions on the test datdaset\n",
    "yhat = log_reg.predict(X_test)\n",
    "prediction = list(map(round, yhat))"
   ]
  },
  {
   "cell_type": "code",
   "execution_count": null,
   "id": "0e895a5d",
   "metadata": {},
   "outputs": [],
   "source": [
    "print(accuracy_score(y_test,prediction))"
   ]
  },
  {
   "cell_type": "markdown",
   "id": "8fd6ff23",
   "metadata": {},
   "source": [
    "## KNN Classifier"
   ]
  },
  {
   "cell_type": "code",
   "execution_count": null,
   "id": "17864361",
   "metadata": {},
   "outputs": [],
   "source": [
    "from sklearn.neighbors import KNeighborsClassifier"
   ]
  },
  {
   "cell_type": "code",
   "execution_count": null,
   "id": "e085890b",
   "metadata": {},
   "outputs": [],
   "source": [
    "model = KNeighborsClassifier()\n",
    "model.fit(X_train,y_train)"
   ]
  },
  {
   "cell_type": "code",
   "execution_count": null,
   "id": "d19acbc6",
   "metadata": {},
   "outputs": [],
   "source": [
    "# Accuracy on training data\n",
    "model.score(X_train,y_train)"
   ]
  },
  {
   "cell_type": "code",
   "execution_count": null,
   "id": "9d74eb69",
   "metadata": {},
   "outputs": [],
   "source": [
    "# Predict the model on the Testing Data\n",
    "y_pred = model.predict(X_test)\n",
    "# Predict probabilities of belonging to each of the groups\n",
    "y_pred_proba = model.predict_proba(X_test)"
   ]
  },
  {
   "cell_type": "code",
   "execution_count": null,
   "id": "0d8fda07",
   "metadata": {},
   "outputs": [],
   "source": [
    "print(accuracy_score(y_test,y_pred))\n",
    "print(balanced_accuracy_score(y_test,y_pred))\n",
    "print(f1_score(y_test,y_pred))\n",
    "print(precision_score(y_test,y_pred))\n",
    "print(recall_score(y_test,y_pred))\n",
    "plot_confusion_matrix(model,X_test,y_test)\n",
    "print(cohen_kappa_score(y_test,y_pred))\n",
    "print(classification_report(y_test,y_pred))\n",
    "print(roc_auc_score(y_test, y_pred_proba[:,1]))\n",
    "plot_roc_curve(model,X_test,y_test)"
   ]
  },
  {
   "cell_type": "code",
   "execution_count": null,
   "id": "0bca5081",
   "metadata": {},
   "outputs": [],
   "source": [
    "# Hyper parameter tuning\n",
    "from sklearn.model_selection import GridSearchCV\n",
    "from sklearn.model_selection import RandomizedSearchCV\n",
    "param_grid = {'n_neighbors':[3,5,9,15,25],\n",
    "              'weights':['uniform','distance'],\n",
    "              'p':[1,2,3]\n",
    "              }"
   ]
  },
  {
   "cell_type": "code",
   "execution_count": null,
   "id": "b6b124bb",
   "metadata": {},
   "outputs": [],
   "source": [
    "# Initiate your model\n",
    "model = KNeighborsClassifier()\n",
    "# Get a list of all possible parameters\n",
    "\n",
    "grid_search_acc = GridSearchCV(estimator = model,  \n",
    "                           param_grid = param_grid,\n",
    "                           scoring = 'accuracy',\n",
    "                           cv = 10,\n",
    "                           verbose=0)\n",
    "grid_search_Bal_acc = GridSearchCV(estimator = model,  \n",
    "                           param_grid = param_grid,\n",
    "                           scoring = 'balanced_accuracy',\n",
    "                           cv = 10,\n",
    "                           verbose=0)\n",
    "grid_search_auc = GridSearchCV(estimator = model,  \n",
    "                           param_grid = param_grid,\n",
    "                           scoring = 'roc_auc',\n",
    "                           cv = 10,\n",
    "                           verbose=0)\n",
    "grid_search_acc.fit(X_train, y_train)\n",
    "grid_search_Bal_acc.fit(X_train, y_train)\n",
    "grid_search_auc.fit(X_train, y_train)"
   ]
  },
  {
   "cell_type": "code",
   "execution_count": null,
   "id": "fcb2b03b",
   "metadata": {},
   "outputs": [],
   "source": [
    "print(grid_search_acc.best_params_)\n",
    "print(grid_search_Bal_acc.best_params_)\n",
    "print(grid_search_auc.best_params_)"
   ]
  },
  {
   "cell_type": "code",
   "execution_count": null,
   "id": "88735816",
   "metadata": {},
   "outputs": [],
   "source": [
    "y_pred = grid_search_auc.predict(X_test)"
   ]
  },
  {
   "cell_type": "code",
   "execution_count": null,
   "id": "17a200cf",
   "metadata": {},
   "outputs": [],
   "source": [
    "print(accuracy_score(y_test,y_pred))\n",
    "print(balanced_accuracy_score(y_test,y_pred))\n",
    "print(f1_score(y_test,y_pred))\n",
    "print(precision_score(y_test,y_pred))\n",
    "print(recall_score(y_test,y_pred))\n",
    "print(confusion_matrix(y_test, y_pred))\n",
    "print(cohen_kappa_score(y_test,y_pred))\n",
    "print(classification_report(y_test,y_pred))\n",
    "print(roc_auc_score(y_test, y_pred_proba[:,1]))"
   ]
  },
  {
   "cell_type": "code",
   "execution_count": null,
   "id": "088766df",
   "metadata": {},
   "outputs": [],
   "source": [
    "np.round(np.sqrt(X_train.shape[0]),0)"
   ]
  },
  {
   "cell_type": "code",
   "execution_count": null,
   "id": "5c594c99",
   "metadata": {},
   "outputs": [],
   "source": [
    "neighbors = np.arange(1, int(np.round(np.sqrt(X_train.shape[0]),0)))\n",
    "train_accuracy = np.empty(len(neighbors))\n",
    "test_accuracy = np.empty(len(neighbors))\n",
    "\n",
    "\n",
    "for i, k in enumerate(neighbors):\n",
    "    knn = KNeighborsClassifier(n_neighbors=k)\n",
    "    knn.fit(X_train, y_train) \n",
    "   \n",
    "    train_accuracy[i] = knn.score(X_train, y_train)\n",
    "    test_accuracy[i] = knn.score(X_test, y_test)\n",
    "    \n",
    "    # Generate plot\n",
    "plt.plot(neighbors, test_accuracy, label = 'Testing dataset Accuracy')\n",
    "plt.plot(neighbors, train_accuracy, label = 'Training dataset Accuracy')\n",
    " \n",
    "plt.legend()\n",
    "plt.xlabel('n_neighbors')\n",
    "plt.ylabel('Accuracy')\n",
    "plt.show()\n",
    "test_accuracy"
   ]
  },
  {
   "cell_type": "markdown",
   "id": "d99b4b16",
   "metadata": {},
   "source": [
    "# Support Vector Machines"
   ]
  },
  {
   "cell_type": "code",
   "execution_count": null,
   "id": "fcd66c53",
   "metadata": {},
   "outputs": [],
   "source": [
    "from sklearn.svm import SVC"
   ]
  },
  {
   "cell_type": "code",
   "execution_count": null,
   "id": "d34e531c",
   "metadata": {},
   "outputs": [],
   "source": [
    "model = SVC(probability = True)\n",
    "model.fit(X_train,y_train)"
   ]
  },
  {
   "cell_type": "code",
   "execution_count": null,
   "id": "ee34cd84",
   "metadata": {},
   "outputs": [],
   "source": [
    "# Accuracy on training data\n",
    "model.score(X_train,y_train)"
   ]
  },
  {
   "cell_type": "code",
   "execution_count": null,
   "id": "7cb54391",
   "metadata": {},
   "outputs": [],
   "source": [
    "# Predict the model on the Testing Data\n",
    "y_pred = model.predict(X_test)\n",
    "# Predict probabilities of belonging to each of the groups\n",
    "y_pred_proba = model.predict_proba(X_test)"
   ]
  },
  {
   "cell_type": "code",
   "execution_count": null,
   "id": "2613ed39",
   "metadata": {},
   "outputs": [],
   "source": [
    "print(accuracy_score(y_test,y_pred))\n",
    "print(balanced_accuracy_score(y_test,y_pred))\n",
    "print(f1_score(y_test,y_pred))\n",
    "print(precision_score(y_test,y_pred))\n",
    "print(recall_score(y_test,y_pred))\n",
    "plot_confusion_matrix(model,X_test,y_test)\n",
    "print(cohen_kappa_score(y_test,y_pred))\n",
    "print(classification_report(y_test,y_pred))\n",
    "print(roc_auc_score(y_test, y_pred_proba[:,1]))\n",
    "plot_roc_curve(model,X_test,y_test)"
   ]
  },
  {
   "cell_type": "code",
   "execution_count": null,
   "id": "ea001cee",
   "metadata": {},
   "outputs": [],
   "source": [
    "# Cross Validation as a better process over train-test split\n",
    "from sklearn.model_selection import cross_val_score\n",
    "scores_accuracy = cross_val_score(model, X_train, y_train, cv=10, scoring='accuracy')\n",
    "scores_balanced_accuracy = cross_val_score(model, X_train, y_train, cv=10, scoring='balanced_accuracy')\n",
    "scores_auc = cross_val_score(model, X_train, y_train, cv=10, scoring='roc_auc')\n",
    "scores_accuracy.mean(),scores_balanced_accuracy.mean(), scores_auc.mean()"
   ]
  },
  {
   "cell_type": "code",
   "execution_count": null,
   "id": "81464afc",
   "metadata": {},
   "outputs": [],
   "source": [
    "scores_accuracy,scores_balanced_accuracy,scores_auc"
   ]
  },
  {
   "cell_type": "code",
   "execution_count": null,
   "id": "6f464601",
   "metadata": {},
   "outputs": [],
   "source": [
    "# Hyper parameter tuning\n",
    "from sklearn.model_selection import GridSearchCV\n",
    "from sklearn.model_selection import RandomizedSearchCV\n",
    "param_grid = {'criterion':['gini','entropy'],\n",
    "              'max_depth':['None',2,3,4,5],\n",
    "              'max_features':['auto',2,3,5,8],\n",
    "              'min_samples_split':[2,3,5,8],\n",
    "              'n_estimators': [25,50,100,200,400]\n",
    "              }"
   ]
  },
  {
   "cell_type": "code",
   "execution_count": null,
   "id": "f9b7d406",
   "metadata": {},
   "outputs": [],
   "source": [
    "# Initiate your model\n",
    "model = RandomForestClassifier()\n",
    "# Get a list of all possible parameters\n",
    "\n",
    "grid_search_acc = GridSearchCV(estimator = model,  \n",
    "                           param_grid = param_grid,\n",
    "                           scoring = 'accuracy',\n",
    "                           cv = 10,\n",
    "                           verbose=0)\n",
    "grid_search_Bal_acc = GridSearchCV(estimator = model,  \n",
    "                           param_grid = param_grid,\n",
    "                           scoring = 'balanced_accuracy',\n",
    "                           cv = 10,\n",
    "                           verbose=0)\n",
    "grid_search_auc = GridSearchCV(estimator = model,  \n",
    "                           param_grid = param_grid,\n",
    "                           scoring = 'roc_auc',\n",
    "                           cv = 10,\n",
    "                           verbose=0)\n",
    "grid_search_acc.fit(X_train, y_train)\n",
    "grid_search_Bal_acc.fit(X_train, y_train)\n",
    "grid_search_auc.fit(X_train, y_train)"
   ]
  },
  {
   "cell_type": "code",
   "execution_count": null,
   "id": "743d3803",
   "metadata": {},
   "outputs": [],
   "source": [
    "print(grid_search_acc.best_params_)\n",
    "print(grid_search_Bal_acc.best_params_)\n",
    "print(grid_search_auc.best_params_)"
   ]
  },
  {
   "cell_type": "code",
   "execution_count": null,
   "id": "daf7f7c4",
   "metadata": {},
   "outputs": [],
   "source": [
    "y_pred = grid_search_acc.predict(X_test)"
   ]
  },
  {
   "cell_type": "code",
   "execution_count": null,
   "id": "b23a969b",
   "metadata": {},
   "outputs": [],
   "source": [
    "grid_search_acc"
   ]
  },
  {
   "cell_type": "code",
   "execution_count": null,
   "id": "9402b930",
   "metadata": {},
   "outputs": [],
   "source": [
    "print(accuracy_score(y_test,y_pred))\n",
    "print(balanced_accuracy_score(y_test,y_pred))\n",
    "print(f1_score(y_test,y_pred))\n",
    "print(precision_score(y_test,y_pred))\n",
    "print(recall_score(y_test,y_pred))\n",
    "print(confusion_matrix(y_test, y_pred))\n",
    "print(cohen_kappa_score(y_test,y_pred))\n",
    "print(classification_report(y_test,y_pred))\n",
    "print(roc_auc_score(y_test, y_pred_proba[:,1]))"
   ]
  },
  {
   "cell_type": "markdown",
   "id": "d99f6e26",
   "metadata": {},
   "source": [
    "# Decision Tree Classifier"
   ]
  },
  {
   "cell_type": "code",
   "execution_count": null,
   "id": "20034409",
   "metadata": {},
   "outputs": [],
   "source": [
    "from sklearn.tree import DecisionTreeClassifier"
   ]
  },
  {
   "cell_type": "code",
   "execution_count": null,
   "id": "555adebc",
   "metadata": {
    "scrolled": true
   },
   "outputs": [],
   "source": [
    "model = DecisionTreeClassifier()\n",
    "model.fit(X_train,y_train)"
   ]
  },
  {
   "cell_type": "code",
   "execution_count": null,
   "id": "2724ebc7",
   "metadata": {},
   "outputs": [],
   "source": [
    "# Accuracy on training data\n",
    "model.score(X_train,y_train)"
   ]
  },
  {
   "cell_type": "code",
   "execution_count": null,
   "id": "cfe14354",
   "metadata": {},
   "outputs": [],
   "source": [
    "# Predict the model on the Testing Data\n",
    "y_pred = model.predict(X_test)\n",
    "# Predict probabilities of belonging to each of the groups\n",
    "y_pred_proba = model.predict_proba(X_test)"
   ]
  },
  {
   "cell_type": "code",
   "execution_count": null,
   "id": "53c1d401",
   "metadata": {},
   "outputs": [],
   "source": [
    "print(accuracy_score(y_test,y_pred))\n",
    "print(balanced_accuracy_score(y_test,y_pred))\n",
    "print(f1_score(y_test,y_pred))\n",
    "print(precision_score(y_test,y_pred))\n",
    "print(recall_score(y_test,y_pred))\n",
    "plot_confusion_matrix(model,X_test,y_test)\n",
    "print(cohen_kappa_score(y_test,y_pred))\n",
    "print(classification_report(y_test,y_pred))\n",
    "print(roc_auc_score(y_test, y_pred_proba[:,1]))\n",
    "plot_roc_curve(model,X_test,y_test)"
   ]
  },
  {
   "cell_type": "code",
   "execution_count": null,
   "id": "d05dedf3",
   "metadata": {},
   "outputs": [],
   "source": [
    "# Cross Validation as a better process over train-test split\n",
    "from sklearn.model_selection import cross_val_score\n",
    "scores_accuracy = cross_val_score(model, X_train, y_train, cv=10, scoring='accuracy')\n",
    "scores_balanced_accuracy = cross_val_score(model, X_train, y_train, cv=10, scoring='balanced_accuracy')\n",
    "scores_auc = cross_val_score(model, X_train, y_train, cv=10, scoring='roc_auc')\n",
    "scores_accuracy.mean(),scores_balanced_accuracy.mean(), scores_auc.mean()"
   ]
  },
  {
   "cell_type": "code",
   "execution_count": null,
   "id": "f3af90f0",
   "metadata": {},
   "outputs": [],
   "source": [
    "scores_accuracy,scores_balanced_accuracy,scores_auc"
   ]
  },
  {
   "cell_type": "code",
   "execution_count": null,
   "id": "9f033b47",
   "metadata": {},
   "outputs": [],
   "source": [
    "# Hyper parameter tuning\n",
    "from sklearn.model_selection import GridSearchCV\n",
    "from sklearn.model_selection import RandomizedSearchCV\n",
    "param_grid = {'criterion':['gini','entropy'],\n",
    "              'max_depth':[2,3,4,5,\"None\"],\n",
    "              'min_samples_split':[2,3,5,8],\n",
    "              'max_features':[2,3,5,8,\"None\"]}"
   ]
  },
  {
   "cell_type": "code",
   "execution_count": null,
   "id": "ebdea3fd",
   "metadata": {},
   "outputs": [],
   "source": [
    "# Initiate your model\n",
    "model = DecisionTreeClassifier()\n",
    "# Get a list of all possible parameters\n",
    "\n",
    "grid_search_acc = GridSearchCV(estimator = model,  \n",
    "                           param_grid = param_grid,\n",
    "                           scoring = 'accuracy',\n",
    "                           cv = 10,\n",
    "                           verbose=0)\n",
    "grid_search_Bal_acc = GridSearchCV(estimator = model,  \n",
    "                           param_grid = param_grid,\n",
    "                           scoring = 'balanced_accuracy',\n",
    "                           cv = 10,\n",
    "                           verbose=0)\n",
    "grid_search_auc = GridSearchCV(estimator = model,  \n",
    "                           param_grid = param_grid,\n",
    "                           scoring = 'roc_auc',\n",
    "                           cv = 10,\n",
    "                           verbose=0)\n",
    "grid_search_acc.fit(X_train, y_train)\n",
    "grid_search_Bal_acc.fit(X_train, y_train)\n",
    "grid_search_auc.fit(X_train, y_train)"
   ]
  },
  {
   "cell_type": "code",
   "execution_count": null,
   "id": "c2edc250",
   "metadata": {},
   "outputs": [],
   "source": [
    "print(grid_search_acc.best_params_)\n",
    "print(grid_search_Bal_acc.best_params_)\n",
    "print(grid_search_auc.best_params_)"
   ]
  },
  {
   "cell_type": "code",
   "execution_count": null,
   "id": "385ea8dd",
   "metadata": {},
   "outputs": [],
   "source": [
    "y_pred = grid_search_acc.predict(X_test)"
   ]
  },
  {
   "cell_type": "code",
   "execution_count": null,
   "id": "9b991847",
   "metadata": {},
   "outputs": [],
   "source": [
    "grid_search_acc"
   ]
  },
  {
   "cell_type": "code",
   "execution_count": null,
   "id": "b4f8a034",
   "metadata": {
    "scrolled": true
   },
   "outputs": [],
   "source": [
    "print(accuracy_score(y_test,y_pred))\n",
    "print(balanced_accuracy_score(y_test,y_pred))\n",
    "print(f1_score(y_test,y_pred))\n",
    "print(precision_score(y_test,y_pred))\n",
    "print(recall_score(y_test,y_pred))\n",
    "print(confusion_matrix(y_test, y_pred))\n",
    "print(cohen_kappa_score(y_test,y_pred))\n",
    "print(classification_report(y_test,y_pred))\n",
    "print(roc_auc_score(y_test, y_pred_proba[:,1]))"
   ]
  },
  {
   "cell_type": "code",
   "execution_count": null,
   "id": "ade59086",
   "metadata": {},
   "outputs": [],
   "source": []
  },
  {
   "cell_type": "markdown",
   "id": "ef4aa477",
   "metadata": {},
   "source": [
    "# Random Forest Classification"
   ]
  },
  {
   "cell_type": "code",
   "execution_count": null,
   "id": "c1d2b10b",
   "metadata": {},
   "outputs": [],
   "source": [
    "from sklearn.ensemble import RandomForestClassifier"
   ]
  },
  {
   "cell_type": "code",
   "execution_count": null,
   "id": "8988f675",
   "metadata": {},
   "outputs": [],
   "source": [
    "model = RandomForestClassifier()\n",
    "model.fit(X_train,y_train)"
   ]
  },
  {
   "cell_type": "code",
   "execution_count": null,
   "id": "7f67c12e",
   "metadata": {},
   "outputs": [],
   "source": [
    "# Accuracy on training data\n",
    "model.score(X_train,y_train)"
   ]
  },
  {
   "cell_type": "code",
   "execution_count": null,
   "id": "8e8fc696",
   "metadata": {},
   "outputs": [],
   "source": [
    "# Predict the model on the Testing Data\n",
    "y_pred = model.predict(X_test)\n",
    "# Predict probabilities of belonging to each of the groups\n",
    "y_pred_proba = model.predict_proba(X_test)"
   ]
  },
  {
   "cell_type": "code",
   "execution_count": null,
   "id": "0221937f",
   "metadata": {},
   "outputs": [],
   "source": [
    "print(accuracy_score(y_test,y_pred))\n",
    "print(balanced_accuracy_score(y_test,y_pred))\n",
    "print(f1_score(y_test,y_pred))\n",
    "print(precision_score(y_test,y_pred))\n",
    "print(recall_score(y_test,y_pred))\n",
    "plot_confusion_matrix(model,X_test,y_test)\n",
    "print(cohen_kappa_score(y_test,y_pred))\n",
    "print(classification_report(y_test,y_pred))\n",
    "print(roc_auc_score(y_test, y_pred_proba[:,1]))\n",
    "plot_roc_curve(model,X_test,y_test)"
   ]
  },
  {
   "cell_type": "code",
   "execution_count": null,
   "id": "f2f77957",
   "metadata": {},
   "outputs": [],
   "source": [
    "# Cross Validation as a better process over train-test split\n",
    "from sklearn.model_selection import cross_val_score\n",
    "scores_accuracy = cross_val_score(model, X_train, y_train, cv=10, scoring='accuracy')\n",
    "scores_balanced_accuracy = cross_val_score(model, X_train, y_train, cv=10, scoring='balanced_accuracy')\n",
    "scores_auc = cross_val_score(model, X_train, y_train, cv=10, scoring='roc_auc')\n",
    "scores_accuracy.mean(),scores_balanced_accuracy.mean(), scores_auc.mean()"
   ]
  },
  {
   "cell_type": "code",
   "execution_count": null,
   "id": "10c574ef",
   "metadata": {},
   "outputs": [],
   "source": [
    "scores_accuracy,scores_balanced_accuracy,scores_auc"
   ]
  },
  {
   "cell_type": "code",
   "execution_count": null,
   "id": "44bdb182",
   "metadata": {},
   "outputs": [],
   "source": [
    "# Hyper parameter tuning\n",
    "from sklearn.model_selection import GridSearchCV\n",
    "from sklearn.model_selection import RandomizedSearchCV\n",
    "param_grid = {'criterion':['gini','entropy'],\n",
    "              'max_depth':['None',2,3,4,5],\n",
    "              'max_features':['auto',2,3,5,8],\n",
    "              'min_samples_split':[2,3,5,8],\n",
    "              'n_estimators': [25,50,100,200,400]\n",
    "              }"
   ]
  },
  {
   "cell_type": "code",
   "execution_count": null,
   "id": "2a749d80",
   "metadata": {},
   "outputs": [],
   "source": [
    "# Initiate your model\n",
    "model = RandomForestClassifier()\n",
    "# Get a list of all possible parameters\n",
    "\n",
    "grid_search_acc = GridSearchCV(estimator = model,  \n",
    "                           param_grid = param_grid,\n",
    "                           scoring = 'accuracy',\n",
    "                           cv = 10,\n",
    "                           verbose=0)\n",
    "grid_search_Bal_acc = GridSearchCV(estimator = model,  \n",
    "                           param_grid = param_grid,\n",
    "                           scoring = 'balanced_accuracy',\n",
    "                           cv = 10,\n",
    "                           verbose=0)\n",
    "grid_search_auc = GridSearchCV(estimator = model,  \n",
    "                           param_grid = param_grid,\n",
    "                           scoring = 'roc_auc',\n",
    "                           cv = 10,\n",
    "                           verbose=0)\n",
    "grid_search_acc.fit(X_train, y_train)\n",
    "grid_search_Bal_acc.fit(X_train, y_train)\n",
    "grid_search_auc.fit(X_train, y_train)"
   ]
  },
  {
   "cell_type": "code",
   "execution_count": null,
   "id": "8f678a11",
   "metadata": {},
   "outputs": [],
   "source": [
    "print(grid_search_acc.best_params_)\n",
    "print(grid_search_Bal_acc.best_params_)\n",
    "print(grid_search_auc.best_params_)"
   ]
  },
  {
   "cell_type": "code",
   "execution_count": null,
   "id": "b1c34306",
   "metadata": {},
   "outputs": [],
   "source": [
    "y_pred = grid_search_acc.predict(X_test)"
   ]
  },
  {
   "cell_type": "code",
   "execution_count": null,
   "id": "54448a98",
   "metadata": {},
   "outputs": [],
   "source": [
    "grid_search_acc"
   ]
  },
  {
   "cell_type": "code",
   "execution_count": null,
   "id": "0d4ac5d7",
   "metadata": {},
   "outputs": [],
   "source": [
    "print(accuracy_score(y_test,y_pred))\n",
    "print(balanced_accuracy_score(y_test,y_pred))\n",
    "print(f1_score(y_test,y_pred))\n",
    "print(precision_score(y_test,y_pred))\n",
    "print(recall_score(y_test,y_pred))\n",
    "print(confusion_matrix(y_test, y_pred))\n",
    "print(cohen_kappa_score(y_test,y_pred))\n",
    "print(classification_report(y_test,y_pred))\n",
    "print(roc_auc_score(y_test, y_pred_proba[:,1]))"
   ]
  },
  {
   "cell_type": "code",
   "execution_count": null,
   "id": "5d970d49",
   "metadata": {},
   "outputs": [],
   "source": [
    "### Visualize decision Trees"
   ]
  },
  {
   "cell_type": "code",
   "execution_count": null,
   "id": "f7fb3af7",
   "metadata": {},
   "outputs": [],
   "source": [
    "model = DecisionTreeClassifier(criterion = 'gini', max_depth = 4, max_features= 8, min_samples_split= 2)\n",
    "model.fit(X_train,y_train)\n",
    "from sklearn import tree\n",
    "text_representation = tree.export_text(model)\n",
    "print(text_representation)"
   ]
  },
  {
   "cell_type": "code",
   "execution_count": null,
   "id": "af264a05",
   "metadata": {},
   "outputs": [],
   "source": [
    "fig = plt.figure(figsize=(25,20))\n",
    "_ = tree.plot_tree(model, \n",
    "                   feature_names=X_train.columns,\n",
    "                   filled=True)"
   ]
  },
  {
   "cell_type": "code",
   "execution_count": null,
   "id": "c66ee33c",
   "metadata": {},
   "outputs": [],
   "source": [
    "fig.savefig(\"decistion_tree.png\")"
   ]
  },
  {
   "cell_type": "markdown",
   "id": "b8b8164a",
   "metadata": {},
   "source": [
    "# Gradient Booosting Classification"
   ]
  },
  {
   "cell_type": "code",
   "execution_count": null,
   "id": "65aeae3a",
   "metadata": {},
   "outputs": [],
   "source": [
    "from sklearn.ensemble import GradientBoostingClassifier"
   ]
  },
  {
   "cell_type": "code",
   "execution_count": null,
   "id": "7b698d07",
   "metadata": {},
   "outputs": [],
   "source": [
    "model = GradientBoostingClassifier()\n",
    "model.fit(X_train,y_train)"
   ]
  },
  {
   "cell_type": "code",
   "execution_count": null,
   "id": "9c181b37",
   "metadata": {},
   "outputs": [],
   "source": [
    "# Accuracy on training data\n",
    "model.score(X_train,y_train)"
   ]
  },
  {
   "cell_type": "code",
   "execution_count": null,
   "id": "0bcc3808",
   "metadata": {},
   "outputs": [],
   "source": [
    "# Predict the model on the Testing Data\n",
    "y_pred = model.predict(X_test)\n",
    "# Predict probabilities of belonging to each of the groups\n",
    "y_pred_proba = model.predict_proba(X_test)"
   ]
  },
  {
   "cell_type": "code",
   "execution_count": null,
   "id": "5a3fd518",
   "metadata": {},
   "outputs": [],
   "source": [
    "print(accuracy_score(y_test,y_pred))\n",
    "print(balanced_accuracy_score(y_test,y_pred))\n",
    "print(f1_score(y_test,y_pred))\n",
    "print(precision_score(y_test,y_pred))\n",
    "print(recall_score(y_test,y_pred))\n",
    "plot_confusion_matrix(model,X_test,y_test)\n",
    "print(cohen_kappa_score(y_test,y_pred))\n",
    "print(classification_report(y_test,y_pred))\n",
    "print(roc_auc_score(y_test, y_pred_proba[:,1]))\n",
    "plot_roc_curve(model,X_test,y_test)"
   ]
  },
  {
   "cell_type": "code",
   "execution_count": null,
   "id": "85fd96d1",
   "metadata": {},
   "outputs": [],
   "source": [
    "# Cross Validation as a better process over train-test split\n",
    "from sklearn.model_selection import cross_val_score\n",
    "scores_accuracy = cross_val_score(model, X_train, y_train, cv=10, scoring='accuracy')\n",
    "scores_balanced_accuracy = cross_val_score(model, X_train, y_train, cv=10, scoring='balanced_accuracy')\n",
    "scores_auc = cross_val_score(model, X_train, y_train, cv=10, scoring='roc_auc')\n",
    "scores_accuracy.mean(),scores_balanced_accuracy.mean(), scores_auc.mean()"
   ]
  },
  {
   "cell_type": "code",
   "execution_count": null,
   "id": "6725d0d1",
   "metadata": {},
   "outputs": [],
   "source": [
    "scores_accuracy,scores_balanced_accuracy,scores_auc"
   ]
  },
  {
   "cell_type": "code",
   "execution_count": null,
   "id": "024b7d91",
   "metadata": {},
   "outputs": [],
   "source": [
    "# Hyper parameter tuning\n",
    "from sklearn.model_selection import GridSearchCV\n",
    "from sklearn.model_selection import RandomizedSearchCV\n",
    "param_grid = {'max_depth':['None',2,3,4,5],\n",
    "              'max_features':['auto',2,3,5,8],\n",
    "              'min_samples_split':[2,3,5,8],\n",
    "              'n_estimators': [25,50,100,200,400],\n",
    "               'learning_rate': [0.01,0.05,0.1,0.2,0.5]\n",
    "              }"
   ]
  },
  {
   "cell_type": "code",
   "execution_count": null,
   "id": "3c7642f9",
   "metadata": {},
   "outputs": [],
   "source": [
    "# Initiate your model\n",
    "model = GradientBoostingClassifier()\n",
    "# Get a list of all possible parameters\n",
    "\n",
    "grid_search_acc = GridSearchCV(estimator = model,  \n",
    "                           param_grid = param_grid,\n",
    "                           scoring = 'accuracy',\n",
    "                           cv = 10,\n",
    "                           verbose=0)\n",
    "grid_search_Bal_acc = GridSearchCV(estimator = model,  \n",
    "                           param_grid = param_grid,\n",
    "                           scoring = 'balanced_accuracy',\n",
    "                           cv = 10,\n",
    "                           verbose=0)\n",
    "grid_search_auc = GridSearchCV(estimator = model,  \n",
    "                           param_grid = param_grid,\n",
    "                           scoring = 'roc_auc',\n",
    "                           cv = 10,\n",
    "                           verbose=0)\n",
    "grid_search_acc.fit(X_train, y_train)\n",
    "grid_search_Bal_acc.fit(X_train, y_train)\n",
    "grid_search_auc.fit(X_train, y_train)"
   ]
  },
  {
   "cell_type": "code",
   "execution_count": null,
   "id": "8254c4e6",
   "metadata": {},
   "outputs": [],
   "source": [
    "print(grid_search_acc.best_params_)\n",
    "print(grid_search_Bal_acc.best_params_)\n",
    "print(grid_search_auc.best_params_)"
   ]
  },
  {
   "cell_type": "code",
   "execution_count": null,
   "id": "d14f88af",
   "metadata": {},
   "outputs": [],
   "source": [
    "y_pred = grid_search_acc.predict(X_test)"
   ]
  },
  {
   "cell_type": "code",
   "execution_count": null,
   "id": "c665c94e",
   "metadata": {},
   "outputs": [],
   "source": [
    "grid_search_acc"
   ]
  },
  {
   "cell_type": "code",
   "execution_count": null,
   "id": "53c5d353",
   "metadata": {},
   "outputs": [],
   "source": [
    "print(accuracy_score(y_test,y_pred))\n",
    "print(balanced_accuracy_score(y_test,y_pred))\n",
    "print(f1_score(y_test,y_pred))\n",
    "print(precision_score(y_test,y_pred))\n",
    "print(recall_score(y_test,y_pred))\n",
    "print(confusion_matrix(y_test, y_pred))\n",
    "print(cohen_kappa_score(y_test,y_pred))\n",
    "print(classification_report(y_test,y_pred))\n",
    "print(roc_auc_score(y_test, y_pred_proba[:,1]))"
   ]
  },
  {
   "cell_type": "code",
   "execution_count": null,
   "id": "e0c01acf",
   "metadata": {},
   "outputs": [],
   "source": []
  },
  {
   "cell_type": "markdown",
   "id": "8304974c",
   "metadata": {},
   "source": [
    "## XGBOOST"
   ]
  },
  {
   "cell_type": "code",
   "execution_count": null,
   "id": "37691d89",
   "metadata": {},
   "outputs": [],
   "source": [
    "from xgboost import XGBClassifier"
   ]
  },
  {
   "cell_type": "code",
   "execution_count": null,
   "id": "99bc9d4d",
   "metadata": {},
   "outputs": [],
   "source": [
    "model = XGBClassifier(use_label_encoder=False, \n",
    "                      booster='gbtree', # boosting algorithm to use, default gbtree, othera: gblinear, dart\n",
    "                      n_estimators=100, # number of trees, default = 100\n",
    "                      eta=0.3, # this is learning rate, default = 0.3\n",
    "                      max_depth=6, # maximum depth of the tree, default = 6\n",
    "                      gamma = 0, # used for pruning, if gain < gamma the branch will be pruned, default = 0\n",
    "                      reg_lambda = 1, # regularization parameter, defautl = 1\n",
    "                      #min_child_weight=0 # this refers to Cover which is also responsible for pruning if not set to 0\n",
    "                     )\n"
   ]
  },
  {
   "cell_type": "code",
   "execution_count": null,
   "id": "03940c0b",
   "metadata": {},
   "outputs": [],
   "source": [
    "clf = model.fit(X_train, y_train)"
   ]
  },
  {
   "cell_type": "code",
   "execution_count": null,
   "id": "47415ffb",
   "metadata": {},
   "outputs": [],
   "source": [
    "# Predict class labels on training data\n",
    "pred_labels_tr = model.predict(X_train)\n",
    "# Predict class labels on a test data\n",
    "pred_labels_te = model.predict(X_test)"
   ]
  },
  {
   "cell_type": "code",
   "execution_count": null,
   "id": "43fb77e1",
   "metadata": {},
   "outputs": [],
   "source": [
    "score_te = model.score(X_test, y_test)\n",
    "score_te"
   ]
  },
  {
   "cell_type": "code",
   "execution_count": null,
   "id": "2ae8deac",
   "metadata": {},
   "outputs": [],
   "source": [
    "score_tr = model.score(X_train, y_train)\n",
    "score_tr"
   ]
  },
  {
   "cell_type": "code",
   "execution_count": null,
   "id": "6a0c8244",
   "metadata": {},
   "outputs": [],
   "source": [
    "from sklearn.model_selection import GridSearchCV\n",
    "from sklearn.model_selection import RandomizedSearchCV"
   ]
  },
  {
   "cell_type": "code",
   "execution_count": null,
   "id": "bf82851e",
   "metadata": {},
   "outputs": [],
   "source": [
    "param_grid = {'eta':[0,0.2,0.4,0.6,0.8,1],'gamma':[0,1,2,4,8,16],\"n_estimators\":[1,5,10,20,40,100],'min_child_weight':[0,1,2,4,8,16],'max_depth':range(2,10),'subsample':[0,0.2,0.4,0.6,0.8,1]}\n"
   ]
  },
  {
   "cell_type": "code",
   "execution_count": null,
   "id": "38cd1183",
   "metadata": {},
   "outputs": [],
   "source": [
    "grid = RandomizedSearchCV(model,param_distributions=param_grid,scoring = 'accuracy',n_iter = 50)\n",
    "grid.fit(X_train,y_train)\n",
    "grid.best_params_\n"
   ]
  },
  {
   "cell_type": "code",
   "execution_count": null,
   "id": "947d57ce",
   "metadata": {},
   "outputs": [],
   "source": [
    "y_pred = grid.predict(X_test)\n",
    "[round(accuracy_score(y_test,y_pred),3),round(cohen_kappa_score(y_test,y_pred),3),round(roc_auc_score(y_test,y_pred),3)]\n"
   ]
  },
  {
   "cell_type": "markdown",
   "id": "364b4c15",
   "metadata": {},
   "source": [
    "## Naive bayes"
   ]
  },
  {
   "cell_type": "code",
   "execution_count": null,
   "id": "e2b8c11b",
   "metadata": {},
   "outputs": [],
   "source": [
    "from sklearn.naive_bayes import GaussianNB\n",
    "classifier = GaussianNB()\n",
    "classifier.fit(X_train, y_train)"
   ]
  },
  {
   "cell_type": "code",
   "execution_count": null,
   "id": "686dac4b",
   "metadata": {},
   "outputs": [],
   "source": [
    "y_pred = classifier.predict(X_test)"
   ]
  },
  {
   "cell_type": "code",
   "execution_count": null,
   "id": "feed2b60",
   "metadata": {},
   "outputs": [],
   "source": [
    "print(accuracy_score(y_test,y_pred))\n",
    "print(balanced_accuracy_score(y_test,y_pred))\n",
    "print(f1_score(y_test,y_pred))\n",
    "print(precision_score(y_test,y_pred))\n",
    "print(recall_score(y_test,y_pred))\n",
    "plot_confusion_matrix(classifier,X_test,y_test)\n",
    "print(cohen_kappa_score(y_test,y_pred))\n",
    "print(classification_report(y_test,y_pred))\n",
    "#print(roc_auc_score(y_test, y_pred_proba[:,1]))\n",
    "plot_roc_curve(classifier,X_test,y_test)"
   ]
  },
  {
   "cell_type": "code",
   "execution_count": null,
   "id": "6e0a2211",
   "metadata": {},
   "outputs": [],
   "source": [
    "accuracy_score(y_test, y_pred)"
   ]
  },
  {
   "cell_type": "markdown",
   "id": "734a4959",
   "metadata": {},
   "source": [
    "## MultiLayer Perceptron (Artificial Neural Network)"
   ]
  },
  {
   "cell_type": "code",
   "execution_count": null,
   "id": "b50a0871",
   "metadata": {},
   "outputs": [],
   "source": [
    "from sklearn.neural_network import MLPClassifier"
   ]
  },
  {
   "cell_type": "code",
   "execution_count": null,
   "id": "187e250f",
   "metadata": {},
   "outputs": [],
   "source": [
    "model = MLPClassifier()\n",
    "model.fit(X_train, y_train)\n",
    "y_pred = perceptron.predict(X_test)"
   ]
  },
  {
   "cell_type": "code",
   "execution_count": null,
   "id": "9cc93a2a",
   "metadata": {},
   "outputs": [],
   "source": [
    "plot_confusion_matrix(model,X_test,y_test)"
   ]
  },
  {
   "cell_type": "code",
   "execution_count": null,
   "id": "905a81a6",
   "metadata": {},
   "outputs": [],
   "source": [
    "from sklearn.model_selection import GridSearchCV\n",
    "from sklearn.model_selection import RandomizedSearchCV\n"
   ]
  },
  {
   "cell_type": "code",
   "execution_count": null,
   "id": "91dce4d9",
   "metadata": {},
   "outputs": [],
   "source": [
    "param_grid = {'activation':['identity','logistic','tanh','relu'],\n",
    "             'learning_rate':['constant','invscaling','adaptive'],\n",
    "              'learning_rate_init':[0.001, 0.005, 0.01],\n",
    "              'shuffle':[True, False]}"
   ]
  },
  {
   "cell_type": "code",
   "execution_count": null,
   "id": "7ae0438b",
   "metadata": {},
   "outputs": [],
   "source": [
    "grid = GridSearchCV(model,param_grid=param_grid)\n",
    "grid.fit(X_train,y_train)\n",
    "grid.best_params_"
   ]
  },
  {
   "cell_type": "code",
   "execution_count": null,
   "id": "57398b15",
   "metadata": {},
   "outputs": [],
   "source": [
    "y_pred = grid.predict(X_test)\n",
    "[round(accuracy_score(y_test,y_pred),3),round(cohen_kappa_score(y_test,y_pred),3),round(roc_auc_score(y_test,y_pred),3)]\n"
   ]
  },
  {
   "cell_type": "markdown",
   "id": "9138b3e4",
   "metadata": {},
   "source": [
    "# Implementing an end-end project using Pipeline"
   ]
  },
  {
   "cell_type": "code",
   "execution_count": null,
   "id": "9c11ba3f",
   "metadata": {},
   "outputs": [],
   "source": [
    "from sklearn.preprocessing import StandardScaler\n",
    "from sklearn.preprocessing import  MinMaxScaler\n",
    "from sklearn.model_selection import train_test_split\n",
    "from sklearn.model_selection import KFold\n",
    "from sklearn.model_selection import StratifiedKFold\n",
    "from sklearn.model_selection import cross_val_score\n",
    "from sklearn.model_selection import GridSearchCV\n",
    "from sklearn.metrics import classification_report\n",
    "from sklearn.metrics import confusion_matrix\n",
    "from sklearn.metrics import accuracy_score\n",
    "from sklearn.metrics import cohen_kappa_score\n",
    "from sklearn.pipeline import Pipeline\n",
    "from sklearn.linear_model import LogisticRegression\n",
    "from sklearn.tree import DecisionTreeClassifier\n",
    "from sklearn.neighbors import KNeighborsClassifier\n",
    "from sklearn.discriminant_analysis import LinearDiscriminantAnalysis\n",
    "from sklearn.naive_bayes import GaussianNB\n",
    "from sklearn.svm import SVC\n",
    "from sklearn.ensemble import AdaBoostClassifier\n",
    "from sklearn.ensemble import GradientBoostingClassifier\n",
    "from sklearn.ensemble import RandomForestClassifier\n",
    "from sklearn.neural_network import MLPClassifier"
   ]
  },
  {
   "cell_type": "code",
   "execution_count": null,
   "id": "77ba9c7d",
   "metadata": {},
   "outputs": [],
   "source": [
    "def GetBasedModel():\n",
    "    basedModels = []\n",
    "    basedModels.append(('LR'   , LogisticRegression()))\n",
    "    basedModels.append(('LDA'  , LinearDiscriminantAnalysis()))\n",
    "    basedModels.append(('KNN'  , KNeighborsClassifier()))\n",
    "    basedModels.append(('CART' , DecisionTreeClassifier()))\n",
    "    basedModels.append(('NB'   , GaussianNB()))\n",
    "    basedModels.append(('SVM'  , SVC(probability=True)))\n",
    "    basedModels.append(('AB'   , AdaBoostClassifier()))\n",
    "    basedModels.append(('GBM'  , GradientBoostingClassifier()))\n",
    "    basedModels.append(('RF'   , RandomForestClassifier()))\n",
    "    basedModels.append(('NN'   , MLPClassifier()))\n",
    "    \n",
    "    return basedModels\n"
   ]
  },
  {
   "cell_type": "code",
   "execution_count": null,
   "id": "6b08aa19",
   "metadata": {},
   "outputs": [],
   "source": [
    "def BasedLine2(X_train, y_train,models):\n",
    "    # Test options and evaluation metric\n",
    "    num_folds = 10\n",
    "    scoring = 'accuracy'\n",
    "\n",
    "    results = []\n",
    "    names = []\n",
    "    for name, model in models:\n",
    "        kfold = StratifiedKFold(n_splits=num_folds)\n",
    "        cv_results = cross_val_score(model, X_train, y_train, cv=kfold, scoring=scoring)\n",
    "        results.append(cv_results)\n",
    "        names.append(name)\n",
    "        msg = \"%s: %f (%f)\" % (name, cv_results.mean(), cv_results.std())\n",
    "        print(msg)\n",
    "        \n",
    "    return names, results"
   ]
  },
  {
   "cell_type": "code",
   "execution_count": null,
   "id": "8ba8e53b",
   "metadata": {},
   "outputs": [],
   "source": [
    "models = GetBasedModel()\n",
    "names,results = BasedLine2(X_train, y_train,models)"
   ]
  },
  {
   "cell_type": "code",
   "execution_count": null,
   "id": "4db2a59a",
   "metadata": {},
   "outputs": [],
   "source": [
    "from sklearn.preprocessing import StandardScaler\n",
    "from sklearn.preprocessing import MinMaxScaler\n",
    "\n",
    "\n",
    "def GetScaledModel(nameOfScaler):\n",
    "    \n",
    "    if nameOfScaler == 'standard':\n",
    "        scaler = StandardScaler()\n",
    "    elif nameOfScaler =='minmax':\n",
    "        scaler = MinMaxScaler()\n",
    "\n",
    "    pipelines = []\n",
    "    pipelines.append((nameOfScaler+'LR'  , Pipeline([('Scaler', scaler),('LR'  , LogisticRegression())])))\n",
    "    pipelines.append((nameOfScaler+'LDA' , Pipeline([('Scaler', scaler),('LDA' , LinearDiscriminantAnalysis())])))\n",
    "    pipelines.append((nameOfScaler+'KNN' , Pipeline([('Scaler', scaler),('KNN' , KNeighborsClassifier())])))\n",
    "    pipelines.append((nameOfScaler+'CART', Pipeline([('Scaler', scaler),('CART', DecisionTreeClassifier())])))\n",
    "    pipelines.append((nameOfScaler+'NB'  , Pipeline([('Scaler', scaler),('NB'  , GaussianNB())])))\n",
    "    pipelines.append((nameOfScaler+'SVM' , Pipeline([('Scaler', scaler),('SVM' , SVC())])))\n",
    "    pipelines.append((nameOfScaler+'AB'  , Pipeline([('Scaler', scaler),('AB'  , AdaBoostClassifier())])  ))\n",
    "    pipelines.append((nameOfScaler+'GBM' , Pipeline([('Scaler', scaler),('GMB' , GradientBoostingClassifier())])  ))\n",
    "    pipelines.append((nameOfScaler+'RF'  , Pipeline([('Scaler', scaler),('RF'  , RandomForestClassifier())])  ))\n",
    "    pipelines.append((nameOfScaler+'NN'  , Pipeline([('Scaler', scaler),('NN'  , MLPClassifier())])  ))\n",
    "\n",
    "\n",
    "    return pipelines "
   ]
  },
  {
   "cell_type": "code",
   "execution_count": null,
   "id": "671244e3",
   "metadata": {},
   "outputs": [],
   "source": [
    "models = GetScaledModel('minmax')\n",
    "names,results = BasedLine2(X_train, y_train,models)\n"
   ]
  },
  {
   "cell_type": "code",
   "execution_count": null,
   "id": "1dca389e",
   "metadata": {},
   "outputs": [],
   "source": []
  }
 ],
 "metadata": {
  "kernelspec": {
   "display_name": "Python 3 (ipykernel)",
   "language": "python",
   "name": "python3"
  },
  "language_info": {
   "codemirror_mode": {
    "name": "ipython",
    "version": 3
   },
   "file_extension": ".py",
   "mimetype": "text/x-python",
   "name": "python",
   "nbconvert_exporter": "python",
   "pygments_lexer": "ipython3",
   "version": "3.9.12"
  }
 },
 "nbformat": 4,
 "nbformat_minor": 5
}
