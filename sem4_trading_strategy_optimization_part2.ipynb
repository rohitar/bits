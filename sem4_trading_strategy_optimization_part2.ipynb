{
  "cells": [
    {
      "cell_type": "markdown",
      "metadata": {
        "id": "IDDfbFIn0SdA"
      },
      "source": [
        "# Buy/Sell Decisions based on Sentiment Analysis using News Headlines"
      ]
    },
    {
      "cell_type": "code",
      "execution_count": null,
      "metadata": {
        "colab": {
          "base_uri": "https://localhost:8080/"
        },
        "id": "U70_xikC1DYv",
        "outputId": "306c0d9b-5a1a-4110-c017-32ea8c232d32"
      },
      "outputs": [
        {
          "output_type": "stream",
          "name": "stdout",
          "text": [
            "Mounted at /content/drive\n"
          ]
        }
      ],
      "source": [
        "from google.colab import drive\n",
        "drive.mount('/content/drive')"
      ]
    },
    {
      "cell_type": "code",
      "execution_count": null,
      "metadata": {
        "id": "wmJjdvFX0SdD"
      },
      "outputs": [],
      "source": [
        "from IPython.core.interactiveshell import InteractiveShell\n",
        "InteractiveShell.ast_node_interactivity = \"all\"\n",
        "\n",
        "import warnings\n",
        "warnings.filterwarnings('ignore')"
      ]
    },
    {
      "cell_type": "code",
      "execution_count": null,
      "metadata": {
        "colab": {
          "base_uri": "https://localhost:8080/"
        },
        "id": "HcL57jmG0SdF",
        "outputId": "a840c163-3de9-4ac8-8c55-2a6c2a538b4c"
      },
      "outputs": [
        {
          "output_type": "stream",
          "name": "stderr",
          "text": [
            "[nltk_data] Downloading package punkt to /root/nltk_data...\n",
            "[nltk_data]   Unzipping tokenizers/punkt.zip.\n"
          ]
        },
        {
          "output_type": "execute_result",
          "data": {
            "text/plain": [
              "True"
            ]
          },
          "metadata": {},
          "execution_count": 3
        }
      ],
      "source": [
        "import nltk\n",
        "nltk.download('punkt')"
      ]
    },
    {
      "cell_type": "code",
      "execution_count": null,
      "metadata": {
        "id": "xqGm9lMd0SdF"
      },
      "outputs": [],
      "source": [
        "import pandas as pd\n",
        "import numpy as np"
      ]
    },
    {
      "cell_type": "code",
      "execution_count": null,
      "metadata": {
        "colab": {
          "base_uri": "https://localhost:8080/",
          "height": 584
        },
        "id": "1891Yswd0SdG",
        "outputId": "c3a4e748-d816-4392-c59c-ac259dc88be3"
      },
      "outputs": [
        {
          "output_type": "execute_result",
          "data": {
            "text/plain": [
              "         Date  Label                                               Top1  \\\n",
              "0  2000-01-03      0  A 'hindrance to operations': extracts from the...   \n",
              "1  2000-01-04      0                                          Scorecard   \n",
              "2  2000-01-05      0                  Coventry caught on counter by Flo   \n",
              "\n",
              "                                 Top2  \\\n",
              "0                           Scorecard   \n",
              "1                 The best lake scene   \n",
              "2  United's rivals on the road to Rio   \n",
              "\n",
              "                                            Top3  \\\n",
              "0                Hughes' instant hit buoys Blues   \n",
              "1                  Leader: German sleaze inquiry   \n",
              "2  Thatcher issues defence before trial by video   \n",
              "\n",
              "                                            Top4  \\\n",
              "0       Jack gets his skates on at ice-cold Alex   \n",
              "1                                  Cheerio, boyo   \n",
              "2  Police help Smith lay down the law at Everton   \n",
              "\n",
              "                                          Top5  \\\n",
              "0       Chaos as Maracana builds up for United   \n",
              "1                     The main recommendations   \n",
              "2  Tale of Trautmann bears two more retellings   \n",
              "\n",
              "                                                Top6  \\\n",
              "0  Depleted Leicester prevail as Elliott spoils E...   \n",
              "1                             Has Cubie killed fees?   \n",
              "2                                England on the rack   \n",
              "\n",
              "                                              Top7  \\\n",
              "0                 Hungry Spurs sense rich pickings   \n",
              "1                           Has Cubie killed fees?   \n",
              "2  Pakistan retaliate with call for video of Walsh   \n",
              "\n",
              "                                   Top8  ...  \\\n",
              "0     Gunners so wide of an easy target  ...   \n",
              "1                Has Cubie killed fees?  ...   \n",
              "2  Cullinan continues his Cape monopoly  ...   \n",
              "\n",
              "                                      Top16  \\\n",
              "0  Flintoff injury piles on woe for England   \n",
              "1                      On the critical list   \n",
              "2               South Melbourne (Australia)   \n",
              "\n",
              "                                               Top17  \\\n",
              "0  Hunters threaten Jospin with new battle of the...   \n",
              "1                          The timing of their lives   \n",
              "2                                    Necaxa (Mexico)   \n",
              "\n",
              "                                 Top18  \\\n",
              "0  Kohl's successor drawn into scandal   \n",
              "1                          Dear doctor   \n",
              "2                  Real Madrid (Spain)   \n",
              "\n",
              "                                               Top19  \\\n",
              "0               The difference between men and women   \n",
              "1  Irish court halts IRA man's extradition to Nor...   \n",
              "2                          Raja Casablanca (Morocco)   \n",
              "\n",
              "                                               Top20  \\\n",
              "0                Sara Denver, nurse turned solicitor   \n",
              "1  Burundi peace initiative fades after rebels re...   \n",
              "2                               Corinthians (Brazil)   \n",
              "\n",
              "                                            Top21  \\\n",
              "0  Diana's landmine crusade put Tories in a panic   \n",
              "1            PE points the way forward to the ECB   \n",
              "2                              Tony's pet project   \n",
              "\n",
              "                                               Top22              Top23  \\\n",
              "0  Yeltsin's resignation caught opposition flat-f...   Russian roulette   \n",
              "1  Campaigners keep up pressure on Nazi war crime...     Jane Ratcliffe   \n",
              "2                            Al Nassr (Saudi Arabia)  Ideal Holmes show   \n",
              "\n",
              "                                               Top24  \\\n",
              "0                                           Sold out   \n",
              "1  Yet more things you wouldn't know without the ...   \n",
              "2               Pinochet leaves hospital after tests   \n",
              "\n",
              "                          Top25  \n",
              "0            Recovering a title  \n",
              "1  Millennium bug fails to bite  \n",
              "2                  Useful links  \n",
              "\n",
              "[3 rows x 27 columns]"
            ],
            "text/html": [
              "\n",
              "  <div id=\"df-d7fb2d8d-a4f9-482f-b16a-b04f1db61670\">\n",
              "    <div class=\"colab-df-container\">\n",
              "      <div>\n",
              "<style scoped>\n",
              "    .dataframe tbody tr th:only-of-type {\n",
              "        vertical-align: middle;\n",
              "    }\n",
              "\n",
              "    .dataframe tbody tr th {\n",
              "        vertical-align: top;\n",
              "    }\n",
              "\n",
              "    .dataframe thead th {\n",
              "        text-align: right;\n",
              "    }\n",
              "</style>\n",
              "<table border=\"1\" class=\"dataframe\">\n",
              "  <thead>\n",
              "    <tr style=\"text-align: right;\">\n",
              "      <th></th>\n",
              "      <th>Date</th>\n",
              "      <th>Label</th>\n",
              "      <th>Top1</th>\n",
              "      <th>Top2</th>\n",
              "      <th>Top3</th>\n",
              "      <th>Top4</th>\n",
              "      <th>Top5</th>\n",
              "      <th>Top6</th>\n",
              "      <th>Top7</th>\n",
              "      <th>Top8</th>\n",
              "      <th>...</th>\n",
              "      <th>Top16</th>\n",
              "      <th>Top17</th>\n",
              "      <th>Top18</th>\n",
              "      <th>Top19</th>\n",
              "      <th>Top20</th>\n",
              "      <th>Top21</th>\n",
              "      <th>Top22</th>\n",
              "      <th>Top23</th>\n",
              "      <th>Top24</th>\n",
              "      <th>Top25</th>\n",
              "    </tr>\n",
              "  </thead>\n",
              "  <tbody>\n",
              "    <tr>\n",
              "      <th>0</th>\n",
              "      <td>2000-01-03</td>\n",
              "      <td>0</td>\n",
              "      <td>A 'hindrance to operations': extracts from the...</td>\n",
              "      <td>Scorecard</td>\n",
              "      <td>Hughes' instant hit buoys Blues</td>\n",
              "      <td>Jack gets his skates on at ice-cold Alex</td>\n",
              "      <td>Chaos as Maracana builds up for United</td>\n",
              "      <td>Depleted Leicester prevail as Elliott spoils E...</td>\n",
              "      <td>Hungry Spurs sense rich pickings</td>\n",
              "      <td>Gunners so wide of an easy target</td>\n",
              "      <td>...</td>\n",
              "      <td>Flintoff injury piles on woe for England</td>\n",
              "      <td>Hunters threaten Jospin with new battle of the...</td>\n",
              "      <td>Kohl's successor drawn into scandal</td>\n",
              "      <td>The difference between men and women</td>\n",
              "      <td>Sara Denver, nurse turned solicitor</td>\n",
              "      <td>Diana's landmine crusade put Tories in a panic</td>\n",
              "      <td>Yeltsin's resignation caught opposition flat-f...</td>\n",
              "      <td>Russian roulette</td>\n",
              "      <td>Sold out</td>\n",
              "      <td>Recovering a title</td>\n",
              "    </tr>\n",
              "    <tr>\n",
              "      <th>1</th>\n",
              "      <td>2000-01-04</td>\n",
              "      <td>0</td>\n",
              "      <td>Scorecard</td>\n",
              "      <td>The best lake scene</td>\n",
              "      <td>Leader: German sleaze inquiry</td>\n",
              "      <td>Cheerio, boyo</td>\n",
              "      <td>The main recommendations</td>\n",
              "      <td>Has Cubie killed fees?</td>\n",
              "      <td>Has Cubie killed fees?</td>\n",
              "      <td>Has Cubie killed fees?</td>\n",
              "      <td>...</td>\n",
              "      <td>On the critical list</td>\n",
              "      <td>The timing of their lives</td>\n",
              "      <td>Dear doctor</td>\n",
              "      <td>Irish court halts IRA man's extradition to Nor...</td>\n",
              "      <td>Burundi peace initiative fades after rebels re...</td>\n",
              "      <td>PE points the way forward to the ECB</td>\n",
              "      <td>Campaigners keep up pressure on Nazi war crime...</td>\n",
              "      <td>Jane Ratcliffe</td>\n",
              "      <td>Yet more things you wouldn't know without the ...</td>\n",
              "      <td>Millennium bug fails to bite</td>\n",
              "    </tr>\n",
              "    <tr>\n",
              "      <th>2</th>\n",
              "      <td>2000-01-05</td>\n",
              "      <td>0</td>\n",
              "      <td>Coventry caught on counter by Flo</td>\n",
              "      <td>United's rivals on the road to Rio</td>\n",
              "      <td>Thatcher issues defence before trial by video</td>\n",
              "      <td>Police help Smith lay down the law at Everton</td>\n",
              "      <td>Tale of Trautmann bears two more retellings</td>\n",
              "      <td>England on the rack</td>\n",
              "      <td>Pakistan retaliate with call for video of Walsh</td>\n",
              "      <td>Cullinan continues his Cape monopoly</td>\n",
              "      <td>...</td>\n",
              "      <td>South Melbourne (Australia)</td>\n",
              "      <td>Necaxa (Mexico)</td>\n",
              "      <td>Real Madrid (Spain)</td>\n",
              "      <td>Raja Casablanca (Morocco)</td>\n",
              "      <td>Corinthians (Brazil)</td>\n",
              "      <td>Tony's pet project</td>\n",
              "      <td>Al Nassr (Saudi Arabia)</td>\n",
              "      <td>Ideal Holmes show</td>\n",
              "      <td>Pinochet leaves hospital after tests</td>\n",
              "      <td>Useful links</td>\n",
              "    </tr>\n",
              "  </tbody>\n",
              "</table>\n",
              "<p>3 rows × 27 columns</p>\n",
              "</div>\n",
              "      <button class=\"colab-df-convert\" onclick=\"convertToInteractive('df-d7fb2d8d-a4f9-482f-b16a-b04f1db61670')\"\n",
              "              title=\"Convert this dataframe to an interactive table.\"\n",
              "              style=\"display:none;\">\n",
              "        \n",
              "  <svg xmlns=\"http://www.w3.org/2000/svg\" height=\"24px\"viewBox=\"0 0 24 24\"\n",
              "       width=\"24px\">\n",
              "    <path d=\"M0 0h24v24H0V0z\" fill=\"none\"/>\n",
              "    <path d=\"M18.56 5.44l.94 2.06.94-2.06 2.06-.94-2.06-.94-.94-2.06-.94 2.06-2.06.94zm-11 1L8.5 8.5l.94-2.06 2.06-.94-2.06-.94L8.5 2.5l-.94 2.06-2.06.94zm10 10l.94 2.06.94-2.06 2.06-.94-2.06-.94-.94-2.06-.94 2.06-2.06.94z\"/><path d=\"M17.41 7.96l-1.37-1.37c-.4-.4-.92-.59-1.43-.59-.52 0-1.04.2-1.43.59L10.3 9.45l-7.72 7.72c-.78.78-.78 2.05 0 2.83L4 21.41c.39.39.9.59 1.41.59.51 0 1.02-.2 1.41-.59l7.78-7.78 2.81-2.81c.8-.78.8-2.07 0-2.86zM5.41 20L4 18.59l7.72-7.72 1.47 1.35L5.41 20z\"/>\n",
              "  </svg>\n",
              "      </button>\n",
              "      \n",
              "  <style>\n",
              "    .colab-df-container {\n",
              "      display:flex;\n",
              "      flex-wrap:wrap;\n",
              "      gap: 12px;\n",
              "    }\n",
              "\n",
              "    .colab-df-convert {\n",
              "      background-color: #E8F0FE;\n",
              "      border: none;\n",
              "      border-radius: 50%;\n",
              "      cursor: pointer;\n",
              "      display: none;\n",
              "      fill: #1967D2;\n",
              "      height: 32px;\n",
              "      padding: 0 0 0 0;\n",
              "      width: 32px;\n",
              "    }\n",
              "\n",
              "    .colab-df-convert:hover {\n",
              "      background-color: #E2EBFA;\n",
              "      box-shadow: 0px 1px 2px rgba(60, 64, 67, 0.3), 0px 1px 3px 1px rgba(60, 64, 67, 0.15);\n",
              "      fill: #174EA6;\n",
              "    }\n",
              "\n",
              "    [theme=dark] .colab-df-convert {\n",
              "      background-color: #3B4455;\n",
              "      fill: #D2E3FC;\n",
              "    }\n",
              "\n",
              "    [theme=dark] .colab-df-convert:hover {\n",
              "      background-color: #434B5C;\n",
              "      box-shadow: 0px 1px 3px 1px rgba(0, 0, 0, 0.15);\n",
              "      filter: drop-shadow(0px 1px 2px rgba(0, 0, 0, 0.3));\n",
              "      fill: #FFFFFF;\n",
              "    }\n",
              "  </style>\n",
              "\n",
              "      <script>\n",
              "        const buttonEl =\n",
              "          document.querySelector('#df-d7fb2d8d-a4f9-482f-b16a-b04f1db61670 button.colab-df-convert');\n",
              "        buttonEl.style.display =\n",
              "          google.colab.kernel.accessAllowed ? 'block' : 'none';\n",
              "\n",
              "        async function convertToInteractive(key) {\n",
              "          const element = document.querySelector('#df-d7fb2d8d-a4f9-482f-b16a-b04f1db61670');\n",
              "          const dataTable =\n",
              "            await google.colab.kernel.invokeFunction('convertToInteractive',\n",
              "                                                     [key], {});\n",
              "          if (!dataTable) return;\n",
              "\n",
              "          const docLinkHtml = 'Like what you see? Visit the ' +\n",
              "            '<a target=\"_blank\" href=https://colab.research.google.com/notebooks/data_table.ipynb>data table notebook</a>'\n",
              "            + ' to learn more about interactive tables.';\n",
              "          element.innerHTML = '';\n",
              "          dataTable['output_type'] = 'display_data';\n",
              "          await google.colab.output.renderOutput(dataTable, element);\n",
              "          const docLink = document.createElement('div');\n",
              "          docLink.innerHTML = docLinkHtml;\n",
              "          element.appendChild(docLink);\n",
              "        }\n",
              "      </script>\n",
              "    </div>\n",
              "  </div>\n",
              "  "
            ]
          },
          "metadata": {},
          "execution_count": 5
        }
      ],
      "source": [
        "df = pd.read_csv('/content/drive/MyDrive/Colab Data/Data.csv', encoding = \"ISO-8859-1\")\n",
        "df.head(3)"
      ]
    },
    {
      "cell_type": "code",
      "execution_count": null,
      "metadata": {
        "colab": {
          "base_uri": "https://localhost:8080/"
        },
        "id": "5BHZbgZY0SdG",
        "outputId": "67b6ca34-1a16-4636-f48b-ac24543ce803"
      },
      "outputs": [
        {
          "output_type": "execute_result",
          "data": {
            "text/plain": [
              "(3723, 27)"
            ]
          },
          "metadata": {},
          "execution_count": 6
        },
        {
          "output_type": "execute_result",
          "data": {
            "text/plain": [
              "(630, 27)"
            ]
          },
          "metadata": {},
          "execution_count": 6
        }
      ],
      "source": [
        "# Splitting data into train & test\n",
        "train = df[df['Date'] < '20140101']\n",
        "test = df[df['Date'] > '20131231']\n",
        "train.shape\n",
        "test.shape"
      ]
    },
    {
      "cell_type": "code",
      "execution_count": null,
      "metadata": {
        "colab": {
          "base_uri": "https://localhost:8080/",
          "height": 584
        },
        "id": "1euY7OP00SdG",
        "outputId": "2c838909-278f-44dc-8ee6-44e64e5e1c72"
      },
      "outputs": [
        {
          "output_type": "execute_result",
          "data": {
            "text/plain": [
              "                                                   0  \\\n",
              "0  A  hindrance to operations   extracts from the...   \n",
              "1                                          Scorecard   \n",
              "2                  Coventry caught on counter by Flo   \n",
              "\n",
              "                                    1  \\\n",
              "0                           Scorecard   \n",
              "1                 The best lake scene   \n",
              "2  United s rivals on the road to Rio   \n",
              "\n",
              "                                               2  \\\n",
              "0                Hughes  instant hit buoys Blues   \n",
              "1                  Leader  German sleaze inquiry   \n",
              "2  Thatcher issues defence before trial by video   \n",
              "\n",
              "                                               3  \\\n",
              "0       Jack gets his skates on at ice cold Alex   \n",
              "1                                  Cheerio  boyo   \n",
              "2  Police help Smith lay down the law at Everton   \n",
              "\n",
              "                                             4  \\\n",
              "0       Chaos as Maracana builds up for United   \n",
              "1                     The main recommendations   \n",
              "2  Tale of Trautmann bears two more retellings   \n",
              "\n",
              "                                                   5  \\\n",
              "0  Depleted Leicester prevail as Elliott spoils E...   \n",
              "1                             Has Cubie killed fees    \n",
              "2                                England on the rack   \n",
              "\n",
              "                                                 6  \\\n",
              "0                 Hungry Spurs sense rich pickings   \n",
              "1                           Has Cubie killed fees    \n",
              "2  Pakistan retaliate with call for video of Walsh   \n",
              "\n",
              "                                      7  \\\n",
              "0     Gunners so wide of an easy target   \n",
              "1                Has Cubie killed fees    \n",
              "2  Cullinan continues his Cape monopoly   \n",
              "\n",
              "                                                   8  \\\n",
              "0      Derby raise a glass to Strupar s debut double   \n",
              "1  Hopkins  furious  at Foster s lack of Hannibal...   \n",
              "2             McGrath puts India out of their misery   \n",
              "\n",
              "                                          9  ...  \\\n",
              "0  Southgate strikes  Leeds pay the penalty  ...   \n",
              "1                    Has Cubie killed fees   ...   \n",
              "2            Blair Witch bandwagon rolls on  ...   \n",
              "\n",
              "                                         15  \\\n",
              "0  Flintoff injury piles on woe for England   \n",
              "1                      On the critical list   \n",
              "2               South Melbourne  Australia    \n",
              "\n",
              "                                                  16  \\\n",
              "0  Hunters threaten Jospin with new battle of the...   \n",
              "1                          The timing of their lives   \n",
              "2                                    Necaxa  Mexico    \n",
              "\n",
              "                                    17  \\\n",
              "0  Kohl s successor drawn into scandal   \n",
              "1                          Dear doctor   \n",
              "2                  Real Madrid  Spain    \n",
              "\n",
              "                                                  18  \\\n",
              "0               The difference between men and women   \n",
              "1  Irish court halts IRA man s extradition to Nor...   \n",
              "2                          Raja Casablanca  Morocco    \n",
              "\n",
              "                                                  19  \\\n",
              "0                Sara Denver  nurse turned solicitor   \n",
              "1  Burundi peace initiative fades after rebels re...   \n",
              "2                               Corinthians  Brazil    \n",
              "\n",
              "                                               20  \\\n",
              "0  Diana s landmine crusade put Tories in a panic   \n",
              "1            PE points the way forward to the ECB   \n",
              "2                              Tony s pet project   \n",
              "\n",
              "                                                  21                 22  \\\n",
              "0  Yeltsin s resignation caught opposition flat f...   Russian roulette   \n",
              "1  Campaigners keep up pressure on Nazi war crime...     Jane Ratcliffe   \n",
              "2                            Al Nassr  Saudi Arabia   Ideal Holmes show   \n",
              "\n",
              "                                                  23  \\\n",
              "0                                           Sold out   \n",
              "1  Yet more things you wouldn t know without the ...   \n",
              "2               Pinochet leaves hospital after tests   \n",
              "\n",
              "                             24  \n",
              "0            Recovering a title  \n",
              "1  Millennium bug fails to bite  \n",
              "2                  Useful links  \n",
              "\n",
              "[3 rows x 25 columns]"
            ],
            "text/html": [
              "\n",
              "  <div id=\"df-a8422a7f-baea-4335-b7ea-629cca2efd1f\">\n",
              "    <div class=\"colab-df-container\">\n",
              "      <div>\n",
              "<style scoped>\n",
              "    .dataframe tbody tr th:only-of-type {\n",
              "        vertical-align: middle;\n",
              "    }\n",
              "\n",
              "    .dataframe tbody tr th {\n",
              "        vertical-align: top;\n",
              "    }\n",
              "\n",
              "    .dataframe thead th {\n",
              "        text-align: right;\n",
              "    }\n",
              "</style>\n",
              "<table border=\"1\" class=\"dataframe\">\n",
              "  <thead>\n",
              "    <tr style=\"text-align: right;\">\n",
              "      <th></th>\n",
              "      <th>0</th>\n",
              "      <th>1</th>\n",
              "      <th>2</th>\n",
              "      <th>3</th>\n",
              "      <th>4</th>\n",
              "      <th>5</th>\n",
              "      <th>6</th>\n",
              "      <th>7</th>\n",
              "      <th>8</th>\n",
              "      <th>9</th>\n",
              "      <th>...</th>\n",
              "      <th>15</th>\n",
              "      <th>16</th>\n",
              "      <th>17</th>\n",
              "      <th>18</th>\n",
              "      <th>19</th>\n",
              "      <th>20</th>\n",
              "      <th>21</th>\n",
              "      <th>22</th>\n",
              "      <th>23</th>\n",
              "      <th>24</th>\n",
              "    </tr>\n",
              "  </thead>\n",
              "  <tbody>\n",
              "    <tr>\n",
              "      <th>0</th>\n",
              "      <td>A  hindrance to operations   extracts from the...</td>\n",
              "      <td>Scorecard</td>\n",
              "      <td>Hughes  instant hit buoys Blues</td>\n",
              "      <td>Jack gets his skates on at ice cold Alex</td>\n",
              "      <td>Chaos as Maracana builds up for United</td>\n",
              "      <td>Depleted Leicester prevail as Elliott spoils E...</td>\n",
              "      <td>Hungry Spurs sense rich pickings</td>\n",
              "      <td>Gunners so wide of an easy target</td>\n",
              "      <td>Derby raise a glass to Strupar s debut double</td>\n",
              "      <td>Southgate strikes  Leeds pay the penalty</td>\n",
              "      <td>...</td>\n",
              "      <td>Flintoff injury piles on woe for England</td>\n",
              "      <td>Hunters threaten Jospin with new battle of the...</td>\n",
              "      <td>Kohl s successor drawn into scandal</td>\n",
              "      <td>The difference between men and women</td>\n",
              "      <td>Sara Denver  nurse turned solicitor</td>\n",
              "      <td>Diana s landmine crusade put Tories in a panic</td>\n",
              "      <td>Yeltsin s resignation caught opposition flat f...</td>\n",
              "      <td>Russian roulette</td>\n",
              "      <td>Sold out</td>\n",
              "      <td>Recovering a title</td>\n",
              "    </tr>\n",
              "    <tr>\n",
              "      <th>1</th>\n",
              "      <td>Scorecard</td>\n",
              "      <td>The best lake scene</td>\n",
              "      <td>Leader  German sleaze inquiry</td>\n",
              "      <td>Cheerio  boyo</td>\n",
              "      <td>The main recommendations</td>\n",
              "      <td>Has Cubie killed fees</td>\n",
              "      <td>Has Cubie killed fees</td>\n",
              "      <td>Has Cubie killed fees</td>\n",
              "      <td>Hopkins  furious  at Foster s lack of Hannibal...</td>\n",
              "      <td>Has Cubie killed fees</td>\n",
              "      <td>...</td>\n",
              "      <td>On the critical list</td>\n",
              "      <td>The timing of their lives</td>\n",
              "      <td>Dear doctor</td>\n",
              "      <td>Irish court halts IRA man s extradition to Nor...</td>\n",
              "      <td>Burundi peace initiative fades after rebels re...</td>\n",
              "      <td>PE points the way forward to the ECB</td>\n",
              "      <td>Campaigners keep up pressure on Nazi war crime...</td>\n",
              "      <td>Jane Ratcliffe</td>\n",
              "      <td>Yet more things you wouldn t know without the ...</td>\n",
              "      <td>Millennium bug fails to bite</td>\n",
              "    </tr>\n",
              "    <tr>\n",
              "      <th>2</th>\n",
              "      <td>Coventry caught on counter by Flo</td>\n",
              "      <td>United s rivals on the road to Rio</td>\n",
              "      <td>Thatcher issues defence before trial by video</td>\n",
              "      <td>Police help Smith lay down the law at Everton</td>\n",
              "      <td>Tale of Trautmann bears two more retellings</td>\n",
              "      <td>England on the rack</td>\n",
              "      <td>Pakistan retaliate with call for video of Walsh</td>\n",
              "      <td>Cullinan continues his Cape monopoly</td>\n",
              "      <td>McGrath puts India out of their misery</td>\n",
              "      <td>Blair Witch bandwagon rolls on</td>\n",
              "      <td>...</td>\n",
              "      <td>South Melbourne  Australia</td>\n",
              "      <td>Necaxa  Mexico</td>\n",
              "      <td>Real Madrid  Spain</td>\n",
              "      <td>Raja Casablanca  Morocco</td>\n",
              "      <td>Corinthians  Brazil</td>\n",
              "      <td>Tony s pet project</td>\n",
              "      <td>Al Nassr  Saudi Arabia</td>\n",
              "      <td>Ideal Holmes show</td>\n",
              "      <td>Pinochet leaves hospital after tests</td>\n",
              "      <td>Useful links</td>\n",
              "    </tr>\n",
              "  </tbody>\n",
              "</table>\n",
              "<p>3 rows × 25 columns</p>\n",
              "</div>\n",
              "      <button class=\"colab-df-convert\" onclick=\"convertToInteractive('df-a8422a7f-baea-4335-b7ea-629cca2efd1f')\"\n",
              "              title=\"Convert this dataframe to an interactive table.\"\n",
              "              style=\"display:none;\">\n",
              "        \n",
              "  <svg xmlns=\"http://www.w3.org/2000/svg\" height=\"24px\"viewBox=\"0 0 24 24\"\n",
              "       width=\"24px\">\n",
              "    <path d=\"M0 0h24v24H0V0z\" fill=\"none\"/>\n",
              "    <path d=\"M18.56 5.44l.94 2.06.94-2.06 2.06-.94-2.06-.94-.94-2.06-.94 2.06-2.06.94zm-11 1L8.5 8.5l.94-2.06 2.06-.94-2.06-.94L8.5 2.5l-.94 2.06-2.06.94zm10 10l.94 2.06.94-2.06 2.06-.94-2.06-.94-.94-2.06-.94 2.06-2.06.94z\"/><path d=\"M17.41 7.96l-1.37-1.37c-.4-.4-.92-.59-1.43-.59-.52 0-1.04.2-1.43.59L10.3 9.45l-7.72 7.72c-.78.78-.78 2.05 0 2.83L4 21.41c.39.39.9.59 1.41.59.51 0 1.02-.2 1.41-.59l7.78-7.78 2.81-2.81c.8-.78.8-2.07 0-2.86zM5.41 20L4 18.59l7.72-7.72 1.47 1.35L5.41 20z\"/>\n",
              "  </svg>\n",
              "      </button>\n",
              "      \n",
              "  <style>\n",
              "    .colab-df-container {\n",
              "      display:flex;\n",
              "      flex-wrap:wrap;\n",
              "      gap: 12px;\n",
              "    }\n",
              "\n",
              "    .colab-df-convert {\n",
              "      background-color: #E8F0FE;\n",
              "      border: none;\n",
              "      border-radius: 50%;\n",
              "      cursor: pointer;\n",
              "      display: none;\n",
              "      fill: #1967D2;\n",
              "      height: 32px;\n",
              "      padding: 0 0 0 0;\n",
              "      width: 32px;\n",
              "    }\n",
              "\n",
              "    .colab-df-convert:hover {\n",
              "      background-color: #E2EBFA;\n",
              "      box-shadow: 0px 1px 2px rgba(60, 64, 67, 0.3), 0px 1px 3px 1px rgba(60, 64, 67, 0.15);\n",
              "      fill: #174EA6;\n",
              "    }\n",
              "\n",
              "    [theme=dark] .colab-df-convert {\n",
              "      background-color: #3B4455;\n",
              "      fill: #D2E3FC;\n",
              "    }\n",
              "\n",
              "    [theme=dark] .colab-df-convert:hover {\n",
              "      background-color: #434B5C;\n",
              "      box-shadow: 0px 1px 3px 1px rgba(0, 0, 0, 0.15);\n",
              "      filter: drop-shadow(0px 1px 2px rgba(0, 0, 0, 0.3));\n",
              "      fill: #FFFFFF;\n",
              "    }\n",
              "  </style>\n",
              "\n",
              "      <script>\n",
              "        const buttonEl =\n",
              "          document.querySelector('#df-a8422a7f-baea-4335-b7ea-629cca2efd1f button.colab-df-convert');\n",
              "        buttonEl.style.display =\n",
              "          google.colab.kernel.accessAllowed ? 'block' : 'none';\n",
              "\n",
              "        async function convertToInteractive(key) {\n",
              "          const element = document.querySelector('#df-a8422a7f-baea-4335-b7ea-629cca2efd1f');\n",
              "          const dataTable =\n",
              "            await google.colab.kernel.invokeFunction('convertToInteractive',\n",
              "                                                     [key], {});\n",
              "          if (!dataTable) return;\n",
              "\n",
              "          const docLinkHtml = 'Like what you see? Visit the ' +\n",
              "            '<a target=\"_blank\" href=https://colab.research.google.com/notebooks/data_table.ipynb>data table notebook</a>'\n",
              "            + ' to learn more about interactive tables.';\n",
              "          element.innerHTML = '';\n",
              "          dataTable['output_type'] = 'display_data';\n",
              "          await google.colab.output.renderOutput(dataTable, element);\n",
              "          const docLink = document.createElement('div');\n",
              "          docLink.innerHTML = docLinkHtml;\n",
              "          element.appendChild(docLink);\n",
              "        }\n",
              "      </script>\n",
              "    </div>\n",
              "  </div>\n",
              "  "
            ]
          },
          "metadata": {},
          "execution_count": 7
        }
      ],
      "source": [
        "# Removing punctuations\n",
        "data=train.iloc[:,2:27]\n",
        "data.replace(\"[^a-zA-Z]\",\" \",regex=True, inplace=True)\n",
        "\n",
        "# Renaming column names for ease of access\n",
        "list1= [i for i in range(25)]\n",
        "new_Index=[str(i) for i in list1]\n",
        "data.columns= new_Index\n",
        "data.head(3)"
      ]
    },
    {
      "cell_type": "code",
      "execution_count": null,
      "metadata": {
        "colab": {
          "base_uri": "https://localhost:8080/",
          "height": 295
        },
        "id": "X1DGEOYR0SdH",
        "outputId": "9e5dc2dd-ddbf-46c5-a162-aaf4bc825d13"
      },
      "outputs": [
        {
          "output_type": "execute_result",
          "data": {
            "text/plain": [
              "                                                   0          1  \\\n",
              "0  a  hindrance to operations   extracts from the...  scorecard   \n",
              "\n",
              "                                 2                                         3  \\\n",
              "0  hughes  instant hit buoys blues  jack gets his skates on at ice cold alex   \n",
              "\n",
              "                                        4  \\\n",
              "0  chaos as maracana builds up for united   \n",
              "\n",
              "                                                   5  \\\n",
              "0  depleted leicester prevail as elliott spoils e...   \n",
              "\n",
              "                                  6                                  7  \\\n",
              "0  hungry spurs sense rich pickings  gunners so wide of an easy target   \n",
              "\n",
              "                                               8  \\\n",
              "0  derby raise a glass to strupar s debut double   \n",
              "\n",
              "                                          9  ...  \\\n",
              "0  southgate strikes  leeds pay the penalty  ...   \n",
              "\n",
              "                                         15  \\\n",
              "0  flintoff injury piles on woe for england   \n",
              "\n",
              "                                                  16  \\\n",
              "0  hunters threaten jospin with new battle of the...   \n",
              "\n",
              "                                    17                                    18  \\\n",
              "0  kohl s successor drawn into scandal  the difference between men and women   \n",
              "\n",
              "                                    19  \\\n",
              "0  sara denver  nurse turned solicitor   \n",
              "\n",
              "                                               20  \\\n",
              "0  diana s landmine crusade put tories in a panic   \n",
              "\n",
              "                                                  21                22  \\\n",
              "0  yeltsin s resignation caught opposition flat f...  russian roulette   \n",
              "\n",
              "         23                  24  \n",
              "0  sold out  recovering a title  \n",
              "\n",
              "[1 rows x 25 columns]"
            ],
            "text/html": [
              "\n",
              "  <div id=\"df-de790071-ad9f-4f8a-944f-9b496e9c26df\">\n",
              "    <div class=\"colab-df-container\">\n",
              "      <div>\n",
              "<style scoped>\n",
              "    .dataframe tbody tr th:only-of-type {\n",
              "        vertical-align: middle;\n",
              "    }\n",
              "\n",
              "    .dataframe tbody tr th {\n",
              "        vertical-align: top;\n",
              "    }\n",
              "\n",
              "    .dataframe thead th {\n",
              "        text-align: right;\n",
              "    }\n",
              "</style>\n",
              "<table border=\"1\" class=\"dataframe\">\n",
              "  <thead>\n",
              "    <tr style=\"text-align: right;\">\n",
              "      <th></th>\n",
              "      <th>0</th>\n",
              "      <th>1</th>\n",
              "      <th>2</th>\n",
              "      <th>3</th>\n",
              "      <th>4</th>\n",
              "      <th>5</th>\n",
              "      <th>6</th>\n",
              "      <th>7</th>\n",
              "      <th>8</th>\n",
              "      <th>9</th>\n",
              "      <th>...</th>\n",
              "      <th>15</th>\n",
              "      <th>16</th>\n",
              "      <th>17</th>\n",
              "      <th>18</th>\n",
              "      <th>19</th>\n",
              "      <th>20</th>\n",
              "      <th>21</th>\n",
              "      <th>22</th>\n",
              "      <th>23</th>\n",
              "      <th>24</th>\n",
              "    </tr>\n",
              "  </thead>\n",
              "  <tbody>\n",
              "    <tr>\n",
              "      <th>0</th>\n",
              "      <td>a  hindrance to operations   extracts from the...</td>\n",
              "      <td>scorecard</td>\n",
              "      <td>hughes  instant hit buoys blues</td>\n",
              "      <td>jack gets his skates on at ice cold alex</td>\n",
              "      <td>chaos as maracana builds up for united</td>\n",
              "      <td>depleted leicester prevail as elliott spoils e...</td>\n",
              "      <td>hungry spurs sense rich pickings</td>\n",
              "      <td>gunners so wide of an easy target</td>\n",
              "      <td>derby raise a glass to strupar s debut double</td>\n",
              "      <td>southgate strikes  leeds pay the penalty</td>\n",
              "      <td>...</td>\n",
              "      <td>flintoff injury piles on woe for england</td>\n",
              "      <td>hunters threaten jospin with new battle of the...</td>\n",
              "      <td>kohl s successor drawn into scandal</td>\n",
              "      <td>the difference between men and women</td>\n",
              "      <td>sara denver  nurse turned solicitor</td>\n",
              "      <td>diana s landmine crusade put tories in a panic</td>\n",
              "      <td>yeltsin s resignation caught opposition flat f...</td>\n",
              "      <td>russian roulette</td>\n",
              "      <td>sold out</td>\n",
              "      <td>recovering a title</td>\n",
              "    </tr>\n",
              "  </tbody>\n",
              "</table>\n",
              "<p>1 rows × 25 columns</p>\n",
              "</div>\n",
              "      <button class=\"colab-df-convert\" onclick=\"convertToInteractive('df-de790071-ad9f-4f8a-944f-9b496e9c26df')\"\n",
              "              title=\"Convert this dataframe to an interactive table.\"\n",
              "              style=\"display:none;\">\n",
              "        \n",
              "  <svg xmlns=\"http://www.w3.org/2000/svg\" height=\"24px\"viewBox=\"0 0 24 24\"\n",
              "       width=\"24px\">\n",
              "    <path d=\"M0 0h24v24H0V0z\" fill=\"none\"/>\n",
              "    <path d=\"M18.56 5.44l.94 2.06.94-2.06 2.06-.94-2.06-.94-.94-2.06-.94 2.06-2.06.94zm-11 1L8.5 8.5l.94-2.06 2.06-.94-2.06-.94L8.5 2.5l-.94 2.06-2.06.94zm10 10l.94 2.06.94-2.06 2.06-.94-2.06-.94-.94-2.06-.94 2.06-2.06.94z\"/><path d=\"M17.41 7.96l-1.37-1.37c-.4-.4-.92-.59-1.43-.59-.52 0-1.04.2-1.43.59L10.3 9.45l-7.72 7.72c-.78.78-.78 2.05 0 2.83L4 21.41c.39.39.9.59 1.41.59.51 0 1.02-.2 1.41-.59l7.78-7.78 2.81-2.81c.8-.78.8-2.07 0-2.86zM5.41 20L4 18.59l7.72-7.72 1.47 1.35L5.41 20z\"/>\n",
              "  </svg>\n",
              "      </button>\n",
              "      \n",
              "  <style>\n",
              "    .colab-df-container {\n",
              "      display:flex;\n",
              "      flex-wrap:wrap;\n",
              "      gap: 12px;\n",
              "    }\n",
              "\n",
              "    .colab-df-convert {\n",
              "      background-color: #E8F0FE;\n",
              "      border: none;\n",
              "      border-radius: 50%;\n",
              "      cursor: pointer;\n",
              "      display: none;\n",
              "      fill: #1967D2;\n",
              "      height: 32px;\n",
              "      padding: 0 0 0 0;\n",
              "      width: 32px;\n",
              "    }\n",
              "\n",
              "    .colab-df-convert:hover {\n",
              "      background-color: #E2EBFA;\n",
              "      box-shadow: 0px 1px 2px rgba(60, 64, 67, 0.3), 0px 1px 3px 1px rgba(60, 64, 67, 0.15);\n",
              "      fill: #174EA6;\n",
              "    }\n",
              "\n",
              "    [theme=dark] .colab-df-convert {\n",
              "      background-color: #3B4455;\n",
              "      fill: #D2E3FC;\n",
              "    }\n",
              "\n",
              "    [theme=dark] .colab-df-convert:hover {\n",
              "      background-color: #434B5C;\n",
              "      box-shadow: 0px 1px 3px 1px rgba(0, 0, 0, 0.15);\n",
              "      filter: drop-shadow(0px 1px 2px rgba(0, 0, 0, 0.3));\n",
              "      fill: #FFFFFF;\n",
              "    }\n",
              "  </style>\n",
              "\n",
              "      <script>\n",
              "        const buttonEl =\n",
              "          document.querySelector('#df-de790071-ad9f-4f8a-944f-9b496e9c26df button.colab-df-convert');\n",
              "        buttonEl.style.display =\n",
              "          google.colab.kernel.accessAllowed ? 'block' : 'none';\n",
              "\n",
              "        async function convertToInteractive(key) {\n",
              "          const element = document.querySelector('#df-de790071-ad9f-4f8a-944f-9b496e9c26df');\n",
              "          const dataTable =\n",
              "            await google.colab.kernel.invokeFunction('convertToInteractive',\n",
              "                                                     [key], {});\n",
              "          if (!dataTable) return;\n",
              "\n",
              "          const docLinkHtml = 'Like what you see? Visit the ' +\n",
              "            '<a target=\"_blank\" href=https://colab.research.google.com/notebooks/data_table.ipynb>data table notebook</a>'\n",
              "            + ' to learn more about interactive tables.';\n",
              "          element.innerHTML = '';\n",
              "          dataTable['output_type'] = 'display_data';\n",
              "          await google.colab.output.renderOutput(dataTable, element);\n",
              "          const docLink = document.createElement('div');\n",
              "          docLink.innerHTML = docLinkHtml;\n",
              "          element.appendChild(docLink);\n",
              "        }\n",
              "      </script>\n",
              "    </div>\n",
              "  </div>\n",
              "  "
            ]
          },
          "metadata": {},
          "execution_count": 8
        }
      ],
      "source": [
        "# Convertng headlines to lower case\n",
        "for index in new_Index:\n",
        "    data[index]=data[index].str.lower()\n",
        "data.head(1)"
      ]
    },
    {
      "cell_type": "code",
      "execution_count": null,
      "metadata": {
        "colab": {
          "base_uri": "https://localhost:8080/",
          "height": 109
        },
        "id": "fpbcLYWh0SdH",
        "outputId": "5f7094b8-f75a-4022-e19c-7e47e60d73a8"
      },
      "outputs": [
        {
          "output_type": "execute_result",
          "data": {
            "text/plain": [
              "'scorecard the best lake scene leader  german sleaze inquiry cheerio  boyo the main recommendations has cubie killed fees  has cubie killed fees  has cubie killed fees  hopkins  furious  at foster s lack of hannibal appetite has cubie killed fees  a tale of two tails i say what i like and i like what i say elbows  eyes and nipples task force to assess risk of asteroid collision how i found myself at last on the critical list the timing of their lives dear doctor irish court halts ira man s extradition to northern ireland burundi peace initiative fades after rebels reject mandela as mediator pe points the way forward to the ecb campaigners keep up pressure on nazi war crimes suspect jane ratcliffe yet more things you wouldn t know without the movies millennium bug fails to bite'"
            ],
            "application/vnd.google.colaboratory.intrinsic+json": {
              "type": "string"
            }
          },
          "metadata": {},
          "execution_count": 9
        }
      ],
      "source": [
        "' '.join(str(x) for x in data.iloc[1,0:25])"
      ]
    },
    {
      "cell_type": "code",
      "execution_count": null,
      "metadata": {
        "id": "RY6DF6ER0SdI"
      },
      "outputs": [],
      "source": [
        "headlines_train = []\n",
        "for row in range(0,len(data.index)):\n",
        "    headlines_train.append(' '.join(str(x) for x in data.iloc[row,0:25]))"
      ]
    },
    {
      "cell_type": "code",
      "execution_count": null,
      "metadata": {
        "colab": {
          "base_uri": "https://localhost:8080/",
          "height": 127
        },
        "id": "vdRSM1qa0SdI",
        "outputId": "bc3b9c7b-ed91-4870-9a1e-89636360a7ee"
      },
      "outputs": [
        {
          "output_type": "execute_result",
          "data": {
            "text/plain": [
              "'a  hindrance to operations   extracts from the leaked reports scorecard hughes  instant hit buoys blues jack gets his skates on at ice cold alex chaos as maracana builds up for united depleted leicester prevail as elliott spoils everton s party hungry spurs sense rich pickings gunners so wide of an easy target derby raise a glass to strupar s debut double southgate strikes  leeds pay the penalty hammers hand robson a youthful lesson saints party like it s      wear wolves have turned into lambs stump mike catches testy gough s taunt langer escapes to hit     flintoff injury piles on woe for england hunters threaten jospin with new battle of the somme kohl s successor drawn into scandal the difference between men and women sara denver  nurse turned solicitor diana s landmine crusade put tories in a panic yeltsin s resignation caught opposition flat footed russian roulette sold out recovering a title'"
            ],
            "application/vnd.google.colaboratory.intrinsic+json": {
              "type": "string"
            }
          },
          "metadata": {},
          "execution_count": 11
        }
      ],
      "source": [
        "headlines_train[0]"
      ]
    },
    {
      "cell_type": "code",
      "execution_count": null,
      "metadata": {
        "colab": {
          "base_uri": "https://localhost:8080/",
          "height": 295
        },
        "id": "9UogqW3-_Y4g",
        "outputId": "158756f8-32d5-4df5-d360-826dc175c5f3"
      },
      "outputs": [
        {
          "output_type": "execute_result",
          "data": {
            "text/plain": [
              "                                                      0  \\\n",
              "3471  japan s population falls  by record          i...   \n",
              "\n",
              "                                                      1  \\\n",
              "3471  kolkata police  hijack  rape victim s hearse  ...   \n",
              "\n",
              "                                                      2  \\\n",
              "3471  young people  feel they have nothing to live for    \n",
              "\n",
              "                                                      3  \\\n",
              "3471  rob ford proclaims himself the best mayor that...   \n",
              "\n",
              "                                                      4  \\\n",
              "3471  the us has been voted as the most significant ...   \n",
              "\n",
              "                                                      5  \\\n",
              "3471  blast that killed palestinian ambassador occur...   \n",
              "\n",
              "                                                      6  \\\n",
              "3471  jp morgan bonuses for top london staff in     ...   \n",
              "\n",
              "                                                      7  \\\n",
              "3471  global poll  us is the greatest threat to worl...   \n",
              "\n",
              "                                                      8  \\\n",
              "3471  al qaeda in iraq dictates men s clothing choic...   \n",
              "\n",
              "                                                      9  ...  \\\n",
              "3471  fox flesh found in donkey meat package at wal ...  ...   \n",
              "\n",
              "                                                     15  \\\n",
              "3471  rape suspect stoned to death by irate mob  the...   \n",
              "\n",
              "                                                     16  \\\n",
              "3471  new protests after suicide of    year old gang...   \n",
              "\n",
              "                                                     17  \\\n",
              "3471  indian lawyer kapila hingorani  who   assisted...   \n",
              "\n",
              "                                                     18  \\\n",
              "3471  japan s state secrets law  hailed by u s   den...   \n",
              "\n",
              "                                                     19  \\\n",
              "3471  walmart recalls donkey meat from china stores ...   \n",
              "\n",
              "                                                     20  \\\n",
              "3471  skype twitter account hacked by syrian electro...   \n",
              "\n",
              "                                                     21  \\\n",
              "3471  palestinian ambassador opens    year old safe ...   \n",
              "\n",
              "                                                     22  \\\n",
              "3471  an australian father has been charged by polic...   \n",
              "\n",
              "                                                     23  \\\n",
              "3471  charity fundraiser dressed as superhero attack...   \n",
              "\n",
              "                                             24  \n",
              "3471  putin sends new year s greetings to obama  \n",
              "\n",
              "[1 rows x 25 columns]"
            ],
            "text/html": [
              "\n",
              "  <div id=\"df-a309cf87-2e1f-48be-8f4e-018c33322973\">\n",
              "    <div class=\"colab-df-container\">\n",
              "      <div>\n",
              "<style scoped>\n",
              "    .dataframe tbody tr th:only-of-type {\n",
              "        vertical-align: middle;\n",
              "    }\n",
              "\n",
              "    .dataframe tbody tr th {\n",
              "        vertical-align: top;\n",
              "    }\n",
              "\n",
              "    .dataframe thead th {\n",
              "        text-align: right;\n",
              "    }\n",
              "</style>\n",
              "<table border=\"1\" class=\"dataframe\">\n",
              "  <thead>\n",
              "    <tr style=\"text-align: right;\">\n",
              "      <th></th>\n",
              "      <th>0</th>\n",
              "      <th>1</th>\n",
              "      <th>2</th>\n",
              "      <th>3</th>\n",
              "      <th>4</th>\n",
              "      <th>5</th>\n",
              "      <th>6</th>\n",
              "      <th>7</th>\n",
              "      <th>8</th>\n",
              "      <th>9</th>\n",
              "      <th>...</th>\n",
              "      <th>15</th>\n",
              "      <th>16</th>\n",
              "      <th>17</th>\n",
              "      <th>18</th>\n",
              "      <th>19</th>\n",
              "      <th>20</th>\n",
              "      <th>21</th>\n",
              "      <th>22</th>\n",
              "      <th>23</th>\n",
              "      <th>24</th>\n",
              "    </tr>\n",
              "  </thead>\n",
              "  <tbody>\n",
              "    <tr>\n",
              "      <th>3471</th>\n",
              "      <td>japan s population falls  by record          i...</td>\n",
              "      <td>kolkata police  hijack  rape victim s hearse  ...</td>\n",
              "      <td>young people  feel they have nothing to live for</td>\n",
              "      <td>rob ford proclaims himself the best mayor that...</td>\n",
              "      <td>the us has been voted as the most significant ...</td>\n",
              "      <td>blast that killed palestinian ambassador occur...</td>\n",
              "      <td>jp morgan bonuses for top london staff in     ...</td>\n",
              "      <td>global poll  us is the greatest threat to worl...</td>\n",
              "      <td>al qaeda in iraq dictates men s clothing choic...</td>\n",
              "      <td>fox flesh found in donkey meat package at wal ...</td>\n",
              "      <td>...</td>\n",
              "      <td>rape suspect stoned to death by irate mob  the...</td>\n",
              "      <td>new protests after suicide of    year old gang...</td>\n",
              "      <td>indian lawyer kapila hingorani  who   assisted...</td>\n",
              "      <td>japan s state secrets law  hailed by u s   den...</td>\n",
              "      <td>walmart recalls donkey meat from china stores ...</td>\n",
              "      <td>skype twitter account hacked by syrian electro...</td>\n",
              "      <td>palestinian ambassador opens    year old safe ...</td>\n",
              "      <td>an australian father has been charged by polic...</td>\n",
              "      <td>charity fundraiser dressed as superhero attack...</td>\n",
              "      <td>putin sends new year s greetings to obama</td>\n",
              "    </tr>\n",
              "  </tbody>\n",
              "</table>\n",
              "<p>1 rows × 25 columns</p>\n",
              "</div>\n",
              "      <button class=\"colab-df-convert\" onclick=\"convertToInteractive('df-a309cf87-2e1f-48be-8f4e-018c33322973')\"\n",
              "              title=\"Convert this dataframe to an interactive table.\"\n",
              "              style=\"display:none;\">\n",
              "        \n",
              "  <svg xmlns=\"http://www.w3.org/2000/svg\" height=\"24px\"viewBox=\"0 0 24 24\"\n",
              "       width=\"24px\">\n",
              "    <path d=\"M0 0h24v24H0V0z\" fill=\"none\"/>\n",
              "    <path d=\"M18.56 5.44l.94 2.06.94-2.06 2.06-.94-2.06-.94-.94-2.06-.94 2.06-2.06.94zm-11 1L8.5 8.5l.94-2.06 2.06-.94-2.06-.94L8.5 2.5l-.94 2.06-2.06.94zm10 10l.94 2.06.94-2.06 2.06-.94-2.06-.94-.94-2.06-.94 2.06-2.06.94z\"/><path d=\"M17.41 7.96l-1.37-1.37c-.4-.4-.92-.59-1.43-.59-.52 0-1.04.2-1.43.59L10.3 9.45l-7.72 7.72c-.78.78-.78 2.05 0 2.83L4 21.41c.39.39.9.59 1.41.59.51 0 1.02-.2 1.41-.59l7.78-7.78 2.81-2.81c.8-.78.8-2.07 0-2.86zM5.41 20L4 18.59l7.72-7.72 1.47 1.35L5.41 20z\"/>\n",
              "  </svg>\n",
              "      </button>\n",
              "      \n",
              "  <style>\n",
              "    .colab-df-container {\n",
              "      display:flex;\n",
              "      flex-wrap:wrap;\n",
              "      gap: 12px;\n",
              "    }\n",
              "\n",
              "    .colab-df-convert {\n",
              "      background-color: #E8F0FE;\n",
              "      border: none;\n",
              "      border-radius: 50%;\n",
              "      cursor: pointer;\n",
              "      display: none;\n",
              "      fill: #1967D2;\n",
              "      height: 32px;\n",
              "      padding: 0 0 0 0;\n",
              "      width: 32px;\n",
              "    }\n",
              "\n",
              "    .colab-df-convert:hover {\n",
              "      background-color: #E2EBFA;\n",
              "      box-shadow: 0px 1px 2px rgba(60, 64, 67, 0.3), 0px 1px 3px 1px rgba(60, 64, 67, 0.15);\n",
              "      fill: #174EA6;\n",
              "    }\n",
              "\n",
              "    [theme=dark] .colab-df-convert {\n",
              "      background-color: #3B4455;\n",
              "      fill: #D2E3FC;\n",
              "    }\n",
              "\n",
              "    [theme=dark] .colab-df-convert:hover {\n",
              "      background-color: #434B5C;\n",
              "      box-shadow: 0px 1px 3px 1px rgba(0, 0, 0, 0.15);\n",
              "      filter: drop-shadow(0px 1px 2px rgba(0, 0, 0, 0.3));\n",
              "      fill: #FFFFFF;\n",
              "    }\n",
              "  </style>\n",
              "\n",
              "      <script>\n",
              "        const buttonEl =\n",
              "          document.querySelector('#df-a309cf87-2e1f-48be-8f4e-018c33322973 button.colab-df-convert');\n",
              "        buttonEl.style.display =\n",
              "          google.colab.kernel.accessAllowed ? 'block' : 'none';\n",
              "\n",
              "        async function convertToInteractive(key) {\n",
              "          const element = document.querySelector('#df-a309cf87-2e1f-48be-8f4e-018c33322973');\n",
              "          const dataTable =\n",
              "            await google.colab.kernel.invokeFunction('convertToInteractive',\n",
              "                                                     [key], {});\n",
              "          if (!dataTable) return;\n",
              "\n",
              "          const docLinkHtml = 'Like what you see? Visit the ' +\n",
              "            '<a target=\"_blank\" href=https://colab.research.google.com/notebooks/data_table.ipynb>data table notebook</a>'\n",
              "            + ' to learn more about interactive tables.';\n",
              "          element.innerHTML = '';\n",
              "          dataTable['output_type'] = 'display_data';\n",
              "          await google.colab.output.renderOutput(dataTable, element);\n",
              "          const docLink = document.createElement('div');\n",
              "          docLink.innerHTML = docLinkHtml;\n",
              "          element.appendChild(docLink);\n",
              "        }\n",
              "      </script>\n",
              "    </div>\n",
              "  </div>\n",
              "  "
            ]
          },
          "metadata": {},
          "execution_count": 12
        }
      ],
      "source": [
        "# Removing punctuations\n",
        "data=test.iloc[:,2:27]\n",
        "data.replace(\"[^a-zA-Z]\",\" \",regex=True, inplace=True)\n",
        "\n",
        "# Renaming column names for ease of access\n",
        "list1= [i for i in range(25)]\n",
        "new_Index=[str(i) for i in list1]\n",
        "data.columns= new_Index\n",
        "\n",
        "# Convertng headlines to lower case\n",
        "for index in new_Index:\n",
        "    data[index]=data[index].str.lower()\n",
        "data.head(1)"
      ]
    },
    {
      "cell_type": "code",
      "execution_count": null,
      "metadata": {
        "id": "kOBKV-oJ_Y4l"
      },
      "outputs": [],
      "source": [
        "headlines_test = []\n",
        "for row in range(0,len(data.index)):\n",
        "    headlines_test.append(' '.join(str(x) for x in data.iloc[row,0:25]))"
      ]
    },
    {
      "cell_type": "code",
      "execution_count": null,
      "metadata": {
        "id": "wTpiH_DN0SdI"
      },
      "outputs": [],
      "source": [
        "from sklearn.feature_extraction.text import CountVectorizer\n",
        "from sklearn.ensemble import RandomForestClassifier\n",
        "from sklearn.linear_model import LogisticRegression\n",
        "from nltk.tokenize import word_tokenize"
      ]
    },
    {
      "cell_type": "markdown",
      "metadata": {
        "id": "nFqVXyRAg7ND"
      },
      "source": [
        "## A. Machine Learning Models"
      ]
    },
    {
      "cell_type": "markdown",
      "metadata": {
        "id": "89epKHo_0SdI"
      },
      "source": [
        "### 1.Count Vectorizer\n",
        "\n",
        "\n",
        "\n"
      ]
    },
    {
      "cell_type": "code",
      "execution_count": null,
      "metadata": {
        "id": "Xn6sKrqf0SdI"
      },
      "outputs": [],
      "source": [
        "## implement BAG OF WORDS\n",
        "countvector=CountVectorizer(tokenizer=word_tokenize, token_pattern=None, ngram_range=(1,2))\n",
        "traindataset=countvector.fit_transform(headlines_train)"
      ]
    },
    {
      "cell_type": "code",
      "execution_count": null,
      "metadata": {
        "colab": {
          "base_uri": "https://localhost:8080/"
        },
        "id": "CSxSTWBG0SdI",
        "outputId": "69d98b88-7553-434f-8b45-c95468524ad3"
      },
      "outputs": [
        {
          "output_type": "stream",
          "name": "stdout",
          "text": [
            "Best: 0.501396 using {'criterion': 'entropy', 'max_depth': 8, 'n_estimators': 20}\n"
          ]
        }
      ],
      "source": [
        "from sklearn.model_selection import KFold, GridSearchCV\n",
        "\n",
        "n_estimators = [20, 50, 100, 150, 200, 250, 300]\n",
        "max_depth= [3, 4, 5, 8, 12, 'None']\n",
        "criterion = [\"gini\",\"entropy\"]\n",
        "param_grid = dict(n_estimators=n_estimators, max_depth=max_depth, criterion = criterion )\n",
        "gsmodel = RandomForestClassifier(random_state=42, n_jobs=-1)\n",
        "kfold = KFold(n_splits=5, random_state=42, shuffle=True)\n",
        "grid = GridSearchCV(estimator=gsmodel, param_grid=param_grid, scoring=\"balanced_accuracy\", cv=kfold)\n",
        "grid_result = grid.fit(traindataset, train['Label'])\n",
        "\n",
        "#Print Results\n",
        "print(\"Best: %f using %s\" % (grid_result.best_score_, grid_result.best_params_))\n",
        "means = grid_result.cv_results_['mean_test_score']\n",
        "stds = grid_result.cv_results_['std_test_score']\n",
        "params = grid_result.cv_results_['params']\n",
        "ranks = grid_result.cv_results_['rank_test_score']\n",
        "# for mean, stdev, param, rank in zip(means, stds, params, ranks):\n",
        "#     print(\"#%d %f (%f) with: %r\" % (rank, mean, stdev, param))"
      ]
    },
    {
      "cell_type": "code",
      "execution_count": null,
      "metadata": {
        "colab": {
          "base_uri": "https://localhost:8080/"
        },
        "id": "5sixmoiL0SdJ",
        "outputId": "4138137a-d2d7-4942-d101-c444d7001ac7"
      },
      "outputs": [
        {
          "output_type": "execute_result",
          "data": {
            "text/plain": [
              "RandomForestClassifier(criterion='entropy', max_depth=8, n_estimators=20,\n",
              "                       random_state=42)"
            ]
          },
          "metadata": {},
          "execution_count": 17
        }
      ],
      "source": [
        "randomclassifier=RandomForestClassifier(criterion = grid_result.best_params_['criterion'], \n",
        "                              n_estimators = grid_result.best_params_['n_estimators'], \n",
        "                              max_depth = grid_result.best_params_['max_depth'], random_state=42)\n",
        "randomclassifier.fit(traindataset, train['Label'])"
      ]
    },
    {
      "cell_type": "code",
      "execution_count": null,
      "metadata": {
        "id": "pZjrY5BF0SdJ"
      },
      "outputs": [],
      "source": [
        "## Predict for the Test Dataset\n",
        "test_dataset = countvector.transform(headlines_test)\n",
        "predictions = randomclassifier.predict(test_dataset)"
      ]
    },
    {
      "cell_type": "code",
      "execution_count": null,
      "metadata": {
        "colab": {
          "base_uri": "https://localhost:8080/"
        },
        "id": "HYqLuRnm0SdJ",
        "outputId": "73106917-bf89-4270-8e22-8f37a89defef"
      },
      "outputs": [
        {
          "output_type": "stream",
          "name": "stdout",
          "text": [
            "[[ 23 276]\n",
            " [  3 328]]\n",
            "-------------------------\n",
            "accuracy: 0.56\n",
            "balanced accuracy: 0.53\n",
            "cohen's kappa: 0.07\n"
          ]
        }
      ],
      "source": [
        "from sklearn.metrics import confusion_matrix, accuracy_score, balanced_accuracy_score, cohen_kappa_score\n",
        "conf_m=confusion_matrix(test['Label'],predictions)\n",
        "print(conf_m)\n",
        "print(\"-------------------------\")\n",
        "acc_s=accuracy_score(test['Label'],predictions)\n",
        "print(f\"accuracy: {acc_s:.2f}\")\n",
        "bacc_s=balanced_accuracy_score(test['Label'],predictions)\n",
        "print(f\"balanced accuracy: {bacc_s:.2f}\")\n",
        "ck_s=cohen_kappa_score(test['Label'],predictions)\n",
        "print(f\"cohen's kappa: {ck_s:.2f}\")"
      ]
    },
    {
      "cell_type": "code",
      "source": [
        "train['Label'].mean()"
      ],
      "metadata": {
        "colab": {
          "base_uri": "https://localhost:8080/"
        },
        "id": "sYmxOBZFCBFE",
        "outputId": "f168bed0-ac4f-4d14-9d22-71b2248be95f"
      },
      "execution_count": null,
      "outputs": [
        {
          "output_type": "execute_result",
          "data": {
            "text/plain": [
              "0.5302175664786463"
            ]
          },
          "metadata": {},
          "execution_count": 34
        }
      ]
    },
    {
      "cell_type": "code",
      "execution_count": null,
      "metadata": {
        "colab": {
          "base_uri": "https://localhost:8080/",
          "height": 350
        },
        "id": "0Yu3US0R0SdJ",
        "outputId": "606800b3-f1b3-45ff-d118-5076ef0c1e97"
      },
      "outputs": [
        {
          "output_type": "display_data",
          "data": {
            "text/plain": [
              "<Figure size 360x360 with 2 Axes>"
            ],
            "image/png": "[encoded data removed]"
          },
          "metadata": {
            "needs_background": "light"
          }
        }
      ],
      "source": [
        "import matplotlib.pyplot as plt\n",
        "import seaborn as sns\n",
        "f, ax = plt.subplots(figsize=(5,5))\n",
        "sns.heatmap(conf_m, annot=True, linewidth=0.7, linecolor='cyan', fmt='g', ax=ax, cmap=\"BuPu\")\n",
        "plt.title('Testing Confusion Matrix')\n",
        "plt.xlabel('predicted', )\n",
        "plt.ylabel('actual')\n",
        "plt.show();"
      ]
    },
    {
      "cell_type": "markdown",
      "metadata": {
        "id": "z7zMdrlK0SdK"
      },
      "source": [
        "### 2.TFID Vectorizer"
      ]
    },
    {
      "cell_type": "code",
      "execution_count": null,
      "metadata": {
        "id": "cbYqO20d0SdK"
      },
      "outputs": [],
      "source": [
        "from sklearn.feature_extraction.text import TfidfVectorizer\n",
        "from sklearn.ensemble import RandomForestClassifier\n",
        "from nltk.tokenize import word_tokenize"
      ]
    },
    {
      "cell_type": "code",
      "execution_count": null,
      "metadata": {
        "id": "RbED7hkG0SdK"
      },
      "outputs": [],
      "source": [
        "## implement BAG OF WORDS\n",
        "tfidvector=TfidfVectorizer(tokenizer=word_tokenize, token_pattern=None, ngram_range=(1,2))\n",
        "traindataset=tfidvector.fit_transform(headlines_train)"
      ]
    },
    {
      "cell_type": "code",
      "execution_count": null,
      "metadata": {
        "id": "CkGYowF00SdK",
        "colab": {
          "base_uri": "https://localhost:8080/"
        },
        "outputId": "1e39cba3-3d9f-43ff-a754-8fb4d9e7e9f6"
      },
      "outputs": [
        {
          "output_type": "stream",
          "name": "stdout",
          "text": [
            "Best: 0.505342 using {'criterion': 'gini', 'max_depth': 8, 'n_estimators': 50}\n"
          ]
        }
      ],
      "source": [
        "from sklearn.model_selection import KFold, GridSearchCV\n",
        "\n",
        "n_estimators = [20, 50, 100, 150, 200, 250, 300]\n",
        "max_depth= [3, 4, 5, 8, 12, 'None']\n",
        "criterion = [\"gini\",\"entropy\"]\n",
        "param_grid = dict(n_estimators=n_estimators, max_depth=max_depth, criterion = criterion )\n",
        "gsmodel = RandomForestClassifier(random_state=42, n_jobs=-1)\n",
        "kfold = KFold(n_splits=5, random_state=42, shuffle=True)\n",
        "grid = GridSearchCV(estimator=gsmodel, param_grid=param_grid, scoring=\"balanced_accuracy\", cv=kfold)\n",
        "grid_result = grid.fit(traindataset, train['Label'])\n",
        "\n",
        "#Print Results\n",
        "print(\"Best: %f using %s\" % (grid_result.best_score_, grid_result.best_params_))\n",
        "means = grid_result.cv_results_['mean_test_score']\n",
        "stds = grid_result.cv_results_['std_test_score']\n",
        "params = grid_result.cv_results_['params']\n",
        "ranks = grid_result.cv_results_['rank_test_score']\n",
        "# for mean, stdev, param, rank in zip(means, stds, params, ranks):\n",
        "#     print(\"#%d %f (%f) with: %r\" % (rank, mean, stdev, param))"
      ]
    },
    {
      "cell_type": "code",
      "execution_count": null,
      "metadata": {
        "id": "fFfBq-iB0SdK",
        "colab": {
          "base_uri": "https://localhost:8080/"
        },
        "outputId": "cd95f4a4-33b2-4d0d-c78f-795207d78779"
      },
      "outputs": [
        {
          "output_type": "execute_result",
          "data": {
            "text/plain": [
              "RandomForestClassifier(max_depth=8, n_estimators=50, random_state=42)"
            ]
          },
          "metadata": {},
          "execution_count": 24
        }
      ],
      "source": [
        "randomclassifier=RandomForestClassifier(criterion = grid_result.best_params_['criterion'], \n",
        "                              n_estimators = grid_result.best_params_['n_estimators'], \n",
        "                              max_depth = grid_result.best_params_['max_depth'], random_state=42)\n",
        "randomclassifier.fit(traindataset, train['Label'])"
      ]
    },
    {
      "cell_type": "code",
      "execution_count": null,
      "metadata": {
        "id": "4FmHk-Qu0SdK"
      },
      "outputs": [],
      "source": [
        "## Predict for the Test Dataset\n",
        "test_dataset = countvector.transform(headlines_test)\n",
        "predictions = randomclassifier.predict(test_dataset)"
      ]
    },
    {
      "cell_type": "code",
      "execution_count": null,
      "metadata": {
        "id": "tnPxrHde0SdK",
        "colab": {
          "base_uri": "https://localhost:8080/"
        },
        "outputId": "2a2eb9d8-1d38-40d3-c577-956bf274f145"
      },
      "outputs": [
        {
          "output_type": "stream",
          "name": "stdout",
          "text": [
            "[[ 50 249]\n",
            " [ 36 295]]\n",
            "-------------------------\n",
            "accuracy: 0.55\n",
            "balanced accuracy: 0.53\n",
            "cohen's kappa: 0.06\n"
          ]
        }
      ],
      "source": [
        "from sklearn.metrics import confusion_matrix, accuracy_score, balanced_accuracy_score, cohen_kappa_score\n",
        "conf_m=confusion_matrix(test['Label'],predictions)\n",
        "print(conf_m)\n",
        "print(\"-------------------------\")\n",
        "acc_s=accuracy_score(test['Label'],predictions)\n",
        "print(f\"accuracy: {acc_s:.2f}\")\n",
        "bacc_s=balanced_accuracy_score(test['Label'],predictions)\n",
        "print(f\"balanced accuracy: {bacc_s:.2f}\")\n",
        "ck_s=cohen_kappa_score(test['Label'],predictions)\n",
        "print(f\"cohen's kappa: {ck_s:.2f}\")"
      ]
    },
    {
      "cell_type": "code",
      "execution_count": null,
      "metadata": {
        "id": "E0E77TUm0SdK",
        "colab": {
          "base_uri": "https://localhost:8080/",
          "height": 350
        },
        "outputId": "42961c4b-c224-401c-bd4d-be970511c397"
      },
      "outputs": [
        {
          "output_type": "display_data",
          "data": {
            "text/plain": [
              "<Figure size 360x360 with 2 Axes>"
            ],
            "image/png": "[encoded data removed]"
          },
          "metadata": {
            "needs_background": "light"
          }
        }
      ],
      "source": [
        "import matplotlib.pyplot as plt\n",
        "import seaborn as sns\n",
        "f, ax = plt.subplots(figsize=(5,5))\n",
        "sns.heatmap(conf_m, annot=True, linewidth=0.7, linecolor='cyan', fmt='g', ax=ax, cmap=\"BuPu\")\n",
        "plt.title('Testing Confusion Matrix')\n",
        "plt.xlabel('predicted', )\n",
        "plt.ylabel('actual')\n",
        "plt.show();"
      ]
    },
    {
      "cell_type": "markdown",
      "metadata": {
        "id": "mrTJ6H8N0SdK"
      },
      "source": [
        "### 3.Word2Vec"
      ]
    },
    {
      "cell_type": "code",
      "execution_count": null,
      "metadata": {
        "id": "MBIeE_fw0SdL"
      },
      "outputs": [],
      "source": [
        "from gensim.models import KeyedVectors\n",
        "from gensim import models\n",
        "\n",
        "word2vec_path = '/content/drive/MyDrive/Colab Data/GoogleNews-vectors-negative300.bin.gz'\n",
        "w2v_model = models.KeyedVectors.load_word2vec_format(word2vec_path, binary=True)"
      ]
    },
    {
      "cell_type": "code",
      "execution_count": null,
      "metadata": {
        "id": "pTBTqiMv0SdL",
        "colab": {
          "base_uri": "https://localhost:8080/",
          "height": 143
        },
        "outputId": "d4258f91-9f1b-4aeb-c401-fbb968c1d139"
      },
      "outputs": [
        {
          "output_type": "execute_result",
          "data": {
            "text/plain": [
              "                                           headlines\n",
              "0  a  hindrance to operations   extracts from the...\n",
              "1  scorecard the best lake scene leader  german s...\n",
              "2  coventry caught on counter by flo united s riv..."
            ],
            "text/html": [
              "\n",
              "  <div id=\"df-e212ae65-1c47-47dc-94b1-1bcd66df772d\">\n",
              "    <div class=\"colab-df-container\">\n",
              "      <div>\n",
              "<style scoped>\n",
              "    .dataframe tbody tr th:only-of-type {\n",
              "        vertical-align: middle;\n",
              "    }\n",
              "\n",
              "    .dataframe tbody tr th {\n",
              "        vertical-align: top;\n",
              "    }\n",
              "\n",
              "    .dataframe thead th {\n",
              "        text-align: right;\n",
              "    }\n",
              "</style>\n",
              "<table border=\"1\" class=\"dataframe\">\n",
              "  <thead>\n",
              "    <tr style=\"text-align: right;\">\n",
              "      <th></th>\n",
              "      <th>headlines</th>\n",
              "    </tr>\n",
              "  </thead>\n",
              "  <tbody>\n",
              "    <tr>\n",
              "      <th>0</th>\n",
              "      <td>a  hindrance to operations   extracts from the...</td>\n",
              "    </tr>\n",
              "    <tr>\n",
              "      <th>1</th>\n",
              "      <td>scorecard the best lake scene leader  german s...</td>\n",
              "    </tr>\n",
              "    <tr>\n",
              "      <th>2</th>\n",
              "      <td>coventry caught on counter by flo united s riv...</td>\n",
              "    </tr>\n",
              "  </tbody>\n",
              "</table>\n",
              "</div>\n",
              "      <button class=\"colab-df-convert\" onclick=\"convertToInteractive('df-e212ae65-1c47-47dc-94b1-1bcd66df772d')\"\n",
              "              title=\"Convert this dataframe to an interactive table.\"\n",
              "              style=\"display:none;\">\n",
              "        \n",
              "  <svg xmlns=\"http://www.w3.org/2000/svg\" height=\"24px\"viewBox=\"0 0 24 24\"\n",
              "       width=\"24px\">\n",
              "    <path d=\"M0 0h24v24H0V0z\" fill=\"none\"/>\n",
              "    <path d=\"M18.56 5.44l.94 2.06.94-2.06 2.06-.94-2.06-.94-.94-2.06-.94 2.06-2.06.94zm-11 1L8.5 8.5l.94-2.06 2.06-.94-2.06-.94L8.5 2.5l-.94 2.06-2.06.94zm10 10l.94 2.06.94-2.06 2.06-.94-2.06-.94-.94-2.06-.94 2.06-2.06.94z\"/><path d=\"M17.41 7.96l-1.37-1.37c-.4-.4-.92-.59-1.43-.59-.52 0-1.04.2-1.43.59L10.3 9.45l-7.72 7.72c-.78.78-.78 2.05 0 2.83L4 21.41c.39.39.9.59 1.41.59.51 0 1.02-.2 1.41-.59l7.78-7.78 2.81-2.81c.8-.78.8-2.07 0-2.86zM5.41 20L4 18.59l7.72-7.72 1.47 1.35L5.41 20z\"/>\n",
              "  </svg>\n",
              "      </button>\n",
              "      \n",
              "  <style>\n",
              "    .colab-df-container {\n",
              "      display:flex;\n",
              "      flex-wrap:wrap;\n",
              "      gap: 12px;\n",
              "    }\n",
              "\n",
              "    .colab-df-convert {\n",
              "      background-color: #E8F0FE;\n",
              "      border: none;\n",
              "      border-radius: 50%;\n",
              "      cursor: pointer;\n",
              "      display: none;\n",
              "      fill: #1967D2;\n",
              "      height: 32px;\n",
              "      padding: 0 0 0 0;\n",
              "      width: 32px;\n",
              "    }\n",
              "\n",
              "    .colab-df-convert:hover {\n",
              "      background-color: #E2EBFA;\n",
              "      box-shadow: 0px 1px 2px rgba(60, 64, 67, 0.3), 0px 1px 3px 1px rgba(60, 64, 67, 0.15);\n",
              "      fill: #174EA6;\n",
              "    }\n",
              "\n",
              "    [theme=dark] .colab-df-convert {\n",
              "      background-color: #3B4455;\n",
              "      fill: #D2E3FC;\n",
              "    }\n",
              "\n",
              "    [theme=dark] .colab-df-convert:hover {\n",
              "      background-color: #434B5C;\n",
              "      box-shadow: 0px 1px 3px 1px rgba(0, 0, 0, 0.15);\n",
              "      filter: drop-shadow(0px 1px 2px rgba(0, 0, 0, 0.3));\n",
              "      fill: #FFFFFF;\n",
              "    }\n",
              "  </style>\n",
              "\n",
              "      <script>\n",
              "        const buttonEl =\n",
              "          document.querySelector('#df-e212ae65-1c47-47dc-94b1-1bcd66df772d button.colab-df-convert');\n",
              "        buttonEl.style.display =\n",
              "          google.colab.kernel.accessAllowed ? 'block' : 'none';\n",
              "\n",
              "        async function convertToInteractive(key) {\n",
              "          const element = document.querySelector('#df-e212ae65-1c47-47dc-94b1-1bcd66df772d');\n",
              "          const dataTable =\n",
              "            await google.colab.kernel.invokeFunction('convertToInteractive',\n",
              "                                                     [key], {});\n",
              "          if (!dataTable) return;\n",
              "\n",
              "          const docLinkHtml = 'Like what you see? Visit the ' +\n",
              "            '<a target=\"_blank\" href=https://colab.research.google.com/notebooks/data_table.ipynb>data table notebook</a>'\n",
              "            + ' to learn more about interactive tables.';\n",
              "          element.innerHTML = '';\n",
              "          dataTable['output_type'] = 'display_data';\n",
              "          await google.colab.output.renderOutput(dataTable, element);\n",
              "          const docLink = document.createElement('div');\n",
              "          docLink.innerHTML = docLinkHtml;\n",
              "          element.appendChild(docLink);\n",
              "        }\n",
              "      </script>\n",
              "    </div>\n",
              "  </div>\n",
              "  "
            ]
          },
          "metadata": {},
          "execution_count": 29
        }
      ],
      "source": [
        "headlines_train = pd.DataFrame(headlines_train, columns=[\"headlines\"])\n",
        "headlines_train.head(3)"
      ]
    },
    {
      "cell_type": "code",
      "execution_count": null,
      "metadata": {
        "id": "samKcHAr0SdL",
        "colab": {
          "base_uri": "https://localhost:8080/",
          "height": 237
        },
        "outputId": "945c663b-5300-4138-bc8a-a3c9c905d0e8"
      },
      "outputs": [
        {
          "output_type": "execute_result",
          "data": {
            "text/plain": [
              "        0         1         2         3         4         5         6    \\\n",
              "0  0.014155  0.066780 -0.016551  0.067721 -0.033583 -0.025058 -0.004632   \n",
              "1  0.016676  0.058779  0.065501  0.074488 -0.053246 -0.016464  0.029059   \n",
              "2 -0.014619  0.045051  0.026015  0.098325 -0.009698 -0.012051 -0.013056   \n",
              "\n",
              "        7         8         9    ...       290       291       292       293  \\\n",
              "0 -0.107865  0.055811  0.110056  ... -0.004202  0.010812 -0.094273  0.027771   \n",
              "1 -0.087770  0.083148  0.069340  ... -0.024967  0.016940 -0.077081  0.037281   \n",
              "2 -0.129038  0.016051  0.096979  ... -0.015584  0.074591 -0.067722  0.056172   \n",
              "\n",
              "        294       295       296       297       298       299  \n",
              "0 -0.050508 -0.037531 -0.000595 -0.074847  0.006279  0.042108  \n",
              "1 -0.052643  0.000297 -0.020481 -0.049657 -0.011344  0.007745  \n",
              "2 -0.057756 -0.024615 -0.027692 -0.052266 -0.009442  0.041312  \n",
              "\n",
              "[3 rows x 300 columns]"
            ],
            "text/html": [
              "\n",
              "  <div id=\"df-37eac3da-72a7-4f49-b926-168d9ee02ef4\">\n",
              "    <div class=\"colab-df-container\">\n",
              "      <div>\n",
              "<style scoped>\n",
              "    .dataframe tbody tr th:only-of-type {\n",
              "        vertical-align: middle;\n",
              "    }\n",
              "\n",
              "    .dataframe tbody tr th {\n",
              "        vertical-align: top;\n",
              "    }\n",
              "\n",
              "    .dataframe thead th {\n",
              "        text-align: right;\n",
              "    }\n",
              "</style>\n",
              "<table border=\"1\" class=\"dataframe\">\n",
              "  <thead>\n",
              "    <tr style=\"text-align: right;\">\n",
              "      <th></th>\n",
              "      <th>0</th>\n",
              "      <th>1</th>\n",
              "      <th>2</th>\n",
              "      <th>3</th>\n",
              "      <th>4</th>\n",
              "      <th>5</th>\n",
              "      <th>6</th>\n",
              "      <th>7</th>\n",
              "      <th>8</th>\n",
              "      <th>9</th>\n",
              "      <th>...</th>\n",
              "      <th>290</th>\n",
              "      <th>291</th>\n",
              "      <th>292</th>\n",
              "      <th>293</th>\n",
              "      <th>294</th>\n",
              "      <th>295</th>\n",
              "      <th>296</th>\n",
              "      <th>297</th>\n",
              "      <th>298</th>\n",
              "      <th>299</th>\n",
              "    </tr>\n",
              "  </thead>\n",
              "  <tbody>\n",
              "    <tr>\n",
              "      <th>0</th>\n",
              "      <td>0.014155</td>\n",
              "      <td>0.066780</td>\n",
              "      <td>-0.016551</td>\n",
              "      <td>0.067721</td>\n",
              "      <td>-0.033583</td>\n",
              "      <td>-0.025058</td>\n",
              "      <td>-0.004632</td>\n",
              "      <td>-0.107865</td>\n",
              "      <td>0.055811</td>\n",
              "      <td>0.110056</td>\n",
              "      <td>...</td>\n",
              "      <td>-0.004202</td>\n",
              "      <td>0.010812</td>\n",
              "      <td>-0.094273</td>\n",
              "      <td>0.027771</td>\n",
              "      <td>-0.050508</td>\n",
              "      <td>-0.037531</td>\n",
              "      <td>-0.000595</td>\n",
              "      <td>-0.074847</td>\n",
              "      <td>0.006279</td>\n",
              "      <td>0.042108</td>\n",
              "    </tr>\n",
              "    <tr>\n",
              "      <th>1</th>\n",
              "      <td>0.016676</td>\n",
              "      <td>0.058779</td>\n",
              "      <td>0.065501</td>\n",
              "      <td>0.074488</td>\n",
              "      <td>-0.053246</td>\n",
              "      <td>-0.016464</td>\n",
              "      <td>0.029059</td>\n",
              "      <td>-0.087770</td>\n",
              "      <td>0.083148</td>\n",
              "      <td>0.069340</td>\n",
              "      <td>...</td>\n",
              "      <td>-0.024967</td>\n",
              "      <td>0.016940</td>\n",
              "      <td>-0.077081</td>\n",
              "      <td>0.037281</td>\n",
              "      <td>-0.052643</td>\n",
              "      <td>0.000297</td>\n",
              "      <td>-0.020481</td>\n",
              "      <td>-0.049657</td>\n",
              "      <td>-0.011344</td>\n",
              "      <td>0.007745</td>\n",
              "    </tr>\n",
              "    <tr>\n",
              "      <th>2</th>\n",
              "      <td>-0.014619</td>\n",
              "      <td>0.045051</td>\n",
              "      <td>0.026015</td>\n",
              "      <td>0.098325</td>\n",
              "      <td>-0.009698</td>\n",
              "      <td>-0.012051</td>\n",
              "      <td>-0.013056</td>\n",
              "      <td>-0.129038</td>\n",
              "      <td>0.016051</td>\n",
              "      <td>0.096979</td>\n",
              "      <td>...</td>\n",
              "      <td>-0.015584</td>\n",
              "      <td>0.074591</td>\n",
              "      <td>-0.067722</td>\n",
              "      <td>0.056172</td>\n",
              "      <td>-0.057756</td>\n",
              "      <td>-0.024615</td>\n",
              "      <td>-0.027692</td>\n",
              "      <td>-0.052266</td>\n",
              "      <td>-0.009442</td>\n",
              "      <td>0.041312</td>\n",
              "    </tr>\n",
              "  </tbody>\n",
              "</table>\n",
              "<p>3 rows × 300 columns</p>\n",
              "</div>\n",
              "      <button class=\"colab-df-convert\" onclick=\"convertToInteractive('df-37eac3da-72a7-4f49-b926-168d9ee02ef4')\"\n",
              "              title=\"Convert this dataframe to an interactive table.\"\n",
              "              style=\"display:none;\">\n",
              "        \n",
              "  <svg xmlns=\"http://www.w3.org/2000/svg\" height=\"24px\"viewBox=\"0 0 24 24\"\n",
              "       width=\"24px\">\n",
              "    <path d=\"M0 0h24v24H0V0z\" fill=\"none\"/>\n",
              "    <path d=\"M18.56 5.44l.94 2.06.94-2.06 2.06-.94-2.06-.94-.94-2.06-.94 2.06-2.06.94zm-11 1L8.5 8.5l.94-2.06 2.06-.94-2.06-.94L8.5 2.5l-.94 2.06-2.06.94zm10 10l.94 2.06.94-2.06 2.06-.94-2.06-.94-.94-2.06-.94 2.06-2.06.94z\"/><path d=\"M17.41 7.96l-1.37-1.37c-.4-.4-.92-.59-1.43-.59-.52 0-1.04.2-1.43.59L10.3 9.45l-7.72 7.72c-.78.78-.78 2.05 0 2.83L4 21.41c.39.39.9.59 1.41.59.51 0 1.02-.2 1.41-.59l7.78-7.78 2.81-2.81c.8-.78.8-2.07 0-2.86zM5.41 20L4 18.59l7.72-7.72 1.47 1.35L5.41 20z\"/>\n",
              "  </svg>\n",
              "      </button>\n",
              "      \n",
              "  <style>\n",
              "    .colab-df-container {\n",
              "      display:flex;\n",
              "      flex-wrap:wrap;\n",
              "      gap: 12px;\n",
              "    }\n",
              "\n",
              "    .colab-df-convert {\n",
              "      background-color: #E8F0FE;\n",
              "      border: none;\n",
              "      border-radius: 50%;\n",
              "      cursor: pointer;\n",
              "      display: none;\n",
              "      fill: #1967D2;\n",
              "      height: 32px;\n",
              "      padding: 0 0 0 0;\n",
              "      width: 32px;\n",
              "    }\n",
              "\n",
              "    .colab-df-convert:hover {\n",
              "      background-color: #E2EBFA;\n",
              "      box-shadow: 0px 1px 2px rgba(60, 64, 67, 0.3), 0px 1px 3px 1px rgba(60, 64, 67, 0.15);\n",
              "      fill: #174EA6;\n",
              "    }\n",
              "\n",
              "    [theme=dark] .colab-df-convert {\n",
              "      background-color: #3B4455;\n",
              "      fill: #D2E3FC;\n",
              "    }\n",
              "\n",
              "    [theme=dark] .colab-df-convert:hover {\n",
              "      background-color: #434B5C;\n",
              "      box-shadow: 0px 1px 3px 1px rgba(0, 0, 0, 0.15);\n",
              "      filter: drop-shadow(0px 1px 2px rgba(0, 0, 0, 0.3));\n",
              "      fill: #FFFFFF;\n",
              "    }\n",
              "  </style>\n",
              "\n",
              "      <script>\n",
              "        const buttonEl =\n",
              "          document.querySelector('#df-37eac3da-72a7-4f49-b926-168d9ee02ef4 button.colab-df-convert');\n",
              "        buttonEl.style.display =\n",
              "          google.colab.kernel.accessAllowed ? 'block' : 'none';\n",
              "\n",
              "        async function convertToInteractive(key) {\n",
              "          const element = document.querySelector('#df-37eac3da-72a7-4f49-b926-168d9ee02ef4');\n",
              "          const dataTable =\n",
              "            await google.colab.kernel.invokeFunction('convertToInteractive',\n",
              "                                                     [key], {});\n",
              "          if (!dataTable) return;\n",
              "\n",
              "          const docLinkHtml = 'Like what you see? Visit the ' +\n",
              "            '<a target=\"_blank\" href=https://colab.research.google.com/notebooks/data_table.ipynb>data table notebook</a>'\n",
              "            + ' to learn more about interactive tables.';\n",
              "          element.innerHTML = '';\n",
              "          dataTable['output_type'] = 'display_data';\n",
              "          await google.colab.output.renderOutput(dataTable, element);\n",
              "          const docLink = document.createElement('div');\n",
              "          docLink.innerHTML = docLinkHtml;\n",
              "          element.appendChild(docLink);\n",
              "        }\n",
              "      </script>\n",
              "    </div>\n",
              "  </div>\n",
              "  "
            ]
          },
          "metadata": {},
          "execution_count": 30
        }
      ],
      "source": [
        "traindataset = headlines_train[\"headlines\"].apply(lambda text: np.mean([w2v_model[word] for word in text.split() if word in w2v_model], axis=0))\n",
        "traindataset = pd.DataFrame(np.vstack(traindataset))\n",
        "traindataset.head(3)"
      ]
    },
    {
      "cell_type": "code",
      "execution_count": null,
      "metadata": {
        "id": "K_B0SwoU0SdL",
        "colab": {
          "base_uri": "https://localhost:8080/",
          "height": 237
        },
        "outputId": "5fc89772-5769-4a73-ea96-f217843ca719"
      },
      "outputs": [
        {
          "output_type": "execute_result",
          "data": {
            "text/plain": [
              "        0         1         2         3         4         5         6    \\\n",
              "0  0.017925  0.084566 -0.020959  0.085757 -0.042527 -0.031732 -0.005866   \n",
              "1  0.020624  0.072692  0.081006  0.092119 -0.065850 -0.020361  0.035937   \n",
              "2 -0.017042  0.052520  0.030328  0.114625 -0.011306 -0.014049 -0.015221   \n",
              "\n",
              "        7         8         9    ...       290       291       292       293  \\\n",
              "0 -0.136593  0.070675  0.139367  ... -0.005321  0.013692 -0.119381  0.035168   \n",
              "1 -0.108546  0.102829  0.085753  ... -0.030877  0.020950 -0.095326  0.046106   \n",
              "2 -0.150429  0.018712  0.113056  ... -0.018168  0.086956 -0.078949  0.065484   \n",
              "\n",
              "        294       295       296       297       298       299  \n",
              "0 -0.063959 -0.047526 -0.000754 -0.094781  0.007952  0.053323  \n",
              "1 -0.065104  0.000367 -0.025329 -0.061411 -0.014029  0.009578  \n",
              "2 -0.067330 -0.028696 -0.032283 -0.060930 -0.011008  0.048160  \n",
              "\n",
              "[3 rows x 300 columns]"
            ],
            "text/html": [
              "\n",
              "  <div id=\"df-2fa20dc8-daec-41e9-a199-cc0bdec6aa2c\">\n",
              "    <div class=\"colab-df-container\">\n",
              "      <div>\n",
              "<style scoped>\n",
              "    .dataframe tbody tr th:only-of-type {\n",
              "        vertical-align: middle;\n",
              "    }\n",
              "\n",
              "    .dataframe tbody tr th {\n",
              "        vertical-align: top;\n",
              "    }\n",
              "\n",
              "    .dataframe thead th {\n",
              "        text-align: right;\n",
              "    }\n",
              "</style>\n",
              "<table border=\"1\" class=\"dataframe\">\n",
              "  <thead>\n",
              "    <tr style=\"text-align: right;\">\n",
              "      <th></th>\n",
              "      <th>0</th>\n",
              "      <th>1</th>\n",
              "      <th>2</th>\n",
              "      <th>3</th>\n",
              "      <th>4</th>\n",
              "      <th>5</th>\n",
              "      <th>6</th>\n",
              "      <th>7</th>\n",
              "      <th>8</th>\n",
              "      <th>9</th>\n",
              "      <th>...</th>\n",
              "      <th>290</th>\n",
              "      <th>291</th>\n",
              "      <th>292</th>\n",
              "      <th>293</th>\n",
              "      <th>294</th>\n",
              "      <th>295</th>\n",
              "      <th>296</th>\n",
              "      <th>297</th>\n",
              "      <th>298</th>\n",
              "      <th>299</th>\n",
              "    </tr>\n",
              "  </thead>\n",
              "  <tbody>\n",
              "    <tr>\n",
              "      <th>0</th>\n",
              "      <td>0.017925</td>\n",
              "      <td>0.084566</td>\n",
              "      <td>-0.020959</td>\n",
              "      <td>0.085757</td>\n",
              "      <td>-0.042527</td>\n",
              "      <td>-0.031732</td>\n",
              "      <td>-0.005866</td>\n",
              "      <td>-0.136593</td>\n",
              "      <td>0.070675</td>\n",
              "      <td>0.139367</td>\n",
              "      <td>...</td>\n",
              "      <td>-0.005321</td>\n",
              "      <td>0.013692</td>\n",
              "      <td>-0.119381</td>\n",
              "      <td>0.035168</td>\n",
              "      <td>-0.063959</td>\n",
              "      <td>-0.047526</td>\n",
              "      <td>-0.000754</td>\n",
              "      <td>-0.094781</td>\n",
              "      <td>0.007952</td>\n",
              "      <td>0.053323</td>\n",
              "    </tr>\n",
              "    <tr>\n",
              "      <th>1</th>\n",
              "      <td>0.020624</td>\n",
              "      <td>0.072692</td>\n",
              "      <td>0.081006</td>\n",
              "      <td>0.092119</td>\n",
              "      <td>-0.065850</td>\n",
              "      <td>-0.020361</td>\n",
              "      <td>0.035937</td>\n",
              "      <td>-0.108546</td>\n",
              "      <td>0.102829</td>\n",
              "      <td>0.085753</td>\n",
              "      <td>...</td>\n",
              "      <td>-0.030877</td>\n",
              "      <td>0.020950</td>\n",
              "      <td>-0.095326</td>\n",
              "      <td>0.046106</td>\n",
              "      <td>-0.065104</td>\n",
              "      <td>0.000367</td>\n",
              "      <td>-0.025329</td>\n",
              "      <td>-0.061411</td>\n",
              "      <td>-0.014029</td>\n",
              "      <td>0.009578</td>\n",
              "    </tr>\n",
              "    <tr>\n",
              "      <th>2</th>\n",
              "      <td>-0.017042</td>\n",
              "      <td>0.052520</td>\n",
              "      <td>0.030328</td>\n",
              "      <td>0.114625</td>\n",
              "      <td>-0.011306</td>\n",
              "      <td>-0.014049</td>\n",
              "      <td>-0.015221</td>\n",
              "      <td>-0.150429</td>\n",
              "      <td>0.018712</td>\n",
              "      <td>0.113056</td>\n",
              "      <td>...</td>\n",
              "      <td>-0.018168</td>\n",
              "      <td>0.086956</td>\n",
              "      <td>-0.078949</td>\n",
              "      <td>0.065484</td>\n",
              "      <td>-0.067330</td>\n",
              "      <td>-0.028696</td>\n",
              "      <td>-0.032283</td>\n",
              "      <td>-0.060930</td>\n",
              "      <td>-0.011008</td>\n",
              "      <td>0.048160</td>\n",
              "    </tr>\n",
              "  </tbody>\n",
              "</table>\n",
              "<p>3 rows × 300 columns</p>\n",
              "</div>\n",
              "      <button class=\"colab-df-convert\" onclick=\"convertToInteractive('df-2fa20dc8-daec-41e9-a199-cc0bdec6aa2c')\"\n",
              "              title=\"Convert this dataframe to an interactive table.\"\n",
              "              style=\"display:none;\">\n",
              "        \n",
              "  <svg xmlns=\"http://www.w3.org/2000/svg\" height=\"24px\"viewBox=\"0 0 24 24\"\n",
              "       width=\"24px\">\n",
              "    <path d=\"M0 0h24v24H0V0z\" fill=\"none\"/>\n",
              "    <path d=\"M18.56 5.44l.94 2.06.94-2.06 2.06-.94-2.06-.94-.94-2.06-.94 2.06-2.06.94zm-11 1L8.5 8.5l.94-2.06 2.06-.94-2.06-.94L8.5 2.5l-.94 2.06-2.06.94zm10 10l.94 2.06.94-2.06 2.06-.94-2.06-.94-.94-2.06-.94 2.06-2.06.94z\"/><path d=\"M17.41 7.96l-1.37-1.37c-.4-.4-.92-.59-1.43-.59-.52 0-1.04.2-1.43.59L10.3 9.45l-7.72 7.72c-.78.78-.78 2.05 0 2.83L4 21.41c.39.39.9.59 1.41.59.51 0 1.02-.2 1.41-.59l7.78-7.78 2.81-2.81c.8-.78.8-2.07 0-2.86zM5.41 20L4 18.59l7.72-7.72 1.47 1.35L5.41 20z\"/>\n",
              "  </svg>\n",
              "      </button>\n",
              "      \n",
              "  <style>\n",
              "    .colab-df-container {\n",
              "      display:flex;\n",
              "      flex-wrap:wrap;\n",
              "      gap: 12px;\n",
              "    }\n",
              "\n",
              "    .colab-df-convert {\n",
              "      background-color: #E8F0FE;\n",
              "      border: none;\n",
              "      border-radius: 50%;\n",
              "      cursor: pointer;\n",
              "      display: none;\n",
              "      fill: #1967D2;\n",
              "      height: 32px;\n",
              "      padding: 0 0 0 0;\n",
              "      width: 32px;\n",
              "    }\n",
              "\n",
              "    .colab-df-convert:hover {\n",
              "      background-color: #E2EBFA;\n",
              "      box-shadow: 0px 1px 2px rgba(60, 64, 67, 0.3), 0px 1px 3px 1px rgba(60, 64, 67, 0.15);\n",
              "      fill: #174EA6;\n",
              "    }\n",
              "\n",
              "    [theme=dark] .colab-df-convert {\n",
              "      background-color: #3B4455;\n",
              "      fill: #D2E3FC;\n",
              "    }\n",
              "\n",
              "    [theme=dark] .colab-df-convert:hover {\n",
              "      background-color: #434B5C;\n",
              "      box-shadow: 0px 1px 3px 1px rgba(0, 0, 0, 0.15);\n",
              "      filter: drop-shadow(0px 1px 2px rgba(0, 0, 0, 0.3));\n",
              "      fill: #FFFFFF;\n",
              "    }\n",
              "  </style>\n",
              "\n",
              "      <script>\n",
              "        const buttonEl =\n",
              "          document.querySelector('#df-2fa20dc8-daec-41e9-a199-cc0bdec6aa2c button.colab-df-convert');\n",
              "        buttonEl.style.display =\n",
              "          google.colab.kernel.accessAllowed ? 'block' : 'none';\n",
              "\n",
              "        async function convertToInteractive(key) {\n",
              "          const element = document.querySelector('#df-2fa20dc8-daec-41e9-a199-cc0bdec6aa2c');\n",
              "          const dataTable =\n",
              "            await google.colab.kernel.invokeFunction('convertToInteractive',\n",
              "                                                     [key], {});\n",
              "          if (!dataTable) return;\n",
              "\n",
              "          const docLinkHtml = 'Like what you see? Visit the ' +\n",
              "            '<a target=\"_blank\" href=https://colab.research.google.com/notebooks/data_table.ipynb>data table notebook</a>'\n",
              "            + ' to learn more about interactive tables.';\n",
              "          element.innerHTML = '';\n",
              "          dataTable['output_type'] = 'display_data';\n",
              "          await google.colab.output.renderOutput(dataTable, element);\n",
              "          const docLink = document.createElement('div');\n",
              "          docLink.innerHTML = docLinkHtml;\n",
              "          element.appendChild(docLink);\n",
              "        }\n",
              "      </script>\n",
              "    </div>\n",
              "  </div>\n",
              "  "
            ]
          },
          "metadata": {},
          "execution_count": 31
        }
      ],
      "source": [
        "for ii in range(len(traindataset)):\n",
        "    traindataset.iloc[ii, :] = traindataset.iloc[ii, :]/np.sqrt((traindataset.iloc[ii, :]**2).sum())\n",
        "\n",
        "traindataset.head(3)"
      ]
    },
    {
      "cell_type": "code",
      "execution_count": null,
      "metadata": {
        "id": "obQJnS6V0SdL",
        "colab": {
          "base_uri": "https://localhost:8080/"
        },
        "outputId": "f10460a7-ee76-48c9-b034-bd866f14bbb6"
      },
      "outputs": [
        {
          "output_type": "stream",
          "name": "stdout",
          "text": [
            "Best: 0.507982 using {'criterion': 'entropy', 'max_depth': 8, 'n_estimators': 100}\n"
          ]
        }
      ],
      "source": [
        "from sklearn.model_selection import KFold, GridSearchCV\n",
        "\n",
        "n_estimators = [20, 50, 100, 150, 200, 250, 300]\n",
        "max_depth= [3, 4, 5, 8, 12, 'None']\n",
        "criterion = [\"gini\",\"entropy\"]\n",
        "param_grid = dict(n_estimators=n_estimators, max_depth=max_depth, criterion = criterion )\n",
        "gsmodel = RandomForestClassifier(random_state=42, n_jobs=-1)\n",
        "kfold = KFold(n_splits=5, random_state=42, shuffle=True)\n",
        "grid = GridSearchCV(estimator=gsmodel, param_grid=param_grid, scoring=\"balanced_accuracy\", cv=kfold)\n",
        "grid_result = grid.fit(traindataset, train['Label'])\n",
        "\n",
        "#Print Results\n",
        "print(\"Best: %f using %s\" % (grid_result.best_score_, grid_result.best_params_))\n",
        "means = grid_result.cv_results_['mean_test_score']\n",
        "stds = grid_result.cv_results_['std_test_score']\n",
        "params = grid_result.cv_results_['params']\n",
        "ranks = grid_result.cv_results_['rank_test_score']\n",
        "# for mean, stdev, param, rank in zip(means, stds, params, ranks):\n",
        "#     print(\"#%d %f (%f) with: %r\" % (rank, mean, stdev, param))"
      ]
    },
    {
      "cell_type": "code",
      "execution_count": null,
      "metadata": {
        "id": "-9hJwd1-0SdL",
        "colab": {
          "base_uri": "https://localhost:8080/"
        },
        "outputId": "7bc34905-7768-4dbc-b138-6ed0fc046fca"
      },
      "outputs": [
        {
          "output_type": "execute_result",
          "data": {
            "text/plain": [
              "RandomForestClassifier(criterion='entropy', max_depth=8, random_state=42)"
            ]
          },
          "metadata": {},
          "execution_count": 36
        }
      ],
      "source": [
        "randomclassifier=RandomForestClassifier(criterion = grid_result.best_params_['criterion'], \n",
        "                              n_estimators = grid_result.best_params_['n_estimators'], \n",
        "                              max_depth = grid_result.best_params_['max_depth'], random_state=42)\n",
        "randomclassifier.fit(traindataset, train['Label'])"
      ]
    },
    {
      "cell_type": "code",
      "execution_count": null,
      "metadata": {
        "id": "-z1K1Axf0SdL"
      },
      "outputs": [],
      "source": [
        "headlines_test = pd.DataFrame(headlines_test, columns=[\"headlines\"])"
      ]
    },
    {
      "cell_type": "code",
      "execution_count": null,
      "metadata": {
        "id": "7jH19yl-0SdM",
        "colab": {
          "base_uri": "https://localhost:8080/",
          "height": 237
        },
        "outputId": "8d06fbd2-5b99-4e46-8c84-f31a180b8df1"
      },
      "outputs": [
        {
          "output_type": "execute_result",
          "data": {
            "text/plain": [
              "        0         1         2         3         4         5         6    \\\n",
              "0  0.018403  0.050345  0.047094  0.071584 -0.044083 -0.026792 -0.005129   \n",
              "1  0.006212  0.045099  0.042855  0.076040 -0.050687 -0.011356  0.002430   \n",
              "2  0.019077  0.057012  0.026235  0.071188 -0.042394 -0.040481  0.001308   \n",
              "\n",
              "        7         8         9    ...       290       291       292       293  \\\n",
              "0 -0.086200  0.073046  0.081252  ... -0.041142 -0.000332 -0.081577  0.035109   \n",
              "1 -0.085703  0.065222  0.072120  ... -0.043993  0.015298 -0.075742  0.039631   \n",
              "2 -0.105409  0.076006  0.091313  ... -0.057854  0.001574 -0.067737  0.032847   \n",
              "\n",
              "        294       295       296       297       298       299  \n",
              "0 -0.035490 -0.000276 -0.020402 -0.053804  0.015743  0.011534  \n",
              "1 -0.022834 -0.004826 -0.055621 -0.049623  0.032563  0.003815  \n",
              "2 -0.041839 -0.004752 -0.018315 -0.023560  0.046958  0.006051  \n",
              "\n",
              "[3 rows x 300 columns]"
            ],
            "text/html": [
              "\n",
              "  <div id=\"df-278e11e5-9b03-45b8-9397-bb61442181ac\">\n",
              "    <div class=\"colab-df-container\">\n",
              "      <div>\n",
              "<style scoped>\n",
              "    .dataframe tbody tr th:only-of-type {\n",
              "        vertical-align: middle;\n",
              "    }\n",
              "\n",
              "    .dataframe tbody tr th {\n",
              "        vertical-align: top;\n",
              "    }\n",
              "\n",
              "    .dataframe thead th {\n",
              "        text-align: right;\n",
              "    }\n",
              "</style>\n",
              "<table border=\"1\" class=\"dataframe\">\n",
              "  <thead>\n",
              "    <tr style=\"text-align: right;\">\n",
              "      <th></th>\n",
              "      <th>0</th>\n",
              "      <th>1</th>\n",
              "      <th>2</th>\n",
              "      <th>3</th>\n",
              "      <th>4</th>\n",
              "      <th>5</th>\n",
              "      <th>6</th>\n",
              "      <th>7</th>\n",
              "      <th>8</th>\n",
              "      <th>9</th>\n",
              "      <th>...</th>\n",
              "      <th>290</th>\n",
              "      <th>291</th>\n",
              "      <th>292</th>\n",
              "      <th>293</th>\n",
              "      <th>294</th>\n",
              "      <th>295</th>\n",
              "      <th>296</th>\n",
              "      <th>297</th>\n",
              "      <th>298</th>\n",
              "      <th>299</th>\n",
              "    </tr>\n",
              "  </thead>\n",
              "  <tbody>\n",
              "    <tr>\n",
              "      <th>0</th>\n",
              "      <td>0.018403</td>\n",
              "      <td>0.050345</td>\n",
              "      <td>0.047094</td>\n",
              "      <td>0.071584</td>\n",
              "      <td>-0.044083</td>\n",
              "      <td>-0.026792</td>\n",
              "      <td>-0.005129</td>\n",
              "      <td>-0.086200</td>\n",
              "      <td>0.073046</td>\n",
              "      <td>0.081252</td>\n",
              "      <td>...</td>\n",
              "      <td>-0.041142</td>\n",
              "      <td>-0.000332</td>\n",
              "      <td>-0.081577</td>\n",
              "      <td>0.035109</td>\n",
              "      <td>-0.035490</td>\n",
              "      <td>-0.000276</td>\n",
              "      <td>-0.020402</td>\n",
              "      <td>-0.053804</td>\n",
              "      <td>0.015743</td>\n",
              "      <td>0.011534</td>\n",
              "    </tr>\n",
              "    <tr>\n",
              "      <th>1</th>\n",
              "      <td>0.006212</td>\n",
              "      <td>0.045099</td>\n",
              "      <td>0.042855</td>\n",
              "      <td>0.076040</td>\n",
              "      <td>-0.050687</td>\n",
              "      <td>-0.011356</td>\n",
              "      <td>0.002430</td>\n",
              "      <td>-0.085703</td>\n",
              "      <td>0.065222</td>\n",
              "      <td>0.072120</td>\n",
              "      <td>...</td>\n",
              "      <td>-0.043993</td>\n",
              "      <td>0.015298</td>\n",
              "      <td>-0.075742</td>\n",
              "      <td>0.039631</td>\n",
              "      <td>-0.022834</td>\n",
              "      <td>-0.004826</td>\n",
              "      <td>-0.055621</td>\n",
              "      <td>-0.049623</td>\n",
              "      <td>0.032563</td>\n",
              "      <td>0.003815</td>\n",
              "    </tr>\n",
              "    <tr>\n",
              "      <th>2</th>\n",
              "      <td>0.019077</td>\n",
              "      <td>0.057012</td>\n",
              "      <td>0.026235</td>\n",
              "      <td>0.071188</td>\n",
              "      <td>-0.042394</td>\n",
              "      <td>-0.040481</td>\n",
              "      <td>0.001308</td>\n",
              "      <td>-0.105409</td>\n",
              "      <td>0.076006</td>\n",
              "      <td>0.091313</td>\n",
              "      <td>...</td>\n",
              "      <td>-0.057854</td>\n",
              "      <td>0.001574</td>\n",
              "      <td>-0.067737</td>\n",
              "      <td>0.032847</td>\n",
              "      <td>-0.041839</td>\n",
              "      <td>-0.004752</td>\n",
              "      <td>-0.018315</td>\n",
              "      <td>-0.023560</td>\n",
              "      <td>0.046958</td>\n",
              "      <td>0.006051</td>\n",
              "    </tr>\n",
              "  </tbody>\n",
              "</table>\n",
              "<p>3 rows × 300 columns</p>\n",
              "</div>\n",
              "      <button class=\"colab-df-convert\" onclick=\"convertToInteractive('df-278e11e5-9b03-45b8-9397-bb61442181ac')\"\n",
              "              title=\"Convert this dataframe to an interactive table.\"\n",
              "              style=\"display:none;\">\n",
              "        \n",
              "  <svg xmlns=\"http://www.w3.org/2000/svg\" height=\"24px\"viewBox=\"0 0 24 24\"\n",
              "       width=\"24px\">\n",
              "    <path d=\"M0 0h24v24H0V0z\" fill=\"none\"/>\n",
              "    <path d=\"M18.56 5.44l.94 2.06.94-2.06 2.06-.94-2.06-.94-.94-2.06-.94 2.06-2.06.94zm-11 1L8.5 8.5l.94-2.06 2.06-.94-2.06-.94L8.5 2.5l-.94 2.06-2.06.94zm10 10l.94 2.06.94-2.06 2.06-.94-2.06-.94-.94-2.06-.94 2.06-2.06.94z\"/><path d=\"M17.41 7.96l-1.37-1.37c-.4-.4-.92-.59-1.43-.59-.52 0-1.04.2-1.43.59L10.3 9.45l-7.72 7.72c-.78.78-.78 2.05 0 2.83L4 21.41c.39.39.9.59 1.41.59.51 0 1.02-.2 1.41-.59l7.78-7.78 2.81-2.81c.8-.78.8-2.07 0-2.86zM5.41 20L4 18.59l7.72-7.72 1.47 1.35L5.41 20z\"/>\n",
              "  </svg>\n",
              "      </button>\n",
              "      \n",
              "  <style>\n",
              "    .colab-df-container {\n",
              "      display:flex;\n",
              "      flex-wrap:wrap;\n",
              "      gap: 12px;\n",
              "    }\n",
              "\n",
              "    .colab-df-convert {\n",
              "      background-color: #E8F0FE;\n",
              "      border: none;\n",
              "      border-radius: 50%;\n",
              "      cursor: pointer;\n",
              "      display: none;\n",
              "      fill: #1967D2;\n",
              "      height: 32px;\n",
              "      padding: 0 0 0 0;\n",
              "      width: 32px;\n",
              "    }\n",
              "\n",
              "    .colab-df-convert:hover {\n",
              "      background-color: #E2EBFA;\n",
              "      box-shadow: 0px 1px 2px rgba(60, 64, 67, 0.3), 0px 1px 3px 1px rgba(60, 64, 67, 0.15);\n",
              "      fill: #174EA6;\n",
              "    }\n",
              "\n",
              "    [theme=dark] .colab-df-convert {\n",
              "      background-color: #3B4455;\n",
              "      fill: #D2E3FC;\n",
              "    }\n",
              "\n",
              "    [theme=dark] .colab-df-convert:hover {\n",
              "      background-color: #434B5C;\n",
              "      box-shadow: 0px 1px 3px 1px rgba(0, 0, 0, 0.15);\n",
              "      filter: drop-shadow(0px 1px 2px rgba(0, 0, 0, 0.3));\n",
              "      fill: #FFFFFF;\n",
              "    }\n",
              "  </style>\n",
              "\n",
              "      <script>\n",
              "        const buttonEl =\n",
              "          document.querySelector('#df-278e11e5-9b03-45b8-9397-bb61442181ac button.colab-df-convert');\n",
              "        buttonEl.style.display =\n",
              "          google.colab.kernel.accessAllowed ? 'block' : 'none';\n",
              "\n",
              "        async function convertToInteractive(key) {\n",
              "          const element = document.querySelector('#df-278e11e5-9b03-45b8-9397-bb61442181ac');\n",
              "          const dataTable =\n",
              "            await google.colab.kernel.invokeFunction('convertToInteractive',\n",
              "                                                     [key], {});\n",
              "          if (!dataTable) return;\n",
              "\n",
              "          const docLinkHtml = 'Like what you see? Visit the ' +\n",
              "            '<a target=\"_blank\" href=https://colab.research.google.com/notebooks/data_table.ipynb>data table notebook</a>'\n",
              "            + ' to learn more about interactive tables.';\n",
              "          element.innerHTML = '';\n",
              "          dataTable['output_type'] = 'display_data';\n",
              "          await google.colab.output.renderOutput(dataTable, element);\n",
              "          const docLink = document.createElement('div');\n",
              "          docLink.innerHTML = docLinkHtml;\n",
              "          element.appendChild(docLink);\n",
              "        }\n",
              "      </script>\n",
              "    </div>\n",
              "  </div>\n",
              "  "
            ]
          },
          "metadata": {},
          "execution_count": 38
        }
      ],
      "source": [
        "testdataset = headlines_test[\"headlines\"].apply(lambda text: np.mean([w2v_model[word] for word in text.split() if word in w2v_model], axis=0))\n",
        "testdataset = pd.DataFrame(np.vstack(testdataset))\n",
        "testdataset.head(3)"
      ]
    },
    {
      "cell_type": "code",
      "execution_count": null,
      "metadata": {
        "id": "y0akCP2Q0SdM",
        "colab": {
          "base_uri": "https://localhost:8080/",
          "height": 237
        },
        "outputId": "60699699-18e7-44ec-a633-bbd7df10b1fc"
      },
      "outputs": [
        {
          "output_type": "execute_result",
          "data": {
            "text/plain": [
              "        0         1         2         3         4         5         6    \\\n",
              "0  0.024648  0.067429  0.063074  0.095874 -0.059041 -0.035884 -0.006869   \n",
              "1  0.008126  0.058994  0.056059  0.099468 -0.066305 -0.014856  0.003179   \n",
              "2  0.025239  0.075427  0.034709  0.094182 -0.056088 -0.053556  0.001731   \n",
              "\n",
              "        7         8         9    ...       290       291       292       293  \\\n",
              "0 -0.115450  0.097833  0.108823  ... -0.055103 -0.000445 -0.109258  0.047022   \n",
              "1 -0.112110  0.085317  0.094341  ... -0.057548  0.020012 -0.099080  0.051841   \n",
              "2 -0.139456  0.100555  0.120807  ... -0.076541  0.002082 -0.089616  0.043456   \n",
              "\n",
              "        294       295       296       297       298       299  \n",
              "0 -0.047533 -0.000370 -0.027324 -0.072061  0.021085  0.015447  \n",
              "1 -0.029869 -0.006313 -0.072758 -0.064913  0.042596  0.004991  \n",
              "2 -0.055352 -0.006286 -0.024230 -0.031170  0.062126  0.008005  \n",
              "\n",
              "[3 rows x 300 columns]"
            ],
            "text/html": [
              "\n",
              "  <div id=\"df-28d8412a-e5e6-47e4-aeb9-066595517e02\">\n",
              "    <div class=\"colab-df-container\">\n",
              "      <div>\n",
              "<style scoped>\n",
              "    .dataframe tbody tr th:only-of-type {\n",
              "        vertical-align: middle;\n",
              "    }\n",
              "\n",
              "    .dataframe tbody tr th {\n",
              "        vertical-align: top;\n",
              "    }\n",
              "\n",
              "    .dataframe thead th {\n",
              "        text-align: right;\n",
              "    }\n",
              "</style>\n",
              "<table border=\"1\" class=\"dataframe\">\n",
              "  <thead>\n",
              "    <tr style=\"text-align: right;\">\n",
              "      <th></th>\n",
              "      <th>0</th>\n",
              "      <th>1</th>\n",
              "      <th>2</th>\n",
              "      <th>3</th>\n",
              "      <th>4</th>\n",
              "      <th>5</th>\n",
              "      <th>6</th>\n",
              "      <th>7</th>\n",
              "      <th>8</th>\n",
              "      <th>9</th>\n",
              "      <th>...</th>\n",
              "      <th>290</th>\n",
              "      <th>291</th>\n",
              "      <th>292</th>\n",
              "      <th>293</th>\n",
              "      <th>294</th>\n",
              "      <th>295</th>\n",
              "      <th>296</th>\n",
              "      <th>297</th>\n",
              "      <th>298</th>\n",
              "      <th>299</th>\n",
              "    </tr>\n",
              "  </thead>\n",
              "  <tbody>\n",
              "    <tr>\n",
              "      <th>0</th>\n",
              "      <td>0.024648</td>\n",
              "      <td>0.067429</td>\n",
              "      <td>0.063074</td>\n",
              "      <td>0.095874</td>\n",
              "      <td>-0.059041</td>\n",
              "      <td>-0.035884</td>\n",
              "      <td>-0.006869</td>\n",
              "      <td>-0.115450</td>\n",
              "      <td>0.097833</td>\n",
              "      <td>0.108823</td>\n",
              "      <td>...</td>\n",
              "      <td>-0.055103</td>\n",
              "      <td>-0.000445</td>\n",
              "      <td>-0.109258</td>\n",
              "      <td>0.047022</td>\n",
              "      <td>-0.047533</td>\n",
              "      <td>-0.000370</td>\n",
              "      <td>-0.027324</td>\n",
              "      <td>-0.072061</td>\n",
              "      <td>0.021085</td>\n",
              "      <td>0.015447</td>\n",
              "    </tr>\n",
              "    <tr>\n",
              "      <th>1</th>\n",
              "      <td>0.008126</td>\n",
              "      <td>0.058994</td>\n",
              "      <td>0.056059</td>\n",
              "      <td>0.099468</td>\n",
              "      <td>-0.066305</td>\n",
              "      <td>-0.014856</td>\n",
              "      <td>0.003179</td>\n",
              "      <td>-0.112110</td>\n",
              "      <td>0.085317</td>\n",
              "      <td>0.094341</td>\n",
              "      <td>...</td>\n",
              "      <td>-0.057548</td>\n",
              "      <td>0.020012</td>\n",
              "      <td>-0.099080</td>\n",
              "      <td>0.051841</td>\n",
              "      <td>-0.029869</td>\n",
              "      <td>-0.006313</td>\n",
              "      <td>-0.072758</td>\n",
              "      <td>-0.064913</td>\n",
              "      <td>0.042596</td>\n",
              "      <td>0.004991</td>\n",
              "    </tr>\n",
              "    <tr>\n",
              "      <th>2</th>\n",
              "      <td>0.025239</td>\n",
              "      <td>0.075427</td>\n",
              "      <td>0.034709</td>\n",
              "      <td>0.094182</td>\n",
              "      <td>-0.056088</td>\n",
              "      <td>-0.053556</td>\n",
              "      <td>0.001731</td>\n",
              "      <td>-0.139456</td>\n",
              "      <td>0.100555</td>\n",
              "      <td>0.120807</td>\n",
              "      <td>...</td>\n",
              "      <td>-0.076541</td>\n",
              "      <td>0.002082</td>\n",
              "      <td>-0.089616</td>\n",
              "      <td>0.043456</td>\n",
              "      <td>-0.055352</td>\n",
              "      <td>-0.006286</td>\n",
              "      <td>-0.024230</td>\n",
              "      <td>-0.031170</td>\n",
              "      <td>0.062126</td>\n",
              "      <td>0.008005</td>\n",
              "    </tr>\n",
              "  </tbody>\n",
              "</table>\n",
              "<p>3 rows × 300 columns</p>\n",
              "</div>\n",
              "      <button class=\"colab-df-convert\" onclick=\"convertToInteractive('df-28d8412a-e5e6-47e4-aeb9-066595517e02')\"\n",
              "              title=\"Convert this dataframe to an interactive table.\"\n",
              "              style=\"display:none;\">\n",
              "        \n",
              "  <svg xmlns=\"http://www.w3.org/2000/svg\" height=\"24px\"viewBox=\"0 0 24 24\"\n",
              "       width=\"24px\">\n",
              "    <path d=\"M0 0h24v24H0V0z\" fill=\"none\"/>\n",
              "    <path d=\"M18.56 5.44l.94 2.06.94-2.06 2.06-.94-2.06-.94-.94-2.06-.94 2.06-2.06.94zm-11 1L8.5 8.5l.94-2.06 2.06-.94-2.06-.94L8.5 2.5l-.94 2.06-2.06.94zm10 10l.94 2.06.94-2.06 2.06-.94-2.06-.94-.94-2.06-.94 2.06-2.06.94z\"/><path d=\"M17.41 7.96l-1.37-1.37c-.4-.4-.92-.59-1.43-.59-.52 0-1.04.2-1.43.59L10.3 9.45l-7.72 7.72c-.78.78-.78 2.05 0 2.83L4 21.41c.39.39.9.59 1.41.59.51 0 1.02-.2 1.41-.59l7.78-7.78 2.81-2.81c.8-.78.8-2.07 0-2.86zM5.41 20L4 18.59l7.72-7.72 1.47 1.35L5.41 20z\"/>\n",
              "  </svg>\n",
              "      </button>\n",
              "      \n",
              "  <style>\n",
              "    .colab-df-container {\n",
              "      display:flex;\n",
              "      flex-wrap:wrap;\n",
              "      gap: 12px;\n",
              "    }\n",
              "\n",
              "    .colab-df-convert {\n",
              "      background-color: #E8F0FE;\n",
              "      border: none;\n",
              "      border-radius: 50%;\n",
              "      cursor: pointer;\n",
              "      display: none;\n",
              "      fill: #1967D2;\n",
              "      height: 32px;\n",
              "      padding: 0 0 0 0;\n",
              "      width: 32px;\n",
              "    }\n",
              "\n",
              "    .colab-df-convert:hover {\n",
              "      background-color: #E2EBFA;\n",
              "      box-shadow: 0px 1px 2px rgba(60, 64, 67, 0.3), 0px 1px 3px 1px rgba(60, 64, 67, 0.15);\n",
              "      fill: #174EA6;\n",
              "    }\n",
              "\n",
              "    [theme=dark] .colab-df-convert {\n",
              "      background-color: #3B4455;\n",
              "      fill: #D2E3FC;\n",
              "    }\n",
              "\n",
              "    [theme=dark] .colab-df-convert:hover {\n",
              "      background-color: #434B5C;\n",
              "      box-shadow: 0px 1px 3px 1px rgba(0, 0, 0, 0.15);\n",
              "      filter: drop-shadow(0px 1px 2px rgba(0, 0, 0, 0.3));\n",
              "      fill: #FFFFFF;\n",
              "    }\n",
              "  </style>\n",
              "\n",
              "      <script>\n",
              "        const buttonEl =\n",
              "          document.querySelector('#df-28d8412a-e5e6-47e4-aeb9-066595517e02 button.colab-df-convert');\n",
              "        buttonEl.style.display =\n",
              "          google.colab.kernel.accessAllowed ? 'block' : 'none';\n",
              "\n",
              "        async function convertToInteractive(key) {\n",
              "          const element = document.querySelector('#df-28d8412a-e5e6-47e4-aeb9-066595517e02');\n",
              "          const dataTable =\n",
              "            await google.colab.kernel.invokeFunction('convertToInteractive',\n",
              "                                                     [key], {});\n",
              "          if (!dataTable) return;\n",
              "\n",
              "          const docLinkHtml = 'Like what you see? Visit the ' +\n",
              "            '<a target=\"_blank\" href=https://colab.research.google.com/notebooks/data_table.ipynb>data table notebook</a>'\n",
              "            + ' to learn more about interactive tables.';\n",
              "          element.innerHTML = '';\n",
              "          dataTable['output_type'] = 'display_data';\n",
              "          await google.colab.output.renderOutput(dataTable, element);\n",
              "          const docLink = document.createElement('div');\n",
              "          docLink.innerHTML = docLinkHtml;\n",
              "          element.appendChild(docLink);\n",
              "        }\n",
              "      </script>\n",
              "    </div>\n",
              "  </div>\n",
              "  "
            ]
          },
          "metadata": {},
          "execution_count": 39
        }
      ],
      "source": [
        "for ii in range(len(testdataset)):\n",
        "    testdataset.iloc[ii, :] = testdataset.iloc[ii, :]/np.sqrt((testdataset.iloc[ii, :]**2).sum())\n",
        "\n",
        "testdataset.head(3)"
      ]
    },
    {
      "cell_type": "code",
      "execution_count": null,
      "metadata": {
        "id": "RYeaPPe60SdM"
      },
      "outputs": [],
      "source": [
        "predictions = randomclassifier.predict(testdataset)"
      ]
    },
    {
      "cell_type": "code",
      "execution_count": null,
      "metadata": {
        "id": "3NlChh080SdM",
        "colab": {
          "base_uri": "https://localhost:8080/"
        },
        "outputId": "77c4477a-fee5-4729-9310-7e024d39e2ad"
      },
      "outputs": [
        {
          "output_type": "stream",
          "name": "stdout",
          "text": [
            "[[ 50 249]\n",
            " [  3 328]]\n",
            "-------------------------\n",
            "accuracy: 0.60\n",
            "balanced accuracy: 0.58\n",
            "cohen's kappa: 0.16\n"
          ]
        }
      ],
      "source": [
        "from sklearn.metrics import confusion_matrix, accuracy_score, balanced_accuracy_score, cohen_kappa_score\n",
        "conf_m=confusion_matrix(test['Label'],predictions)\n",
        "print(conf_m)\n",
        "print(\"-------------------------\")\n",
        "acc_s=accuracy_score(test['Label'],predictions)\n",
        "print(f\"accuracy: {acc_s:.2f}\")\n",
        "bacc_s=balanced_accuracy_score(test['Label'],predictions)\n",
        "print(f\"balanced accuracy: {bacc_s:.2f}\")\n",
        "ck_s=cohen_kappa_score(test['Label'],predictions)\n",
        "print(f\"cohen's kappa: {ck_s:.2f}\")"
      ]
    },
    {
      "cell_type": "code",
      "execution_count": null,
      "metadata": {
        "id": "pY7vPcRE0SdM",
        "colab": {
          "base_uri": "https://localhost:8080/",
          "height": 350
        },
        "outputId": "cd8c31b1-35b0-4c1d-bd99-fad658b63c6c"
      },
      "outputs": [
        {
          "output_type": "display_data",
          "data": {
            "text/plain": [
              "<Figure size 360x360 with 2 Axes>"
            ],
            "image/png": "[encoded data removed]"
          },
          "metadata": {
            "needs_background": "light"
          }
        }
      ],
      "source": [
        "import matplotlib.pyplot as plt\n",
        "import seaborn as sns\n",
        "f, ax = plt.subplots(figsize=(5,5))\n",
        "sns.heatmap(conf_m, annot=True, linewidth=0.7, linecolor='cyan', fmt='g', ax=ax, cmap=\"BuPu\")\n",
        "plt.title('Testing Confusion Matrix')\n",
        "plt.xlabel('predicted', )\n",
        "plt.ylabel('actual')\n",
        "plt.show();"
      ]
    },
    {
      "cell_type": "markdown",
      "metadata": {
        "id": "VNQRGZA60SdM"
      },
      "source": [
        "### 4.FastText"
      ]
    },
    {
      "cell_type": "code",
      "execution_count": null,
      "metadata": {
        "id": "6tCONsqv0SdM"
      },
      "outputs": [],
      "source": [
        "import io\n",
        "\n",
        "def load_vectors(fname):\n",
        "    fin = io.open(fname, 'r', encoding='utf-8', newline='\\n', errors='ignore')\n",
        "    n, d = map(int, fin.readline().split())\n",
        "    data = {}\n",
        "    for line in fin:\n",
        "        tokens = line.rstrip().split(' ')\n",
        "        data[tokens[0]] = np.array(list(map(float, tokens[1:])))\n",
        "    return data"
      ]
    },
    {
      "cell_type": "code",
      "execution_count": null,
      "metadata": {
        "id": "DHeXi0B80SdM"
      },
      "outputs": [],
      "source": [
        "word2vec_path = '/content/drive/MyDrive/Colab Data/crawl-300d-2M.vec'\n",
        "w2v_model = load_vectors(word2vec_path)"
      ]
    },
    {
      "cell_type": "code",
      "execution_count": null,
      "metadata": {
        "id": "d_plyjVW0SdM",
        "colab": {
          "base_uri": "https://localhost:8080/",
          "height": 143
        },
        "outputId": "3fe42528-1812-49c7-93a6-38716612ef53"
      },
      "outputs": [
        {
          "output_type": "execute_result",
          "data": {
            "text/plain": [
              "                                           headlines\n",
              "0  a  hindrance to operations   extracts from the...\n",
              "1  scorecard the best lake scene leader  german s...\n",
              "2  coventry caught on counter by flo united s riv..."
            ],
            "text/html": [
              "\n",
              "  <div id=\"df-4461c074-dcb9-4f69-a027-b1c83349862e\">\n",
              "    <div class=\"colab-df-container\">\n",
              "      <div>\n",
              "<style scoped>\n",
              "    .dataframe tbody tr th:only-of-type {\n",
              "        vertical-align: middle;\n",
              "    }\n",
              "\n",
              "    .dataframe tbody tr th {\n",
              "        vertical-align: top;\n",
              "    }\n",
              "\n",
              "    .dataframe thead th {\n",
              "        text-align: right;\n",
              "    }\n",
              "</style>\n",
              "<table border=\"1\" class=\"dataframe\">\n",
              "  <thead>\n",
              "    <tr style=\"text-align: right;\">\n",
              "      <th></th>\n",
              "      <th>headlines</th>\n",
              "    </tr>\n",
              "  </thead>\n",
              "  <tbody>\n",
              "    <tr>\n",
              "      <th>0</th>\n",
              "      <td>a  hindrance to operations   extracts from the...</td>\n",
              "    </tr>\n",
              "    <tr>\n",
              "      <th>1</th>\n",
              "      <td>scorecard the best lake scene leader  german s...</td>\n",
              "    </tr>\n",
              "    <tr>\n",
              "      <th>2</th>\n",
              "      <td>coventry caught on counter by flo united s riv...</td>\n",
              "    </tr>\n",
              "  </tbody>\n",
              "</table>\n",
              "</div>\n",
              "      <button class=\"colab-df-convert\" onclick=\"convertToInteractive('df-4461c074-dcb9-4f69-a027-b1c83349862e')\"\n",
              "              title=\"Convert this dataframe to an interactive table.\"\n",
              "              style=\"display:none;\">\n",
              "        \n",
              "  <svg xmlns=\"http://www.w3.org/2000/svg\" height=\"24px\"viewBox=\"0 0 24 24\"\n",
              "       width=\"24px\">\n",
              "    <path d=\"M0 0h24v24H0V0z\" fill=\"none\"/>\n",
              "    <path d=\"M18.56 5.44l.94 2.06.94-2.06 2.06-.94-2.06-.94-.94-2.06-.94 2.06-2.06.94zm-11 1L8.5 8.5l.94-2.06 2.06-.94-2.06-.94L8.5 2.5l-.94 2.06-2.06.94zm10 10l.94 2.06.94-2.06 2.06-.94-2.06-.94-.94-2.06-.94 2.06-2.06.94z\"/><path d=\"M17.41 7.96l-1.37-1.37c-.4-.4-.92-.59-1.43-.59-.52 0-1.04.2-1.43.59L10.3 9.45l-7.72 7.72c-.78.78-.78 2.05 0 2.83L4 21.41c.39.39.9.59 1.41.59.51 0 1.02-.2 1.41-.59l7.78-7.78 2.81-2.81c.8-.78.8-2.07 0-2.86zM5.41 20L4 18.59l7.72-7.72 1.47 1.35L5.41 20z\"/>\n",
              "  </svg>\n",
              "      </button>\n",
              "      \n",
              "  <style>\n",
              "    .colab-df-container {\n",
              "      display:flex;\n",
              "      flex-wrap:wrap;\n",
              "      gap: 12px;\n",
              "    }\n",
              "\n",
              "    .colab-df-convert {\n",
              "      background-color: #E8F0FE;\n",
              "      border: none;\n",
              "      border-radius: 50%;\n",
              "      cursor: pointer;\n",
              "      display: none;\n",
              "      fill: #1967D2;\n",
              "      height: 32px;\n",
              "      padding: 0 0 0 0;\n",
              "      width: 32px;\n",
              "    }\n",
              "\n",
              "    .colab-df-convert:hover {\n",
              "      background-color: #E2EBFA;\n",
              "      box-shadow: 0px 1px 2px rgba(60, 64, 67, 0.3), 0px 1px 3px 1px rgba(60, 64, 67, 0.15);\n",
              "      fill: #174EA6;\n",
              "    }\n",
              "\n",
              "    [theme=dark] .colab-df-convert {\n",
              "      background-color: #3B4455;\n",
              "      fill: #D2E3FC;\n",
              "    }\n",
              "\n",
              "    [theme=dark] .colab-df-convert:hover {\n",
              "      background-color: #434B5C;\n",
              "      box-shadow: 0px 1px 3px 1px rgba(0, 0, 0, 0.15);\n",
              "      filter: drop-shadow(0px 1px 2px rgba(0, 0, 0, 0.3));\n",
              "      fill: #FFFFFF;\n",
              "    }\n",
              "  </style>\n",
              "\n",
              "      <script>\n",
              "        const buttonEl =\n",
              "          document.querySelector('#df-4461c074-dcb9-4f69-a027-b1c83349862e button.colab-df-convert');\n",
              "        buttonEl.style.display =\n",
              "          google.colab.kernel.accessAllowed ? 'block' : 'none';\n",
              "\n",
              "        async function convertToInteractive(key) {\n",
              "          const element = document.querySelector('#df-4461c074-dcb9-4f69-a027-b1c83349862e');\n",
              "          const dataTable =\n",
              "            await google.colab.kernel.invokeFunction('convertToInteractive',\n",
              "                                                     [key], {});\n",
              "          if (!dataTable) return;\n",
              "\n",
              "          const docLinkHtml = 'Like what you see? Visit the ' +\n",
              "            '<a target=\"_blank\" href=https://colab.research.google.com/notebooks/data_table.ipynb>data table notebook</a>'\n",
              "            + ' to learn more about interactive tables.';\n",
              "          element.innerHTML = '';\n",
              "          dataTable['output_type'] = 'display_data';\n",
              "          await google.colab.output.renderOutput(dataTable, element);\n",
              "          const docLink = document.createElement('div');\n",
              "          docLink.innerHTML = docLinkHtml;\n",
              "          element.appendChild(docLink);\n",
              "        }\n",
              "      </script>\n",
              "    </div>\n",
              "  </div>\n",
              "  "
            ]
          },
          "metadata": {},
          "execution_count": 45
        }
      ],
      "source": [
        "headlines_train = pd.DataFrame(headlines_train, columns=[\"headlines\"])\n",
        "headlines_train.head(3)"
      ]
    },
    {
      "cell_type": "code",
      "execution_count": null,
      "metadata": {
        "id": "bdRJsFZo0SdM",
        "colab": {
          "base_uri": "https://localhost:8080/",
          "height": 237
        },
        "outputId": "2e9bac13-f0bf-4799-e7c8-e3e95cd00c99"
      },
      "outputs": [
        {
          "output_type": "execute_result",
          "data": {
            "text/plain": [
              "        0         1         2         3         4         5         6    \\\n",
              "0  0.015548 -0.007512 -0.071056 -0.066811 -0.003614  0.039495 -0.058733   \n",
              "1  0.013423 -0.056801 -0.064919 -0.065972  0.032497  0.036161 -0.075893   \n",
              "2  0.019358 -0.037332 -0.050391 -0.098393  0.010180  0.013616 -0.029124   \n",
              "\n",
              "        7         8         9    ...       290       291       292       293  \\\n",
              "0 -0.013431  0.052639 -0.029294  ...  0.075063  0.046051 -0.013929  0.047744   \n",
              "1 -0.019895  0.008682 -0.063203  ...  0.011579 -0.020786 -0.030429  0.033126   \n",
              "2 -0.066989  0.038646 -0.027699  ...  0.053352  0.072636 -0.062389  0.079271   \n",
              "\n",
              "        294       295       296       297       298       299  \n",
              "0  0.033812  0.001890  0.017530 -0.055446 -0.043828 -0.050032  \n",
              "1  0.057242 -0.018543 -0.010709 -0.005545 -0.045617 -0.003166  \n",
              "2  0.057318  0.033080 -0.029057 -0.089281 -0.006089 -0.048792  \n",
              "\n",
              "[3 rows x 300 columns]"
            ],
            "text/html": [
              "\n",
              "  <div id=\"df-a8909ec8-c6ac-402a-a4c9-ded2fa1671a9\">\n",
              "    <div class=\"colab-df-container\">\n",
              "      <div>\n",
              "<style scoped>\n",
              "    .dataframe tbody tr th:only-of-type {\n",
              "        vertical-align: middle;\n",
              "    }\n",
              "\n",
              "    .dataframe tbody tr th {\n",
              "        vertical-align: top;\n",
              "    }\n",
              "\n",
              "    .dataframe thead th {\n",
              "        text-align: right;\n",
              "    }\n",
              "</style>\n",
              "<table border=\"1\" class=\"dataframe\">\n",
              "  <thead>\n",
              "    <tr style=\"text-align: right;\">\n",
              "      <th></th>\n",
              "      <th>0</th>\n",
              "      <th>1</th>\n",
              "      <th>2</th>\n",
              "      <th>3</th>\n",
              "      <th>4</th>\n",
              "      <th>5</th>\n",
              "      <th>6</th>\n",
              "      <th>7</th>\n",
              "      <th>8</th>\n",
              "      <th>9</th>\n",
              "      <th>...</th>\n",
              "      <th>290</th>\n",
              "      <th>291</th>\n",
              "      <th>292</th>\n",
              "      <th>293</th>\n",
              "      <th>294</th>\n",
              "      <th>295</th>\n",
              "      <th>296</th>\n",
              "      <th>297</th>\n",
              "      <th>298</th>\n",
              "      <th>299</th>\n",
              "    </tr>\n",
              "  </thead>\n",
              "  <tbody>\n",
              "    <tr>\n",
              "      <th>0</th>\n",
              "      <td>0.015548</td>\n",
              "      <td>-0.007512</td>\n",
              "      <td>-0.071056</td>\n",
              "      <td>-0.066811</td>\n",
              "      <td>-0.003614</td>\n",
              "      <td>0.039495</td>\n",
              "      <td>-0.058733</td>\n",
              "      <td>-0.013431</td>\n",
              "      <td>0.052639</td>\n",
              "      <td>-0.029294</td>\n",
              "      <td>...</td>\n",
              "      <td>0.075063</td>\n",
              "      <td>0.046051</td>\n",
              "      <td>-0.013929</td>\n",
              "      <td>0.047744</td>\n",
              "      <td>0.033812</td>\n",
              "      <td>0.001890</td>\n",
              "      <td>0.017530</td>\n",
              "      <td>-0.055446</td>\n",
              "      <td>-0.043828</td>\n",
              "      <td>-0.050032</td>\n",
              "    </tr>\n",
              "    <tr>\n",
              "      <th>1</th>\n",
              "      <td>0.013423</td>\n",
              "      <td>-0.056801</td>\n",
              "      <td>-0.064919</td>\n",
              "      <td>-0.065972</td>\n",
              "      <td>0.032497</td>\n",
              "      <td>0.036161</td>\n",
              "      <td>-0.075893</td>\n",
              "      <td>-0.019895</td>\n",
              "      <td>0.008682</td>\n",
              "      <td>-0.063203</td>\n",
              "      <td>...</td>\n",
              "      <td>0.011579</td>\n",
              "      <td>-0.020786</td>\n",
              "      <td>-0.030429</td>\n",
              "      <td>0.033126</td>\n",
              "      <td>0.057242</td>\n",
              "      <td>-0.018543</td>\n",
              "      <td>-0.010709</td>\n",
              "      <td>-0.005545</td>\n",
              "      <td>-0.045617</td>\n",
              "      <td>-0.003166</td>\n",
              "    </tr>\n",
              "    <tr>\n",
              "      <th>2</th>\n",
              "      <td>0.019358</td>\n",
              "      <td>-0.037332</td>\n",
              "      <td>-0.050391</td>\n",
              "      <td>-0.098393</td>\n",
              "      <td>0.010180</td>\n",
              "      <td>0.013616</td>\n",
              "      <td>-0.029124</td>\n",
              "      <td>-0.066989</td>\n",
              "      <td>0.038646</td>\n",
              "      <td>-0.027699</td>\n",
              "      <td>...</td>\n",
              "      <td>0.053352</td>\n",
              "      <td>0.072636</td>\n",
              "      <td>-0.062389</td>\n",
              "      <td>0.079271</td>\n",
              "      <td>0.057318</td>\n",
              "      <td>0.033080</td>\n",
              "      <td>-0.029057</td>\n",
              "      <td>-0.089281</td>\n",
              "      <td>-0.006089</td>\n",
              "      <td>-0.048792</td>\n",
              "    </tr>\n",
              "  </tbody>\n",
              "</table>\n",
              "<p>3 rows × 300 columns</p>\n",
              "</div>\n",
              "      <button class=\"colab-df-convert\" onclick=\"convertToInteractive('df-a8909ec8-c6ac-402a-a4c9-ded2fa1671a9')\"\n",
              "              title=\"Convert this dataframe to an interactive table.\"\n",
              "              style=\"display:none;\">\n",
              "        \n",
              "  <svg xmlns=\"http://www.w3.org/2000/svg\" height=\"24px\"viewBox=\"0 0 24 24\"\n",
              "       width=\"24px\">\n",
              "    <path d=\"M0 0h24v24H0V0z\" fill=\"none\"/>\n",
              "    <path d=\"M18.56 5.44l.94 2.06.94-2.06 2.06-.94-2.06-.94-.94-2.06-.94 2.06-2.06.94zm-11 1L8.5 8.5l.94-2.06 2.06-.94-2.06-.94L8.5 2.5l-.94 2.06-2.06.94zm10 10l.94 2.06.94-2.06 2.06-.94-2.06-.94-.94-2.06-.94 2.06-2.06.94z\"/><path d=\"M17.41 7.96l-1.37-1.37c-.4-.4-.92-.59-1.43-.59-.52 0-1.04.2-1.43.59L10.3 9.45l-7.72 7.72c-.78.78-.78 2.05 0 2.83L4 21.41c.39.39.9.59 1.41.59.51 0 1.02-.2 1.41-.59l7.78-7.78 2.81-2.81c.8-.78.8-2.07 0-2.86zM5.41 20L4 18.59l7.72-7.72 1.47 1.35L5.41 20z\"/>\n",
              "  </svg>\n",
              "      </button>\n",
              "      \n",
              "  <style>\n",
              "    .colab-df-container {\n",
              "      display:flex;\n",
              "      flex-wrap:wrap;\n",
              "      gap: 12px;\n",
              "    }\n",
              "\n",
              "    .colab-df-convert {\n",
              "      background-color: #E8F0FE;\n",
              "      border: none;\n",
              "      border-radius: 50%;\n",
              "      cursor: pointer;\n",
              "      display: none;\n",
              "      fill: #1967D2;\n",
              "      height: 32px;\n",
              "      padding: 0 0 0 0;\n",
              "      width: 32px;\n",
              "    }\n",
              "\n",
              "    .colab-df-convert:hover {\n",
              "      background-color: #E2EBFA;\n",
              "      box-shadow: 0px 1px 2px rgba(60, 64, 67, 0.3), 0px 1px 3px 1px rgba(60, 64, 67, 0.15);\n",
              "      fill: #174EA6;\n",
              "    }\n",
              "\n",
              "    [theme=dark] .colab-df-convert {\n",
              "      background-color: #3B4455;\n",
              "      fill: #D2E3FC;\n",
              "    }\n",
              "\n",
              "    [theme=dark] .colab-df-convert:hover {\n",
              "      background-color: #434B5C;\n",
              "      box-shadow: 0px 1px 3px 1px rgba(0, 0, 0, 0.15);\n",
              "      filter: drop-shadow(0px 1px 2px rgba(0, 0, 0, 0.3));\n",
              "      fill: #FFFFFF;\n",
              "    }\n",
              "  </style>\n",
              "\n",
              "      <script>\n",
              "        const buttonEl =\n",
              "          document.querySelector('#df-a8909ec8-c6ac-402a-a4c9-ded2fa1671a9 button.colab-df-convert');\n",
              "        buttonEl.style.display =\n",
              "          google.colab.kernel.accessAllowed ? 'block' : 'none';\n",
              "\n",
              "        async function convertToInteractive(key) {\n",
              "          const element = document.querySelector('#df-a8909ec8-c6ac-402a-a4c9-ded2fa1671a9');\n",
              "          const dataTable =\n",
              "            await google.colab.kernel.invokeFunction('convertToInteractive',\n",
              "                                                     [key], {});\n",
              "          if (!dataTable) return;\n",
              "\n",
              "          const docLinkHtml = 'Like what you see? Visit the ' +\n",
              "            '<a target=\"_blank\" href=https://colab.research.google.com/notebooks/data_table.ipynb>data table notebook</a>'\n",
              "            + ' to learn more about interactive tables.';\n",
              "          element.innerHTML = '';\n",
              "          dataTable['output_type'] = 'display_data';\n",
              "          await google.colab.output.renderOutput(dataTable, element);\n",
              "          const docLink = document.createElement('div');\n",
              "          docLink.innerHTML = docLinkHtml;\n",
              "          element.appendChild(docLink);\n",
              "        }\n",
              "      </script>\n",
              "    </div>\n",
              "  </div>\n",
              "  "
            ]
          },
          "metadata": {},
          "execution_count": 46
        }
      ],
      "source": [
        "traindataset = headlines_train[\"headlines\"].apply(lambda text: np.mean([w2v_model[word] for word in text.split() if word in w2v_model], axis=0))\n",
        "traindataset = pd.DataFrame(np.vstack(traindataset))\n",
        "traindataset.head(3)"
      ]
    },
    {
      "cell_type": "code",
      "execution_count": null,
      "metadata": {
        "id": "KUnpJo1y0SdM"
      },
      "outputs": [],
      "source": [
        "# for ii in range(len(traindataset)):\n",
        "#     traindataset.iloc[ii, :] = traindataset.iloc[ii, :]/np.sqrt((traindataset.iloc[ii, :]**2).sum())\n",
        "\n",
        "# traindataset.head(3)"
      ]
    },
    {
      "cell_type": "code",
      "execution_count": null,
      "metadata": {
        "id": "DvfE1JaM0SdN"
      },
      "outputs": [],
      "source": [
        "# lrclassifier = LogisticRegression()\n",
        "# lrclassifier.fit(traindataset, train['Label'])"
      ]
    },
    {
      "cell_type": "code",
      "execution_count": null,
      "metadata": {
        "id": "qWZx2Sag0SdN",
        "colab": {
          "base_uri": "https://localhost:8080/"
        },
        "outputId": "37c59b57-5019-47f5-a208-815b0e8143eb"
      },
      "outputs": [
        {
          "output_type": "stream",
          "name": "stdout",
          "text": [
            "Best: 0.511442 using {'criterion': 'gini', 'max_depth': 12, 'n_estimators': 200}\n"
          ]
        }
      ],
      "source": [
        "from sklearn.model_selection import KFold, GridSearchCV\n",
        "\n",
        "n_estimators = [20, 50, 100, 150, 200, 250, 300]\n",
        "max_depth= [3, 4, 5, 8, 12, 'None']\n",
        "criterion = [\"gini\",\"entropy\"]\n",
        "param_grid = dict(n_estimators=n_estimators, max_depth=max_depth, criterion = criterion )\n",
        "gsmodel = RandomForestClassifier(random_state=42, n_jobs=-1)\n",
        "kfold = KFold(n_splits=5, random_state=42, shuffle=True)\n",
        "grid = GridSearchCV(estimator=gsmodel, param_grid=param_grid, scoring=\"balanced_accuracy\", cv=kfold)\n",
        "grid_result = grid.fit(traindataset, train['Label'])\n",
        "\n",
        "#Print Results\n",
        "print(\"Best: %f using %s\" % (grid_result.best_score_, grid_result.best_params_))\n",
        "means = grid_result.cv_results_['mean_test_score']\n",
        "stds = grid_result.cv_results_['std_test_score']\n",
        "params = grid_result.cv_results_['params']\n",
        "ranks = grid_result.cv_results_['rank_test_score']\n",
        "# for mean, stdev, param, rank in zip(means, stds, params, ranks):\n",
        "#     print(\"#%d %f (%f) with: %r\" % (rank, mean, stdev, param))"
      ]
    },
    {
      "cell_type": "code",
      "execution_count": null,
      "metadata": {
        "id": "obZHSWFz0SdN",
        "colab": {
          "base_uri": "https://localhost:8080/"
        },
        "outputId": "bc590224-4b14-4d49-a73e-20573a42ba57"
      },
      "outputs": [
        {
          "output_type": "execute_result",
          "data": {
            "text/plain": [
              "RandomForestClassifier(max_depth=12, n_estimators=200, random_state=42)"
            ]
          },
          "metadata": {},
          "execution_count": 50
        }
      ],
      "source": [
        "randomclassifier=RandomForestClassifier(criterion = grid_result.best_params_['criterion'], \n",
        "                              n_estimators = grid_result.best_params_['n_estimators'], \n",
        "                              max_depth = grid_result.best_params_['max_depth'], random_state=42)\n",
        "randomclassifier.fit(traindataset, train['Label'])"
      ]
    },
    {
      "cell_type": "code",
      "execution_count": null,
      "metadata": {
        "id": "hU-Z48bb0SdN"
      },
      "outputs": [],
      "source": [
        "headlines_test = pd.DataFrame(headlines_test, columns=[\"headlines\"])"
      ]
    },
    {
      "cell_type": "code",
      "execution_count": null,
      "metadata": {
        "id": "BQ0yeQ5-0SdN",
        "colab": {
          "base_uri": "https://localhost:8080/",
          "height": 237
        },
        "outputId": "cc0b0dfd-97f5-48f7-8f48-c3686a8fdfba"
      },
      "outputs": [
        {
          "output_type": "execute_result",
          "data": {
            "text/plain": [
              "        0         1         2         3         4         5         6    \\\n",
              "0  0.042613 -0.093788 -0.062117 -0.078795  0.000465  0.012430 -0.059891   \n",
              "1  0.029065 -0.047541 -0.052948 -0.060470 -0.003096  0.030311 -0.102707   \n",
              "2  0.052025 -0.057674 -0.043400 -0.075898 -0.006208  0.049883 -0.092382   \n",
              "\n",
              "        7         8         9    ...       290       291       292       293  \\\n",
              "0  0.022324  0.022508 -0.022552  ...  0.009782  0.015010 -0.029210  0.067287   \n",
              "1  0.021971  0.061850 -0.021566  ...  0.013237  0.009432 -0.032559  0.036709   \n",
              "2  0.021557  0.063705 -0.033318  ... -0.000677  0.001131 -0.014768  0.053123   \n",
              "\n",
              "        294       295       296       297       298       299  \n",
              "0 -0.000731 -0.020872 -0.013281  0.001747 -0.031925 -0.003701  \n",
              "1  0.004515 -0.008723 -0.035680 -0.033719 -0.014085  0.028941  \n",
              "2  0.018013  0.001682 -0.020923 -0.047834  0.012320 -0.008214  \n",
              "\n",
              "[3 rows x 300 columns]"
            ],
            "text/html": [
              "\n",
              "  <div id=\"df-26431df0-9a4d-4d78-81ff-002436615e5f\">\n",
              "    <div class=\"colab-df-container\">\n",
              "      <div>\n",
              "<style scoped>\n",
              "    .dataframe tbody tr th:only-of-type {\n",
              "        vertical-align: middle;\n",
              "    }\n",
              "\n",
              "    .dataframe tbody tr th {\n",
              "        vertical-align: top;\n",
              "    }\n",
              "\n",
              "    .dataframe thead th {\n",
              "        text-align: right;\n",
              "    }\n",
              "</style>\n",
              "<table border=\"1\" class=\"dataframe\">\n",
              "  <thead>\n",
              "    <tr style=\"text-align: right;\">\n",
              "      <th></th>\n",
              "      <th>0</th>\n",
              "      <th>1</th>\n",
              "      <th>2</th>\n",
              "      <th>3</th>\n",
              "      <th>4</th>\n",
              "      <th>5</th>\n",
              "      <th>6</th>\n",
              "      <th>7</th>\n",
              "      <th>8</th>\n",
              "      <th>9</th>\n",
              "      <th>...</th>\n",
              "      <th>290</th>\n",
              "      <th>291</th>\n",
              "      <th>292</th>\n",
              "      <th>293</th>\n",
              "      <th>294</th>\n",
              "      <th>295</th>\n",
              "      <th>296</th>\n",
              "      <th>297</th>\n",
              "      <th>298</th>\n",
              "      <th>299</th>\n",
              "    </tr>\n",
              "  </thead>\n",
              "  <tbody>\n",
              "    <tr>\n",
              "      <th>0</th>\n",
              "      <td>0.042613</td>\n",
              "      <td>-0.093788</td>\n",
              "      <td>-0.062117</td>\n",
              "      <td>-0.078795</td>\n",
              "      <td>0.000465</td>\n",
              "      <td>0.012430</td>\n",
              "      <td>-0.059891</td>\n",
              "      <td>0.022324</td>\n",
              "      <td>0.022508</td>\n",
              "      <td>-0.022552</td>\n",
              "      <td>...</td>\n",
              "      <td>0.009782</td>\n",
              "      <td>0.015010</td>\n",
              "      <td>-0.029210</td>\n",
              "      <td>0.067287</td>\n",
              "      <td>-0.000731</td>\n",
              "      <td>-0.020872</td>\n",
              "      <td>-0.013281</td>\n",
              "      <td>0.001747</td>\n",
              "      <td>-0.031925</td>\n",
              "      <td>-0.003701</td>\n",
              "    </tr>\n",
              "    <tr>\n",
              "      <th>1</th>\n",
              "      <td>0.029065</td>\n",
              "      <td>-0.047541</td>\n",
              "      <td>-0.052948</td>\n",
              "      <td>-0.060470</td>\n",
              "      <td>-0.003096</td>\n",
              "      <td>0.030311</td>\n",
              "      <td>-0.102707</td>\n",
              "      <td>0.021971</td>\n",
              "      <td>0.061850</td>\n",
              "      <td>-0.021566</td>\n",
              "      <td>...</td>\n",
              "      <td>0.013237</td>\n",
              "      <td>0.009432</td>\n",
              "      <td>-0.032559</td>\n",
              "      <td>0.036709</td>\n",
              "      <td>0.004515</td>\n",
              "      <td>-0.008723</td>\n",
              "      <td>-0.035680</td>\n",
              "      <td>-0.033719</td>\n",
              "      <td>-0.014085</td>\n",
              "      <td>0.028941</td>\n",
              "    </tr>\n",
              "    <tr>\n",
              "      <th>2</th>\n",
              "      <td>0.052025</td>\n",
              "      <td>-0.057674</td>\n",
              "      <td>-0.043400</td>\n",
              "      <td>-0.075898</td>\n",
              "      <td>-0.006208</td>\n",
              "      <td>0.049883</td>\n",
              "      <td>-0.092382</td>\n",
              "      <td>0.021557</td>\n",
              "      <td>0.063705</td>\n",
              "      <td>-0.033318</td>\n",
              "      <td>...</td>\n",
              "      <td>-0.000677</td>\n",
              "      <td>0.001131</td>\n",
              "      <td>-0.014768</td>\n",
              "      <td>0.053123</td>\n",
              "      <td>0.018013</td>\n",
              "      <td>0.001682</td>\n",
              "      <td>-0.020923</td>\n",
              "      <td>-0.047834</td>\n",
              "      <td>0.012320</td>\n",
              "      <td>-0.008214</td>\n",
              "    </tr>\n",
              "  </tbody>\n",
              "</table>\n",
              "<p>3 rows × 300 columns</p>\n",
              "</div>\n",
              "      <button class=\"colab-df-convert\" onclick=\"convertToInteractive('df-26431df0-9a4d-4d78-81ff-002436615e5f')\"\n",
              "              title=\"Convert this dataframe to an interactive table.\"\n",
              "              style=\"display:none;\">\n",
              "        \n",
              "  <svg xmlns=\"http://www.w3.org/2000/svg\" height=\"24px\"viewBox=\"0 0 24 24\"\n",
              "       width=\"24px\">\n",
              "    <path d=\"M0 0h24v24H0V0z\" fill=\"none\"/>\n",
              "    <path d=\"M18.56 5.44l.94 2.06.94-2.06 2.06-.94-2.06-.94-.94-2.06-.94 2.06-2.06.94zm-11 1L8.5 8.5l.94-2.06 2.06-.94-2.06-.94L8.5 2.5l-.94 2.06-2.06.94zm10 10l.94 2.06.94-2.06 2.06-.94-2.06-.94-.94-2.06-.94 2.06-2.06.94z\"/><path d=\"M17.41 7.96l-1.37-1.37c-.4-.4-.92-.59-1.43-.59-.52 0-1.04.2-1.43.59L10.3 9.45l-7.72 7.72c-.78.78-.78 2.05 0 2.83L4 21.41c.39.39.9.59 1.41.59.51 0 1.02-.2 1.41-.59l7.78-7.78 2.81-2.81c.8-.78.8-2.07 0-2.86zM5.41 20L4 18.59l7.72-7.72 1.47 1.35L5.41 20z\"/>\n",
              "  </svg>\n",
              "      </button>\n",
              "      \n",
              "  <style>\n",
              "    .colab-df-container {\n",
              "      display:flex;\n",
              "      flex-wrap:wrap;\n",
              "      gap: 12px;\n",
              "    }\n",
              "\n",
              "    .colab-df-convert {\n",
              "      background-color: #E8F0FE;\n",
              "      border: none;\n",
              "      border-radius: 50%;\n",
              "      cursor: pointer;\n",
              "      display: none;\n",
              "      fill: #1967D2;\n",
              "      height: 32px;\n",
              "      padding: 0 0 0 0;\n",
              "      width: 32px;\n",
              "    }\n",
              "\n",
              "    .colab-df-convert:hover {\n",
              "      background-color: #E2EBFA;\n",
              "      box-shadow: 0px 1px 2px rgba(60, 64, 67, 0.3), 0px 1px 3px 1px rgba(60, 64, 67, 0.15);\n",
              "      fill: #174EA6;\n",
              "    }\n",
              "\n",
              "    [theme=dark] .colab-df-convert {\n",
              "      background-color: #3B4455;\n",
              "      fill: #D2E3FC;\n",
              "    }\n",
              "\n",
              "    [theme=dark] .colab-df-convert:hover {\n",
              "      background-color: #434B5C;\n",
              "      box-shadow: 0px 1px 3px 1px rgba(0, 0, 0, 0.15);\n",
              "      filter: drop-shadow(0px 1px 2px rgba(0, 0, 0, 0.3));\n",
              "      fill: #FFFFFF;\n",
              "    }\n",
              "  </style>\n",
              "\n",
              "      <script>\n",
              "        const buttonEl =\n",
              "          document.querySelector('#df-26431df0-9a4d-4d78-81ff-002436615e5f button.colab-df-convert');\n",
              "        buttonEl.style.display =\n",
              "          google.colab.kernel.accessAllowed ? 'block' : 'none';\n",
              "\n",
              "        async function convertToInteractive(key) {\n",
              "          const element = document.querySelector('#df-26431df0-9a4d-4d78-81ff-002436615e5f');\n",
              "          const dataTable =\n",
              "            await google.colab.kernel.invokeFunction('convertToInteractive',\n",
              "                                                     [key], {});\n",
              "          if (!dataTable) return;\n",
              "\n",
              "          const docLinkHtml = 'Like what you see? Visit the ' +\n",
              "            '<a target=\"_blank\" href=https://colab.research.google.com/notebooks/data_table.ipynb>data table notebook</a>'\n",
              "            + ' to learn more about interactive tables.';\n",
              "          element.innerHTML = '';\n",
              "          dataTable['output_type'] = 'display_data';\n",
              "          await google.colab.output.renderOutput(dataTable, element);\n",
              "          const docLink = document.createElement('div');\n",
              "          docLink.innerHTML = docLinkHtml;\n",
              "          element.appendChild(docLink);\n",
              "        }\n",
              "      </script>\n",
              "    </div>\n",
              "  </div>\n",
              "  "
            ]
          },
          "metadata": {},
          "execution_count": 52
        }
      ],
      "source": [
        "testdataset = headlines_test[\"headlines\"].apply(lambda text: np.mean([w2v_model[word] for word in text.split() if word in w2v_model], axis=0))\n",
        "testdataset = pd.DataFrame(np.vstack(testdataset))\n",
        "testdataset.head(3)"
      ]
    },
    {
      "cell_type": "code",
      "execution_count": null,
      "metadata": {
        "id": "sm-wvyZL0SdN"
      },
      "outputs": [],
      "source": [
        "# for ii in range(len(testdataset)):\n",
        "#     testdataset.iloc[ii, :] = testdataset.iloc[ii, :]/np.sqrt((testdataset.iloc[ii, :]**2).sum())\n",
        "\n",
        "# testdataset.head(3)"
      ]
    },
    {
      "cell_type": "code",
      "execution_count": null,
      "metadata": {
        "id": "DP_N7qtw0SdN"
      },
      "outputs": [],
      "source": [
        "# predictions = lrclassifier.predict(testdataset)"
      ]
    },
    {
      "cell_type": "code",
      "execution_count": null,
      "metadata": {
        "id": "Ry5_LBqD0SdN"
      },
      "outputs": [],
      "source": [
        "predictions = randomclassifier.predict(testdataset)"
      ]
    },
    {
      "cell_type": "code",
      "execution_count": null,
      "metadata": {
        "id": "6fAdTmEy0SdN",
        "colab": {
          "base_uri": "https://localhost:8080/"
        },
        "outputId": "c97b2768-b1f0-4d31-ecb5-224acfd79214"
      },
      "outputs": [
        {
          "output_type": "stream",
          "name": "stdout",
          "text": [
            "[[118 181]\n",
            " [  7 324]]\n",
            "-------------------------\n",
            "accuracy: 0.70\n",
            "balanced accuracy: 0.69\n",
            "cohen's kappa: 0.38\n"
          ]
        }
      ],
      "source": [
        "from sklearn.metrics import confusion_matrix, accuracy_score, balanced_accuracy_score, cohen_kappa_score\n",
        "conf_m=confusion_matrix(test['Label'],predictions)\n",
        "print(conf_m)\n",
        "print(\"-------------------------\")\n",
        "acc_s=accuracy_score(test['Label'],predictions)\n",
        "print(f\"accuracy: {acc_s:.2f}\")\n",
        "bacc_s=balanced_accuracy_score(test['Label'],predictions)\n",
        "print(f\"balanced accuracy: {bacc_s:.2f}\")\n",
        "ck_s=cohen_kappa_score(test['Label'],predictions)\n",
        "print(f\"cohen's kappa: {ck_s:.2f}\")"
      ]
    },
    {
      "cell_type": "code",
      "execution_count": null,
      "metadata": {
        "id": "-jiUvJsi0SdN",
        "colab": {
          "base_uri": "https://localhost:8080/",
          "height": 350
        },
        "outputId": "659eae92-e4ed-4d01-f9e1-628e7527cfd0"
      },
      "outputs": [
        {
          "output_type": "display_data",
          "data": {
            "text/plain": [
              "<Figure size 360x360 with 2 Axes>"
            ],
            "image/png": "[encoded data removed]"
          },
          "metadata": {
            "needs_background": "light"
          }
        }
      ],
      "source": [
        "import matplotlib.pyplot as plt\n",
        "import seaborn as sns\n",
        "f, ax = plt.subplots(figsize=(5,5))\n",
        "sns.heatmap(conf_m, annot=True, linewidth=0.7, linecolor='cyan', fmt='g', ax=ax, cmap=\"BuPu\")\n",
        "plt.title('Testing Confusion Matrix')\n",
        "plt.xlabel('predicted', )\n",
        "plt.ylabel('actual')\n",
        "plt.show();"
      ]
    },
    {
      "cell_type": "markdown",
      "metadata": {
        "id": "fcJKFVH-0SdN"
      },
      "source": [
        "### 5.GloVe"
      ]
    },
    {
      "cell_type": "code",
      "execution_count": null,
      "metadata": {
        "id": "NXZpRj2j0SdN"
      },
      "outputs": [],
      "source": [
        "# !wget http://nlp.stanford.edu/data/glove.6B.zip\n",
        "# !unzip glove*.zip"
      ]
    },
    {
      "cell_type": "code",
      "execution_count": null,
      "metadata": {
        "id": "p7_YHzqg0SdN"
      },
      "outputs": [],
      "source": [
        "import numpy as np\n",
        "\n",
        "def load_glove_model(File):\n",
        "    print(\"Loading Glove Model\")\n",
        "    glove_model = {}\n",
        "    with open(File,'r') as f:\n",
        "        for line in f:\n",
        "            split_line = line.split()\n",
        "            word = split_line[0]\n",
        "            embedding = np.array(split_line[1:], dtype=np.float64)\n",
        "            glove_model[word] = embedding\n",
        "    print(f\"{len(glove_model)} words loaded!\")\n",
        "    return glove_model"
      ]
    },
    {
      "cell_type": "code",
      "execution_count": null,
      "metadata": {
        "id": "lpAcmVth0SdO",
        "colab": {
          "base_uri": "https://localhost:8080/"
        },
        "outputId": "11107651-2c99-49d0-8481-f954d4299334"
      },
      "outputs": [
        {
          "output_type": "stream",
          "name": "stdout",
          "text": [
            "Loading Glove Model\n",
            "400000 words loaded!\n"
          ]
        }
      ],
      "source": [
        "word2vec_path = '/content/drive/MyDrive/Colab Data/glove.6B.300d.txt'\n",
        "w2v_model = load_glove_model(word2vec_path)"
      ]
    },
    {
      "cell_type": "code",
      "execution_count": null,
      "metadata": {
        "id": "stCrbqJw0SdO",
        "colab": {
          "base_uri": "https://localhost:8080/",
          "height": 143
        },
        "outputId": "54c623f9-d7ae-4ae4-cce4-f2278224fa00"
      },
      "outputs": [
        {
          "output_type": "execute_result",
          "data": {
            "text/plain": [
              "                                           headlines\n",
              "0  a  hindrance to operations   extracts from the...\n",
              "1  scorecard the best lake scene leader  german s...\n",
              "2  coventry caught on counter by flo united s riv..."
            ],
            "text/html": [
              "\n",
              "  <div id=\"df-4dd12b82-819a-467b-9751-fe581fbc616b\">\n",
              "    <div class=\"colab-df-container\">\n",
              "      <div>\n",
              "<style scoped>\n",
              "    .dataframe tbody tr th:only-of-type {\n",
              "        vertical-align: middle;\n",
              "    }\n",
              "\n",
              "    .dataframe tbody tr th {\n",
              "        vertical-align: top;\n",
              "    }\n",
              "\n",
              "    .dataframe thead th {\n",
              "        text-align: right;\n",
              "    }\n",
              "</style>\n",
              "<table border=\"1\" class=\"dataframe\">\n",
              "  <thead>\n",
              "    <tr style=\"text-align: right;\">\n",
              "      <th></th>\n",
              "      <th>headlines</th>\n",
              "    </tr>\n",
              "  </thead>\n",
              "  <tbody>\n",
              "    <tr>\n",
              "      <th>0</th>\n",
              "      <td>a  hindrance to operations   extracts from the...</td>\n",
              "    </tr>\n",
              "    <tr>\n",
              "      <th>1</th>\n",
              "      <td>scorecard the best lake scene leader  german s...</td>\n",
              "    </tr>\n",
              "    <tr>\n",
              "      <th>2</th>\n",
              "      <td>coventry caught on counter by flo united s riv...</td>\n",
              "    </tr>\n",
              "  </tbody>\n",
              "</table>\n",
              "</div>\n",
              "      <button class=\"colab-df-convert\" onclick=\"convertToInteractive('df-4dd12b82-819a-467b-9751-fe581fbc616b')\"\n",
              "              title=\"Convert this dataframe to an interactive table.\"\n",
              "              style=\"display:none;\">\n",
              "        \n",
              "  <svg xmlns=\"http://www.w3.org/2000/svg\" height=\"24px\"viewBox=\"0 0 24 24\"\n",
              "       width=\"24px\">\n",
              "    <path d=\"M0 0h24v24H0V0z\" fill=\"none\"/>\n",
              "    <path d=\"M18.56 5.44l.94 2.06.94-2.06 2.06-.94-2.06-.94-.94-2.06-.94 2.06-2.06.94zm-11 1L8.5 8.5l.94-2.06 2.06-.94-2.06-.94L8.5 2.5l-.94 2.06-2.06.94zm10 10l.94 2.06.94-2.06 2.06-.94-2.06-.94-.94-2.06-.94 2.06-2.06.94z\"/><path d=\"M17.41 7.96l-1.37-1.37c-.4-.4-.92-.59-1.43-.59-.52 0-1.04.2-1.43.59L10.3 9.45l-7.72 7.72c-.78.78-.78 2.05 0 2.83L4 21.41c.39.39.9.59 1.41.59.51 0 1.02-.2 1.41-.59l7.78-7.78 2.81-2.81c.8-.78.8-2.07 0-2.86zM5.41 20L4 18.59l7.72-7.72 1.47 1.35L5.41 20z\"/>\n",
              "  </svg>\n",
              "      </button>\n",
              "      \n",
              "  <style>\n",
              "    .colab-df-container {\n",
              "      display:flex;\n",
              "      flex-wrap:wrap;\n",
              "      gap: 12px;\n",
              "    }\n",
              "\n",
              "    .colab-df-convert {\n",
              "      background-color: #E8F0FE;\n",
              "      border: none;\n",
              "      border-radius: 50%;\n",
              "      cursor: pointer;\n",
              "      display: none;\n",
              "      fill: #1967D2;\n",
              "      height: 32px;\n",
              "      padding: 0 0 0 0;\n",
              "      width: 32px;\n",
              "    }\n",
              "\n",
              "    .colab-df-convert:hover {\n",
              "      background-color: #E2EBFA;\n",
              "      box-shadow: 0px 1px 2px rgba(60, 64, 67, 0.3), 0px 1px 3px 1px rgba(60, 64, 67, 0.15);\n",
              "      fill: #174EA6;\n",
              "    }\n",
              "\n",
              "    [theme=dark] .colab-df-convert {\n",
              "      background-color: #3B4455;\n",
              "      fill: #D2E3FC;\n",
              "    }\n",
              "\n",
              "    [theme=dark] .colab-df-convert:hover {\n",
              "      background-color: #434B5C;\n",
              "      box-shadow: 0px 1px 3px 1px rgba(0, 0, 0, 0.15);\n",
              "      filter: drop-shadow(0px 1px 2px rgba(0, 0, 0, 0.3));\n",
              "      fill: #FFFFFF;\n",
              "    }\n",
              "  </style>\n",
              "\n",
              "      <script>\n",
              "        const buttonEl =\n",
              "          document.querySelector('#df-4dd12b82-819a-467b-9751-fe581fbc616b button.colab-df-convert');\n",
              "        buttonEl.style.display =\n",
              "          google.colab.kernel.accessAllowed ? 'block' : 'none';\n",
              "\n",
              "        async function convertToInteractive(key) {\n",
              "          const element = document.querySelector('#df-4dd12b82-819a-467b-9751-fe581fbc616b');\n",
              "          const dataTable =\n",
              "            await google.colab.kernel.invokeFunction('convertToInteractive',\n",
              "                                                     [key], {});\n",
              "          if (!dataTable) return;\n",
              "\n",
              "          const docLinkHtml = 'Like what you see? Visit the ' +\n",
              "            '<a target=\"_blank\" href=https://colab.research.google.com/notebooks/data_table.ipynb>data table notebook</a>'\n",
              "            + ' to learn more about interactive tables.';\n",
              "          element.innerHTML = '';\n",
              "          dataTable['output_type'] = 'display_data';\n",
              "          await google.colab.output.renderOutput(dataTable, element);\n",
              "          const docLink = document.createElement('div');\n",
              "          docLink.innerHTML = docLinkHtml;\n",
              "          element.appendChild(docLink);\n",
              "        }\n",
              "      </script>\n",
              "    </div>\n",
              "  </div>\n",
              "  "
            ]
          },
          "metadata": {},
          "execution_count": 61
        }
      ],
      "source": [
        "headlines_train = pd.DataFrame(headlines_train, columns=[\"headlines\"])\n",
        "headlines_train.head(3)"
      ]
    },
    {
      "cell_type": "code",
      "execution_count": null,
      "metadata": {
        "id": "ONfWlvZh0SdO",
        "colab": {
          "base_uri": "https://localhost:8080/",
          "height": 237
        },
        "outputId": "55b0780e-0b8e-434d-fe58-095955e7958e"
      },
      "outputs": [
        {
          "output_type": "execute_result",
          "data": {
            "text/plain": [
              "        0         1         2         3         4         5         6    \\\n",
              "0 -0.057116  0.117757  0.005698 -0.071793  0.026545 -0.006601 -0.021239   \n",
              "1 -0.032296  0.080155  0.020190 -0.088722  0.017333 -0.009070 -0.055778   \n",
              "2 -0.048361  0.114788 -0.025094 -0.073272  0.040941  0.004664 -0.111826   \n",
              "\n",
              "        7         8         9    ...       290       291       292       293  \\\n",
              "0  0.018504  0.007121 -0.870567  ... -0.140171 -0.013199  0.020491  0.052410   \n",
              "1  0.005949 -0.008554 -1.257456  ... -0.056706 -0.170248  0.001402 -0.030415   \n",
              "2  0.075513 -0.001503 -1.040941  ... -0.104667 -0.002896 -0.056441  0.034860   \n",
              "\n",
              "        294       295       296       297       298       299  \n",
              "0  0.112443  0.141773  0.075873 -0.164939 -0.102446  0.055069  \n",
              "1  0.052287  0.076617  0.041896 -0.147451 -0.105043  0.092836  \n",
              "2  0.086908  0.240384  0.023196 -0.156711 -0.149638  0.013775  \n",
              "\n",
              "[3 rows x 300 columns]"
            ],
            "text/html": [
              "\n",
              "  <div id=\"df-c1359741-8323-4dc4-84c3-d7325be616cb\">\n",
              "    <div class=\"colab-df-container\">\n",
              "      <div>\n",
              "<style scoped>\n",
              "    .dataframe tbody tr th:only-of-type {\n",
              "        vertical-align: middle;\n",
              "    }\n",
              "\n",
              "    .dataframe tbody tr th {\n",
              "        vertical-align: top;\n",
              "    }\n",
              "\n",
              "    .dataframe thead th {\n",
              "        text-align: right;\n",
              "    }\n",
              "</style>\n",
              "<table border=\"1\" class=\"dataframe\">\n",
              "  <thead>\n",
              "    <tr style=\"text-align: right;\">\n",
              "      <th></th>\n",
              "      <th>0</th>\n",
              "      <th>1</th>\n",
              "      <th>2</th>\n",
              "      <th>3</th>\n",
              "      <th>4</th>\n",
              "      <th>5</th>\n",
              "      <th>6</th>\n",
              "      <th>7</th>\n",
              "      <th>8</th>\n",
              "      <th>9</th>\n",
              "      <th>...</th>\n",
              "      <th>290</th>\n",
              "      <th>291</th>\n",
              "      <th>292</th>\n",
              "      <th>293</th>\n",
              "      <th>294</th>\n",
              "      <th>295</th>\n",
              "      <th>296</th>\n",
              "      <th>297</th>\n",
              "      <th>298</th>\n",
              "      <th>299</th>\n",
              "    </tr>\n",
              "  </thead>\n",
              "  <tbody>\n",
              "    <tr>\n",
              "      <th>0</th>\n",
              "      <td>-0.057116</td>\n",
              "      <td>0.117757</td>\n",
              "      <td>0.005698</td>\n",
              "      <td>-0.071793</td>\n",
              "      <td>0.026545</td>\n",
              "      <td>-0.006601</td>\n",
              "      <td>-0.021239</td>\n",
              "      <td>0.018504</td>\n",
              "      <td>0.007121</td>\n",
              "      <td>-0.870567</td>\n",
              "      <td>...</td>\n",
              "      <td>-0.140171</td>\n",
              "      <td>-0.013199</td>\n",
              "      <td>0.020491</td>\n",
              "      <td>0.052410</td>\n",
              "      <td>0.112443</td>\n",
              "      <td>0.141773</td>\n",
              "      <td>0.075873</td>\n",
              "      <td>-0.164939</td>\n",
              "      <td>-0.102446</td>\n",
              "      <td>0.055069</td>\n",
              "    </tr>\n",
              "    <tr>\n",
              "      <th>1</th>\n",
              "      <td>-0.032296</td>\n",
              "      <td>0.080155</td>\n",
              "      <td>0.020190</td>\n",
              "      <td>-0.088722</td>\n",
              "      <td>0.017333</td>\n",
              "      <td>-0.009070</td>\n",
              "      <td>-0.055778</td>\n",
              "      <td>0.005949</td>\n",
              "      <td>-0.008554</td>\n",
              "      <td>-1.257456</td>\n",
              "      <td>...</td>\n",
              "      <td>-0.056706</td>\n",
              "      <td>-0.170248</td>\n",
              "      <td>0.001402</td>\n",
              "      <td>-0.030415</td>\n",
              "      <td>0.052287</td>\n",
              "      <td>0.076617</td>\n",
              "      <td>0.041896</td>\n",
              "      <td>-0.147451</td>\n",
              "      <td>-0.105043</td>\n",
              "      <td>0.092836</td>\n",
              "    </tr>\n",
              "    <tr>\n",
              "      <th>2</th>\n",
              "      <td>-0.048361</td>\n",
              "      <td>0.114788</td>\n",
              "      <td>-0.025094</td>\n",
              "      <td>-0.073272</td>\n",
              "      <td>0.040941</td>\n",
              "      <td>0.004664</td>\n",
              "      <td>-0.111826</td>\n",
              "      <td>0.075513</td>\n",
              "      <td>-0.001503</td>\n",
              "      <td>-1.040941</td>\n",
              "      <td>...</td>\n",
              "      <td>-0.104667</td>\n",
              "      <td>-0.002896</td>\n",
              "      <td>-0.056441</td>\n",
              "      <td>0.034860</td>\n",
              "      <td>0.086908</td>\n",
              "      <td>0.240384</td>\n",
              "      <td>0.023196</td>\n",
              "      <td>-0.156711</td>\n",
              "      <td>-0.149638</td>\n",
              "      <td>0.013775</td>\n",
              "    </tr>\n",
              "  </tbody>\n",
              "</table>\n",
              "<p>3 rows × 300 columns</p>\n",
              "</div>\n",
              "      <button class=\"colab-df-convert\" onclick=\"convertToInteractive('df-c1359741-8323-4dc4-84c3-d7325be616cb')\"\n",
              "              title=\"Convert this dataframe to an interactive table.\"\n",
              "              style=\"display:none;\">\n",
              "        \n",
              "  <svg xmlns=\"http://www.w3.org/2000/svg\" height=\"24px\"viewBox=\"0 0 24 24\"\n",
              "       width=\"24px\">\n",
              "    <path d=\"M0 0h24v24H0V0z\" fill=\"none\"/>\n",
              "    <path d=\"M18.56 5.44l.94 2.06.94-2.06 2.06-.94-2.06-.94-.94-2.06-.94 2.06-2.06.94zm-11 1L8.5 8.5l.94-2.06 2.06-.94-2.06-.94L8.5 2.5l-.94 2.06-2.06.94zm10 10l.94 2.06.94-2.06 2.06-.94-2.06-.94-.94-2.06-.94 2.06-2.06.94z\"/><path d=\"M17.41 7.96l-1.37-1.37c-.4-.4-.92-.59-1.43-.59-.52 0-1.04.2-1.43.59L10.3 9.45l-7.72 7.72c-.78.78-.78 2.05 0 2.83L4 21.41c.39.39.9.59 1.41.59.51 0 1.02-.2 1.41-.59l7.78-7.78 2.81-2.81c.8-.78.8-2.07 0-2.86zM5.41 20L4 18.59l7.72-7.72 1.47 1.35L5.41 20z\"/>\n",
              "  </svg>\n",
              "      </button>\n",
              "      \n",
              "  <style>\n",
              "    .colab-df-container {\n",
              "      display:flex;\n",
              "      flex-wrap:wrap;\n",
              "      gap: 12px;\n",
              "    }\n",
              "\n",
              "    .colab-df-convert {\n",
              "      background-color: #E8F0FE;\n",
              "      border: none;\n",
              "      border-radius: 50%;\n",
              "      cursor: pointer;\n",
              "      display: none;\n",
              "      fill: #1967D2;\n",
              "      height: 32px;\n",
              "      padding: 0 0 0 0;\n",
              "      width: 32px;\n",
              "    }\n",
              "\n",
              "    .colab-df-convert:hover {\n",
              "      background-color: #E2EBFA;\n",
              "      box-shadow: 0px 1px 2px rgba(60, 64, 67, 0.3), 0px 1px 3px 1px rgba(60, 64, 67, 0.15);\n",
              "      fill: #174EA6;\n",
              "    }\n",
              "\n",
              "    [theme=dark] .colab-df-convert {\n",
              "      background-color: #3B4455;\n",
              "      fill: #D2E3FC;\n",
              "    }\n",
              "\n",
              "    [theme=dark] .colab-df-convert:hover {\n",
              "      background-color: #434B5C;\n",
              "      box-shadow: 0px 1px 3px 1px rgba(0, 0, 0, 0.15);\n",
              "      filter: drop-shadow(0px 1px 2px rgba(0, 0, 0, 0.3));\n",
              "      fill: #FFFFFF;\n",
              "    }\n",
              "  </style>\n",
              "\n",
              "      <script>\n",
              "        const buttonEl =\n",
              "          document.querySelector('#df-c1359741-8323-4dc4-84c3-d7325be616cb button.colab-df-convert');\n",
              "        buttonEl.style.display =\n",
              "          google.colab.kernel.accessAllowed ? 'block' : 'none';\n",
              "\n",
              "        async function convertToInteractive(key) {\n",
              "          const element = document.querySelector('#df-c1359741-8323-4dc4-84c3-d7325be616cb');\n",
              "          const dataTable =\n",
              "            await google.colab.kernel.invokeFunction('convertToInteractive',\n",
              "                                                     [key], {});\n",
              "          if (!dataTable) return;\n",
              "\n",
              "          const docLinkHtml = 'Like what you see? Visit the ' +\n",
              "            '<a target=\"_blank\" href=https://colab.research.google.com/notebooks/data_table.ipynb>data table notebook</a>'\n",
              "            + ' to learn more about interactive tables.';\n",
              "          element.innerHTML = '';\n",
              "          dataTable['output_type'] = 'display_data';\n",
              "          await google.colab.output.renderOutput(dataTable, element);\n",
              "          const docLink = document.createElement('div');\n",
              "          docLink.innerHTML = docLinkHtml;\n",
              "          element.appendChild(docLink);\n",
              "        }\n",
              "      </script>\n",
              "    </div>\n",
              "  </div>\n",
              "  "
            ]
          },
          "metadata": {},
          "execution_count": 62
        }
      ],
      "source": [
        "traindataset = headlines_train[\"headlines\"].apply(lambda text: np.mean([w2v_model[word] for word in text.split() if word in w2v_model], axis=0))\n",
        "traindataset = pd.DataFrame(np.vstack(traindataset))\n",
        "traindataset.head(3)"
      ]
    },
    {
      "cell_type": "code",
      "execution_count": null,
      "metadata": {
        "id": "WzRBj2E70SdO"
      },
      "outputs": [],
      "source": [
        "# for ii in range(len(traindataset)):\n",
        "#     traindataset.iloc[ii, :] = traindataset.iloc[ii, :]/np.sqrt((traindataset.iloc[ii, :]**2).sum())\n",
        "\n",
        "# traindataset.head(3)"
      ]
    },
    {
      "cell_type": "code",
      "execution_count": null,
      "metadata": {
        "id": "g9TMlWmk0SdO"
      },
      "outputs": [],
      "source": [
        "# lrclassifier = LogisticRegression()\n",
        "# lrclassifier.fit(traindataset, train['Label'])"
      ]
    },
    {
      "cell_type": "code",
      "execution_count": null,
      "metadata": {
        "id": "Ecnrtg2K0SdO",
        "colab": {
          "base_uri": "https://localhost:8080/"
        },
        "outputId": "599d23b4-328c-4c57-fd95-5f9a028fbaea"
      },
      "outputs": [
        {
          "output_type": "stream",
          "name": "stdout",
          "text": [
            "Best: 0.511546 using {'criterion': 'gini', 'max_depth': 12, 'n_estimators': 50}\n"
          ]
        }
      ],
      "source": [
        "from sklearn.model_selection import KFold, GridSearchCV\n",
        "\n",
        "n_estimators = [20, 50, 100, 150, 200, 250, 300]\n",
        "max_depth= [3, 4, 5, 8, 12, 'None']\n",
        "criterion = [\"gini\",\"entropy\"]\n",
        "param_grid = dict(n_estimators=n_estimators, max_depth=max_depth, criterion = criterion )\n",
        "gsmodel = RandomForestClassifier(random_state=42, n_jobs=-1)\n",
        "kfold = KFold(n_splits=5, random_state=42, shuffle=True)\n",
        "grid = GridSearchCV(estimator=gsmodel, param_grid=param_grid, scoring=\"balanced_accuracy\", cv=kfold)\n",
        "grid_result = grid.fit(traindataset, train['Label'])\n",
        "\n",
        "#Print Results\n",
        "print(\"Best: %f using %s\" % (grid_result.best_score_, grid_result.best_params_))\n",
        "means = grid_result.cv_results_['mean_test_score']\n",
        "stds = grid_result.cv_results_['std_test_score']\n",
        "params = grid_result.cv_results_['params']\n",
        "ranks = grid_result.cv_results_['rank_test_score']\n",
        "# for mean, stdev, param, rank in zip(means, stds, params, ranks):\n",
        "#     print(\"#%d %f (%f) with: %r\" % (rank, mean, stdev, param))"
      ]
    },
    {
      "cell_type": "code",
      "execution_count": null,
      "metadata": {
        "id": "hh3qMIMG0SdO",
        "colab": {
          "base_uri": "https://localhost:8080/"
        },
        "outputId": "e72a650c-7fd8-41d0-adfd-8b5e54b4a849"
      },
      "outputs": [
        {
          "output_type": "execute_result",
          "data": {
            "text/plain": [
              "RandomForestClassifier(max_depth=12, n_estimators=50, random_state=42)"
            ]
          },
          "metadata": {},
          "execution_count": 66
        }
      ],
      "source": [
        "randomclassifier=RandomForestClassifier(criterion = grid_result.best_params_['criterion'], \n",
        "                              n_estimators = grid_result.best_params_['n_estimators'], \n",
        "                              max_depth = grid_result.best_params_['max_depth'], random_state=42)\n",
        "randomclassifier.fit(traindataset, train['Label'])"
      ]
    },
    {
      "cell_type": "code",
      "execution_count": null,
      "metadata": {
        "id": "85bQY1IE0SdO"
      },
      "outputs": [],
      "source": [
        "headlines_test = pd.DataFrame(headlines_test, columns=[\"headlines\"])"
      ]
    },
    {
      "cell_type": "code",
      "execution_count": null,
      "metadata": {
        "id": "fYMiiQH50SdO",
        "colab": {
          "base_uri": "https://localhost:8080/",
          "height": 237
        },
        "outputId": "17e78099-814d-4bd5-a95a-182b2e139a6e"
      },
      "outputs": [
        {
          "output_type": "execute_result",
          "data": {
            "text/plain": [
              "        0         1         2         3         4         5         6    \\\n",
              "0 -0.107051  0.081703 -0.045053 -0.093360 -0.021639  0.003325 -0.029620   \n",
              "1 -0.098994  0.088238 -0.041235 -0.119391 -0.063663  0.002822 -0.007508   \n",
              "2 -0.069498  0.099681 -0.043792 -0.103303 -0.077538  0.041505 -0.057116   \n",
              "\n",
              "        7         8         9    ...       290       291       292       293  \\\n",
              "0  0.069883  0.014683 -1.290599  ... -0.005456 -0.188505 -0.011727  0.082363   \n",
              "1  0.094512  0.042674 -1.293545  ... -0.044882 -0.198067 -0.018184  0.012573   \n",
              "2  0.103885  0.018913 -1.344042  ... -0.066689 -0.147418  0.026291  0.004805   \n",
              "\n",
              "        294       295       296       297       298       299  \n",
              "0  0.061763  0.201837  0.049140 -0.102448 -0.171966  0.028384  \n",
              "1  0.056060  0.252023  0.067572 -0.183137 -0.114030  0.009046  \n",
              "2  0.071424  0.266004  0.047946 -0.172384 -0.127140  0.037474  \n",
              "\n",
              "[3 rows x 300 columns]"
            ],
            "text/html": [
              "\n",
              "  <div id=\"df-d9120219-7d04-47dc-bedf-9ee36ced4fc7\">\n",
              "    <div class=\"colab-df-container\">\n",
              "      <div>\n",
              "<style scoped>\n",
              "    .dataframe tbody tr th:only-of-type {\n",
              "        vertical-align: middle;\n",
              "    }\n",
              "\n",
              "    .dataframe tbody tr th {\n",
              "        vertical-align: top;\n",
              "    }\n",
              "\n",
              "    .dataframe thead th {\n",
              "        text-align: right;\n",
              "    }\n",
              "</style>\n",
              "<table border=\"1\" class=\"dataframe\">\n",
              "  <thead>\n",
              "    <tr style=\"text-align: right;\">\n",
              "      <th></th>\n",
              "      <th>0</th>\n",
              "      <th>1</th>\n",
              "      <th>2</th>\n",
              "      <th>3</th>\n",
              "      <th>4</th>\n",
              "      <th>5</th>\n",
              "      <th>6</th>\n",
              "      <th>7</th>\n",
              "      <th>8</th>\n",
              "      <th>9</th>\n",
              "      <th>...</th>\n",
              "      <th>290</th>\n",
              "      <th>291</th>\n",
              "      <th>292</th>\n",
              "      <th>293</th>\n",
              "      <th>294</th>\n",
              "      <th>295</th>\n",
              "      <th>296</th>\n",
              "      <th>297</th>\n",
              "      <th>298</th>\n",
              "      <th>299</th>\n",
              "    </tr>\n",
              "  </thead>\n",
              "  <tbody>\n",
              "    <tr>\n",
              "      <th>0</th>\n",
              "      <td>-0.107051</td>\n",
              "      <td>0.081703</td>\n",
              "      <td>-0.045053</td>\n",
              "      <td>-0.093360</td>\n",
              "      <td>-0.021639</td>\n",
              "      <td>0.003325</td>\n",
              "      <td>-0.029620</td>\n",
              "      <td>0.069883</td>\n",
              "      <td>0.014683</td>\n",
              "      <td>-1.290599</td>\n",
              "      <td>...</td>\n",
              "      <td>-0.005456</td>\n",
              "      <td>-0.188505</td>\n",
              "      <td>-0.011727</td>\n",
              "      <td>0.082363</td>\n",
              "      <td>0.061763</td>\n",
              "      <td>0.201837</td>\n",
              "      <td>0.049140</td>\n",
              "      <td>-0.102448</td>\n",
              "      <td>-0.171966</td>\n",
              "      <td>0.028384</td>\n",
              "    </tr>\n",
              "    <tr>\n",
              "      <th>1</th>\n",
              "      <td>-0.098994</td>\n",
              "      <td>0.088238</td>\n",
              "      <td>-0.041235</td>\n",
              "      <td>-0.119391</td>\n",
              "      <td>-0.063663</td>\n",
              "      <td>0.002822</td>\n",
              "      <td>-0.007508</td>\n",
              "      <td>0.094512</td>\n",
              "      <td>0.042674</td>\n",
              "      <td>-1.293545</td>\n",
              "      <td>...</td>\n",
              "      <td>-0.044882</td>\n",
              "      <td>-0.198067</td>\n",
              "      <td>-0.018184</td>\n",
              "      <td>0.012573</td>\n",
              "      <td>0.056060</td>\n",
              "      <td>0.252023</td>\n",
              "      <td>0.067572</td>\n",
              "      <td>-0.183137</td>\n",
              "      <td>-0.114030</td>\n",
              "      <td>0.009046</td>\n",
              "    </tr>\n",
              "    <tr>\n",
              "      <th>2</th>\n",
              "      <td>-0.069498</td>\n",
              "      <td>0.099681</td>\n",
              "      <td>-0.043792</td>\n",
              "      <td>-0.103303</td>\n",
              "      <td>-0.077538</td>\n",
              "      <td>0.041505</td>\n",
              "      <td>-0.057116</td>\n",
              "      <td>0.103885</td>\n",
              "      <td>0.018913</td>\n",
              "      <td>-1.344042</td>\n",
              "      <td>...</td>\n",
              "      <td>-0.066689</td>\n",
              "      <td>-0.147418</td>\n",
              "      <td>0.026291</td>\n",
              "      <td>0.004805</td>\n",
              "      <td>0.071424</td>\n",
              "      <td>0.266004</td>\n",
              "      <td>0.047946</td>\n",
              "      <td>-0.172384</td>\n",
              "      <td>-0.127140</td>\n",
              "      <td>0.037474</td>\n",
              "    </tr>\n",
              "  </tbody>\n",
              "</table>\n",
              "<p>3 rows × 300 columns</p>\n",
              "</div>\n",
              "      <button class=\"colab-df-convert\" onclick=\"convertToInteractive('df-d9120219-7d04-47dc-bedf-9ee36ced4fc7')\"\n",
              "              title=\"Convert this dataframe to an interactive table.\"\n",
              "              style=\"display:none;\">\n",
              "        \n",
              "  <svg xmlns=\"http://www.w3.org/2000/svg\" height=\"24px\"viewBox=\"0 0 24 24\"\n",
              "       width=\"24px\">\n",
              "    <path d=\"M0 0h24v24H0V0z\" fill=\"none\"/>\n",
              "    <path d=\"M18.56 5.44l.94 2.06.94-2.06 2.06-.94-2.06-.94-.94-2.06-.94 2.06-2.06.94zm-11 1L8.5 8.5l.94-2.06 2.06-.94-2.06-.94L8.5 2.5l-.94 2.06-2.06.94zm10 10l.94 2.06.94-2.06 2.06-.94-2.06-.94-.94-2.06-.94 2.06-2.06.94z\"/><path d=\"M17.41 7.96l-1.37-1.37c-.4-.4-.92-.59-1.43-.59-.52 0-1.04.2-1.43.59L10.3 9.45l-7.72 7.72c-.78.78-.78 2.05 0 2.83L4 21.41c.39.39.9.59 1.41.59.51 0 1.02-.2 1.41-.59l7.78-7.78 2.81-2.81c.8-.78.8-2.07 0-2.86zM5.41 20L4 18.59l7.72-7.72 1.47 1.35L5.41 20z\"/>\n",
              "  </svg>\n",
              "      </button>\n",
              "      \n",
              "  <style>\n",
              "    .colab-df-container {\n",
              "      display:flex;\n",
              "      flex-wrap:wrap;\n",
              "      gap: 12px;\n",
              "    }\n",
              "\n",
              "    .colab-df-convert {\n",
              "      background-color: #E8F0FE;\n",
              "      border: none;\n",
              "      border-radius: 50%;\n",
              "      cursor: pointer;\n",
              "      display: none;\n",
              "      fill: #1967D2;\n",
              "      height: 32px;\n",
              "      padding: 0 0 0 0;\n",
              "      width: 32px;\n",
              "    }\n",
              "\n",
              "    .colab-df-convert:hover {\n",
              "      background-color: #E2EBFA;\n",
              "      box-shadow: 0px 1px 2px rgba(60, 64, 67, 0.3), 0px 1px 3px 1px rgba(60, 64, 67, 0.15);\n",
              "      fill: #174EA6;\n",
              "    }\n",
              "\n",
              "    [theme=dark] .colab-df-convert {\n",
              "      background-color: #3B4455;\n",
              "      fill: #D2E3FC;\n",
              "    }\n",
              "\n",
              "    [theme=dark] .colab-df-convert:hover {\n",
              "      background-color: #434B5C;\n",
              "      box-shadow: 0px 1px 3px 1px rgba(0, 0, 0, 0.15);\n",
              "      filter: drop-shadow(0px 1px 2px rgba(0, 0, 0, 0.3));\n",
              "      fill: #FFFFFF;\n",
              "    }\n",
              "  </style>\n",
              "\n",
              "      <script>\n",
              "        const buttonEl =\n",
              "          document.querySelector('#df-d9120219-7d04-47dc-bedf-9ee36ced4fc7 button.colab-df-convert');\n",
              "        buttonEl.style.display =\n",
              "          google.colab.kernel.accessAllowed ? 'block' : 'none';\n",
              "\n",
              "        async function convertToInteractive(key) {\n",
              "          const element = document.querySelector('#df-d9120219-7d04-47dc-bedf-9ee36ced4fc7');\n",
              "          const dataTable =\n",
              "            await google.colab.kernel.invokeFunction('convertToInteractive',\n",
              "                                                     [key], {});\n",
              "          if (!dataTable) return;\n",
              "\n",
              "          const docLinkHtml = 'Like what you see? Visit the ' +\n",
              "            '<a target=\"_blank\" href=https://colab.research.google.com/notebooks/data_table.ipynb>data table notebook</a>'\n",
              "            + ' to learn more about interactive tables.';\n",
              "          element.innerHTML = '';\n",
              "          dataTable['output_type'] = 'display_data';\n",
              "          await google.colab.output.renderOutput(dataTable, element);\n",
              "          const docLink = document.createElement('div');\n",
              "          docLink.innerHTML = docLinkHtml;\n",
              "          element.appendChild(docLink);\n",
              "        }\n",
              "      </script>\n",
              "    </div>\n",
              "  </div>\n",
              "  "
            ]
          },
          "metadata": {},
          "execution_count": 68
        }
      ],
      "source": [
        "testdataset = headlines_test[\"headlines\"].apply(lambda text: np.mean([w2v_model[word] for word in text.split() if word in w2v_model], axis=0))\n",
        "testdataset = pd.DataFrame(np.vstack(testdataset))\n",
        "testdataset.head(3)"
      ]
    },
    {
      "cell_type": "code",
      "execution_count": null,
      "metadata": {
        "id": "jlDAWqBy0SdO"
      },
      "outputs": [],
      "source": [
        "# for ii in range(len(testdataset)):\n",
        "#     testdataset.iloc[ii, :] = testdataset.iloc[ii, :]/np.sqrt((testdataset.iloc[ii, :]**2).sum())\n",
        "\n",
        "# testdataset.head(3)"
      ]
    },
    {
      "cell_type": "code",
      "execution_count": null,
      "metadata": {
        "id": "mnyDqx4U0SdO"
      },
      "outputs": [],
      "source": [
        "# predictions = lrclassifier.predict(testdataset)"
      ]
    },
    {
      "cell_type": "code",
      "execution_count": null,
      "metadata": {
        "id": "636M91j10SdO"
      },
      "outputs": [],
      "source": [
        "predictions = randomclassifier.predict(testdataset)"
      ]
    },
    {
      "cell_type": "code",
      "execution_count": null,
      "metadata": {
        "id": "V_4zhkAm0SdO",
        "colab": {
          "base_uri": "https://localhost:8080/"
        },
        "outputId": "987ee1f0-5b52-4165-88a6-b72e67c8cd1c"
      },
      "outputs": [
        {
          "output_type": "stream",
          "name": "stdout",
          "text": [
            "[[144 155]\n",
            " [ 26 305]]\n",
            "-------------------------\n",
            "accuracy: 0.71\n",
            "balanced accuracy: 0.70\n",
            "cohen's kappa: 0.41\n"
          ]
        }
      ],
      "source": [
        "from sklearn.metrics import confusion_matrix, accuracy_score, balanced_accuracy_score, cohen_kappa_score\n",
        "conf_m=confusion_matrix(test['Label'],predictions)\n",
        "print(conf_m)\n",
        "print(\"-------------------------\")\n",
        "acc_s=accuracy_score(test['Label'],predictions)\n",
        "print(f\"accuracy: {acc_s:.2f}\")\n",
        "bacc_s=balanced_accuracy_score(test['Label'],predictions)\n",
        "print(f\"balanced accuracy: {bacc_s:.2f}\")\n",
        "ck_s=cohen_kappa_score(test['Label'],predictions)\n",
        "print(f\"cohen's kappa: {ck_s:.2f}\")"
      ]
    },
    {
      "cell_type": "code",
      "execution_count": null,
      "metadata": {
        "id": "uP83Wjuo0SdP",
        "colab": {
          "base_uri": "https://localhost:8080/",
          "height": 350
        },
        "outputId": "5b0fa8ad-197e-4995-a255-1769670bda11"
      },
      "outputs": [
        {
          "output_type": "display_data",
          "data": {
            "text/plain": [
              "<Figure size 360x360 with 2 Axes>"
            ],
            "image/png": "[encoded data removed]"
          },
          "metadata": {
            "needs_background": "light"
          }
        }
      ],
      "source": [
        "import matplotlib.pyplot as plt\n",
        "import seaborn as sns\n",
        "f, ax = plt.subplots(figsize=(5,5))\n",
        "sns.heatmap(conf_m, annot=True, linewidth=0.7, linecolor='cyan', fmt='g', ax=ax, cmap=\"BuPu\")\n",
        "plt.title('Testing Confusion Matrix')\n",
        "plt.xlabel('predicted', )\n",
        "plt.ylabel('actual')\n",
        "plt.show();"
      ]
    },
    {
      "cell_type": "markdown",
      "metadata": {
        "id": "QDb71OgzhjTA"
      },
      "source": [
        "## B. Deep Learning Models"
      ]
    },
    {
      "cell_type": "markdown",
      "metadata": {
        "id": "-MZS9SXqbAbS"
      },
      "source": [
        "### 1.Deep Learning (Bi-directional LSTM) - Creating new Embedding"
      ]
    },
    {
      "cell_type": "code",
      "execution_count": null,
      "metadata": {
        "id": "4sArKlMYEJ0y"
      },
      "outputs": [],
      "source": [
        "import tensorflow as tf\n",
        "from keras_preprocessing.text import Tokenizer\n",
        "from keras_preprocessing.sequence import pad_sequences"
      ]
    },
    {
      "cell_type": "code",
      "execution_count": null,
      "metadata": {
        "id": "Ka6lwqhZFwLJ"
      },
      "outputs": [],
      "source": [
        "vocab_size = 10000\n",
        "embedding_dim = 300\n",
        "max_length = 600\n",
        "trunc_type='post'\n",
        "padding_type='post'\n",
        "oov_tok = \"<OOV>\""
      ]
    },
    {
      "cell_type": "code",
      "execution_count": null,
      "metadata": {
        "id": "AQ6XMIeac4Kf",
        "colab": {
          "base_uri": "https://localhost:8080/",
          "height": 143
        },
        "outputId": "e781b942-8d51-4f7a-94f2-508964b9b079"
      },
      "outputs": [
        {
          "output_type": "execute_result",
          "data": {
            "text/plain": [
              "                                           headlines\n",
              "0  a  hindrance to operations   extracts from the...\n",
              "1  scorecard the best lake scene leader  german s...\n",
              "2  coventry caught on counter by flo united s riv..."
            ],
            "text/html": [
              "\n",
              "  <div id=\"df-93c87de6-8ceb-4960-8c10-6d1cce7f44cf\">\n",
              "    <div class=\"colab-df-container\">\n",
              "      <div>\n",
              "<style scoped>\n",
              "    .dataframe tbody tr th:only-of-type {\n",
              "        vertical-align: middle;\n",
              "    }\n",
              "\n",
              "    .dataframe tbody tr th {\n",
              "        vertical-align: top;\n",
              "    }\n",
              "\n",
              "    .dataframe thead th {\n",
              "        text-align: right;\n",
              "    }\n",
              "</style>\n",
              "<table border=\"1\" class=\"dataframe\">\n",
              "  <thead>\n",
              "    <tr style=\"text-align: right;\">\n",
              "      <th></th>\n",
              "      <th>headlines</th>\n",
              "    </tr>\n",
              "  </thead>\n",
              "  <tbody>\n",
              "    <tr>\n",
              "      <th>0</th>\n",
              "      <td>a  hindrance to operations   extracts from the...</td>\n",
              "    </tr>\n",
              "    <tr>\n",
              "      <th>1</th>\n",
              "      <td>scorecard the best lake scene leader  german s...</td>\n",
              "    </tr>\n",
              "    <tr>\n",
              "      <th>2</th>\n",
              "      <td>coventry caught on counter by flo united s riv...</td>\n",
              "    </tr>\n",
              "  </tbody>\n",
              "</table>\n",
              "</div>\n",
              "      <button class=\"colab-df-convert\" onclick=\"convertToInteractive('df-93c87de6-8ceb-4960-8c10-6d1cce7f44cf')\"\n",
              "              title=\"Convert this dataframe to an interactive table.\"\n",
              "              style=\"display:none;\">\n",
              "        \n",
              "  <svg xmlns=\"http://www.w3.org/2000/svg\" height=\"24px\"viewBox=\"0 0 24 24\"\n",
              "       width=\"24px\">\n",
              "    <path d=\"M0 0h24v24H0V0z\" fill=\"none\"/>\n",
              "    <path d=\"M18.56 5.44l.94 2.06.94-2.06 2.06-.94-2.06-.94-.94-2.06-.94 2.06-2.06.94zm-11 1L8.5 8.5l.94-2.06 2.06-.94-2.06-.94L8.5 2.5l-.94 2.06-2.06.94zm10 10l.94 2.06.94-2.06 2.06-.94-2.06-.94-.94-2.06-.94 2.06-2.06.94z\"/><path d=\"M17.41 7.96l-1.37-1.37c-.4-.4-.92-.59-1.43-.59-.52 0-1.04.2-1.43.59L10.3 9.45l-7.72 7.72c-.78.78-.78 2.05 0 2.83L4 21.41c.39.39.9.59 1.41.59.51 0 1.02-.2 1.41-.59l7.78-7.78 2.81-2.81c.8-.78.8-2.07 0-2.86zM5.41 20L4 18.59l7.72-7.72 1.47 1.35L5.41 20z\"/>\n",
              "  </svg>\n",
              "      </button>\n",
              "      \n",
              "  <style>\n",
              "    .colab-df-container {\n",
              "      display:flex;\n",
              "      flex-wrap:wrap;\n",
              "      gap: 12px;\n",
              "    }\n",
              "\n",
              "    .colab-df-convert {\n",
              "      background-color: #E8F0FE;\n",
              "      border: none;\n",
              "      border-radius: 50%;\n",
              "      cursor: pointer;\n",
              "      display: none;\n",
              "      fill: #1967D2;\n",
              "      height: 32px;\n",
              "      padding: 0 0 0 0;\n",
              "      width: 32px;\n",
              "    }\n",
              "\n",
              "    .colab-df-convert:hover {\n",
              "      background-color: #E2EBFA;\n",
              "      box-shadow: 0px 1px 2px rgba(60, 64, 67, 0.3), 0px 1px 3px 1px rgba(60, 64, 67, 0.15);\n",
              "      fill: #174EA6;\n",
              "    }\n",
              "\n",
              "    [theme=dark] .colab-df-convert {\n",
              "      background-color: #3B4455;\n",
              "      fill: #D2E3FC;\n",
              "    }\n",
              "\n",
              "    [theme=dark] .colab-df-convert:hover {\n",
              "      background-color: #434B5C;\n",
              "      box-shadow: 0px 1px 3px 1px rgba(0, 0, 0, 0.15);\n",
              "      filter: drop-shadow(0px 1px 2px rgba(0, 0, 0, 0.3));\n",
              "      fill: #FFFFFF;\n",
              "    }\n",
              "  </style>\n",
              "\n",
              "      <script>\n",
              "        const buttonEl =\n",
              "          document.querySelector('#df-93c87de6-8ceb-4960-8c10-6d1cce7f44cf button.colab-df-convert');\n",
              "        buttonEl.style.display =\n",
              "          google.colab.kernel.accessAllowed ? 'block' : 'none';\n",
              "\n",
              "        async function convertToInteractive(key) {\n",
              "          const element = document.querySelector('#df-93c87de6-8ceb-4960-8c10-6d1cce7f44cf');\n",
              "          const dataTable =\n",
              "            await google.colab.kernel.invokeFunction('convertToInteractive',\n",
              "                                                     [key], {});\n",
              "          if (!dataTable) return;\n",
              "\n",
              "          const docLinkHtml = 'Like what you see? Visit the ' +\n",
              "            '<a target=\"_blank\" href=https://colab.research.google.com/notebooks/data_table.ipynb>data table notebook</a>'\n",
              "            + ' to learn more about interactive tables.';\n",
              "          element.innerHTML = '';\n",
              "          dataTable['output_type'] = 'display_data';\n",
              "          await google.colab.output.renderOutput(dataTable, element);\n",
              "          const docLink = document.createElement('div');\n",
              "          docLink.innerHTML = docLinkHtml;\n",
              "          element.appendChild(docLink);\n",
              "        }\n",
              "      </script>\n",
              "    </div>\n",
              "  </div>\n",
              "  "
            ]
          },
          "metadata": {},
          "execution_count": 76
        }
      ],
      "source": [
        "headlines_train = pd.DataFrame(headlines_train, columns=[\"headlines\"])\n",
        "headlines_train.head(3)"
      ]
    },
    {
      "cell_type": "code",
      "execution_count": null,
      "metadata": {
        "id": "jWvWEGhFdlvN"
      },
      "outputs": [],
      "source": [
        "headlines_test = pd.DataFrame(headlines_test, columns=[\"headlines\"])"
      ]
    },
    {
      "cell_type": "code",
      "execution_count": null,
      "metadata": {
        "id": "f7ah12fPF5bu"
      },
      "outputs": [],
      "source": [
        "tokenizer = Tokenizer(num_words=vocab_size, oov_token=oov_tok)\n",
        "tokenizer.fit_on_texts(headlines_train[\"headlines\"])\n",
        "\n",
        "word_index = tokenizer.word_index\n",
        "\n",
        "training_sequences = tokenizer.texts_to_sequences(headlines_train[\"headlines\"])\n",
        "training_padded = pad_sequences(training_sequences, maxlen= max_length, padding=padding_type, truncating=trunc_type)\n",
        "\n",
        "testing_sequences = tokenizer.texts_to_sequences(headlines_test[\"headlines\"])\n",
        "testing_padded = pad_sequences(testing_sequences, maxlen= max_length, padding=padding_type, truncating=trunc_type)"
      ]
    },
    {
      "cell_type": "code",
      "execution_count": null,
      "metadata": {
        "id": "e8RSIODjJSvo",
        "colab": {
          "base_uri": "https://localhost:8080/"
        },
        "outputId": "4e5d0b02-e71f-46be-bc99-c8189e11f8f8"
      },
      "outputs": [
        {
          "output_type": "execute_result",
          "data": {
            "text/plain": [
              "(3723, 600)"
            ]
          },
          "metadata": {},
          "execution_count": 79
        }
      ],
      "source": [
        "training_padded.shape"
      ]
    },
    {
      "cell_type": "code",
      "execution_count": null,
      "metadata": {
        "id": "aTzppogLGxjQ"
      },
      "outputs": [],
      "source": [
        "import numpy as np\n",
        "training_padded = np.array(training_padded)\n",
        "training_labels = np.array(train['Label'])\n",
        "testing_padded = np.array(testing_padded)\n",
        "testing_labels = np.array(test['Label'])"
      ]
    },
    {
      "cell_type": "code",
      "execution_count": null,
      "metadata": {
        "id": "1VyBxJX8Gyoh",
        "colab": {
          "base_uri": "https://localhost:8080/"
        },
        "outputId": "42509b53-5cdb-497b-cf6b-310db4c2d09e"
      },
      "outputs": [
        {
          "output_type": "stream",
          "name": "stdout",
          "text": [
            "Model: \"sequential\"\n",
            "_________________________________________________________________\n",
            " Layer (type)                Output Shape              Param #   \n",
            "=================================================================\n",
            " embedding (Embedding)       (None, None, 300)         3000000   \n",
            "                                                                 \n",
            " bidirectional (Bidirectiona  (None, 200)              320800    \n",
            " l)                                                              \n",
            "                                                                 \n",
            " dense (Dense)               (None, 32)                6432      \n",
            "                                                                 \n",
            " dense_1 (Dense)             (None, 1)                 33        \n",
            "                                                                 \n",
            "=================================================================\n",
            "Total params: 3,327,265\n",
            "Trainable params: 3,327,265\n",
            "Non-trainable params: 0\n",
            "_________________________________________________________________\n"
          ]
        }
      ],
      "source": [
        "model = tf.keras.Sequential([\n",
        "    tf.keras.layers.Embedding(vocab_size, embedding_dim),\n",
        "    tf.keras.layers.Bidirectional(tf.keras.layers.LSTM(100)),\n",
        "    tf.keras.layers.Dense(32, activation='relu', kernel_regularizer = tf.keras.regularizers.l2(0.1)),\n",
        "    tf.keras.layers.Dense(1, activation='sigmoid')\n",
        "])\n",
        "model.compile(loss='binary_crossentropy',optimizer='adam',metrics=['accuracy'])\n",
        "model.summary()"
      ]
    },
    {
      "cell_type": "code",
      "execution_count": null,
      "metadata": {
        "id": "TS0v8VGhHB1o",
        "colab": {
          "base_uri": "https://localhost:8080/"
        },
        "outputId": "70147a83-7b3f-4763-f69b-acc542caac4f"
      },
      "outputs": [
        {
          "output_type": "stream",
          "name": "stdout",
          "text": [
            "Epoch 1/50\n",
            "117/117 - 18s - loss: 2.8084 - accuracy: 0.5184 - val_loss: 1.0963 - val_accuracy: 0.5254 - 18s/epoch - 151ms/step\n",
            "Epoch 2/50\n",
            "117/117 - 6s - loss: 0.8104 - accuracy: 0.5657 - val_loss: 0.7082 - val_accuracy: 0.5254 - 6s/epoch - 55ms/step\n",
            "Epoch 3/50\n",
            "117/117 - 6s - loss: 0.6888 - accuracy: 0.5716 - val_loss: 0.6945 - val_accuracy: 0.5429 - 6s/epoch - 51ms/step\n",
            "Epoch 4/50\n",
            "117/117 - 6s - loss: 0.6563 - accuracy: 0.6320 - val_loss: 0.7015 - val_accuracy: 0.5873 - 6s/epoch - 52ms/step\n",
            "Epoch 5/50\n",
            "117/117 - 6s - loss: 0.5297 - accuracy: 0.7682 - val_loss: 0.6745 - val_accuracy: 0.6540 - 6s/epoch - 51ms/step\n",
            "Epoch 6/50\n",
            "117/117 - 6s - loss: 0.3454 - accuracy: 0.8939 - val_loss: 0.7023 - val_accuracy: 0.6873 - 6s/epoch - 51ms/step\n",
            "Epoch 7/50\n",
            "117/117 - 6s - loss: 0.1965 - accuracy: 0.9648 - val_loss: 0.8270 - val_accuracy: 0.6937 - 6s/epoch - 52ms/step\n",
            "Epoch 8/50\n",
            "117/117 - 6s - loss: 0.1174 - accuracy: 0.9847 - val_loss: 0.9178 - val_accuracy: 0.6857 - 6s/epoch - 52ms/step\n",
            "Epoch 9/50\n",
            "117/117 - 6s - loss: 0.0794 - accuracy: 0.9930 - val_loss: 1.0541 - val_accuracy: 0.6921 - 6s/epoch - 52ms/step\n",
            "Epoch 10/50\n",
            "117/117 - 6s - loss: 0.0588 - accuracy: 0.9957 - val_loss: 1.0524 - val_accuracy: 0.7079 - 6s/epoch - 52ms/step\n",
            "Epoch 11/50\n",
            "117/117 - 6s - loss: 0.0562 - accuracy: 0.9927 - val_loss: 0.9709 - val_accuracy: 0.6222 - 6s/epoch - 55ms/step\n",
            "Epoch 12/50\n",
            "117/117 - 6s - loss: 0.1026 - accuracy: 0.9766 - val_loss: 1.0429 - val_accuracy: 0.6968 - 6s/epoch - 52ms/step\n",
            "Epoch 13/50\n",
            "117/117 - 6s - loss: 0.0680 - accuracy: 0.9876 - val_loss: 1.1271 - val_accuracy: 0.6921 - 6s/epoch - 52ms/step\n",
            "Epoch 14/50\n",
            "117/117 - 6s - loss: 0.0457 - accuracy: 0.9965 - val_loss: 1.1372 - val_accuracy: 0.6937 - 6s/epoch - 52ms/step\n",
            "Epoch 15/50\n",
            "117/117 - 6s - loss: 0.0303 - accuracy: 0.9992 - val_loss: 1.2283 - val_accuracy: 0.6873 - 6s/epoch - 52ms/step\n",
            "Epoch 16/50\n",
            "117/117 - 6s - loss: 0.0237 - accuracy: 1.0000 - val_loss: 1.2200 - val_accuracy: 0.6921 - 6s/epoch - 52ms/step\n",
            "Epoch 17/50\n",
            "117/117 - 6s - loss: 0.0205 - accuracy: 1.0000 - val_loss: 1.2503 - val_accuracy: 0.6937 - 6s/epoch - 52ms/step\n",
            "Epoch 18/50\n",
            "117/117 - 6s - loss: 0.0183 - accuracy: 1.0000 - val_loss: 1.2907 - val_accuracy: 0.6937 - 6s/epoch - 52ms/step\n",
            "Epoch 19/50\n",
            "117/117 - 6s - loss: 0.0166 - accuracy: 1.0000 - val_loss: 1.3234 - val_accuracy: 0.6937 - 6s/epoch - 55ms/step\n",
            "Epoch 20/50\n",
            "117/117 - 6s - loss: 0.0152 - accuracy: 1.0000 - val_loss: 1.3319 - val_accuracy: 0.6921 - 6s/epoch - 54ms/step\n",
            "Epoch 21/50\n",
            "117/117 - 6s - loss: 0.0140 - accuracy: 1.0000 - val_loss: 1.3602 - val_accuracy: 0.6921 - 6s/epoch - 52ms/step\n",
            "Epoch 22/50\n",
            "117/117 - 6s - loss: 0.0130 - accuracy: 1.0000 - val_loss: 1.3562 - val_accuracy: 0.6968 - 6s/epoch - 53ms/step\n",
            "Epoch 23/50\n",
            "117/117 - 6s - loss: 0.0121 - accuracy: 1.0000 - val_loss: 1.4004 - val_accuracy: 0.6952 - 6s/epoch - 53ms/step\n",
            "Epoch 24/50\n",
            "117/117 - 6s - loss: 0.0113 - accuracy: 1.0000 - val_loss: 1.3997 - val_accuracy: 0.6968 - 6s/epoch - 53ms/step\n",
            "Epoch 25/50\n",
            "117/117 - 6s - loss: 0.0106 - accuracy: 1.0000 - val_loss: 1.4277 - val_accuracy: 0.6921 - 6s/epoch - 53ms/step\n",
            "Epoch 26/50\n",
            "117/117 - 6s - loss: 0.0100 - accuracy: 1.0000 - val_loss: 1.4516 - val_accuracy: 0.6921 - 6s/epoch - 53ms/step\n",
            "Epoch 27/50\n",
            "117/117 - 6s - loss: 0.0841 - accuracy: 0.9828 - val_loss: 1.3515 - val_accuracy: 0.6746 - 6s/epoch - 53ms/step\n",
            "Epoch 28/50\n",
            "117/117 - 7s - loss: 0.0538 - accuracy: 0.9887 - val_loss: 1.3831 - val_accuracy: 0.6810 - 7s/epoch - 56ms/step\n",
            "Epoch 29/50\n",
            "117/117 - 6s - loss: 0.0244 - accuracy: 0.9981 - val_loss: 1.3244 - val_accuracy: 0.6889 - 6s/epoch - 54ms/step\n",
            "Epoch 30/50\n",
            "117/117 - 6s - loss: 0.0144 - accuracy: 1.0000 - val_loss: 1.3413 - val_accuracy: 0.6937 - 6s/epoch - 54ms/step\n",
            "Epoch 31/50\n",
            "117/117 - 6s - loss: 0.0116 - accuracy: 1.0000 - val_loss: 1.3681 - val_accuracy: 0.6937 - 6s/epoch - 54ms/step\n",
            "Epoch 32/50\n",
            "117/117 - 6s - loss: 0.0103 - accuracy: 1.0000 - val_loss: 1.3824 - val_accuracy: 0.6905 - 6s/epoch - 54ms/step\n",
            "Epoch 33/50\n",
            "117/117 - 6s - loss: 0.0095 - accuracy: 1.0000 - val_loss: 1.4107 - val_accuracy: 0.6921 - 6s/epoch - 54ms/step\n",
            "Epoch 34/50\n",
            "117/117 - 6s - loss: 0.0089 - accuracy: 1.0000 - val_loss: 1.4293 - val_accuracy: 0.6921 - 6s/epoch - 54ms/step\n",
            "Epoch 35/50\n",
            "117/117 - 6s - loss: 0.0084 - accuracy: 1.0000 - val_loss: 1.4509 - val_accuracy: 0.6937 - 6s/epoch - 54ms/step\n",
            "Epoch 36/50\n",
            "117/117 - 6s - loss: 0.0079 - accuracy: 1.0000 - val_loss: 1.4704 - val_accuracy: 0.6937 - 6s/epoch - 55ms/step\n",
            "Epoch 37/50\n",
            "117/117 - 7s - loss: 0.0075 - accuracy: 1.0000 - val_loss: 1.5079 - val_accuracy: 0.6921 - 7s/epoch - 56ms/step\n",
            "Epoch 38/50\n",
            "117/117 - 6s - loss: 0.0072 - accuracy: 1.0000 - val_loss: 1.5331 - val_accuracy: 0.6921 - 6s/epoch - 54ms/step\n",
            "Epoch 39/50\n",
            "117/117 - 6s - loss: 0.0069 - accuracy: 1.0000 - val_loss: 1.5302 - val_accuracy: 0.6921 - 6s/epoch - 54ms/step\n",
            "Epoch 40/50\n",
            "117/117 - 7s - loss: 0.0065 - accuracy: 1.0000 - val_loss: 1.5513 - val_accuracy: 0.6921 - 7s/epoch - 56ms/step\n",
            "Epoch 41/50\n",
            "117/117 - 7s - loss: 0.0063 - accuracy: 1.0000 - val_loss: 1.5553 - val_accuracy: 0.6905 - 7s/epoch - 56ms/step\n",
            "Epoch 42/50\n",
            "117/117 - 6s - loss: 0.0060 - accuracy: 1.0000 - val_loss: 1.5856 - val_accuracy: 0.6905 - 6s/epoch - 54ms/step\n",
            "Epoch 43/50\n",
            "117/117 - 6s - loss: 0.0058 - accuracy: 1.0000 - val_loss: 1.5797 - val_accuracy: 0.6921 - 6s/epoch - 54ms/step\n",
            "Epoch 44/50\n",
            "117/117 - 6s - loss: 0.0056 - accuracy: 1.0000 - val_loss: 1.5992 - val_accuracy: 0.6921 - 6s/epoch - 54ms/step\n",
            "Epoch 45/50\n",
            "117/117 - 7s - loss: 0.0054 - accuracy: 1.0000 - val_loss: 1.6008 - val_accuracy: 0.6937 - 7s/epoch - 57ms/step\n",
            "Epoch 46/50\n",
            "117/117 - 6s - loss: 0.0052 - accuracy: 1.0000 - val_loss: 1.6364 - val_accuracy: 0.6937 - 6s/epoch - 54ms/step\n",
            "Epoch 47/50\n",
            "117/117 - 6s - loss: 0.0050 - accuracy: 1.0000 - val_loss: 1.6468 - val_accuracy: 0.6937 - 6s/epoch - 54ms/step\n",
            "Epoch 48/50\n",
            "117/117 - 6s - loss: 0.0048 - accuracy: 1.0000 - val_loss: 1.6539 - val_accuracy: 0.6968 - 6s/epoch - 54ms/step\n",
            "Epoch 49/50\n",
            "117/117 - 6s - loss: 0.0046 - accuracy: 1.0000 - val_loss: 1.6339 - val_accuracy: 0.6952 - 6s/epoch - 54ms/step\n",
            "Epoch 50/50\n",
            "117/117 - 6s - loss: 0.0045 - accuracy: 1.0000 - val_loss: 1.6633 - val_accuracy: 0.6984 - 6s/epoch - 54ms/step\n"
          ]
        }
      ],
      "source": [
        "num_epochs = 50\n",
        "history = model.fit(training_padded, training_labels, epochs=num_epochs, validation_data=(testing_padded, testing_labels), verbose=2)"
      ]
    },
    {
      "cell_type": "code",
      "execution_count": null,
      "metadata": {
        "id": "QUMyVw6dKZeT",
        "colab": {
          "base_uri": "https://localhost:8080/"
        },
        "outputId": "91847158-07bc-4d7b-b0bf-c2a81310b97e"
      },
      "outputs": [
        {
          "output_type": "stream",
          "name": "stdout",
          "text": [
            "20/20 [==============================] - 1s 19ms/step\n"
          ]
        }
      ],
      "source": [
        "predictions = model.predict(testing_padded)\n",
        "predictions = np.squeeze(predictions>0.5).astype(int)"
      ]
    },
    {
      "cell_type": "code",
      "execution_count": null,
      "metadata": {
        "id": "GK9zlb44NSL4",
        "colab": {
          "base_uri": "https://localhost:8080/"
        },
        "outputId": "4fd41dcd-8573-4bb8-9c5b-b8d55b1f3780"
      },
      "outputs": [
        {
          "output_type": "stream",
          "name": "stdout",
          "text": [
            "[[201  98]\n",
            " [ 92 239]]\n",
            "-------------------------\n",
            "accuracy: 0.70\n",
            "balanced accuracy: 0.70\n",
            "cohen's kappa: 0.39\n"
          ]
        }
      ],
      "source": [
        "from sklearn.metrics import confusion_matrix, accuracy_score, balanced_accuracy_score, cohen_kappa_score\n",
        "conf_m=confusion_matrix(test['Label'],predictions)\n",
        "print(conf_m)\n",
        "print(\"-------------------------\")\n",
        "acc_s=accuracy_score(test['Label'],predictions)\n",
        "print(f\"accuracy: {acc_s:.2f}\")\n",
        "bacc_s=balanced_accuracy_score(test['Label'],predictions)\n",
        "print(f\"balanced accuracy: {bacc_s:.2f}\")\n",
        "ck_s=cohen_kappa_score(test['Label'],predictions)\n",
        "print(f\"cohen's kappa: {ck_s:.2f}\")"
      ]
    },
    {
      "cell_type": "code",
      "execution_count": null,
      "metadata": {
        "id": "TxVzHpyTNSL5",
        "colab": {
          "base_uri": "https://localhost:8080/",
          "height": 350
        },
        "outputId": "f2b6ed92-a057-4fd1-914f-1758eaa7a1c1"
      },
      "outputs": [
        {
          "output_type": "display_data",
          "data": {
            "text/plain": [
              "<Figure size 360x360 with 2 Axes>"
            ],
            "image/png": "[encoded data removed]"
          },
          "metadata": {
            "needs_background": "light"
          }
        }
      ],
      "source": [
        "import matplotlib.pyplot as plt\n",
        "import seaborn as sns\n",
        "f, ax = plt.subplots(figsize=(5,5))\n",
        "sns.heatmap(conf_m, annot=True, linewidth=0.7, linecolor='cyan', fmt='g', ax=ax, cmap=\"BuPu\")\n",
        "plt.title('Testing Confusion Matrix')\n",
        "plt.xlabel('predicted', )\n",
        "plt.ylabel('actual')\n",
        "plt.show();"
      ]
    },
    {
      "cell_type": "markdown",
      "metadata": {
        "id": "vt6MFVYTf-Tc"
      },
      "source": [
        "### 2.Deep Learning (Bi-directional LSTM) - Using Pre-Trained Embedding (GloVe)"
      ]
    },
    {
      "cell_type": "code",
      "execution_count": null,
      "metadata": {
        "id": "27zOHS5Tf-Ti"
      },
      "outputs": [],
      "source": [
        "import tensorflow as tf\n",
        "from keras_preprocessing.text import Tokenizer\n",
        "from keras_preprocessing.sequence import pad_sequences"
      ]
    },
    {
      "cell_type": "code",
      "execution_count": null,
      "metadata": {
        "id": "dmzVB02-f-Ti"
      },
      "outputs": [],
      "source": [
        "vocab_size = 10000\n",
        "embedding_dim = 300\n",
        "max_length = 600\n",
        "trunc_type='post'\n",
        "padding_type='post'\n",
        "oov_tok = \"<OOV>\""
      ]
    },
    {
      "cell_type": "code",
      "execution_count": null,
      "metadata": {
        "id": "0vhfqmb7f-Tj",
        "colab": {
          "base_uri": "https://localhost:8080/",
          "height": 143
        },
        "outputId": "49e4230d-e930-4886-d949-ad2723315a7a"
      },
      "outputs": [
        {
          "output_type": "execute_result",
          "data": {
            "text/plain": [
              "                                           headlines\n",
              "0  a  hindrance to operations   extracts from the...\n",
              "1  scorecard the best lake scene leader  german s...\n",
              "2  coventry caught on counter by flo united s riv..."
            ],
            "text/html": [
              "\n",
              "  <div id=\"df-20462373-73e6-4eb5-8f1d-d33dd54a091a\">\n",
              "    <div class=\"colab-df-container\">\n",
              "      <div>\n",
              "<style scoped>\n",
              "    .dataframe tbody tr th:only-of-type {\n",
              "        vertical-align: middle;\n",
              "    }\n",
              "\n",
              "    .dataframe tbody tr th {\n",
              "        vertical-align: top;\n",
              "    }\n",
              "\n",
              "    .dataframe thead th {\n",
              "        text-align: right;\n",
              "    }\n",
              "</style>\n",
              "<table border=\"1\" class=\"dataframe\">\n",
              "  <thead>\n",
              "    <tr style=\"text-align: right;\">\n",
              "      <th></th>\n",
              "      <th>headlines</th>\n",
              "    </tr>\n",
              "  </thead>\n",
              "  <tbody>\n",
              "    <tr>\n",
              "      <th>0</th>\n",
              "      <td>a  hindrance to operations   extracts from the...</td>\n",
              "    </tr>\n",
              "    <tr>\n",
              "      <th>1</th>\n",
              "      <td>scorecard the best lake scene leader  german s...</td>\n",
              "    </tr>\n",
              "    <tr>\n",
              "      <th>2</th>\n",
              "      <td>coventry caught on counter by flo united s riv...</td>\n",
              "    </tr>\n",
              "  </tbody>\n",
              "</table>\n",
              "</div>\n",
              "      <button class=\"colab-df-convert\" onclick=\"convertToInteractive('df-20462373-73e6-4eb5-8f1d-d33dd54a091a')\"\n",
              "              title=\"Convert this dataframe to an interactive table.\"\n",
              "              style=\"display:none;\">\n",
              "        \n",
              "  <svg xmlns=\"http://www.w3.org/2000/svg\" height=\"24px\"viewBox=\"0 0 24 24\"\n",
              "       width=\"24px\">\n",
              "    <path d=\"M0 0h24v24H0V0z\" fill=\"none\"/>\n",
              "    <path d=\"M18.56 5.44l.94 2.06.94-2.06 2.06-.94-2.06-.94-.94-2.06-.94 2.06-2.06.94zm-11 1L8.5 8.5l.94-2.06 2.06-.94-2.06-.94L8.5 2.5l-.94 2.06-2.06.94zm10 10l.94 2.06.94-2.06 2.06-.94-2.06-.94-.94-2.06-.94 2.06-2.06.94z\"/><path d=\"M17.41 7.96l-1.37-1.37c-.4-.4-.92-.59-1.43-.59-.52 0-1.04.2-1.43.59L10.3 9.45l-7.72 7.72c-.78.78-.78 2.05 0 2.83L4 21.41c.39.39.9.59 1.41.59.51 0 1.02-.2 1.41-.59l7.78-7.78 2.81-2.81c.8-.78.8-2.07 0-2.86zM5.41 20L4 18.59l7.72-7.72 1.47 1.35L5.41 20z\"/>\n",
              "  </svg>\n",
              "      </button>\n",
              "      \n",
              "  <style>\n",
              "    .colab-df-container {\n",
              "      display:flex;\n",
              "      flex-wrap:wrap;\n",
              "      gap: 12px;\n",
              "    }\n",
              "\n",
              "    .colab-df-convert {\n",
              "      background-color: #E8F0FE;\n",
              "      border: none;\n",
              "      border-radius: 50%;\n",
              "      cursor: pointer;\n",
              "      display: none;\n",
              "      fill: #1967D2;\n",
              "      height: 32px;\n",
              "      padding: 0 0 0 0;\n",
              "      width: 32px;\n",
              "    }\n",
              "\n",
              "    .colab-df-convert:hover {\n",
              "      background-color: #E2EBFA;\n",
              "      box-shadow: 0px 1px 2px rgba(60, 64, 67, 0.3), 0px 1px 3px 1px rgba(60, 64, 67, 0.15);\n",
              "      fill: #174EA6;\n",
              "    }\n",
              "\n",
              "    [theme=dark] .colab-df-convert {\n",
              "      background-color: #3B4455;\n",
              "      fill: #D2E3FC;\n",
              "    }\n",
              "\n",
              "    [theme=dark] .colab-df-convert:hover {\n",
              "      background-color: #434B5C;\n",
              "      box-shadow: 0px 1px 3px 1px rgba(0, 0, 0, 0.15);\n",
              "      filter: drop-shadow(0px 1px 2px rgba(0, 0, 0, 0.3));\n",
              "      fill: #FFFFFF;\n",
              "    }\n",
              "  </style>\n",
              "\n",
              "      <script>\n",
              "        const buttonEl =\n",
              "          document.querySelector('#df-20462373-73e6-4eb5-8f1d-d33dd54a091a button.colab-df-convert');\n",
              "        buttonEl.style.display =\n",
              "          google.colab.kernel.accessAllowed ? 'block' : 'none';\n",
              "\n",
              "        async function convertToInteractive(key) {\n",
              "          const element = document.querySelector('#df-20462373-73e6-4eb5-8f1d-d33dd54a091a');\n",
              "          const dataTable =\n",
              "            await google.colab.kernel.invokeFunction('convertToInteractive',\n",
              "                                                     [key], {});\n",
              "          if (!dataTable) return;\n",
              "\n",
              "          const docLinkHtml = 'Like what you see? Visit the ' +\n",
              "            '<a target=\"_blank\" href=https://colab.research.google.com/notebooks/data_table.ipynb>data table notebook</a>'\n",
              "            + ' to learn more about interactive tables.';\n",
              "          element.innerHTML = '';\n",
              "          dataTable['output_type'] = 'display_data';\n",
              "          await google.colab.output.renderOutput(dataTable, element);\n",
              "          const docLink = document.createElement('div');\n",
              "          docLink.innerHTML = docLinkHtml;\n",
              "          element.appendChild(docLink);\n",
              "        }\n",
              "      </script>\n",
              "    </div>\n",
              "  </div>\n",
              "  "
            ]
          },
          "metadata": {},
          "execution_count": 88
        }
      ],
      "source": [
        "headlines_train = pd.DataFrame(headlines_train, columns=[\"headlines\"])\n",
        "headlines_train.head(3)"
      ]
    },
    {
      "cell_type": "code",
      "execution_count": null,
      "metadata": {
        "id": "NNop5XuWf-Tj"
      },
      "outputs": [],
      "source": [
        "headlines_test = pd.DataFrame(headlines_test, columns=[\"headlines\"])"
      ]
    },
    {
      "cell_type": "code",
      "execution_count": null,
      "metadata": {
        "id": "vAGHgWXyf-Tj"
      },
      "outputs": [],
      "source": [
        "tokenizer = Tokenizer(num_words=vocab_size, oov_token=oov_tok)\n",
        "tokenizer.fit_on_texts(headlines_train[\"headlines\"])\n",
        "\n",
        "word_index = tokenizer.word_index\n",
        "\n",
        "training_sequences = tokenizer.texts_to_sequences(headlines_train[\"headlines\"])\n",
        "training_padded = pad_sequences(training_sequences, maxlen= max_length, padding=padding_type, truncating=trunc_type)\n",
        "\n",
        "testing_sequences = tokenizer.texts_to_sequences(headlines_test[\"headlines\"])\n",
        "testing_padded = pad_sequences(testing_sequences, maxlen= max_length, padding=padding_type, truncating=trunc_type)"
      ]
    },
    {
      "cell_type": "code",
      "execution_count": null,
      "metadata": {
        "id": "cgsArFMnf-Tj",
        "colab": {
          "base_uri": "https://localhost:8080/"
        },
        "outputId": "2ef6649f-52d6-42e7-99bb-670b1eaf34e8"
      },
      "outputs": [
        {
          "output_type": "execute_result",
          "data": {
            "text/plain": [
              "(3723, 600)"
            ]
          },
          "metadata": {},
          "execution_count": 91
        }
      ],
      "source": [
        "training_padded.shape"
      ]
    },
    {
      "cell_type": "code",
      "execution_count": null,
      "metadata": {
        "id": "g9LwnZ0Wf-Tj"
      },
      "outputs": [],
      "source": [
        "import numpy as np\n",
        "training_padded = np.array(training_padded)\n",
        "training_labels = np.array(train['Label'])\n",
        "testing_padded = np.array(testing_padded)\n",
        "testing_labels = np.array(test['Label'])"
      ]
    },
    {
      "cell_type": "code",
      "execution_count": null,
      "metadata": {
        "id": "FEWxV1t5f-Tk"
      },
      "outputs": [],
      "source": [
        "import numpy as np\n",
        "\n",
        "def load_glove_model(File):\n",
        "    print(\"Loading Glove Model\")\n",
        "    glove_model = {}\n",
        "    with open(File,'r') as f:\n",
        "        for line in f:\n",
        "            split_line = line.split()\n",
        "            word = split_line[0]\n",
        "            embedding = np.array(split_line[1:], dtype=np.float64)\n",
        "            glove_model[word] = embedding\n",
        "    print(f\"{len(glove_model)} words loaded!\")\n",
        "    return glove_model"
      ]
    },
    {
      "cell_type": "code",
      "execution_count": null,
      "metadata": {
        "id": "ZsB5eAw2f-Tk",
        "colab": {
          "base_uri": "https://localhost:8080/"
        },
        "outputId": "68152f82-4760-4a18-d919-4ec6cc0784f7"
      },
      "outputs": [
        {
          "output_type": "stream",
          "name": "stdout",
          "text": [
            "Loading Glove Model\n",
            "400000 words loaded!\n"
          ]
        }
      ],
      "source": [
        "word2vec_path = '/content/drive/MyDrive/Colab Data/glove.6B.300d.txt'\n",
        "w2v_model = load_glove_model(word2vec_path)"
      ]
    },
    {
      "cell_type": "code",
      "execution_count": null,
      "metadata": {
        "id": "L7i6T01Vf-Tk"
      },
      "outputs": [],
      "source": [
        "embedding_weights = np.zeros((vocab_size, embedding_dim))\n",
        "for word, index in word_index.items():\n",
        "  try:\n",
        "    embedding_weights[index, :] = w2v_model[word]\n",
        "  except KeyError:\n",
        "    pass\n",
        "  except IndexError:\n",
        "    pass"
      ]
    },
    {
      "cell_type": "code",
      "execution_count": null,
      "metadata": {
        "id": "4U257rWzf-Tk",
        "colab": {
          "base_uri": "https://localhost:8080/"
        },
        "outputId": "1d912a4b-89d5-4916-d957-72a8ae332bbf"
      },
      "outputs": [
        {
          "output_type": "stream",
          "name": "stdout",
          "text": [
            "Model: \"sequential_1\"\n",
            "_________________________________________________________________\n",
            " Layer (type)                Output Shape              Param #   \n",
            "=================================================================\n",
            " embedding_1 (Embedding)     (None, None, 300)         3000000   \n",
            "                                                                 \n",
            " bidirectional_1 (Bidirectio  (None, 200)              320800    \n",
            " nal)                                                            \n",
            "                                                                 \n",
            " dense_2 (Dense)             (None, 32)                6432      \n",
            "                                                                 \n",
            " dense_3 (Dense)             (None, 1)                 33        \n",
            "                                                                 \n",
            "=================================================================\n",
            "Total params: 3,327,265\n",
            "Trainable params: 3,327,265\n",
            "Non-trainable params: 0\n",
            "_________________________________________________________________\n"
          ]
        }
      ],
      "source": [
        "model = tf.keras.Sequential([\n",
        "    tf.keras.layers.Embedding(vocab_size, embedding_dim, weights=[embedding_weights]),\n",
        "    tf.keras.layers.Bidirectional(tf.keras.layers.LSTM(100)),\n",
        "    tf.keras.layers.Dense(32, activation='relu', kernel_regularizer = tf.keras.regularizers.l2(0.1)),\n",
        "    tf.keras.layers.Dense(1, activation='sigmoid')\n",
        "])\n",
        "model.compile(loss='binary_crossentropy',optimizer='adam',metrics=['accuracy'])\n",
        "model.summary()"
      ]
    },
    {
      "cell_type": "code",
      "execution_count": null,
      "metadata": {
        "id": "OyvCOQkZf-Tk",
        "colab": {
          "base_uri": "https://localhost:8080/"
        },
        "outputId": "054e76d9-05b8-48c7-cdb5-df7d804d5d4b"
      },
      "outputs": [
        {
          "output_type": "stream",
          "name": "stdout",
          "text": [
            "Epoch 1/50\n",
            "117/117 - 10s - loss: 2.7992 - accuracy: 0.5195 - val_loss: 1.0947 - val_accuracy: 0.5254 - 10s/epoch - 87ms/step\n",
            "Epoch 2/50\n",
            "117/117 - 6s - loss: 0.8115 - accuracy: 0.5501 - val_loss: 0.7047 - val_accuracy: 0.5333 - 6s/epoch - 53ms/step\n",
            "Epoch 3/50\n",
            "117/117 - 6s - loss: 0.6549 - accuracy: 0.6425 - val_loss: 0.6755 - val_accuracy: 0.6111 - 6s/epoch - 54ms/step\n",
            "Epoch 4/50\n",
            "117/117 - 6s - loss: 0.4731 - accuracy: 0.8053 - val_loss: 0.6436 - val_accuracy: 0.6762 - 6s/epoch - 54ms/step\n",
            "Epoch 5/50\n",
            "117/117 - 6s - loss: 0.2430 - accuracy: 0.9277 - val_loss: 0.7551 - val_accuracy: 0.6841 - 6s/epoch - 53ms/step\n",
            "Epoch 6/50\n",
            "117/117 - 6s - loss: 0.1149 - accuracy: 0.9796 - val_loss: 0.9276 - val_accuracy: 0.6889 - 6s/epoch - 54ms/step\n",
            "Epoch 7/50\n",
            "117/117 - 6s - loss: 0.0617 - accuracy: 0.9946 - val_loss: 1.0624 - val_accuracy: 0.6921 - 6s/epoch - 55ms/step\n",
            "Epoch 8/50\n",
            "117/117 - 6s - loss: 0.0433 - accuracy: 0.9981 - val_loss: 1.1663 - val_accuracy: 0.6952 - 6s/epoch - 55ms/step\n",
            "Epoch 9/50\n",
            "117/117 - 6s - loss: 0.0294 - accuracy: 1.0000 - val_loss: 1.2149 - val_accuracy: 0.6968 - 6s/epoch - 53ms/step\n",
            "Epoch 10/50\n",
            "117/117 - 6s - loss: 0.0264 - accuracy: 0.9997 - val_loss: 1.3480 - val_accuracy: 0.6810 - 6s/epoch - 54ms/step\n",
            "Epoch 11/50\n",
            "117/117 - 6s - loss: 0.0259 - accuracy: 0.9995 - val_loss: 1.2544 - val_accuracy: 0.6905 - 6s/epoch - 53ms/step\n",
            "Epoch 12/50\n",
            "117/117 - 6s - loss: 0.0299 - accuracy: 0.9981 - val_loss: 1.3010 - val_accuracy: 0.6921 - 6s/epoch - 54ms/step\n",
            "Epoch 13/50\n",
            "117/117 - 6s - loss: 0.0219 - accuracy: 1.0000 - val_loss: 1.3281 - val_accuracy: 0.6873 - 6s/epoch - 54ms/step\n",
            "Epoch 14/50\n",
            "117/117 - 6s - loss: 0.0178 - accuracy: 1.0000 - val_loss: 1.3403 - val_accuracy: 0.6921 - 6s/epoch - 54ms/step\n",
            "Epoch 15/50\n",
            "117/117 - 6s - loss: 0.0158 - accuracy: 1.0000 - val_loss: 1.3732 - val_accuracy: 0.6921 - 6s/epoch - 54ms/step\n",
            "Epoch 16/50\n",
            "117/117 - 7s - loss: 0.0143 - accuracy: 1.0000 - val_loss: 1.4051 - val_accuracy: 0.6921 - 7s/epoch - 58ms/step\n",
            "Epoch 17/50\n",
            "117/117 - 6s - loss: 0.0131 - accuracy: 1.0000 - val_loss: 1.4221 - val_accuracy: 0.6952 - 6s/epoch - 54ms/step\n",
            "Epoch 18/50\n",
            "117/117 - 6s - loss: 0.0121 - accuracy: 1.0000 - val_loss: 1.4502 - val_accuracy: 0.6968 - 6s/epoch - 54ms/step\n",
            "Epoch 19/50\n",
            "117/117 - 6s - loss: 0.0112 - accuracy: 1.0000 - val_loss: 1.4748 - val_accuracy: 0.6968 - 6s/epoch - 54ms/step\n",
            "Epoch 20/50\n",
            "117/117 - 6s - loss: 0.0103 - accuracy: 1.0000 - val_loss: 1.4839 - val_accuracy: 0.7016 - 6s/epoch - 54ms/step\n",
            "Epoch 21/50\n",
            "117/117 - 6s - loss: 0.0629 - accuracy: 0.9858 - val_loss: 1.5165 - val_accuracy: 0.6635 - 6s/epoch - 54ms/step\n",
            "Epoch 22/50\n",
            "117/117 - 6s - loss: 0.1217 - accuracy: 0.9691 - val_loss: 1.2880 - val_accuracy: 0.6905 - 6s/epoch - 54ms/step\n",
            "Epoch 23/50\n",
            "117/117 - 6s - loss: 0.0285 - accuracy: 0.9968 - val_loss: 1.2048 - val_accuracy: 0.6921 - 6s/epoch - 54ms/step\n",
            "Epoch 24/50\n",
            "117/117 - 7s - loss: 0.0165 - accuracy: 1.0000 - val_loss: 1.2992 - val_accuracy: 0.6921 - 7s/epoch - 57ms/step\n",
            "Epoch 25/50\n",
            "117/117 - 7s - loss: 0.0133 - accuracy: 1.0000 - val_loss: 1.3344 - val_accuracy: 0.6937 - 7s/epoch - 57ms/step\n",
            "Epoch 26/50\n",
            "117/117 - 6s - loss: 0.0118 - accuracy: 1.0000 - val_loss: 1.3577 - val_accuracy: 0.6952 - 6s/epoch - 54ms/step\n",
            "Epoch 27/50\n",
            "117/117 - 6s - loss: 0.0107 - accuracy: 1.0000 - val_loss: 1.3896 - val_accuracy: 0.6921 - 6s/epoch - 54ms/step\n",
            "Epoch 28/50\n",
            "117/117 - 6s - loss: 0.0099 - accuracy: 1.0000 - val_loss: 1.4186 - val_accuracy: 0.6905 - 6s/epoch - 54ms/step\n",
            "Epoch 29/50\n",
            "117/117 - 6s - loss: 0.0092 - accuracy: 1.0000 - val_loss: 1.4356 - val_accuracy: 0.6937 - 6s/epoch - 54ms/step\n",
            "Epoch 30/50\n",
            "117/117 - 6s - loss: 0.0087 - accuracy: 1.0000 - val_loss: 1.4583 - val_accuracy: 0.6905 - 6s/epoch - 54ms/step\n",
            "Epoch 31/50\n",
            "117/117 - 6s - loss: 0.0082 - accuracy: 1.0000 - val_loss: 1.4617 - val_accuracy: 0.6921 - 6s/epoch - 54ms/step\n",
            "Epoch 32/50\n",
            "117/117 - 6s - loss: 0.0077 - accuracy: 1.0000 - val_loss: 1.5033 - val_accuracy: 0.6905 - 6s/epoch - 54ms/step\n",
            "Epoch 33/50\n",
            "117/117 - 7s - loss: 0.0073 - accuracy: 1.0000 - val_loss: 1.4989 - val_accuracy: 0.6889 - 7s/epoch - 56ms/step\n",
            "Epoch 34/50\n",
            "117/117 - 6s - loss: 0.0069 - accuracy: 1.0000 - val_loss: 1.5182 - val_accuracy: 0.6921 - 6s/epoch - 55ms/step\n",
            "Epoch 35/50\n",
            "117/117 - 6s - loss: 0.0066 - accuracy: 1.0000 - val_loss: 1.5319 - val_accuracy: 0.6952 - 6s/epoch - 54ms/step\n",
            "Epoch 36/50\n",
            "117/117 - 6s - loss: 0.0063 - accuracy: 1.0000 - val_loss: 1.5611 - val_accuracy: 0.6889 - 6s/epoch - 54ms/step\n",
            "Epoch 37/50\n",
            "117/117 - 6s - loss: 0.0061 - accuracy: 1.0000 - val_loss: 1.5581 - val_accuracy: 0.6952 - 6s/epoch - 54ms/step\n",
            "Epoch 38/50\n",
            "117/117 - 6s - loss: 0.0289 - accuracy: 0.9957 - val_loss: 1.5148 - val_accuracy: 0.6937 - 6s/epoch - 54ms/step\n",
            "Epoch 39/50\n",
            "117/117 - 6s - loss: 0.0183 - accuracy: 0.9979 - val_loss: 1.5434 - val_accuracy: 0.7032 - 6s/epoch - 53ms/step\n",
            "Epoch 40/50\n",
            "117/117 - 6s - loss: 0.0154 - accuracy: 0.9981 - val_loss: 1.4286 - val_accuracy: 0.6921 - 6s/epoch - 54ms/step\n",
            "Epoch 41/50\n",
            "117/117 - 6s - loss: 0.0078 - accuracy: 1.0000 - val_loss: 1.5171 - val_accuracy: 0.6857 - 6s/epoch - 54ms/step\n",
            "Epoch 42/50\n",
            "117/117 - 7s - loss: 0.0068 - accuracy: 1.0000 - val_loss: 1.5320 - val_accuracy: 0.6857 - 7s/epoch - 57ms/step\n",
            "Epoch 43/50\n",
            "117/117 - 6s - loss: 0.0063 - accuracy: 1.0000 - val_loss: 1.5554 - val_accuracy: 0.6857 - 6s/epoch - 54ms/step\n",
            "Epoch 44/50\n",
            "117/117 - 6s - loss: 0.0060 - accuracy: 1.0000 - val_loss: 1.5838 - val_accuracy: 0.6841 - 6s/epoch - 54ms/step\n",
            "Epoch 45/50\n",
            "117/117 - 6s - loss: 0.0056 - accuracy: 1.0000 - val_loss: 1.6067 - val_accuracy: 0.6841 - 6s/epoch - 54ms/step\n",
            "Epoch 46/50\n",
            "117/117 - 6s - loss: 0.0054 - accuracy: 1.0000 - val_loss: 1.6076 - val_accuracy: 0.6857 - 6s/epoch - 54ms/step\n",
            "Epoch 47/50\n",
            "117/117 - 6s - loss: 0.0051 - accuracy: 1.0000 - val_loss: 1.6306 - val_accuracy: 0.6857 - 6s/epoch - 54ms/step\n",
            "Epoch 48/50\n",
            "117/117 - 6s - loss: 0.0049 - accuracy: 1.0000 - val_loss: 1.6306 - val_accuracy: 0.6857 - 6s/epoch - 54ms/step\n",
            "Epoch 49/50\n",
            "117/117 - 6s - loss: 0.0047 - accuracy: 1.0000 - val_loss: 1.6404 - val_accuracy: 0.6857 - 6s/epoch - 54ms/step\n",
            "Epoch 50/50\n",
            "117/117 - 7s - loss: 0.0045 - accuracy: 1.0000 - val_loss: 1.6633 - val_accuracy: 0.6873 - 7s/epoch - 57ms/step\n"
          ]
        }
      ],
      "source": [
        "num_epochs = 50\n",
        "history = model.fit(training_padded, training_labels, epochs=num_epochs, validation_data=(testing_padded, testing_labels), verbose=2)"
      ]
    },
    {
      "cell_type": "code",
      "execution_count": null,
      "metadata": {
        "id": "qspPfQ7Ff-Tk",
        "colab": {
          "base_uri": "https://localhost:8080/"
        },
        "outputId": "d13fcded-b126-4c08-f4a0-ebef6692e607"
      },
      "outputs": [
        {
          "output_type": "stream",
          "name": "stdout",
          "text": [
            "20/20 [==============================] - 1s 27ms/step\n"
          ]
        }
      ],
      "source": [
        "predictions = model.predict(testing_padded)\n",
        "predictions = np.squeeze(predictions>0.5).astype(int)"
      ]
    },
    {
      "cell_type": "code",
      "execution_count": null,
      "metadata": {
        "id": "Kj0VJLiKf-Tk",
        "colab": {
          "base_uri": "https://localhost:8080/"
        },
        "outputId": "f06b755e-18f1-40d9-bb07-b6a338539f99"
      },
      "outputs": [
        {
          "output_type": "stream",
          "name": "stdout",
          "text": [
            "[[191 108]\n",
            " [ 89 242]]\n",
            "-------------------------\n",
            "accuracy: 0.69\n",
            "balanced accuracy: 0.68\n",
            "cohen's kappa: 0.37\n"
          ]
        }
      ],
      "source": [
        "from sklearn.metrics import confusion_matrix, accuracy_score, balanced_accuracy_score, cohen_kappa_score\n",
        "conf_m=confusion_matrix(test['Label'],predictions)\n",
        "print(conf_m)\n",
        "print(\"-------------------------\")\n",
        "acc_s=accuracy_score(test['Label'],predictions)\n",
        "print(f\"accuracy: {acc_s:.2f}\")\n",
        "bacc_s=balanced_accuracy_score(test['Label'],predictions)\n",
        "print(f\"balanced accuracy: {bacc_s:.2f}\")\n",
        "ck_s=cohen_kappa_score(test['Label'],predictions)\n",
        "print(f\"cohen's kappa: {ck_s:.2f}\")"
      ]
    },
    {
      "cell_type": "code",
      "execution_count": null,
      "metadata": {
        "id": "Yh4wEiaHf-Tl",
        "colab": {
          "base_uri": "https://localhost:8080/",
          "height": 350
        },
        "outputId": "a5259397-7531-4130-be49-1e6c5688f87c"
      },
      "outputs": [
        {
          "output_type": "display_data",
          "data": {
            "text/plain": [
              "<Figure size 360x360 with 2 Axes>"
            ],
            "image/png": "[encoded data removed]"
          },
          "metadata": {
            "needs_background": "light"
          }
        }
      ],
      "source": [
        "import matplotlib.pyplot as plt\n",
        "import seaborn as sns\n",
        "f, ax = plt.subplots(figsize=(5,5))\n",
        "sns.heatmap(conf_m, annot=True, linewidth=0.7, linecolor='cyan', fmt='g', ax=ax, cmap=\"BuPu\")\n",
        "plt.title('Testing Confusion Matrix')\n",
        "plt.xlabel('predicted', )\n",
        "plt.ylabel('actual')\n",
        "plt.show();"
      ]
    }
  ],
  "metadata": {
    "colab": {
      "provenance": [],
      "toc_visible": true,
      "collapsed_sections": [
        "89epKHo_0SdI",
        "z7zMdrlK0SdK",
        "mrTJ6H8N0SdK",
        "VNQRGZA60SdM",
        "fcJKFVH-0SdN",
        "-MZS9SXqbAbS",
        "vt6MFVYTf-Tc"
      ]
    },
    "gpuClass": "standard",
    "kernelspec": {
      "display_name": "Python 3 (ipykernel)",
      "language": "python",
      "name": "python3"
    },
    "language_info": {
      "codemirror_mode": {
        "name": "ipython",
        "version": 3
      },
      "file_extension": ".py",
      "mimetype": "text/x-python",
      "name": "python",
      "nbconvert_exporter": "python",
      "pygments_lexer": "ipython3",
      "version": "3.9.12"
    }
  },
  "nbformat": 4,
  "nbformat_minor": 0
}