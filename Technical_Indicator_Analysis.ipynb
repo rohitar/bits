{
  "nbformat": 4,
  "nbformat_minor": 0,
  "metadata": {
    "colab": {
      "name": "Technical Indicator Analysis.ipynb",
      "provenance": [],
      "collapsed_sections": []
    },
    "kernelspec": {
      "name": "python3",
      "display_name": "Python 3"
    },
    "language_info": {
      "name": "python"
    }
  },
  "cells": [
    {
      "cell_type": "markdown",
      "source": [
        "#Technical Indicator based Trading Strategies"
      ],
      "metadata": {
        "id": "cwJHWsiEdDOE"
      }
    },
    {
      "cell_type": "code",
      "execution_count": 31,
      "metadata": {
        "colab": {
          "base_uri": "https://localhost:8080/"
        },
        "id": "Z--Zkb_CBLPh",
        "outputId": "bb9c2d33-ef02-45a9-b88d-f134067f5a10"
      },
      "outputs": [
        {
          "output_type": "stream",
          "name": "stdout",
          "text": [
            "Requirement already satisfied: yfinance in /usr/local/lib/python3.7/dist-packages (0.1.70)\n",
            "Requirement already satisfied: pandas>=0.24.0 in /usr/local/lib/python3.7/dist-packages (from yfinance) (1.3.5)\n",
            "Requirement already satisfied: requests>=2.26 in /usr/local/lib/python3.7/dist-packages (from yfinance) (2.27.1)\n",
            "Requirement already satisfied: lxml>=4.5.1 in /usr/local/lib/python3.7/dist-packages (from yfinance) (4.8.0)\n",
            "Requirement already satisfied: multitasking>=0.0.7 in /usr/local/lib/python3.7/dist-packages (from yfinance) (0.0.10)\n",
            "Requirement already satisfied: numpy>=1.15 in /usr/local/lib/python3.7/dist-packages (from yfinance) (1.21.5)\n",
            "Requirement already satisfied: python-dateutil>=2.7.3 in /usr/local/lib/python3.7/dist-packages (from pandas>=0.24.0->yfinance) (2.8.2)\n",
            "Requirement already satisfied: pytz>=2017.3 in /usr/local/lib/python3.7/dist-packages (from pandas>=0.24.0->yfinance) (2018.9)\n",
            "Requirement already satisfied: six>=1.5 in /usr/local/lib/python3.7/dist-packages (from python-dateutil>=2.7.3->pandas>=0.24.0->yfinance) (1.15.0)\n",
            "Requirement already satisfied: urllib3<1.27,>=1.21.1 in /usr/local/lib/python3.7/dist-packages (from requests>=2.26->yfinance) (1.24.3)\n",
            "Requirement already satisfied: charset-normalizer~=2.0.0 in /usr/local/lib/python3.7/dist-packages (from requests>=2.26->yfinance) (2.0.12)\n",
            "Requirement already satisfied: certifi>=2017.4.17 in /usr/local/lib/python3.7/dist-packages (from requests>=2.26->yfinance) (2021.10.8)\n",
            "Requirement already satisfied: idna<4,>=2.5 in /usr/local/lib/python3.7/dist-packages (from requests>=2.26->yfinance) (2.10)\n",
            "Requirement already satisfied: yahoofinancials in /usr/local/lib/python3.7/dist-packages (1.6)\n",
            "Requirement already satisfied: pytz in /usr/local/lib/python3.7/dist-packages (from yahoofinancials) (2018.9)\n",
            "Requirement already satisfied: beautifulsoup4 in /usr/local/lib/python3.7/dist-packages (from yahoofinancials) (4.6.3)\n",
            "Requirement already satisfied: ta in /usr/local/lib/python3.7/dist-packages (0.9.0)\n",
            "Requirement already satisfied: pandas in /usr/local/lib/python3.7/dist-packages (from ta) (1.3.5)\n",
            "Requirement already satisfied: numpy in /usr/local/lib/python3.7/dist-packages (from ta) (1.21.5)\n",
            "Requirement already satisfied: pytz>=2017.3 in /usr/local/lib/python3.7/dist-packages (from pandas->ta) (2018.9)\n",
            "Requirement already satisfied: python-dateutil>=2.7.3 in /usr/local/lib/python3.7/dist-packages (from pandas->ta) (2.8.2)\n",
            "Requirement already satisfied: six>=1.5 in /usr/local/lib/python3.7/dist-packages (from python-dateutil>=2.7.3->pandas->ta) (1.15.0)\n"
          ]
        }
      ],
      "source": [
        "!pip install yfinance\n",
        "!pip install yahoofinancials\n",
        "!pip install ta"
      ]
    },
    {
      "cell_type": "code",
      "source": [
        "# display multiple outputs\n",
        "from IPython.core.interactiveshell import InteractiveShell\n",
        "InteractiveShell.ast_node_interactivity = \"all\""
      ],
      "metadata": {
        "id": "t2d9Jhm1BUgI"
      },
      "execution_count": 32,
      "outputs": []
    },
    {
      "cell_type": "code",
      "source": [
        "import pandas as pd\n",
        "import numpy as np\n",
        "import yfinance as yf"
      ],
      "metadata": {
        "id": "lrv8gLTiBaI4"
      },
      "execution_count": 33,
      "outputs": []
    },
    {
      "cell_type": "code",
      "source": [
        "import matplotlib.pyplot as plt\n",
        "plt.rcParams[\"figure.figsize\"] = (15, 8)\n",
        "plt.rcParams[\"lines.linewidth\"] = 3.0"
      ],
      "metadata": {
        "id": "tIq5ZhZoBc6v"
      },
      "execution_count": 34,
      "outputs": []
    },
    {
      "cell_type": "code",
      "source": [
        "bajajdf = yf.download(\"BAJAJFINSV.NS\", start=\"2010-12-31\", progress=False)\n",
        "bajajdf.head(3)\n",
        "print()\n",
        "bajajdf[\"Adj Close\"].plot()"
      ],
      "metadata": {
        "colab": {
          "base_uri": "https://localhost:8080/",
          "height": 663
        },
        "id": "1meIpoQdBjtS",
        "outputId": "00a9e29e-f276-4d9f-c244-7bda58eb21d0"
      },
      "execution_count": 35,
      "outputs": [
        {
          "output_type": "execute_result",
          "data": {
            "text/plain": [
              "                  Open        High         Low       Close   Adj Close  Volume\n",
              "Date                                                                          \n",
              "2010-12-31  460.382172  461.757629  453.111938  454.733002  449.019958   19091\n",
              "2011-01-03  454.978638  463.575195  454.782135  462.150604  456.344452   12076\n",
              "2011-01-04  466.669952  469.519073  456.108459  459.989197  454.210144   12567"
            ],
            "text/html": [
              "\n",
              "  <div id=\"df-3ce3df88-b158-4c33-a017-2eaa3df06cad\">\n",
              "    <div class=\"colab-df-container\">\n",
              "      <div>\n",
              "<style scoped>\n",
              "    .dataframe tbody tr th:only-of-type {\n",
              "        vertical-align: middle;\n",
              "    }\n",
              "\n",
              "    .dataframe tbody tr th {\n",
              "        vertical-align: top;\n",
              "    }\n",
              "\n",
              "    .dataframe thead th {\n",
              "        text-align: right;\n",
              "    }\n",
              "</style>\n",
              "<table border=\"1\" class=\"dataframe\">\n",
              "  <thead>\n",
              "    <tr style=\"text-align: right;\">\n",
              "      <th></th>\n",
              "      <th>Open</th>\n",
              "      <th>High</th>\n",
              "      <th>Low</th>\n",
              "      <th>Close</th>\n",
              "      <th>Adj Close</th>\n",
              "      <th>Volume</th>\n",
              "    </tr>\n",
              "    <tr>\n",
              "      <th>Date</th>\n",
              "      <th></th>\n",
              "      <th></th>\n",
              "      <th></th>\n",
              "      <th></th>\n",
              "      <th></th>\n",
              "      <th></th>\n",
              "    </tr>\n",
              "  </thead>\n",
              "  <tbody>\n",
              "    <tr>\n",
              "      <th>2010-12-31</th>\n",
              "      <td>460.382172</td>\n",
              "      <td>461.757629</td>\n",
              "      <td>453.111938</td>\n",
              "      <td>454.733002</td>\n",
              "      <td>449.019958</td>\n",
              "      <td>19091</td>\n",
              "    </tr>\n",
              "    <tr>\n",
              "      <th>2011-01-03</th>\n",
              "      <td>454.978638</td>\n",
              "      <td>463.575195</td>\n",
              "      <td>454.782135</td>\n",
              "      <td>462.150604</td>\n",
              "      <td>456.344452</td>\n",
              "      <td>12076</td>\n",
              "    </tr>\n",
              "    <tr>\n",
              "      <th>2011-01-04</th>\n",
              "      <td>466.669952</td>\n",
              "      <td>469.519073</td>\n",
              "      <td>456.108459</td>\n",
              "      <td>459.989197</td>\n",
              "      <td>454.210144</td>\n",
              "      <td>12567</td>\n",
              "    </tr>\n",
              "  </tbody>\n",
              "</table>\n",
              "</div>\n",
              "      <button class=\"colab-df-convert\" onclick=\"convertToInteractive('df-3ce3df88-b158-4c33-a017-2eaa3df06cad')\"\n",
              "              title=\"Convert this dataframe to an interactive table.\"\n",
              "              style=\"display:none;\">\n",
              "        \n",
              "  <svg xmlns=\"http://www.w3.org/2000/svg\" height=\"24px\"viewBox=\"0 0 24 24\"\n",
              "       width=\"24px\">\n",
              "    <path d=\"M0 0h24v24H0V0z\" fill=\"none\"/>\n",
              "    <path d=\"M18.56 5.44l.94 2.06.94-2.06 2.06-.94-2.06-.94-.94-2.06-.94 2.06-2.06.94zm-11 1L8.5 8.5l.94-2.06 2.06-.94-2.06-.94L8.5 2.5l-.94 2.06-2.06.94zm10 10l.94 2.06.94-2.06 2.06-.94-2.06-.94-.94-2.06-.94 2.06-2.06.94z\"/><path d=\"M17.41 7.96l-1.37-1.37c-.4-.4-.92-.59-1.43-.59-.52 0-1.04.2-1.43.59L10.3 9.45l-7.72 7.72c-.78.78-.78 2.05 0 2.83L4 21.41c.39.39.9.59 1.41.59.51 0 1.02-.2 1.41-.59l7.78-7.78 2.81-2.81c.8-.78.8-2.07 0-2.86zM5.41 20L4 18.59l7.72-7.72 1.47 1.35L5.41 20z\"/>\n",
              "  </svg>\n",
              "      </button>\n",
              "      \n",
              "  <style>\n",
              "    .colab-df-container {\n",
              "      display:flex;\n",
              "      flex-wrap:wrap;\n",
              "      gap: 12px;\n",
              "    }\n",
              "\n",
              "    .colab-df-convert {\n",
              "      background-color: #E8F0FE;\n",
              "      border: none;\n",
              "      border-radius: 50%;\n",
              "      cursor: pointer;\n",
              "      display: none;\n",
              "      fill: #1967D2;\n",
              "      height: 32px;\n",
              "      padding: 0 0 0 0;\n",
              "      width: 32px;\n",
              "    }\n",
              "\n",
              "    .colab-df-convert:hover {\n",
              "      background-color: #E2EBFA;\n",
              "      box-shadow: 0px 1px 2px rgba(60, 64, 67, 0.3), 0px 1px 3px 1px rgba(60, 64, 67, 0.15);\n",
              "      fill: #174EA6;\n",
              "    }\n",
              "\n",
              "    [theme=dark] .colab-df-convert {\n",
              "      background-color: #3B4455;\n",
              "      fill: #D2E3FC;\n",
              "    }\n",
              "\n",
              "    [theme=dark] .colab-df-convert:hover {\n",
              "      background-color: #434B5C;\n",
              "      box-shadow: 0px 1px 3px 1px rgba(0, 0, 0, 0.15);\n",
              "      filter: drop-shadow(0px 1px 2px rgba(0, 0, 0, 0.3));\n",
              "      fill: #FFFFFF;\n",
              "    }\n",
              "  </style>\n",
              "\n",
              "      <script>\n",
              "        const buttonEl =\n",
              "          document.querySelector('#df-3ce3df88-b158-4c33-a017-2eaa3df06cad button.colab-df-convert');\n",
              "        buttonEl.style.display =\n",
              "          google.colab.kernel.accessAllowed ? 'block' : 'none';\n",
              "\n",
              "        async function convertToInteractive(key) {\n",
              "          const element = document.querySelector('#df-3ce3df88-b158-4c33-a017-2eaa3df06cad');\n",
              "          const dataTable =\n",
              "            await google.colab.kernel.invokeFunction('convertToInteractive',\n",
              "                                                     [key], {});\n",
              "          if (!dataTable) return;\n",
              "\n",
              "          const docLinkHtml = 'Like what you see? Visit the ' +\n",
              "            '<a target=\"_blank\" href=https://colab.research.google.com/notebooks/data_table.ipynb>data table notebook</a>'\n",
              "            + ' to learn more about interactive tables.';\n",
              "          element.innerHTML = '';\n",
              "          dataTable['output_type'] = 'display_data';\n",
              "          await google.colab.output.renderOutput(dataTable, element);\n",
              "          const docLink = document.createElement('div');\n",
              "          docLink.innerHTML = docLinkHtml;\n",
              "          element.appendChild(docLink);\n",
              "        }\n",
              "      </script>\n",
              "    </div>\n",
              "  </div>\n",
              "  "
            ]
          },
          "metadata": {},
          "execution_count": 35
        },
        {
          "output_type": "stream",
          "name": "stdout",
          "text": [
            "\n"
          ]
        },
        {
          "output_type": "execute_result",
          "data": {
            "text/plain": [
              "<matplotlib.axes._subplots.AxesSubplot at 0x7fe287d712d0>"
            ]
          },
          "metadata": {},
          "execution_count": 35
        },
        {
          "output_type": "display_data",
          "data": {
            "text/plain": [
              "<Figure size 1080x576 with 1 Axes>"
            ],
            "image/png": "[encoded data removed]"
          },
          "metadata": {
            "needs_background": "light"
          }
        }
      ]
    },
    {
      "cell_type": "code",
      "source": [
        "tilist, bestnarlist, bestsrlist = [], [], []"
      ],
      "metadata": {
        "id": "CZH5Vl8zhs06"
      },
      "execution_count": 36,
      "outputs": []
    },
    {
      "cell_type": "markdown",
      "source": [
        "#Simple Moving Average"
      ],
      "metadata": {
        "id": "1MSsjapjb_zP"
      }
    },
    {
      "cell_type": "code",
      "source": [
        "from ta.trend import SMAIndicator\n",
        "bajajdf[\"sma20\"] = SMAIndicator(close=bajajdf[\"Adj Close\"], window=20, fillna=True).sma_indicator()\n",
        "bajajdf[\"sma50\"] = SMAIndicator(close=bajajdf[\"Adj Close\"], window=50, fillna=True).sma_indicator()\n",
        "bajajdf[\"signal\"] = np.where(bajajdf[\"sma20\"]>bajajdf[\"sma50\"], 1, 0)\n",
        "bajajdf[\"signal\"] = bajajdf[\"signal\"].shift(1)\n",
        "bajajdf.dropna(inplace=True)\n",
        "bajajdf[\"signal\"].describe()"
      ],
      "metadata": {
        "colab": {
          "base_uri": "https://localhost:8080/"
        },
        "id": "kT4Dv3h8B3p0",
        "outputId": "c592aaf3-cb9b-4672-c19a-18618b14bc92"
      },
      "execution_count": 37,
      "outputs": [
        {
          "output_type": "execute_result",
          "data": {
            "text/plain": [
              "count    2781.000000\n",
              "mean        0.636821\n",
              "std         0.481002\n",
              "min         0.000000\n",
              "25%         0.000000\n",
              "50%         1.000000\n",
              "75%         1.000000\n",
              "max         1.000000\n",
              "Name: signal, dtype: float64"
            ]
          },
          "metadata": {},
          "execution_count": 37
        }
      ]
    },
    {
      "cell_type": "code",
      "source": [
        "bajajdf[\"ROC\"] = np.log(bajajdf[\"Adj Close\"] / bajajdf[\"Adj Close\"].shift(1))\n",
        "bajajdf[\"return\"] = bajajdf[\"ROC\"]*bajajdf[\"signal\"]\n",
        "bajajdf[\"portfolio\"] = np.exp(bajajdf[\"return\"].cumsum())\n",
        "bajajdf.dropna(inplace=True)\n",
        "bajajdf.tail(3)"
      ],
      "metadata": {
        "colab": {
          "base_uri": "https://localhost:8080/",
          "height": 175
        },
        "id": "hYnsaHb6n9XC",
        "outputId": "3a55c372-0bea-46b8-c210-52304183bce9"
      },
      "execution_count": 38,
      "outputs": [
        {
          "output_type": "execute_result",
          "data": {
            "text/plain": [
              "               Open          High           Low         Close     Adj Close  \\\n",
              "Date                                                                          \n",
              "2022-04-11  16675.0  16845.449219  16550.050781  16577.849609  16577.849609   \n",
              "2022-04-12  16502.0  16502.000000  16222.099609  16318.049805  16318.049805   \n",
              "2022-04-13  16404.0  16500.000000  16050.000000  16090.049805  16090.049805   \n",
              "\n",
              "            Volume         sma20         sma50  signal       ROC    return  \\\n",
              "Date                                                                         \n",
              "2022-04-11  169686  16532.147266  16101.811895     1.0 -0.010271 -0.010271   \n",
              "2022-04-12  247647  16564.124756  16124.197891     1.0 -0.015796 -0.015796   \n",
              "2022-04-13  248390  16583.182227  16132.207891     1.0 -0.014071 -0.014071   \n",
              "\n",
              "            portfolio  \n",
              "Date                   \n",
              "2022-04-11  19.504096  \n",
              "2022-04-12  19.198437  \n",
              "2022-04-13  18.930192  "
            ],
            "text/html": [
              "\n",
              "  <div id=\"df-e7dc0c3a-9b04-42ea-8c26-4dda2163472a\">\n",
              "    <div class=\"colab-df-container\">\n",
              "      <div>\n",
              "<style scoped>\n",
              "    .dataframe tbody tr th:only-of-type {\n",
              "        vertical-align: middle;\n",
              "    }\n",
              "\n",
              "    .dataframe tbody tr th {\n",
              "        vertical-align: top;\n",
              "    }\n",
              "\n",
              "    .dataframe thead th {\n",
              "        text-align: right;\n",
              "    }\n",
              "</style>\n",
              "<table border=\"1\" class=\"dataframe\">\n",
              "  <thead>\n",
              "    <tr style=\"text-align: right;\">\n",
              "      <th></th>\n",
              "      <th>Open</th>\n",
              "      <th>High</th>\n",
              "      <th>Low</th>\n",
              "      <th>Close</th>\n",
              "      <th>Adj Close</th>\n",
              "      <th>Volume</th>\n",
              "      <th>sma20</th>\n",
              "      <th>sma50</th>\n",
              "      <th>signal</th>\n",
              "      <th>ROC</th>\n",
              "      <th>return</th>\n",
              "      <th>portfolio</th>\n",
              "    </tr>\n",
              "    <tr>\n",
              "      <th>Date</th>\n",
              "      <th></th>\n",
              "      <th></th>\n",
              "      <th></th>\n",
              "      <th></th>\n",
              "      <th></th>\n",
              "      <th></th>\n",
              "      <th></th>\n",
              "      <th></th>\n",
              "      <th></th>\n",
              "      <th></th>\n",
              "      <th></th>\n",
              "      <th></th>\n",
              "    </tr>\n",
              "  </thead>\n",
              "  <tbody>\n",
              "    <tr>\n",
              "      <th>2022-04-11</th>\n",
              "      <td>16675.0</td>\n",
              "      <td>16845.449219</td>\n",
              "      <td>16550.050781</td>\n",
              "      <td>16577.849609</td>\n",
              "      <td>16577.849609</td>\n",
              "      <td>169686</td>\n",
              "      <td>16532.147266</td>\n",
              "      <td>16101.811895</td>\n",
              "      <td>1.0</td>\n",
              "      <td>-0.010271</td>\n",
              "      <td>-0.010271</td>\n",
              "      <td>19.504096</td>\n",
              "    </tr>\n",
              "    <tr>\n",
              "      <th>2022-04-12</th>\n",
              "      <td>16502.0</td>\n",
              "      <td>16502.000000</td>\n",
              "      <td>16222.099609</td>\n",
              "      <td>16318.049805</td>\n",
              "      <td>16318.049805</td>\n",
              "      <td>247647</td>\n",
              "      <td>16564.124756</td>\n",
              "      <td>16124.197891</td>\n",
              "      <td>1.0</td>\n",
              "      <td>-0.015796</td>\n",
              "      <td>-0.015796</td>\n",
              "      <td>19.198437</td>\n",
              "    </tr>\n",
              "    <tr>\n",
              "      <th>2022-04-13</th>\n",
              "      <td>16404.0</td>\n",
              "      <td>16500.000000</td>\n",
              "      <td>16050.000000</td>\n",
              "      <td>16090.049805</td>\n",
              "      <td>16090.049805</td>\n",
              "      <td>248390</td>\n",
              "      <td>16583.182227</td>\n",
              "      <td>16132.207891</td>\n",
              "      <td>1.0</td>\n",
              "      <td>-0.014071</td>\n",
              "      <td>-0.014071</td>\n",
              "      <td>18.930192</td>\n",
              "    </tr>\n",
              "  </tbody>\n",
              "</table>\n",
              "</div>\n",
              "      <button class=\"colab-df-convert\" onclick=\"convertToInteractive('df-e7dc0c3a-9b04-42ea-8c26-4dda2163472a')\"\n",
              "              title=\"Convert this dataframe to an interactive table.\"\n",
              "              style=\"display:none;\">\n",
              "        \n",
              "  <svg xmlns=\"http://www.w3.org/2000/svg\" height=\"24px\"viewBox=\"0 0 24 24\"\n",
              "       width=\"24px\">\n",
              "    <path d=\"M0 0h24v24H0V0z\" fill=\"none\"/>\n",
              "    <path d=\"M18.56 5.44l.94 2.06.94-2.06 2.06-.94-2.06-.94-.94-2.06-.94 2.06-2.06.94zm-11 1L8.5 8.5l.94-2.06 2.06-.94-2.06-.94L8.5 2.5l-.94 2.06-2.06.94zm10 10l.94 2.06.94-2.06 2.06-.94-2.06-.94-.94-2.06-.94 2.06-2.06.94z\"/><path d=\"M17.41 7.96l-1.37-1.37c-.4-.4-.92-.59-1.43-.59-.52 0-1.04.2-1.43.59L10.3 9.45l-7.72 7.72c-.78.78-.78 2.05 0 2.83L4 21.41c.39.39.9.59 1.41.59.51 0 1.02-.2 1.41-.59l7.78-7.78 2.81-2.81c.8-.78.8-2.07 0-2.86zM5.41 20L4 18.59l7.72-7.72 1.47 1.35L5.41 20z\"/>\n",
              "  </svg>\n",
              "      </button>\n",
              "      \n",
              "  <style>\n",
              "    .colab-df-container {\n",
              "      display:flex;\n",
              "      flex-wrap:wrap;\n",
              "      gap: 12px;\n",
              "    }\n",
              "\n",
              "    .colab-df-convert {\n",
              "      background-color: #E8F0FE;\n",
              "      border: none;\n",
              "      border-radius: 50%;\n",
              "      cursor: pointer;\n",
              "      display: none;\n",
              "      fill: #1967D2;\n",
              "      height: 32px;\n",
              "      padding: 0 0 0 0;\n",
              "      width: 32px;\n",
              "    }\n",
              "\n",
              "    .colab-df-convert:hover {\n",
              "      background-color: #E2EBFA;\n",
              "      box-shadow: 0px 1px 2px rgba(60, 64, 67, 0.3), 0px 1px 3px 1px rgba(60, 64, 67, 0.15);\n",
              "      fill: #174EA6;\n",
              "    }\n",
              "\n",
              "    [theme=dark] .colab-df-convert {\n",
              "      background-color: #3B4455;\n",
              "      fill: #D2E3FC;\n",
              "    }\n",
              "\n",
              "    [theme=dark] .colab-df-convert:hover {\n",
              "      background-color: #434B5C;\n",
              "      box-shadow: 0px 1px 3px 1px rgba(0, 0, 0, 0.15);\n",
              "      filter: drop-shadow(0px 1px 2px rgba(0, 0, 0, 0.3));\n",
              "      fill: #FFFFFF;\n",
              "    }\n",
              "  </style>\n",
              "\n",
              "      <script>\n",
              "        const buttonEl =\n",
              "          document.querySelector('#df-e7dc0c3a-9b04-42ea-8c26-4dda2163472a button.colab-df-convert');\n",
              "        buttonEl.style.display =\n",
              "          google.colab.kernel.accessAllowed ? 'block' : 'none';\n",
              "\n",
              "        async function convertToInteractive(key) {\n",
              "          const element = document.querySelector('#df-e7dc0c3a-9b04-42ea-8c26-4dda2163472a');\n",
              "          const dataTable =\n",
              "            await google.colab.kernel.invokeFunction('convertToInteractive',\n",
              "                                                     [key], {});\n",
              "          if (!dataTable) return;\n",
              "\n",
              "          const docLinkHtml = 'Like what you see? Visit the ' +\n",
              "            '<a target=\"_blank\" href=https://colab.research.google.com/notebooks/data_table.ipynb>data table notebook</a>'\n",
              "            + ' to learn more about interactive tables.';\n",
              "          element.innerHTML = '';\n",
              "          dataTable['output_type'] = 'display_data';\n",
              "          await google.colab.output.renderOutput(dataTable, element);\n",
              "          const docLink = document.createElement('div');\n",
              "          docLink.innerHTML = docLinkHtml;\n",
              "          element.appendChild(docLink);\n",
              "        }\n",
              "      </script>\n",
              "    </div>\n",
              "  </div>\n",
              "  "
            ]
          },
          "metadata": {},
          "execution_count": 38
        }
      ]
    },
    {
      "cell_type": "code",
      "source": [
        "bajajdf[\"portfolio\"].plot()"
      ],
      "metadata": {
        "colab": {
          "base_uri": "https://localhost:8080/",
          "height": 484
        },
        "id": "ltboT5esn9v6",
        "outputId": "30b18058-455f-43f8-8c64-a90e368b4243"
      },
      "execution_count": 39,
      "outputs": [
        {
          "output_type": "execute_result",
          "data": {
            "text/plain": [
              "<matplotlib.axes._subplots.AxesSubplot at 0x7fe287b74a90>"
            ]
          },
          "metadata": {},
          "execution_count": 39
        },
        {
          "output_type": "display_data",
          "data": {
            "text/plain": [
              "<Figure size 1080x576 with 1 Axes>"
            ],
            "image/png": "[encoded data removed]"
          },
          "metadata": {
            "needs_background": "light"
          }
        }
      ]
    },
    {
      "cell_type": "code",
      "source": [
        "duration_days = bajajdf.index.max()-bajajdf.index.min()\n",
        "duration_years = duration_days.days/365.25\n",
        "duration_in_trade = duration_years * bajajdf[\"signal\"].mean()\n",
        "print(f\"duration in trade: {duration_in_trade:.4f}\")\n",
        "\n",
        "net_avg_return = bajajdf.iloc[-1][\"portfolio\"]**(1/duration_in_trade)-1\n",
        "print(f\"net average return: {net_avg_return:.4f}\")\n",
        "\n",
        "returns = bajajdf[bajajdf[\"return\"]!=0][\"return\"]\n",
        "sharpe_ratio = (returns.mean()*250 - 0.0384)/(returns.std()*np.sqrt(250))\n",
        "print(f\"sharpe ratio: {sharpe_ratio:.4f}\")"
      ],
      "metadata": {
        "colab": {
          "base_uri": "https://localhost:8080/"
        },
        "id": "7GA5_tmiKUs4",
        "outputId": "f726827d-9360-4b1c-dd8e-c0c0b6e87799"
      },
      "execution_count": 40,
      "outputs": [
        {
          "output_type": "stream",
          "name": "stdout",
          "text": [
            "duration in trade: 7.1807\n",
            "net average return: 0.5061\n",
            "sharpe ratio: 1.1796\n"
          ]
        }
      ]
    },
    {
      "cell_type": "code",
      "source": [
        "from ta.trend import SMAIndicator\n",
        "import copy\n",
        "\n",
        "iilist = []\n",
        "jjlist = []\n",
        "narlist = []\n",
        "srlist = []\n",
        "\n",
        "df = yf.download(\"BAJAJFINSV.NS\", start=\"2010-12-31\", progress=False)\n",
        "\n",
        "for ii in range(10, 295, 5):\n",
        "  for jj in range(ii+5, 300, 5):\n",
        "    bajajdf = copy.deepcopy(df)\n",
        "    bajajdf[\"sma1\"] = SMAIndicator(close=bajajdf[\"Adj Close\"], window=ii, fillna=True).sma_indicator()\n",
        "    bajajdf[\"sma2\"] = SMAIndicator(close=bajajdf[\"Adj Close\"], window=jj, fillna=True).sma_indicator()\n",
        "    bajajdf[\"signal\"] = np.where(bajajdf[\"sma1\"]>bajajdf[\"sma2\"], 1, 0)\n",
        "    bajajdf[\"signal\"] = bajajdf[\"signal\"].shift(1)\n",
        "    bajajdf.dropna(inplace=True)\n",
        "    bajajdf[\"ROC\"] = np.log(bajajdf[\"Adj Close\"] / bajajdf[\"Adj Close\"].shift(1))\n",
        "    bajajdf[\"return\"] = bajajdf[\"ROC\"]*bajajdf[\"signal\"]\n",
        "    bajajdf[\"portfolio\"] = np.exp(bajajdf[\"return\"].cumsum())\n",
        "    bajajdf.dropna(inplace=True)\n",
        "    duration_days = bajajdf.index.max()-bajajdf.index.min()\n",
        "    duration_years = duration_days.days/365.25\n",
        "    duration_in_trade = duration_years * bajajdf[\"signal\"].mean()\n",
        "\n",
        "    if (duration_in_trade!=0):\n",
        "      net_avg_return = bajajdf.iloc[-1][\"portfolio\"]**(1/duration_in_trade)-1\n",
        "      returns = bajajdf[bajajdf[\"return\"]!=0][\"return\"]\n",
        "      sharpe_ratio = (returns.mean()*250 - 0.0384)/(returns.std()*np.sqrt(250))\n",
        "\n",
        "    iilist.append(ii)\n",
        "    jjlist.append(jj)\n",
        "    narlist.append(net_avg_return)\n",
        "    srlist.append(sharpe_ratio)"
      ],
      "metadata": {
        "id": "xdYjE4znouqQ"
      },
      "execution_count": 41,
      "outputs": []
    },
    {
      "cell_type": "code",
      "source": [
        "# net average return based\n",
        "print(f\"sma1: {iilist[np.argmax(narlist)]}\")\n",
        "print(f\"sma2: {jjlist[np.argmax(narlist)]}\")\n",
        "print(f\"nar: {max(narlist)}\")\n",
        "\n",
        "# sharpe ratio based\n",
        "print(f\"sma1: {iilist[np.argmax(srlist)]}\")\n",
        "print(f\"sma2: {jjlist[np.argmax(srlist)]}\")\n",
        "print(f\"sr: {max(srlist)}\")\n",
        "\n",
        "# resultdf = pd.DataFrame(np.column_stack([iilist, jjlist, narlist, srlist]), columns=[\"sma1\", \"sma2\", \"nar\", \"sr\"])\n",
        "# resultdf[(resultdf[\"sma1\"]==10) & (resultdf[\"sma2\"]==20)]\n",
        "\n",
        "tilist.append(\"sma\")\n",
        "bestnarlist.append(max(narlist))\n",
        "bestsrlist.append(max(srlist))"
      ],
      "metadata": {
        "colab": {
          "base_uri": "https://localhost:8080/"
        },
        "id": "Jiv1ZT3w4Gde",
        "outputId": "e1d64a0f-49df-430d-d973-2b13c6d18d42"
      },
      "execution_count": 42,
      "outputs": [
        {
          "output_type": "stream",
          "name": "stdout",
          "text": [
            "sma1: 30\n",
            "sma2: 40\n",
            "nar: 0.6978472128460835\n",
            "sma1: 30\n",
            "sma2: 40\n",
            "sr: 1.5761631883384806\n"
          ]
        }
      ]
    },
    {
      "cell_type": "code",
      "source": [
        "# resultdf = pd.DataFrame(np.column_stack([\"Technical Indicator\", narlist, srlist]), columns=[\"sma\", \"nar\", \"sr\"])"
      ],
      "metadata": {
        "id": "MxZ2fSju8PED"
      },
      "execution_count": 43,
      "outputs": []
    },
    {
      "cell_type": "markdown",
      "source": [
        "#Exponential Moving Average"
      ],
      "metadata": {
        "id": "SKGF0zBycON8"
      }
    },
    {
      "cell_type": "code",
      "source": [
        "from ta.trend import SMAIndicator, EMAIndicator\n",
        "import copy\n",
        "\n",
        "iilist = []\n",
        "jjlist = []\n",
        "narlist = []\n",
        "srlist = []\n",
        "\n",
        "df = yf.download(\"BAJAJFINSV.NS\", start=\"2010-12-31\", progress=False)\n",
        "\n",
        "for ii in range(10, 295, 5):\n",
        "  for jj in range(ii+5, 300, 5):\n",
        "    bajajdf = copy.deepcopy(df)\n",
        "    bajajdf[\"sma1\"] = EMAIndicator(close=bajajdf[\"Adj Close\"], window=ii, fillna=True).ema_indicator()\n",
        "    bajajdf[\"sma2\"] = EMAIndicator(close=bajajdf[\"Adj Close\"], window=jj, fillna=True).ema_indicator()\n",
        "    bajajdf[\"signal\"] = np.where(bajajdf[\"sma1\"]>bajajdf[\"sma2\"], 1, 0)\n",
        "    bajajdf[\"signal\"] = bajajdf[\"signal\"].shift(1)\n",
        "    bajajdf.dropna(inplace=True)\n",
        "    bajajdf[\"ROC\"] = np.log(bajajdf[\"Adj Close\"] / bajajdf[\"Adj Close\"].shift(1))\n",
        "    bajajdf[\"return\"] = bajajdf[\"ROC\"]*bajajdf[\"signal\"]\n",
        "    bajajdf[\"portfolio\"] = np.exp(bajajdf[\"return\"].cumsum())\n",
        "    bajajdf.dropna(inplace=True)\n",
        "    duration_days = bajajdf.index.max()-bajajdf.index.min()\n",
        "    duration_years = duration_days.days/365.25\n",
        "    duration_in_trade = duration_years * bajajdf[\"signal\"].mean()\n",
        "\n",
        "    if (duration_in_trade!=0):\n",
        "      net_avg_return = bajajdf.iloc[-1][\"portfolio\"]**(1/duration_in_trade)-1\n",
        "      returns = bajajdf[bajajdf[\"return\"]!=0][\"return\"]\n",
        "      sharpe_ratio = (returns.mean()*250 - 0.0384)/(returns.std()*np.sqrt(250))\n",
        "\n",
        "    iilist.append(ii)\n",
        "    jjlist.append(jj)\n",
        "    narlist.append(net_avg_return)\n",
        "    srlist.append(sharpe_ratio)"
      ],
      "metadata": {
        "id": "Uja2j6Pi9vsy"
      },
      "execution_count": 44,
      "outputs": []
    },
    {
      "cell_type": "code",
      "source": [
        "# net average return based\n",
        "print(f\"sma1: {iilist[np.argmax(narlist)]}\")\n",
        "print(f\"sma2: {jjlist[np.argmax(narlist)]}\")\n",
        "print(f\"nar: {max(narlist)}\")\n",
        "\n",
        "# sharpe ratio based\n",
        "print(f\"sma1: {iilist[np.argmax(srlist)]}\")\n",
        "print(f\"sma2: {jjlist[np.argmax(srlist)]}\")\n",
        "print(f\"sr: {max(srlist)}\")\n",
        "\n",
        "# resultdf = pd.DataFrame(np.column_stack([iilist, jjlist, narlist, srlist]), columns=[\"sma1\", \"sma2\", \"nar\", \"sr\"])\n",
        "# resultdf[(resultdf[\"sma1\"]==10) & (resultdf[\"sma2\"]==20)]\n",
        "\n",
        "tilist.append(\"ema\")\n",
        "bestnarlist.append(max(narlist))\n",
        "bestsrlist.append(max(srlist))"
      ],
      "metadata": {
        "colab": {
          "base_uri": "https://localhost:8080/"
        },
        "id": "tIRWcvQ1eLr7",
        "outputId": "12f2e963-0a0b-4dd5-e379-585ee98ecf2a"
      },
      "execution_count": 45,
      "outputs": [
        {
          "output_type": "stream",
          "name": "stdout",
          "text": [
            "sma1: 10\n",
            "sma2: 20\n",
            "nar: 0.5992919478835541\n",
            "sma1: 10\n",
            "sma2: 20\n",
            "sr: 1.3346453391599846\n"
          ]
        }
      ]
    },
    {
      "cell_type": "markdown",
      "source": [
        "#Moving Average Convergence Divergence"
      ],
      "metadata": {
        "id": "wmDF190_ck18"
      }
    },
    {
      "cell_type": "code",
      "source": [
        "import copy\n",
        "\n",
        "iilist = []\n",
        "jjlist = []\n",
        "kklist = []\n",
        "narlist = []\n",
        "srlist = []\n",
        "\n",
        "df = yf.download(\"BAJAJFINSV.NS\", start=\"2010-12-31\", progress=False)\n",
        "\n",
        "for ii in range(4, 40, 2):\n",
        "  for jj in range(ii+8, 80, 2):\n",
        "    for kk in range(3, 20, 1):\n",
        "      bajajdf = copy.deepcopy(df)\n",
        "      bajajdf[\"macd line\"] = bajajdf[\"Adj Close\"].ewm(span=ii).mean() - bajajdf[\"Adj Close\"].ewm(span=jj).mean()\n",
        "      bajajdf[\"signal line\"] = bajajdf[\"macd line\"].ewm(span=kk).mean()\n",
        "      bajajdf[\"signal\"] = np.where(bajajdf[\"macd line\"]>=bajajdf[\"signal line\"], 1, 0)\n",
        "      bajajdf[\"signal\"] = bajajdf[\"signal\"].shift(1)\n",
        "      bajajdf[\"ROC\"] = np.log(bajajdf[\"Adj Close\"] / bajajdf[\"Adj Close\"].shift(1))\n",
        "      bajajdf[\"return\"] = bajajdf[\"ROC\"]*bajajdf[\"signal\"]\n",
        "      bajajdf[\"portfolio\"] = np.exp(bajajdf[\"return\"].cumsum())\n",
        "      bajajdf.dropna(inplace=True)\n",
        "      duration_days = bajajdf.index.max()-bajajdf.index.min()\n",
        "      duration_years = duration_days.days/365.25\n",
        "      duration_in_trade = duration_years * bajajdf[\"signal\"].mean()\n",
        "\n",
        "      if (duration_in_trade!=0):\n",
        "        net_avg_return = bajajdf.iloc[-1][\"portfolio\"]**(1/duration_in_trade)-1\n",
        "        returns = bajajdf[bajajdf[\"return\"]!=0][\"return\"]\n",
        "        sharpe_ratio = (returns.mean()*250 - 0.0384)/(returns.std()*np.sqrt(250))\n",
        "\n",
        "      iilist.append(ii)\n",
        "      jjlist.append(jj)\n",
        "      kklist.append(kk)\n",
        "      narlist.append(net_avg_return)\n",
        "      srlist.append(sharpe_ratio)"
      ],
      "metadata": {
        "id": "rXiSvPpUetkS"
      },
      "execution_count": 47,
      "outputs": []
    },
    {
      "cell_type": "code",
      "source": [
        "# net average return based\n",
        "print(f\"nfast: {iilist[np.argmax(narlist)]}\")\n",
        "print(f\"nslow: {jjlist[np.argmax(narlist)]}\")\n",
        "print(f\"nsig: {kklist[np.argmax(narlist)]}\")\n",
        "print(f\"nar: {max(narlist)}\")\n",
        "\n",
        "# sharpe ratio based\n",
        "print(f\"nfast: {iilist[np.argmax(srlist)]}\")\n",
        "print(f\"nslow: {jjlist[np.argmax(srlist)]}\")\n",
        "print(f\"nsig: {kklist[np.argmax(srlist)]}\")\n",
        "print(f\"sr: {max(srlist)}\")\n",
        "\n",
        "# resultdf = pd.DataFrame(np.column_stack([iilist, jjlist, kklist, narlist, srlist]), columns=[\"nfast\", \"nslow\", \"nsig\", \"nar\", \"sr\"])\n",
        "# resultdf[(resultdf[\"nfast\"]==36) & (resultdf[\"nslow\"]==44) & (resultdf[\"nsig\"]==8)]\n",
        "\n",
        "tilist.append(\"macd\")\n",
        "bestnarlist.append(max(narlist))\n",
        "bestsrlist.append(max(srlist))"
      ],
      "metadata": {
        "colab": {
          "base_uri": "https://localhost:8080/"
        },
        "id": "y7AQwt-YNT_p",
        "outputId": "b8297dab-1e63-43ad-f9c9-dd86d6311386"
      },
      "execution_count": 48,
      "outputs": [
        {
          "output_type": "stream",
          "name": "stdout",
          "text": [
            "nfast: 36\n",
            "nslow: 44\n",
            "nsig: 8\n",
            "nar: 0.8190376173978591\n",
            "nfast: 36\n",
            "nslow: 44\n",
            "nsig: 8\n",
            "sr: 1.6783928054014097\n"
          ]
        }
      ]
    },
    {
      "cell_type": "markdown",
      "source": [
        "#Bollinger Bands"
      ],
      "metadata": {
        "id": "CTowGgWucXSn"
      }
    },
    {
      "cell_type": "code",
      "source": [
        "import copy\n",
        "\n",
        "iilist = []\n",
        "jjlist = []\n",
        "narlist = []\n",
        "srlist = []\n",
        "\n",
        "df = yf.download(\"BAJAJFINSV.NS\", start=\"2010-12-31\", progress=False)\n",
        "\n",
        "for ii in range(2, 50):\n",
        "  for jj in np.arange(0.5, 3, 0.1):\n",
        "    bajajdf = copy.deepcopy(df)\n",
        "    bajajdf[\"20EMA\"] = bajajdf[\"Adj Close\"].ewm(span=ii).mean()\n",
        "    bajajdf[\"upper band\"] = bajajdf[\"20EMA\"] + jj*bajajdf[\"Adj Close\"].rolling(window=20).std()\n",
        "    bajajdf[\"lower band\"] = bajajdf[\"20EMA\"] - jj*bajajdf[\"Adj Close\"].rolling(window=20).std()\n",
        "    bajajdf.dropna(inplace=True)\n",
        "    bajajdf[\"signal\"] = np.where(bajajdf[\"Adj Close\"]>bajajdf[\"upper band\"], 0, \n",
        "                                np.where(bajajdf[\"Adj Close\"]<bajajdf[\"lower band\"], 1,\n",
        "                                          np.nan))\n",
        "\n",
        "    if (np.isnan(bajajdf[\"signal\"][0])):\n",
        "      bajajdf[\"signal\"][0] = 0\n",
        "\n",
        "    bajajdf.signal.fillna(method=\"ffill\", inplace=True)\n",
        "    bajajdf[\"signal\"] = bajajdf[\"signal\"].shift(1)\n",
        "    bajajdf.dropna(inplace=True)\n",
        "    bajajdf[\"ROC\"] = np.log(bajajdf[\"Adj Close\"] / bajajdf[\"Adj Close\"].shift(1))\n",
        "    bajajdf[\"return\"] = bajajdf[\"ROC\"]*bajajdf[\"signal\"]\n",
        "    bajajdf[\"portfolio\"] = np.exp(bajajdf[\"return\"].cumsum())\n",
        "    bajajdf.dropna(inplace=True)\n",
        "    duration_days = bajajdf.index.max()-bajajdf.index.min()\n",
        "    duration_years = duration_days.days/365.25\n",
        "    duration_in_trade = duration_years * bajajdf[\"signal\"].mean()\n",
        "\n",
        "    if (duration_in_trade!=0):\n",
        "      net_avg_return = bajajdf.iloc[-1][\"portfolio\"]**(1/duration_in_trade)-1\n",
        "      returns = bajajdf[bajajdf[\"return\"]!=0][\"return\"]\n",
        "      sharpe_ratio = (returns.mean()*250 - 0.0384)/(returns.std()*np.sqrt(250))\n",
        "\n",
        "    iilist.append(ii)\n",
        "    jjlist.append(jj)\n",
        "    kklist.append(kk)\n",
        "    narlist.append(net_avg_return)\n",
        "    srlist.append(sharpe_ratio)"
      ],
      "metadata": {
        "id": "41_YeiU2O34R",
        "colab": {
          "base_uri": "https://localhost:8080/"
        },
        "outputId": "e12dcc82-7403-4bed-898d-c2266dc15715"
      },
      "execution_count": 49,
      "outputs": [
        {
          "output_type": "stream",
          "name": "stderr",
          "text": [
            "/usr/local/lib/python3.7/dist-packages/ipykernel_launcher.py:22: SettingWithCopyWarning: \n",
            "A value is trying to be set on a copy of a slice from a DataFrame\n",
            "\n",
            "See the caveats in the documentation: https://pandas.pydata.org/pandas-docs/stable/user_guide/indexing.html#returning-a-view-versus-a-copy\n"
          ]
        }
      ]
    },
    {
      "cell_type": "code",
      "source": [
        "# net average return based\n",
        "print(f\"n_ema: {iilist[np.argmax(narlist)]}\")\n",
        "print(f\"n_sigma: {jjlist[np.argmax(narlist)]:0.2f}\")\n",
        "print(f\"nar: {max(narlist)}\")\n",
        "\n",
        "# sharpe ratio return based\n",
        "print(f\"n_ema: {iilist[np.argmax(srlist)]}\")\n",
        "print(f\"n_sigma: {jjlist[np.argmax(srlist)]:0.2f}\")\n",
        "print(f\"sr: {max(srlist)}\")\n",
        "\n",
        "# resultdf = pd.DataFrame(np.column_stack([iilist, jjlist, narlist, srlist]), columns=[\"n_ema\", \"n_sig\", \"nar\", \"sr\"])\n",
        "# resultdf[(resultdf[\"n_ema\"]==49) & (resultdf[\"n_sig\"]>2.89) & (resultdf[\"n_sig\"]<2.91) | (resultdf[\"n_ema\"]==11) & (resultdf[\"n_sig\"]>2.69) & (resultdf[\"n_sig\"]<2.71)]\n",
        "# resultdf[(resultdf[\"n_ema\"]==49) | (resultdf[\"n_ema\"]==11)]\n",
        "\n",
        "tilist.append(\"bbands\")\n",
        "bestnarlist.append(max(narlist))\n",
        "bestsrlist.append(max(srlist))"
      ],
      "metadata": {
        "colab": {
          "base_uri": "https://localhost:8080/"
        },
        "id": "F0lF3hk5W1V8",
        "outputId": "efd27d66-3228-4635-ad42-9ea705ff79a7"
      },
      "execution_count": 50,
      "outputs": [
        {
          "output_type": "stream",
          "name": "stdout",
          "text": [
            "n_ema: 49\n",
            "n_sigma: 2.90\n",
            "nar: 1.1331721167413047\n",
            "n_ema: 11\n",
            "n_sigma: 2.70\n",
            "sr: 2.159256619288398\n"
          ]
        }
      ]
    },
    {
      "cell_type": "code",
      "source": [
        "bajajdf[[\"Adj Close\", \"upper band\", \"lower band\"]].tail(100).plot(color=('b','r','r'))"
      ],
      "metadata": {
        "id": "vtzUixbXMSe-",
        "colab": {
          "base_uri": "https://localhost:8080/",
          "height": 492
        },
        "outputId": "ad572312-fb4d-451c-daeb-238a2d6109c3"
      },
      "execution_count": 51,
      "outputs": [
        {
          "output_type": "execute_result",
          "data": {
            "text/plain": [
              "<matplotlib.axes._subplots.AxesSubplot at 0x7fe287a5ce90>"
            ]
          },
          "metadata": {},
          "execution_count": 51
        },
        {
          "output_type": "display_data",
          "data": {
            "text/plain": [
              "<Figure size 1080x576 with 1 Axes>"
            ],
            "image/png": "[encoded data removed]"
          },
          "metadata": {
            "needs_background": "light"
          }
        }
      ]
    },
    {
      "cell_type": "markdown",
      "source": [
        "#Relative Strength Index"
      ],
      "metadata": {
        "id": "HvIDwox0ceyV"
      }
    },
    {
      "cell_type": "code",
      "source": [
        "from ta.momentum import RSIIndicator\n",
        "import copy\n",
        "\n",
        "iilist = []\n",
        "jjlist = []\n",
        "kklist = []\n",
        "narlist = []\n",
        "srlist = []\n",
        "\n",
        "df = yf.download(\"BAJAJFINSV.NS\", start=\"2010-12-31\", progress=False)\n",
        "\n",
        "for ii in range(10, 50, 2):\n",
        "  for jj in range(10, 40, 2):\n",
        "    for kk in range(60, 90, 2):\n",
        "      bajajdf = copy.deepcopy(df)\n",
        "      bajajdf[\"rsi\"] = RSIIndicator(close=bajajdf[\"Adj Close\"], window=ii).rsi()\n",
        "      bajajdf.dropna(inplace=True)\n",
        "      bajajdf[\"signal\"] = np.where(bajajdf[\"rsi\"]<jj, 1,\n",
        "                                  np.where(bajajdf[\"rsi\"]>kk, 0,\n",
        "                                            np.nan))\n",
        "      if(np.isnan(bajajdf[\"signal\"][0])):\n",
        "        bajajdf[\"signal\"][0] = 0\n",
        "\n",
        "      bajajdf.signal.fillna(method='ffill', inplace=True)\n",
        "      bajajdf[\"signal\"] = bajajdf[\"signal\"].shift(1)\n",
        "      bajajdf.dropna(inplace=True)\n",
        "      bajajdf[\"ROC\"] = np.log(bajajdf[\"Adj Close\"] / bajajdf[\"Adj Close\"].shift(1))\n",
        "      bajajdf[\"return\"] = bajajdf[\"ROC\"]*bajajdf[\"signal\"]\n",
        "      bajajdf[\"portfolio\"] = np.exp(bajajdf[\"return\"].cumsum())\n",
        "      bajajdf.dropna(inplace=True)\n",
        "      duration_days = bajajdf.index.max()-bajajdf.index.min()\n",
        "      duration_years = duration_days.days/365.25\n",
        "      duration_in_trade = duration_years * bajajdf[\"signal\"].mean()\n",
        "\n",
        "      if (duration_in_trade!=0):\n",
        "        net_avg_return = bajajdf.iloc[-1][\"portfolio\"]**(1/duration_in_trade)-1\n",
        "        returns = bajajdf[bajajdf[\"return\"]!=0][\"return\"]\n",
        "        sharpe_ratio = (returns.mean()*250 - 0.0384)/(returns.std()*np.sqrt(250))\n",
        "\n",
        "      iilist.append(ii)\n",
        "      jjlist.append(jj)\n",
        "      kklist.append(kk)\n",
        "      narlist.append(net_avg_return)\n",
        "      srlist.append(sharpe_ratio)"
      ],
      "metadata": {
        "colab": {
          "base_uri": "https://localhost:8080/"
        },
        "id": "WKyLfUIAU78r",
        "outputId": "f5256c02-5e59-4ef5-decb-08b218745b7f"
      },
      "execution_count": 52,
      "outputs": [
        {
          "output_type": "stream",
          "name": "stderr",
          "text": [
            "/usr/local/lib/python3.7/dist-packages/ipykernel_launcher.py:22: SettingWithCopyWarning: \n",
            "A value is trying to be set on a copy of a slice from a DataFrame\n",
            "\n",
            "See the caveats in the documentation: https://pandas.pydata.org/pandas-docs/stable/user_guide/indexing.html#returning-a-view-versus-a-copy\n"
          ]
        }
      ]
    },
    {
      "cell_type": "code",
      "source": [
        "# net average return based\n",
        "print(f\"n_window: {iilist[np.argmax(narlist)]}\")\n",
        "print(f\"n_low: {jjlist[np.argmax(narlist)]}\")\n",
        "print(f\"n_high: {kklist[np.argmax(narlist)]}\")\n",
        "print(f\"nar: {max(narlist)}\")\n",
        "\n",
        "# sharpe ratio based\n",
        "print(f\"n_window: {iilist[np.argmax(srlist)]}\")\n",
        "print(f\"n_low: {jjlist[np.argmax(srlist)]}\")\n",
        "print(f\"n_high: {kklist[np.argmax(srlist)]}\")\n",
        "print(f\"sr: {max(srlist)}\")\n",
        "\n",
        "# resultdf = pd.DataFrame(np.column_stack([iilist, jjlist, kklist, narlist, srlist]), columns=[\"n_window\", \"n_low\", \"n_high\", \"nar\", \"sr\"])\n",
        "# resultdf[(resultdf[\"n_window\"]==10) & (resultdf[\"n_low\"]==10) & (resultdf[\"n_high\"]==84)]\n",
        "\n",
        "tilist.append(\"rsi\")\n",
        "bestnarlist.append(max(narlist))\n",
        "bestsrlist.append(max(srlist))"
      ],
      "metadata": {
        "colab": {
          "base_uri": "https://localhost:8080/"
        },
        "id": "0XsCo1mhYD36",
        "outputId": "3960feee-74a4-4178-8886-ab6b14a54785"
      },
      "execution_count": 53,
      "outputs": [
        {
          "output_type": "stream",
          "name": "stdout",
          "text": [
            "n_window: 10\n",
            "n_low: 10\n",
            "n_high: 84\n",
            "nar: 5.725993688555751\n",
            "n_window: 10\n",
            "n_low: 10\n",
            "n_high: 84\n",
            "sr: 3.185664143140351\n"
          ]
        }
      ]
    },
    {
      "cell_type": "code",
      "source": [
        "comparisondf = pd.DataFrame(np.column_stack([tilist, bestnarlist, bestsrlist]), columns=[\"Technical Indicator\", \"Best NAR\", \"Best SR\"])\n",
        "comparisondf"
      ],
      "metadata": {
        "colab": {
          "base_uri": "https://localhost:8080/",
          "height": 206
        },
        "id": "gJKSrz2sty9K",
        "outputId": "3da6c9eb-feac-4222-98ba-883f03435770"
      },
      "execution_count": 54,
      "outputs": [
        {
          "output_type": "execute_result",
          "data": {
            "text/plain": [
              "  Technical Indicator            Best NAR             Best SR\n",
              "0                 sma  0.6978472128460835  1.5761631883384806\n",
              "1                 ema  0.5992919478835541  1.3346453391599846\n",
              "2                macd  0.8190376173978591  1.6783928054014097\n",
              "3              bbands  1.1331721167413047   2.159256619288398\n",
              "4                 rsi   5.725993688555751   3.185664143140351"
            ],
            "text/html": [
              "\n",
              "  <div id=\"df-1ae6bf0f-49a9-48c1-9a79-43fedc788d02\">\n",
              "    <div class=\"colab-df-container\">\n",
              "      <div>\n",
              "<style scoped>\n",
              "    .dataframe tbody tr th:only-of-type {\n",
              "        vertical-align: middle;\n",
              "    }\n",
              "\n",
              "    .dataframe tbody tr th {\n",
              "        vertical-align: top;\n",
              "    }\n",
              "\n",
              "    .dataframe thead th {\n",
              "        text-align: right;\n",
              "    }\n",
              "</style>\n",
              "<table border=\"1\" class=\"dataframe\">\n",
              "  <thead>\n",
              "    <tr style=\"text-align: right;\">\n",
              "      <th></th>\n",
              "      <th>Technical Indicator</th>\n",
              "      <th>Best NAR</th>\n",
              "      <th>Best SR</th>\n",
              "    </tr>\n",
              "  </thead>\n",
              "  <tbody>\n",
              "    <tr>\n",
              "      <th>0</th>\n",
              "      <td>sma</td>\n",
              "      <td>0.6978472128460835</td>\n",
              "      <td>1.5761631883384806</td>\n",
              "    </tr>\n",
              "    <tr>\n",
              "      <th>1</th>\n",
              "      <td>ema</td>\n",
              "      <td>0.5992919478835541</td>\n",
              "      <td>1.3346453391599846</td>\n",
              "    </tr>\n",
              "    <tr>\n",
              "      <th>2</th>\n",
              "      <td>macd</td>\n",
              "      <td>0.8190376173978591</td>\n",
              "      <td>1.6783928054014097</td>\n",
              "    </tr>\n",
              "    <tr>\n",
              "      <th>3</th>\n",
              "      <td>bbands</td>\n",
              "      <td>1.1331721167413047</td>\n",
              "      <td>2.159256619288398</td>\n",
              "    </tr>\n",
              "    <tr>\n",
              "      <th>4</th>\n",
              "      <td>rsi</td>\n",
              "      <td>5.725993688555751</td>\n",
              "      <td>3.185664143140351</td>\n",
              "    </tr>\n",
              "  </tbody>\n",
              "</table>\n",
              "</div>\n",
              "      <button class=\"colab-df-convert\" onclick=\"convertToInteractive('df-1ae6bf0f-49a9-48c1-9a79-43fedc788d02')\"\n",
              "              title=\"Convert this dataframe to an interactive table.\"\n",
              "              style=\"display:none;\">\n",
              "        \n",
              "  <svg xmlns=\"http://www.w3.org/2000/svg\" height=\"24px\"viewBox=\"0 0 24 24\"\n",
              "       width=\"24px\">\n",
              "    <path d=\"M0 0h24v24H0V0z\" fill=\"none\"/>\n",
              "    <path d=\"M18.56 5.44l.94 2.06.94-2.06 2.06-.94-2.06-.94-.94-2.06-.94 2.06-2.06.94zm-11 1L8.5 8.5l.94-2.06 2.06-.94-2.06-.94L8.5 2.5l-.94 2.06-2.06.94zm10 10l.94 2.06.94-2.06 2.06-.94-2.06-.94-.94-2.06-.94 2.06-2.06.94z\"/><path d=\"M17.41 7.96l-1.37-1.37c-.4-.4-.92-.59-1.43-.59-.52 0-1.04.2-1.43.59L10.3 9.45l-7.72 7.72c-.78.78-.78 2.05 0 2.83L4 21.41c.39.39.9.59 1.41.59.51 0 1.02-.2 1.41-.59l7.78-7.78 2.81-2.81c.8-.78.8-2.07 0-2.86zM5.41 20L4 18.59l7.72-7.72 1.47 1.35L5.41 20z\"/>\n",
              "  </svg>\n",
              "      </button>\n",
              "      \n",
              "  <style>\n",
              "    .colab-df-container {\n",
              "      display:flex;\n",
              "      flex-wrap:wrap;\n",
              "      gap: 12px;\n",
              "    }\n",
              "\n",
              "    .colab-df-convert {\n",
              "      background-color: #E8F0FE;\n",
              "      border: none;\n",
              "      border-radius: 50%;\n",
              "      cursor: pointer;\n",
              "      display: none;\n",
              "      fill: #1967D2;\n",
              "      height: 32px;\n",
              "      padding: 0 0 0 0;\n",
              "      width: 32px;\n",
              "    }\n",
              "\n",
              "    .colab-df-convert:hover {\n",
              "      background-color: #E2EBFA;\n",
              "      box-shadow: 0px 1px 2px rgba(60, 64, 67, 0.3), 0px 1px 3px 1px rgba(60, 64, 67, 0.15);\n",
              "      fill: #174EA6;\n",
              "    }\n",
              "\n",
              "    [theme=dark] .colab-df-convert {\n",
              "      background-color: #3B4455;\n",
              "      fill: #D2E3FC;\n",
              "    }\n",
              "\n",
              "    [theme=dark] .colab-df-convert:hover {\n",
              "      background-color: #434B5C;\n",
              "      box-shadow: 0px 1px 3px 1px rgba(0, 0, 0, 0.15);\n",
              "      filter: drop-shadow(0px 1px 2px rgba(0, 0, 0, 0.3));\n",
              "      fill: #FFFFFF;\n",
              "    }\n",
              "  </style>\n",
              "\n",
              "      <script>\n",
              "        const buttonEl =\n",
              "          document.querySelector('#df-1ae6bf0f-49a9-48c1-9a79-43fedc788d02 button.colab-df-convert');\n",
              "        buttonEl.style.display =\n",
              "          google.colab.kernel.accessAllowed ? 'block' : 'none';\n",
              "\n",
              "        async function convertToInteractive(key) {\n",
              "          const element = document.querySelector('#df-1ae6bf0f-49a9-48c1-9a79-43fedc788d02');\n",
              "          const dataTable =\n",
              "            await google.colab.kernel.invokeFunction('convertToInteractive',\n",
              "                                                     [key], {});\n",
              "          if (!dataTable) return;\n",
              "\n",
              "          const docLinkHtml = 'Like what you see? Visit the ' +\n",
              "            '<a target=\"_blank\" href=https://colab.research.google.com/notebooks/data_table.ipynb>data table notebook</a>'\n",
              "            + ' to learn more about interactive tables.';\n",
              "          element.innerHTML = '';\n",
              "          dataTable['output_type'] = 'display_data';\n",
              "          await google.colab.output.renderOutput(dataTable, element);\n",
              "          const docLink = document.createElement('div');\n",
              "          docLink.innerHTML = docLinkHtml;\n",
              "          element.appendChild(docLink);\n",
              "        }\n",
              "      </script>\n",
              "    </div>\n",
              "  </div>\n",
              "  "
            ]
          },
          "metadata": {},
          "execution_count": 54
        }
      ]
    },
    {
      "cell_type": "code",
      "source": [
        ""
      ],
      "metadata": {
        "id": "WpGD6wnNu0qL"
      },
      "execution_count": null,
      "outputs": []
    }
  ]
}