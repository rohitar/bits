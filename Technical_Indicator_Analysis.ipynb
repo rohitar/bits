{
  "nbformat": 4,
  "nbformat_minor": 0,
  "metadata": {
    "colab": {
      "name": "Technical Indicator Analysis.ipynb",
      "provenance": [],
      "collapsed_sections": []
    },
    "kernelspec": {
      "name": "python3",
      "display_name": "Python 3"
    },
    "language_info": {
      "name": "python"
    }
  },
  "cells": [
    {
      "cell_type": "code",
      "execution_count": 1,
      "metadata": {
        "colab": {
          "base_uri": "https://localhost:8080/"
        },
        "id": "Z--Zkb_CBLPh",
        "outputId": "6d043d74-264b-4cca-f302-e05ea1a6c466"
      },
      "outputs": [
        {
          "output_type": "stream",
          "name": "stdout",
          "text": [
            "Requirement already satisfied: yfinance in /usr/local/lib/python3.7/dist-packages (0.1.70)\n",
            "Requirement already satisfied: numpy>=1.15 in /usr/local/lib/python3.7/dist-packages (from yfinance) (1.21.5)\n",
            "Requirement already satisfied: pandas>=0.24.0 in /usr/local/lib/python3.7/dist-packages (from yfinance) (1.3.5)\n",
            "Requirement already satisfied: lxml>=4.5.1 in /usr/local/lib/python3.7/dist-packages (from yfinance) (4.8.0)\n",
            "Requirement already satisfied: requests>=2.26 in /usr/local/lib/python3.7/dist-packages (from yfinance) (2.27.1)\n",
            "Requirement already satisfied: multitasking>=0.0.7 in /usr/local/lib/python3.7/dist-packages (from yfinance) (0.0.10)\n",
            "Requirement already satisfied: pytz>=2017.3 in /usr/local/lib/python3.7/dist-packages (from pandas>=0.24.0->yfinance) (2018.9)\n",
            "Requirement already satisfied: python-dateutil>=2.7.3 in /usr/local/lib/python3.7/dist-packages (from pandas>=0.24.0->yfinance) (2.8.2)\n",
            "Requirement already satisfied: six>=1.5 in /usr/local/lib/python3.7/dist-packages (from python-dateutil>=2.7.3->pandas>=0.24.0->yfinance) (1.15.0)\n",
            "Requirement already satisfied: idna<4,>=2.5 in /usr/local/lib/python3.7/dist-packages (from requests>=2.26->yfinance) (2.10)\n",
            "Requirement already satisfied: charset-normalizer~=2.0.0 in /usr/local/lib/python3.7/dist-packages (from requests>=2.26->yfinance) (2.0.12)\n",
            "Requirement already satisfied: urllib3<1.27,>=1.21.1 in /usr/local/lib/python3.7/dist-packages (from requests>=2.26->yfinance) (1.24.3)\n",
            "Requirement already satisfied: certifi>=2017.4.17 in /usr/local/lib/python3.7/dist-packages (from requests>=2.26->yfinance) (2021.10.8)\n",
            "Requirement already satisfied: yahoofinancials in /usr/local/lib/python3.7/dist-packages (1.6)\n",
            "Requirement already satisfied: beautifulsoup4 in /usr/local/lib/python3.7/dist-packages (from yahoofinancials) (4.6.3)\n",
            "Requirement already satisfied: pytz in /usr/local/lib/python3.7/dist-packages (from yahoofinancials) (2018.9)\n",
            "Requirement already satisfied: ta in /usr/local/lib/python3.7/dist-packages (0.9.0)\n",
            "Requirement already satisfied: numpy in /usr/local/lib/python3.7/dist-packages (from ta) (1.21.5)\n",
            "Requirement already satisfied: pandas in /usr/local/lib/python3.7/dist-packages (from ta) (1.3.5)\n",
            "Requirement already satisfied: pytz>=2017.3 in /usr/local/lib/python3.7/dist-packages (from pandas->ta) (2018.9)\n",
            "Requirement already satisfied: python-dateutil>=2.7.3 in /usr/local/lib/python3.7/dist-packages (from pandas->ta) (2.8.2)\n",
            "Requirement already satisfied: six>=1.5 in /usr/local/lib/python3.7/dist-packages (from python-dateutil>=2.7.3->pandas->ta) (1.15.0)\n"
          ]
        }
      ],
      "source": [
        "!pip install yfinance\n",
        "!pip install yahoofinancials\n",
        "!pip install ta"
      ]
    },
    {
      "cell_type": "code",
      "source": [
        "# display multiple outputs\n",
        "from IPython.core.interactiveshell import InteractiveShell\n",
        "InteractiveShell.ast_node_interactivity = \"all\""
      ],
      "metadata": {
        "id": "t2d9Jhm1BUgI"
      },
      "execution_count": 2,
      "outputs": []
    },
    {
      "cell_type": "code",
      "source": [
        "import pandas as pd\n",
        "import numpy as np\n",
        "import yfinance as yf"
      ],
      "metadata": {
        "id": "lrv8gLTiBaI4"
      },
      "execution_count": 3,
      "outputs": []
    },
    {
      "cell_type": "code",
      "source": [
        "import matplotlib.pyplot as plt\n",
        "plt.rcParams[\"figure.figsize\"] = (15, 8)\n",
        "plt.rcParams[\"lines.linewidth\"] = 3.0"
      ],
      "metadata": {
        "id": "tIq5ZhZoBc6v"
      },
      "execution_count": 4,
      "outputs": []
    },
    {
      "cell_type": "code",
      "source": [
        "bajajdf = yf.download(\"BAJAJFINSV.NS\", start=\"2010-12-31\", progress=False)\n",
        "bajajdf.head(3)\n",
        "print()\n",
        "bajajdf[\"Adj Close\"].plot()"
      ],
      "metadata": {
        "colab": {
          "base_uri": "https://localhost:8080/",
          "height": 663
        },
        "id": "1meIpoQdBjtS",
        "outputId": "96fc50f0-213c-4ea5-ece4-bfe55ea0e50d"
      },
      "execution_count": 5,
      "outputs": [
        {
          "output_type": "execute_result",
          "data": {
            "text/plain": [
              "                  Open        High         Low       Close   Adj Close  Volume\n",
              "Date                                                                          \n",
              "2010-12-31  460.382172  461.757629  453.111938  454.733002  449.019958   19091\n",
              "2011-01-03  454.978638  463.575195  454.782135  462.150604  456.344391   12076\n",
              "2011-01-04  466.669952  469.519073  456.108459  459.989197  454.210144   12567"
            ],
            "text/html": [
              "\n",
              "  <div id=\"df-f35344fb-4542-4279-887c-5fe98c61fc93\">\n",
              "    <div class=\"colab-df-container\">\n",
              "      <div>\n",
              "<style scoped>\n",
              "    .dataframe tbody tr th:only-of-type {\n",
              "        vertical-align: middle;\n",
              "    }\n",
              "\n",
              "    .dataframe tbody tr th {\n",
              "        vertical-align: top;\n",
              "    }\n",
              "\n",
              "    .dataframe thead th {\n",
              "        text-align: right;\n",
              "    }\n",
              "</style>\n",
              "<table border=\"1\" class=\"dataframe\">\n",
              "  <thead>\n",
              "    <tr style=\"text-align: right;\">\n",
              "      <th></th>\n",
              "      <th>Open</th>\n",
              "      <th>High</th>\n",
              "      <th>Low</th>\n",
              "      <th>Close</th>\n",
              "      <th>Adj Close</th>\n",
              "      <th>Volume</th>\n",
              "    </tr>\n",
              "    <tr>\n",
              "      <th>Date</th>\n",
              "      <th></th>\n",
              "      <th></th>\n",
              "      <th></th>\n",
              "      <th></th>\n",
              "      <th></th>\n",
              "      <th></th>\n",
              "    </tr>\n",
              "  </thead>\n",
              "  <tbody>\n",
              "    <tr>\n",
              "      <th>2010-12-31</th>\n",
              "      <td>460.382172</td>\n",
              "      <td>461.757629</td>\n",
              "      <td>453.111938</td>\n",
              "      <td>454.733002</td>\n",
              "      <td>449.019958</td>\n",
              "      <td>19091</td>\n",
              "    </tr>\n",
              "    <tr>\n",
              "      <th>2011-01-03</th>\n",
              "      <td>454.978638</td>\n",
              "      <td>463.575195</td>\n",
              "      <td>454.782135</td>\n",
              "      <td>462.150604</td>\n",
              "      <td>456.344391</td>\n",
              "      <td>12076</td>\n",
              "    </tr>\n",
              "    <tr>\n",
              "      <th>2011-01-04</th>\n",
              "      <td>466.669952</td>\n",
              "      <td>469.519073</td>\n",
              "      <td>456.108459</td>\n",
              "      <td>459.989197</td>\n",
              "      <td>454.210144</td>\n",
              "      <td>12567</td>\n",
              "    </tr>\n",
              "  </tbody>\n",
              "</table>\n",
              "</div>\n",
              "      <button class=\"colab-df-convert\" onclick=\"convertToInteractive('df-f35344fb-4542-4279-887c-5fe98c61fc93')\"\n",
              "              title=\"Convert this dataframe to an interactive table.\"\n",
              "              style=\"display:none;\">\n",
              "        \n",
              "  <svg xmlns=\"http://www.w3.org/2000/svg\" height=\"24px\"viewBox=\"0 0 24 24\"\n",
              "       width=\"24px\">\n",
              "    <path d=\"M0 0h24v24H0V0z\" fill=\"none\"/>\n",
              "    <path d=\"M18.56 5.44l.94 2.06.94-2.06 2.06-.94-2.06-.94-.94-2.06-.94 2.06-2.06.94zm-11 1L8.5 8.5l.94-2.06 2.06-.94-2.06-.94L8.5 2.5l-.94 2.06-2.06.94zm10 10l.94 2.06.94-2.06 2.06-.94-2.06-.94-.94-2.06-.94 2.06-2.06.94z\"/><path d=\"M17.41 7.96l-1.37-1.37c-.4-.4-.92-.59-1.43-.59-.52 0-1.04.2-1.43.59L10.3 9.45l-7.72 7.72c-.78.78-.78 2.05 0 2.83L4 21.41c.39.39.9.59 1.41.59.51 0 1.02-.2 1.41-.59l7.78-7.78 2.81-2.81c.8-.78.8-2.07 0-2.86zM5.41 20L4 18.59l7.72-7.72 1.47 1.35L5.41 20z\"/>\n",
              "  </svg>\n",
              "      </button>\n",
              "      \n",
              "  <style>\n",
              "    .colab-df-container {\n",
              "      display:flex;\n",
              "      flex-wrap:wrap;\n",
              "      gap: 12px;\n",
              "    }\n",
              "\n",
              "    .colab-df-convert {\n",
              "      background-color: #E8F0FE;\n",
              "      border: none;\n",
              "      border-radius: 50%;\n",
              "      cursor: pointer;\n",
              "      display: none;\n",
              "      fill: #1967D2;\n",
              "      height: 32px;\n",
              "      padding: 0 0 0 0;\n",
              "      width: 32px;\n",
              "    }\n",
              "\n",
              "    .colab-df-convert:hover {\n",
              "      background-color: #E2EBFA;\n",
              "      box-shadow: 0px 1px 2px rgba(60, 64, 67, 0.3), 0px 1px 3px 1px rgba(60, 64, 67, 0.15);\n",
              "      fill: #174EA6;\n",
              "    }\n",
              "\n",
              "    [theme=dark] .colab-df-convert {\n",
              "      background-color: #3B4455;\n",
              "      fill: #D2E3FC;\n",
              "    }\n",
              "\n",
              "    [theme=dark] .colab-df-convert:hover {\n",
              "      background-color: #434B5C;\n",
              "      box-shadow: 0px 1px 3px 1px rgba(0, 0, 0, 0.15);\n",
              "      filter: drop-shadow(0px 1px 2px rgba(0, 0, 0, 0.3));\n",
              "      fill: #FFFFFF;\n",
              "    }\n",
              "  </style>\n",
              "\n",
              "      <script>\n",
              "        const buttonEl =\n",
              "          document.querySelector('#df-f35344fb-4542-4279-887c-5fe98c61fc93 button.colab-df-convert');\n",
              "        buttonEl.style.display =\n",
              "          google.colab.kernel.accessAllowed ? 'block' : 'none';\n",
              "\n",
              "        async function convertToInteractive(key) {\n",
              "          const element = document.querySelector('#df-f35344fb-4542-4279-887c-5fe98c61fc93');\n",
              "          const dataTable =\n",
              "            await google.colab.kernel.invokeFunction('convertToInteractive',\n",
              "                                                     [key], {});\n",
              "          if (!dataTable) return;\n",
              "\n",
              "          const docLinkHtml = 'Like what you see? Visit the ' +\n",
              "            '<a target=\"_blank\" href=https://colab.research.google.com/notebooks/data_table.ipynb>data table notebook</a>'\n",
              "            + ' to learn more about interactive tables.';\n",
              "          element.innerHTML = '';\n",
              "          dataTable['output_type'] = 'display_data';\n",
              "          await google.colab.output.renderOutput(dataTable, element);\n",
              "          const docLink = document.createElement('div');\n",
              "          docLink.innerHTML = docLinkHtml;\n",
              "          element.appendChild(docLink);\n",
              "        }\n",
              "      </script>\n",
              "    </div>\n",
              "  </div>\n",
              "  "
            ]
          },
          "metadata": {},
          "execution_count": 5
        },
        {
          "output_type": "stream",
          "name": "stdout",
          "text": [
            "\n"
          ]
        },
        {
          "output_type": "execute_result",
          "data": {
            "text/plain": [
              "<matplotlib.axes._subplots.AxesSubplot at 0x7f9f28c4fc90>"
            ]
          },
          "metadata": {},
          "execution_count": 5
        },
        {
          "output_type": "display_data",
          "data": {
            "text/plain": [
              "<Figure size 1080x576 with 1 Axes>"
            ],
            "image/png": "[encoded data removed]"
          },
          "metadata": {
            "needs_background": "light"
          }
        }
      ]
    },
    {
      "cell_type": "code",
      "source": [
        "from ta.trend import SMAIndicator\n",
        "bajajdf[\"sma20\"] = SMAIndicator(close=bajajdf[\"Adj Close\"], window=20, fillna=True).sma_indicator()\n",
        "bajajdf[\"sma50\"] = SMAIndicator(close=bajajdf[\"Adj Close\"], window=50, fillna=True).sma_indicator()\n",
        "bajajdf[\"signal\"] = np.where(bajajdf[\"sma20\"]>bajajdf[\"sma50\"], 1, 0)\n",
        "bajajdf[\"signal\"] = bajajdf[\"signal\"].shift(1)\n",
        "bajajdf.dropna(inplace=True)\n",
        "bajajdf[\"signal\"].describe()"
      ],
      "metadata": {
        "colab": {
          "base_uri": "https://localhost:8080/"
        },
        "id": "kT4Dv3h8B3p0",
        "outputId": "0c214215-fe7f-4053-b8e5-4aa55cb0f062"
      },
      "execution_count": 6,
      "outputs": [
        {
          "output_type": "execute_result",
          "data": {
            "text/plain": [
              "count    2774.000000\n",
              "mean        0.635905\n",
              "std         0.481262\n",
              "min         0.000000\n",
              "25%         0.000000\n",
              "50%         1.000000\n",
              "75%         1.000000\n",
              "max         1.000000\n",
              "Name: signal, dtype: float64"
            ]
          },
          "metadata": {},
          "execution_count": 6
        }
      ]
    },
    {
      "cell_type": "code",
      "source": [
        "bajajdf[\"ROC\"] = np.log(bajajdf[\"Adj Close\"] / bajajdf[\"Adj Close\"].shift(1))\n",
        "bajajdf[\"return\"] = bajajdf[\"ROC\"]*bajajdf[\"signal\"]\n",
        "bajajdf[\"portfolio\"] = np.exp(bajajdf[\"return\"].cumsum())\n",
        "bajajdf.dropna(inplace=True)\n",
        "bajajdf.tail(3)"
      ],
      "metadata": {
        "colab": {
          "base_uri": "https://localhost:8080/",
          "height": 175
        },
        "id": "hYnsaHb6n9XC",
        "outputId": "8e430ff5-562c-4e72-93dd-3724c3a283f2"
      },
      "execution_count": 7,
      "outputs": [
        {
          "output_type": "execute_result",
          "data": {
            "text/plain": [
              "               Open     High           Low         Close     Adj Close  \\\n",
              "Date                                                                     \n",
              "2022-03-31  17100.0  17300.0  16982.000000  17060.449219  17060.449219   \n",
              "2022-04-01  17030.0  17200.0  17011.199219  17139.199219  17139.199219   \n",
              "2022-04-04  17199.0  17480.0  16955.250000  17196.349609  17196.349609   \n",
              "\n",
              "            Volume         sma20         sma50  signal       ROC  return  \\\n",
              "Date                                                                       \n",
              "2022-03-31  298692  15940.032373  16075.127949     0.0 -0.004004    -0.0   \n",
              "2022-04-01  210141  16011.787354  16054.840918     0.0  0.004605     0.0   \n",
              "2022-04-04  324263  16104.944824  16037.221895     0.0  0.003329     0.0   \n",
              "\n",
              "            portfolio  \n",
              "Date                   \n",
              "2022-03-31   20.23176  \n",
              "2022-04-01   20.23176  \n",
              "2022-04-04   20.23176  "
            ],
            "text/html": [
              "\n",
              "  <div id=\"df-26f86de5-607b-4a08-bbdd-0a5d25ac572c\">\n",
              "    <div class=\"colab-df-container\">\n",
              "      <div>\n",
              "<style scoped>\n",
              "    .dataframe tbody tr th:only-of-type {\n",
              "        vertical-align: middle;\n",
              "    }\n",
              "\n",
              "    .dataframe tbody tr th {\n",
              "        vertical-align: top;\n",
              "    }\n",
              "\n",
              "    .dataframe thead th {\n",
              "        text-align: right;\n",
              "    }\n",
              "</style>\n",
              "<table border=\"1\" class=\"dataframe\">\n",
              "  <thead>\n",
              "    <tr style=\"text-align: right;\">\n",
              "      <th></th>\n",
              "      <th>Open</th>\n",
              "      <th>High</th>\n",
              "      <th>Low</th>\n",
              "      <th>Close</th>\n",
              "      <th>Adj Close</th>\n",
              "      <th>Volume</th>\n",
              "      <th>sma20</th>\n",
              "      <th>sma50</th>\n",
              "      <th>signal</th>\n",
              "      <th>ROC</th>\n",
              "      <th>return</th>\n",
              "      <th>portfolio</th>\n",
              "    </tr>\n",
              "    <tr>\n",
              "      <th>Date</th>\n",
              "      <th></th>\n",
              "      <th></th>\n",
              "      <th></th>\n",
              "      <th></th>\n",
              "      <th></th>\n",
              "      <th></th>\n",
              "      <th></th>\n",
              "      <th></th>\n",
              "      <th></th>\n",
              "      <th></th>\n",
              "      <th></th>\n",
              "      <th></th>\n",
              "    </tr>\n",
              "  </thead>\n",
              "  <tbody>\n",
              "    <tr>\n",
              "      <th>2022-03-31</th>\n",
              "      <td>17100.0</td>\n",
              "      <td>17300.0</td>\n",
              "      <td>16982.000000</td>\n",
              "      <td>17060.449219</td>\n",
              "      <td>17060.449219</td>\n",
              "      <td>298692</td>\n",
              "      <td>15940.032373</td>\n",
              "      <td>16075.127949</td>\n",
              "      <td>0.0</td>\n",
              "      <td>-0.004004</td>\n",
              "      <td>-0.0</td>\n",
              "      <td>20.23176</td>\n",
              "    </tr>\n",
              "    <tr>\n",
              "      <th>2022-04-01</th>\n",
              "      <td>17030.0</td>\n",
              "      <td>17200.0</td>\n",
              "      <td>17011.199219</td>\n",
              "      <td>17139.199219</td>\n",
              "      <td>17139.199219</td>\n",
              "      <td>210141</td>\n",
              "      <td>16011.787354</td>\n",
              "      <td>16054.840918</td>\n",
              "      <td>0.0</td>\n",
              "      <td>0.004605</td>\n",
              "      <td>0.0</td>\n",
              "      <td>20.23176</td>\n",
              "    </tr>\n",
              "    <tr>\n",
              "      <th>2022-04-04</th>\n",
              "      <td>17199.0</td>\n",
              "      <td>17480.0</td>\n",
              "      <td>16955.250000</td>\n",
              "      <td>17196.349609</td>\n",
              "      <td>17196.349609</td>\n",
              "      <td>324263</td>\n",
              "      <td>16104.944824</td>\n",
              "      <td>16037.221895</td>\n",
              "      <td>0.0</td>\n",
              "      <td>0.003329</td>\n",
              "      <td>0.0</td>\n",
              "      <td>20.23176</td>\n",
              "    </tr>\n",
              "  </tbody>\n",
              "</table>\n",
              "</div>\n",
              "      <button class=\"colab-df-convert\" onclick=\"convertToInteractive('df-26f86de5-607b-4a08-bbdd-0a5d25ac572c')\"\n",
              "              title=\"Convert this dataframe to an interactive table.\"\n",
              "              style=\"display:none;\">\n",
              "        \n",
              "  <svg xmlns=\"http://www.w3.org/2000/svg\" height=\"24px\"viewBox=\"0 0 24 24\"\n",
              "       width=\"24px\">\n",
              "    <path d=\"M0 0h24v24H0V0z\" fill=\"none\"/>\n",
              "    <path d=\"M18.56 5.44l.94 2.06.94-2.06 2.06-.94-2.06-.94-.94-2.06-.94 2.06-2.06.94zm-11 1L8.5 8.5l.94-2.06 2.06-.94-2.06-.94L8.5 2.5l-.94 2.06-2.06.94zm10 10l.94 2.06.94-2.06 2.06-.94-2.06-.94-.94-2.06-.94 2.06-2.06.94z\"/><path d=\"M17.41 7.96l-1.37-1.37c-.4-.4-.92-.59-1.43-.59-.52 0-1.04.2-1.43.59L10.3 9.45l-7.72 7.72c-.78.78-.78 2.05 0 2.83L4 21.41c.39.39.9.59 1.41.59.51 0 1.02-.2 1.41-.59l7.78-7.78 2.81-2.81c.8-.78.8-2.07 0-2.86zM5.41 20L4 18.59l7.72-7.72 1.47 1.35L5.41 20z\"/>\n",
              "  </svg>\n",
              "      </button>\n",
              "      \n",
              "  <style>\n",
              "    .colab-df-container {\n",
              "      display:flex;\n",
              "      flex-wrap:wrap;\n",
              "      gap: 12px;\n",
              "    }\n",
              "\n",
              "    .colab-df-convert {\n",
              "      background-color: #E8F0FE;\n",
              "      border: none;\n",
              "      border-radius: 50%;\n",
              "      cursor: pointer;\n",
              "      display: none;\n",
              "      fill: #1967D2;\n",
              "      height: 32px;\n",
              "      padding: 0 0 0 0;\n",
              "      width: 32px;\n",
              "    }\n",
              "\n",
              "    .colab-df-convert:hover {\n",
              "      background-color: #E2EBFA;\n",
              "      box-shadow: 0px 1px 2px rgba(60, 64, 67, 0.3), 0px 1px 3px 1px rgba(60, 64, 67, 0.15);\n",
              "      fill: #174EA6;\n",
              "    }\n",
              "\n",
              "    [theme=dark] .colab-df-convert {\n",
              "      background-color: #3B4455;\n",
              "      fill: #D2E3FC;\n",
              "    }\n",
              "\n",
              "    [theme=dark] .colab-df-convert:hover {\n",
              "      background-color: #434B5C;\n",
              "      box-shadow: 0px 1px 3px 1px rgba(0, 0, 0, 0.15);\n",
              "      filter: drop-shadow(0px 1px 2px rgba(0, 0, 0, 0.3));\n",
              "      fill: #FFFFFF;\n",
              "    }\n",
              "  </style>\n",
              "\n",
              "      <script>\n",
              "        const buttonEl =\n",
              "          document.querySelector('#df-26f86de5-607b-4a08-bbdd-0a5d25ac572c button.colab-df-convert');\n",
              "        buttonEl.style.display =\n",
              "          google.colab.kernel.accessAllowed ? 'block' : 'none';\n",
              "\n",
              "        async function convertToInteractive(key) {\n",
              "          const element = document.querySelector('#df-26f86de5-607b-4a08-bbdd-0a5d25ac572c');\n",
              "          const dataTable =\n",
              "            await google.colab.kernel.invokeFunction('convertToInteractive',\n",
              "                                                     [key], {});\n",
              "          if (!dataTable) return;\n",
              "\n",
              "          const docLinkHtml = 'Like what you see? Visit the ' +\n",
              "            '<a target=\"_blank\" href=https://colab.research.google.com/notebooks/data_table.ipynb>data table notebook</a>'\n",
              "            + ' to learn more about interactive tables.';\n",
              "          element.innerHTML = '';\n",
              "          dataTable['output_type'] = 'display_data';\n",
              "          await google.colab.output.renderOutput(dataTable, element);\n",
              "          const docLink = document.createElement('div');\n",
              "          docLink.innerHTML = docLinkHtml;\n",
              "          element.appendChild(docLink);\n",
              "        }\n",
              "      </script>\n",
              "    </div>\n",
              "  </div>\n",
              "  "
            ]
          },
          "metadata": {},
          "execution_count": 7
        }
      ]
    },
    {
      "cell_type": "code",
      "source": [
        "bajajdf[\"portfolio\"].plot()"
      ],
      "metadata": {
        "colab": {
          "base_uri": "https://localhost:8080/",
          "height": 484
        },
        "id": "ltboT5esn9v6",
        "outputId": "bfa1cc46-7e92-4020-9f94-a4101a99cef8"
      },
      "execution_count": 8,
      "outputs": [
        {
          "output_type": "execute_result",
          "data": {
            "text/plain": [
              "<matplotlib.axes._subplots.AxesSubplot at 0x7f9f285bdc10>"
            ]
          },
          "metadata": {},
          "execution_count": 8
        },
        {
          "output_type": "display_data",
          "data": {
            "text/plain": [
              "<Figure size 1080x576 with 1 Axes>"
            ],
            "image/png": "[encoded data removed]"
          },
          "metadata": {
            "needs_background": "light"
          }
        }
      ]
    },
    {
      "cell_type": "code",
      "source": [
        "duration_days = bajajdf.index.max()-bajajdf.index.min()\n",
        "duration_years = duration_days.days/365.25\n",
        "duration_in_trade = duration_years * bajajdf[\"signal\"].mean()\n",
        "print(f\"duration in trade: {duration_in_trade:.4f}\")\n",
        "\n",
        "net_avg_return = bajajdf.iloc[-1][\"portfolio\"]**(1/duration_in_trade)-1\n",
        "print(f\"net average return: {net_avg_return:.4f}\")\n",
        "\n",
        "returns = bajajdf[bajajdf[\"return\"]!=0][\"return\"]\n",
        "sharpe_ratio = (returns.mean()*250 - 0.0384)/(returns.std()*np.sqrt(250))\n",
        "print(f\"sharpe ratio: {sharpe_ratio:.4f}\")"
      ],
      "metadata": {
        "colab": {
          "base_uri": "https://localhost:8080/"
        },
        "id": "7GA5_tmiKUs4",
        "outputId": "4a12ed03-810d-47d6-c7be-d60783e0f123"
      },
      "execution_count": 9,
      "outputs": [
        {
          "output_type": "stream",
          "name": "stdout",
          "text": [
            "duration in trade: 7.1547\n",
            "net average return: 0.5225\n",
            "sharpe ratio: 1.2131\n"
          ]
        }
      ]
    },
    {
      "cell_type": "code",
      "source": [
        "from ta.trend import SMAIndicator\n",
        "import copy\n",
        "\n",
        "iilist = []\n",
        "jjlist = []\n",
        "narlist = []\n",
        "srlist = []\n",
        "\n",
        "df = yf.download(\"BAJAJFINSV.NS\", start=\"2010-12-31\", progress=False)\n",
        "\n",
        "for ii in range(10, 295, 5):\n",
        "  for jj in range(ii+5, 300, 5):\n",
        "    bajajdf = copy.deepcopy(df)\n",
        "    bajajdf[\"sma1\"] = SMAIndicator(close=bajajdf[\"Adj Close\"], window=ii, fillna=True).sma_indicator()\n",
        "    bajajdf[\"sma2\"] = SMAIndicator(close=bajajdf[\"Adj Close\"], window=jj, fillna=True).sma_indicator()\n",
        "    bajajdf[\"signal\"] = np.where(bajajdf[\"sma1\"]>bajajdf[\"sma2\"], 1, 0)\n",
        "    bajajdf[\"signal\"] = bajajdf[\"signal\"].shift(1)\n",
        "    bajajdf.dropna(inplace=True)\n",
        "    bajajdf[\"ROC\"] = np.log(bajajdf[\"Adj Close\"] / bajajdf[\"Adj Close\"].shift(1))\n",
        "    bajajdf[\"return\"] = bajajdf[\"ROC\"]*bajajdf[\"signal\"]\n",
        "    bajajdf[\"portfolio\"] = np.exp(bajajdf[\"return\"].cumsum())\n",
        "    bajajdf.dropna(inplace=True)\n",
        "    duration_days = bajajdf.index.max()-bajajdf.index.min()\n",
        "    duration_years = duration_days.days/365.25\n",
        "    duration_in_trade = duration_years * bajajdf[\"signal\"].mean()\n",
        "\n",
        "    if (duration_in_trade!=0):\n",
        "      net_avg_return = bajajdf.iloc[-1][\"portfolio\"]**(1/duration_in_trade)-1\n",
        "      returns = bajajdf[bajajdf[\"return\"]!=0][\"return\"]\n",
        "      sharpe_ratio = (returns.mean()*250 - 0.0384)/(returns.std()*np.sqrt(250))\n",
        "\n",
        "    iilist.append(ii)\n",
        "    jjlist.append(jj)\n",
        "    narlist.append(net_avg_return)\n",
        "    srlist.append(sharpe_ratio)"
      ],
      "metadata": {
        "id": "xdYjE4znouqQ"
      },
      "execution_count": 10,
      "outputs": []
    },
    {
      "cell_type": "code",
      "source": [
        "# net average return based\n",
        "print(f\"sma1: {iilist[np.argmax(narlist)]}\")\n",
        "print(f\"sma2: {jjlist[np.argmax(narlist)]}\")"
      ],
      "metadata": {
        "colab": {
          "base_uri": "https://localhost:8080/"
        },
        "id": "Jiv1ZT3w4Gde",
        "outputId": "8e24f00c-225b-4f5d-de99-59ba21900e9b"
      },
      "execution_count": 11,
      "outputs": [
        {
          "output_type": "stream",
          "name": "stdout",
          "text": [
            "sma1: 30\n",
            "sma2: 40\n"
          ]
        }
      ]
    },
    {
      "cell_type": "code",
      "source": [
        "# sharpe ratio based\n",
        "print(f\"sma1: {iilist[np.argmax(srlist)]}\")\n",
        "print(f\"sma2: {jjlist[np.argmax(srlist)]}\")"
      ],
      "metadata": {
        "colab": {
          "base_uri": "https://localhost:8080/"
        },
        "id": "Armn365I4L-x",
        "outputId": "cb7ca4d2-ab02-4eb7-f950-455232b80b87"
      },
      "execution_count": 12,
      "outputs": [
        {
          "output_type": "stream",
          "name": "stdout",
          "text": [
            "sma1: 30\n",
            "sma2: 40\n"
          ]
        }
      ]
    },
    {
      "cell_type": "code",
      "source": [
        "resultdf = pd.DataFrame(np.column_stack([iilist, jjlist, narlist, srlist]), columns=[\"sma1\", \"sma2\", \"nar\", \"sr\"])"
      ],
      "metadata": {
        "id": "MxZ2fSju8PED"
      },
      "execution_count": 13,
      "outputs": []
    },
    {
      "cell_type": "code",
      "source": [
        "resultdf[(resultdf[\"sma1\"]==30) & (resultdf[\"sma2\"]==40)]"
      ],
      "metadata": {
        "colab": {
          "base_uri": "https://localhost:8080/",
          "height": 81
        },
        "id": "tL5WHY4Q9J-_",
        "outputId": "b01380e8-14e6-40a9-a0ce-e9aaf8ed5606"
      },
      "execution_count": 14,
      "outputs": [
        {
          "output_type": "execute_result",
          "data": {
            "text/plain": [
              "     sma1  sma2       nar        sr\n",
              "223  30.0  40.0  0.705828  1.591524"
            ],
            "text/html": [
              "\n",
              "  <div id=\"df-ff0b1bbe-b564-4bd9-b9a4-ad5424255e50\">\n",
              "    <div class=\"colab-df-container\">\n",
              "      <div>\n",
              "<style scoped>\n",
              "    .dataframe tbody tr th:only-of-type {\n",
              "        vertical-align: middle;\n",
              "    }\n",
              "\n",
              "    .dataframe tbody tr th {\n",
              "        vertical-align: top;\n",
              "    }\n",
              "\n",
              "    .dataframe thead th {\n",
              "        text-align: right;\n",
              "    }\n",
              "</style>\n",
              "<table border=\"1\" class=\"dataframe\">\n",
              "  <thead>\n",
              "    <tr style=\"text-align: right;\">\n",
              "      <th></th>\n",
              "      <th>sma1</th>\n",
              "      <th>sma2</th>\n",
              "      <th>nar</th>\n",
              "      <th>sr</th>\n",
              "    </tr>\n",
              "  </thead>\n",
              "  <tbody>\n",
              "    <tr>\n",
              "      <th>223</th>\n",
              "      <td>30.0</td>\n",
              "      <td>40.0</td>\n",
              "      <td>0.705828</td>\n",
              "      <td>1.591524</td>\n",
              "    </tr>\n",
              "  </tbody>\n",
              "</table>\n",
              "</div>\n",
              "      <button class=\"colab-df-convert\" onclick=\"convertToInteractive('df-ff0b1bbe-b564-4bd9-b9a4-ad5424255e50')\"\n",
              "              title=\"Convert this dataframe to an interactive table.\"\n",
              "              style=\"display:none;\">\n",
              "        \n",
              "  <svg xmlns=\"http://www.w3.org/2000/svg\" height=\"24px\"viewBox=\"0 0 24 24\"\n",
              "       width=\"24px\">\n",
              "    <path d=\"M0 0h24v24H0V0z\" fill=\"none\"/>\n",
              "    <path d=\"M18.56 5.44l.94 2.06.94-2.06 2.06-.94-2.06-.94-.94-2.06-.94 2.06-2.06.94zm-11 1L8.5 8.5l.94-2.06 2.06-.94-2.06-.94L8.5 2.5l-.94 2.06-2.06.94zm10 10l.94 2.06.94-2.06 2.06-.94-2.06-.94-.94-2.06-.94 2.06-2.06.94z\"/><path d=\"M17.41 7.96l-1.37-1.37c-.4-.4-.92-.59-1.43-.59-.52 0-1.04.2-1.43.59L10.3 9.45l-7.72 7.72c-.78.78-.78 2.05 0 2.83L4 21.41c.39.39.9.59 1.41.59.51 0 1.02-.2 1.41-.59l7.78-7.78 2.81-2.81c.8-.78.8-2.07 0-2.86zM5.41 20L4 18.59l7.72-7.72 1.47 1.35L5.41 20z\"/>\n",
              "  </svg>\n",
              "      </button>\n",
              "      \n",
              "  <style>\n",
              "    .colab-df-container {\n",
              "      display:flex;\n",
              "      flex-wrap:wrap;\n",
              "      gap: 12px;\n",
              "    }\n",
              "\n",
              "    .colab-df-convert {\n",
              "      background-color: #E8F0FE;\n",
              "      border: none;\n",
              "      border-radius: 50%;\n",
              "      cursor: pointer;\n",
              "      display: none;\n",
              "      fill: #1967D2;\n",
              "      height: 32px;\n",
              "      padding: 0 0 0 0;\n",
              "      width: 32px;\n",
              "    }\n",
              "\n",
              "    .colab-df-convert:hover {\n",
              "      background-color: #E2EBFA;\n",
              "      box-shadow: 0px 1px 2px rgba(60, 64, 67, 0.3), 0px 1px 3px 1px rgba(60, 64, 67, 0.15);\n",
              "      fill: #174EA6;\n",
              "    }\n",
              "\n",
              "    [theme=dark] .colab-df-convert {\n",
              "      background-color: #3B4455;\n",
              "      fill: #D2E3FC;\n",
              "    }\n",
              "\n",
              "    [theme=dark] .colab-df-convert:hover {\n",
              "      background-color: #434B5C;\n",
              "      box-shadow: 0px 1px 3px 1px rgba(0, 0, 0, 0.15);\n",
              "      filter: drop-shadow(0px 1px 2px rgba(0, 0, 0, 0.3));\n",
              "      fill: #FFFFFF;\n",
              "    }\n",
              "  </style>\n",
              "\n",
              "      <script>\n",
              "        const buttonEl =\n",
              "          document.querySelector('#df-ff0b1bbe-b564-4bd9-b9a4-ad5424255e50 button.colab-df-convert');\n",
              "        buttonEl.style.display =\n",
              "          google.colab.kernel.accessAllowed ? 'block' : 'none';\n",
              "\n",
              "        async function convertToInteractive(key) {\n",
              "          const element = document.querySelector('#df-ff0b1bbe-b564-4bd9-b9a4-ad5424255e50');\n",
              "          const dataTable =\n",
              "            await google.colab.kernel.invokeFunction('convertToInteractive',\n",
              "                                                     [key], {});\n",
              "          if (!dataTable) return;\n",
              "\n",
              "          const docLinkHtml = 'Like what you see? Visit the ' +\n",
              "            '<a target=\"_blank\" href=https://colab.research.google.com/notebooks/data_table.ipynb>data table notebook</a>'\n",
              "            + ' to learn more about interactive tables.';\n",
              "          element.innerHTML = '';\n",
              "          dataTable['output_type'] = 'display_data';\n",
              "          await google.colab.output.renderOutput(dataTable, element);\n",
              "          const docLink = document.createElement('div');\n",
              "          docLink.innerHTML = docLinkHtml;\n",
              "          element.appendChild(docLink);\n",
              "        }\n",
              "      </script>\n",
              "    </div>\n",
              "  </div>\n",
              "  "
            ]
          },
          "metadata": {},
          "execution_count": 14
        }
      ]
    },
    {
      "cell_type": "code",
      "source": [
        ""
      ],
      "metadata": {
        "id": "Uja2j6Pi9vsy"
      },
      "execution_count": 14,
      "outputs": []
    }
  ]
}